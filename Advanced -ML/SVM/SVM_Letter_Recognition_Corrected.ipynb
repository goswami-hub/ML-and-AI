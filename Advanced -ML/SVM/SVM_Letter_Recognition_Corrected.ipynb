{
  "nbformat": 4,
  "nbformat_minor": 0,
  "metadata": {
    "kernelspec": {
      "display_name": "Python 3",
      "language": "python",
      "name": "python3"
    },
    "language_info": {
      "codemirror_mode": {
        "name": "ipython",
        "version": 3
      },
      "file_extension": ".py",
      "mimetype": "text/x-python",
      "name": "python",
      "nbconvert_exporter": "python",
      "pygments_lexer": "ipython3",
      "version": "3.6.4"
    },
    "colab": {
      "name": "SVM_Letter_Recognition_Corrected.ipynb",
      "provenance": [],
      "collapsed_sections": [],
      "toc_visible": true
    },
    "accelerator": "TPU"
  },
  "cells": [
    {
      "cell_type": "markdown",
      "metadata": {
        "id": "iizzZTHsGFE5"
      },
      "source": [
        "# Letter Recognition Using SVM\n",
        "\n",
        "Let's now tackle a slightly more complex problem - letter recognition. We'll first explore the dataset a bit, prepare it (scale etc.) and then experiment with linear and non-linear SVMs with various hyperparameters.\n",
        "\n",
        "\n",
        "## Data Understanding \n",
        "\n",
        "Let's first understand the shape, attributes etc. of the dataset.\n",
        "\n",
        "The objective is to identify each of a large number of black-and-white rectangular pixel displays as one of the 26 capital letters in the English alphabet. The character images were based on 20 different fonts and each letter within these 20 fonts was randomly distorted to produce a file of 20,000 unique stimuli. Each stimulus was converted into 16 primitive numerical attributes (statistical moments and edge counts) which were then scaled to fit into a range of integer values from 0 through 15. "
      ]
    },
    {
      "cell_type": "code",
      "metadata": {
        "id": "5WYYBaHHGFFZ"
      },
      "source": [
        "# libraries\n",
        "import pandas as pd\n",
        "import numpy as np\n",
        "from sklearn.svm import SVC\n",
        "from sklearn.model_selection import train_test_split\n",
        "from sklearn import metrics\n",
        "from sklearn.metrics import confusion_matrix\n",
        "from sklearn.model_selection import KFold\n",
        "from sklearn.model_selection import cross_val_score\n",
        "from sklearn.model_selection import GridSearchCV\n",
        "import matplotlib.pyplot as plt\n",
        "import seaborn as sns\n",
        "from sklearn.preprocessing import StandardScaler, MinMaxScaler\n",
        "\n",
        "# dataset\n",
        "letters = pd.read_csv(\"/content/letter-recognition.csv\")"
      ],
      "execution_count": 3,
      "outputs": []
    },
    {
      "cell_type": "code",
      "metadata": {
        "scrolled": true,
        "colab": {
          "base_uri": "https://localhost:8080/",
          "height": 663
        },
        "id": "B2hi4y3mGFGJ",
        "outputId": "ee8a96ed-5052-4d31-be41-2149e75395db"
      },
      "source": [
        "# about the dataset\n",
        "\n",
        "# dimensions\n",
        "print(\"Dimensions: \", letters.shape, \"\\n\")\n",
        "\n",
        "# data types\n",
        "print(letters.info())\n",
        "\n",
        "# head\n",
        "letters.head()"
      ],
      "execution_count": 4,
      "outputs": [
        {
          "output_type": "stream",
          "text": [
            "Dimensions:  (20000, 17) \n",
            "\n",
            "<class 'pandas.core.frame.DataFrame'>\n",
            "RangeIndex: 20000 entries, 0 to 19999\n",
            "Data columns (total 17 columns):\n",
            " #   Column  Non-Null Count  Dtype \n",
            "---  ------  --------------  ----- \n",
            " 0   letter  20000 non-null  object\n",
            " 1   xbox    20000 non-null  int64 \n",
            " 2   ybox    20000 non-null  int64 \n",
            " 3   width   20000 non-null  int64 \n",
            " 4   height  20000 non-null  int64 \n",
            " 5   onpix   20000 non-null  int64 \n",
            " 6   xbar    20000 non-null  int64 \n",
            " 7   ybar    20000 non-null  int64 \n",
            " 8   x2bar   20000 non-null  int64 \n",
            " 9   y2bar   20000 non-null  int64 \n",
            " 10  xybar   20000 non-null  int64 \n",
            " 11  x2ybar  20000 non-null  int64 \n",
            " 12  xy2bar  20000 non-null  int64 \n",
            " 13  xedge   20000 non-null  int64 \n",
            " 14  xedgey  20000 non-null  int64 \n",
            " 15  yedge   20000 non-null  int64 \n",
            " 16  yedgex  20000 non-null  int64 \n",
            "dtypes: int64(16), object(1)\n",
            "memory usage: 2.6+ MB\n",
            "None\n"
          ],
          "name": "stdout"
        },
        {
          "output_type": "execute_result",
          "data": {
            "text/html": [
              "<div>\n",
              "<style scoped>\n",
              "    .dataframe tbody tr th:only-of-type {\n",
              "        vertical-align: middle;\n",
              "    }\n",
              "\n",
              "    .dataframe tbody tr th {\n",
              "        vertical-align: top;\n",
              "    }\n",
              "\n",
              "    .dataframe thead th {\n",
              "        text-align: right;\n",
              "    }\n",
              "</style>\n",
              "<table border=\"1\" class=\"dataframe\">\n",
              "  <thead>\n",
              "    <tr style=\"text-align: right;\">\n",
              "      <th></th>\n",
              "      <th>letter</th>\n",
              "      <th>xbox</th>\n",
              "      <th>ybox</th>\n",
              "      <th>width</th>\n",
              "      <th>height</th>\n",
              "      <th>onpix</th>\n",
              "      <th>xbar</th>\n",
              "      <th>ybar</th>\n",
              "      <th>x2bar</th>\n",
              "      <th>y2bar</th>\n",
              "      <th>xybar</th>\n",
              "      <th>x2ybar</th>\n",
              "      <th>xy2bar</th>\n",
              "      <th>xedge</th>\n",
              "      <th>xedgey</th>\n",
              "      <th>yedge</th>\n",
              "      <th>yedgex</th>\n",
              "    </tr>\n",
              "  </thead>\n",
              "  <tbody>\n",
              "    <tr>\n",
              "      <th>0</th>\n",
              "      <td>T</td>\n",
              "      <td>2</td>\n",
              "      <td>8</td>\n",
              "      <td>3</td>\n",
              "      <td>5</td>\n",
              "      <td>1</td>\n",
              "      <td>8</td>\n",
              "      <td>13</td>\n",
              "      <td>0</td>\n",
              "      <td>6</td>\n",
              "      <td>6</td>\n",
              "      <td>10</td>\n",
              "      <td>8</td>\n",
              "      <td>0</td>\n",
              "      <td>8</td>\n",
              "      <td>0</td>\n",
              "      <td>8</td>\n",
              "    </tr>\n",
              "    <tr>\n",
              "      <th>1</th>\n",
              "      <td>I</td>\n",
              "      <td>5</td>\n",
              "      <td>12</td>\n",
              "      <td>3</td>\n",
              "      <td>7</td>\n",
              "      <td>2</td>\n",
              "      <td>10</td>\n",
              "      <td>5</td>\n",
              "      <td>5</td>\n",
              "      <td>4</td>\n",
              "      <td>13</td>\n",
              "      <td>3</td>\n",
              "      <td>9</td>\n",
              "      <td>2</td>\n",
              "      <td>8</td>\n",
              "      <td>4</td>\n",
              "      <td>10</td>\n",
              "    </tr>\n",
              "    <tr>\n",
              "      <th>2</th>\n",
              "      <td>D</td>\n",
              "      <td>4</td>\n",
              "      <td>11</td>\n",
              "      <td>6</td>\n",
              "      <td>8</td>\n",
              "      <td>6</td>\n",
              "      <td>10</td>\n",
              "      <td>6</td>\n",
              "      <td>2</td>\n",
              "      <td>6</td>\n",
              "      <td>10</td>\n",
              "      <td>3</td>\n",
              "      <td>7</td>\n",
              "      <td>3</td>\n",
              "      <td>7</td>\n",
              "      <td>3</td>\n",
              "      <td>9</td>\n",
              "    </tr>\n",
              "    <tr>\n",
              "      <th>3</th>\n",
              "      <td>N</td>\n",
              "      <td>7</td>\n",
              "      <td>11</td>\n",
              "      <td>6</td>\n",
              "      <td>6</td>\n",
              "      <td>3</td>\n",
              "      <td>5</td>\n",
              "      <td>9</td>\n",
              "      <td>4</td>\n",
              "      <td>6</td>\n",
              "      <td>4</td>\n",
              "      <td>4</td>\n",
              "      <td>10</td>\n",
              "      <td>6</td>\n",
              "      <td>10</td>\n",
              "      <td>2</td>\n",
              "      <td>8</td>\n",
              "    </tr>\n",
              "    <tr>\n",
              "      <th>4</th>\n",
              "      <td>G</td>\n",
              "      <td>2</td>\n",
              "      <td>1</td>\n",
              "      <td>3</td>\n",
              "      <td>1</td>\n",
              "      <td>1</td>\n",
              "      <td>8</td>\n",
              "      <td>6</td>\n",
              "      <td>6</td>\n",
              "      <td>6</td>\n",
              "      <td>6</td>\n",
              "      <td>5</td>\n",
              "      <td>9</td>\n",
              "      <td>1</td>\n",
              "      <td>7</td>\n",
              "      <td>5</td>\n",
              "      <td>10</td>\n",
              "    </tr>\n",
              "  </tbody>\n",
              "</table>\n",
              "</div>"
            ],
            "text/plain": [
              "  letter  xbox   ybox   width   height  ...  xy2bar  xedge   xedgey  yedge   yedgex\n",
              "0      T      2      8       3       5  ...       8       0       8       0       8\n",
              "1      I      5     12       3       7  ...       9       2       8       4      10\n",
              "2      D      4     11       6       8  ...       7       3       7       3       9\n",
              "3      N      7     11       6       6  ...      10       6      10       2       8\n",
              "4      G      2      1       3       1  ...       9       1       7       5      10\n",
              "\n",
              "[5 rows x 17 columns]"
            ]
          },
          "metadata": {
            "tags": []
          },
          "execution_count": 4
        }
      ]
    },
    {
      "cell_type": "code",
      "metadata": {
        "colab": {
          "base_uri": "https://localhost:8080/"
        },
        "id": "gDk7mexsGFGR",
        "outputId": "64f90727-5dc3-45bb-d3ac-9437687321b6"
      },
      "source": [
        "# a quirky bug: the column names have a space, e.g. 'xbox ', which throws and error when indexed\n",
        "print(letters.columns)\n"
      ],
      "execution_count": 5,
      "outputs": [
        {
          "output_type": "stream",
          "text": [
            "Index(['letter', 'xbox ', 'ybox ', 'width ', 'height', 'onpix ', 'xbar ',\n",
            "       'ybar ', 'x2bar', 'y2bar ', 'xybar ', 'x2ybar', 'xy2bar', 'xedge ',\n",
            "       'xedgey', 'yedge ', 'yedgex'],\n",
            "      dtype='object')\n"
          ],
          "name": "stdout"
        }
      ]
    },
    {
      "cell_type": "markdown",
      "metadata": {
        "id": "4T5Iugz3G5Ez"
      },
      "source": [
        "**Attribute Information** <br>\n",
        "1. lettr capital letter (26 values from A to Z)\n",
        "2. x-box horizontal position of box (integer)\n",
        "3. y-box vertical position of box (integer)\n",
        "4. width width of box (integer)\n",
        "5. high height of box (integer)\n",
        "6. onpix total # on pixels (integer)\n",
        "7. x-bar mean x of on pixels in box (integer)\n",
        "8. y-bar mean y of on pixels in box (integer)\n",
        "9. x2bar mean x variance (integer)\n",
        "10. y2bar mean y variance (integer)\n",
        "11. xybar mean x y correlation (integer)\n",
        "12. x2ybr mean of x * x * y (integer)\n",
        "13. xy2br mean of x * y * y (integer)\n",
        "14. x-ege mean edge count left to right (integer)\n",
        "15. xegvy correlation of x-ege with y (integer)\n",
        "16. y-ege mean edge count bottom to top (integer)\n",
        "17. yegvx correlation of y-ege with x (integer)\n",
        "\n",
        "Details of data description is available in UCI website:\n",
        "http://archive.ics.uci.edu/ml/datasets/letter+recognition"
      ]
    },
    {
      "cell_type": "code",
      "metadata": {
        "id": "f9cW-3mAIZMh"
      },
      "source": [
        "# Remove trailing space from column names\n",
        "\n",
        "letters.columns = letters.columns.str.replace(' ','')"
      ],
      "execution_count": 6,
      "outputs": []
    },
    {
      "cell_type": "code",
      "metadata": {
        "colab": {
          "base_uri": "https://localhost:8080/"
        },
        "id": "aSCsy_5MGFGY",
        "outputId": "ff9c8557-8f63-4d2f-afeb-b709a4926a4c"
      },
      "source": [
        "# let's 'reindex' the column names\n",
        "letters.columns = ['letter', 'xbox', 'ybox', 'width', 'height', 'onpix', 'xbar',\n",
        "       'ybar', 'x2bar', 'y2bar', 'xybar', 'x2ybar', 'xy2bar', 'xedge',\n",
        "       'xedgey', 'yedge', 'yedgex']\n",
        "print(letters.columns)"
      ],
      "execution_count": 7,
      "outputs": [
        {
          "output_type": "stream",
          "text": [
            "Index(['letter', 'xbox', 'ybox', 'width', 'height', 'onpix', 'xbar', 'ybar',\n",
            "       'x2bar', 'y2bar', 'xybar', 'x2ybar', 'xy2bar', 'xedge', 'xedgey',\n",
            "       'yedge', 'yedgex'],\n",
            "      dtype='object')\n"
          ],
          "name": "stdout"
        }
      ]
    },
    {
      "cell_type": "code",
      "metadata": {
        "colab": {
          "base_uri": "https://localhost:8080/"
        },
        "id": "emV_81aHGFGc",
        "outputId": "99d91d4c-78e6-4201-ccf7-45c1a02343f4"
      },
      "source": [
        "order = list(np.sort(letters['letter'].unique()))\n",
        "print(order)\n"
      ],
      "execution_count": 8,
      "outputs": [
        {
          "output_type": "stream",
          "text": [
            "['A', 'B', 'C', 'D', 'E', 'F', 'G', 'H', 'I', 'J', 'K', 'L', 'M', 'N', 'O', 'P', 'Q', 'R', 'S', 'T', 'U', 'V', 'W', 'X', 'Y', 'Z']\n"
          ],
          "name": "stdout"
        }
      ]
    },
    {
      "cell_type": "code",
      "metadata": {
        "colab": {
          "base_uri": "https://localhost:8080/",
          "height": 497
        },
        "id": "cOc9iQx5GFGf",
        "outputId": "436d4642-ff3c-4649-936f-34648e0d494c"
      },
      "source": [
        "# basic plots: How do various attributes vary with the letters\n",
        "\n",
        "plt.figure(figsize=(16, 8))\n",
        "sns.barplot(x='letter', y='xbox', \n",
        "            data=letters, \n",
        "            order=order)\n",
        "plt.show()"
      ],
      "execution_count": 9,
      "outputs": [
        {
          "output_type": "display_data",
          "data": {
            "image/png": "[encoded data removed]",
            "text/plain": [
              "<Figure size 1152x576 with 1 Axes>"
            ]
          },
          "metadata": {
            "tags": [],
            "needs_background": "light"
          }
        }
      ]
    },
    {
      "cell_type": "markdown",
      "metadata": {
        "id": "XeHBWrgjJOQD"
      },
      "source": [
        "Letters like 'I' or 'J' are recognized by low horizental width."
      ]
    },
    {
      "cell_type": "code",
      "metadata": {
        "colab": {
          "base_uri": "https://localhost:8080/",
          "height": 498
        },
        "id": "5DvAkC2rJbX0",
        "outputId": "589a3053-600f-4795-d4e6-f3be52e6190f"
      },
      "source": [
        "plt.figure(figsize=(16, 8))\n",
        "sns.barplot(x='letter', y='ybox', \n",
        "            data=letters, \n",
        "            order=order)\n",
        "plt.show()"
      ],
      "execution_count": 10,
      "outputs": [
        {
          "output_type": "display_data",
          "data": {
            "image/png": "[encoded data removed]",
            "text/plain": [
              "<Figure size 1152x576 with 1 Axes>"
            ]
          },
          "metadata": {
            "tags": [],
            "needs_background": "light"
          }
        }
      ]
    },
    {
      "cell_type": "markdown",
      "metadata": {
        "id": "9pxHaMa5JiTc"
      },
      "source": [
        "No visisble difference in length of letters though"
      ]
    },
    {
      "cell_type": "code",
      "metadata": {
        "colab": {
          "base_uri": "https://localhost:8080/",
          "height": 255
        },
        "id": "-orLTRjeGFGj",
        "outputId": "ad8ba4a6-90c4-4ba3-955d-8d30d0abaa2d"
      },
      "source": [
        "letter_means = letters.groupby('letter').mean()\n",
        "letter_means.head()"
      ],
      "execution_count": 11,
      "outputs": [
        {
          "output_type": "execute_result",
          "data": {
            "text/html": [
              "<div>\n",
              "<style scoped>\n",
              "    .dataframe tbody tr th:only-of-type {\n",
              "        vertical-align: middle;\n",
              "    }\n",
              "\n",
              "    .dataframe tbody tr th {\n",
              "        vertical-align: top;\n",
              "    }\n",
              "\n",
              "    .dataframe thead th {\n",
              "        text-align: right;\n",
              "    }\n",
              "</style>\n",
              "<table border=\"1\" class=\"dataframe\">\n",
              "  <thead>\n",
              "    <tr style=\"text-align: right;\">\n",
              "      <th></th>\n",
              "      <th>xbox</th>\n",
              "      <th>ybox</th>\n",
              "      <th>width</th>\n",
              "      <th>height</th>\n",
              "      <th>onpix</th>\n",
              "      <th>xbar</th>\n",
              "      <th>ybar</th>\n",
              "      <th>x2bar</th>\n",
              "      <th>y2bar</th>\n",
              "      <th>xybar</th>\n",
              "      <th>x2ybar</th>\n",
              "      <th>xy2bar</th>\n",
              "      <th>xedge</th>\n",
              "      <th>xedgey</th>\n",
              "      <th>yedge</th>\n",
              "      <th>yedgex</th>\n",
              "    </tr>\n",
              "    <tr>\n",
              "      <th>letter</th>\n",
              "      <th></th>\n",
              "      <th></th>\n",
              "      <th></th>\n",
              "      <th></th>\n",
              "      <th></th>\n",
              "      <th></th>\n",
              "      <th></th>\n",
              "      <th></th>\n",
              "      <th></th>\n",
              "      <th></th>\n",
              "      <th></th>\n",
              "      <th></th>\n",
              "      <th></th>\n",
              "      <th></th>\n",
              "      <th></th>\n",
              "      <th></th>\n",
              "    </tr>\n",
              "  </thead>\n",
              "  <tbody>\n",
              "    <tr>\n",
              "      <th>A</th>\n",
              "      <td>3.337136</td>\n",
              "      <td>6.975919</td>\n",
              "      <td>5.128010</td>\n",
              "      <td>5.178707</td>\n",
              "      <td>2.991128</td>\n",
              "      <td>8.851711</td>\n",
              "      <td>3.631179</td>\n",
              "      <td>2.755387</td>\n",
              "      <td>2.043093</td>\n",
              "      <td>7.802281</td>\n",
              "      <td>2.338403</td>\n",
              "      <td>8.465146</td>\n",
              "      <td>2.771863</td>\n",
              "      <td>6.321926</td>\n",
              "      <td>2.875792</td>\n",
              "      <td>7.468948</td>\n",
              "    </tr>\n",
              "    <tr>\n",
              "      <th>B</th>\n",
              "      <td>3.985640</td>\n",
              "      <td>6.962141</td>\n",
              "      <td>5.088773</td>\n",
              "      <td>5.169713</td>\n",
              "      <td>4.596606</td>\n",
              "      <td>7.671018</td>\n",
              "      <td>7.062663</td>\n",
              "      <td>5.366841</td>\n",
              "      <td>5.571802</td>\n",
              "      <td>7.954308</td>\n",
              "      <td>5.506527</td>\n",
              "      <td>6.652742</td>\n",
              "      <td>3.117493</td>\n",
              "      <td>7.919060</td>\n",
              "      <td>6.612272</td>\n",
              "      <td>9.100522</td>\n",
              "    </tr>\n",
              "    <tr>\n",
              "      <th>C</th>\n",
              "      <td>4.031250</td>\n",
              "      <td>7.063859</td>\n",
              "      <td>4.701087</td>\n",
              "      <td>5.296196</td>\n",
              "      <td>2.775815</td>\n",
              "      <td>5.437500</td>\n",
              "      <td>7.627717</td>\n",
              "      <td>5.927989</td>\n",
              "      <td>7.177989</td>\n",
              "      <td>8.773098</td>\n",
              "      <td>7.494565</td>\n",
              "      <td>11.947011</td>\n",
              "      <td>1.991848</td>\n",
              "      <td>8.876359</td>\n",
              "      <td>4.080163</td>\n",
              "      <td>8.555707</td>\n",
              "    </tr>\n",
              "    <tr>\n",
              "      <th>D</th>\n",
              "      <td>4.023602</td>\n",
              "      <td>7.244720</td>\n",
              "      <td>5.170186</td>\n",
              "      <td>5.288199</td>\n",
              "      <td>4.026087</td>\n",
              "      <td>7.539130</td>\n",
              "      <td>6.806211</td>\n",
              "      <td>5.921739</td>\n",
              "      <td>6.508075</td>\n",
              "      <td>8.166460</td>\n",
              "      <td>5.111801</td>\n",
              "      <td>5.750311</td>\n",
              "      <td>3.365217</td>\n",
              "      <td>7.813665</td>\n",
              "      <td>3.971429</td>\n",
              "      <td>7.628571</td>\n",
              "    </tr>\n",
              "    <tr>\n",
              "      <th>E</th>\n",
              "      <td>3.727865</td>\n",
              "      <td>6.944010</td>\n",
              "      <td>4.756510</td>\n",
              "      <td>5.201823</td>\n",
              "      <td>3.679688</td>\n",
              "      <td>5.966146</td>\n",
              "      <td>7.352865</td>\n",
              "      <td>4.223958</td>\n",
              "      <td>7.585938</td>\n",
              "      <td>8.507812</td>\n",
              "      <td>6.242188</td>\n",
              "      <td>10.341146</td>\n",
              "      <td>2.127604</td>\n",
              "      <td>8.298177</td>\n",
              "      <td>6.022135</td>\n",
              "      <td>8.506510</td>\n",
              "    </tr>\n",
              "  </tbody>\n",
              "</table>\n",
              "</div>"
            ],
            "text/plain": [
              "            xbox      ybox     width  ...    xedgey     yedge    yedgex\n",
              "letter                                ...                              \n",
              "A       3.337136  6.975919  5.128010  ...  6.321926  2.875792  7.468948\n",
              "B       3.985640  6.962141  5.088773  ...  7.919060  6.612272  9.100522\n",
              "C       4.031250  7.063859  4.701087  ...  8.876359  4.080163  8.555707\n",
              "D       4.023602  7.244720  5.170186  ...  7.813665  3.971429  7.628571\n",
              "E       3.727865  6.944010  4.756510  ...  8.298177  6.022135  8.506510\n",
              "\n",
              "[5 rows x 16 columns]"
            ]
          },
          "metadata": {
            "tags": []
          },
          "execution_count": 11
        }
      ]
    },
    {
      "cell_type": "code",
      "metadata": {
        "colab": {
          "base_uri": "https://localhost:8080/",
          "height": 609
        },
        "id": "e9c5MmUBGFGo",
        "outputId": "5e986483-fbcd-4a64-804a-26e5293f81b0"
      },
      "source": [
        "\n",
        "plt.figure(figsize=(18, 10))\n",
        "sns.heatmap(letter_means)"
      ],
      "execution_count": 12,
      "outputs": [
        {
          "output_type": "execute_result",
          "data": {
            "text/plain": [
              "<matplotlib.axes._subplots.AxesSubplot at 0x7f860ba9d490>"
            ]
          },
          "metadata": {
            "tags": []
          },
          "execution_count": 12
        },
        {
          "output_type": "display_data",
          "data": {
            "image/png": "[encoded data removed]",
            "text/plain": [
              "<Figure size 1296x720 with 2 Axes>"
            ]
          },
          "metadata": {
            "tags": [],
            "needs_background": "light"
          }
        }
      ]
    },
    {
      "cell_type": "markdown",
      "metadata": {
        "id": "sCPh0LLWJ2E-"
      },
      "source": [
        "Interesting insights: <br>\n",
        "- For letters like T, F xbar value is very high\n",
        "- For letters like F, J or P xybar is very high \n",
        "\n",
        "etc."
      ]
    },
    {
      "cell_type": "markdown",
      "metadata": {
        "id": "IelYyz9AGFGs"
      },
      "source": [
        "## Data Preparation\n",
        "\n",
        "Let's conduct some data preparation steps before modeling. Firstly, let's see if it is important to **rescale** the features, since they may have varying ranges. For example, here are the average values:"
      ]
    },
    {
      "cell_type": "code",
      "metadata": {
        "colab": {
          "base_uri": "https://localhost:8080/"
        },
        "id": "lE099cmqGFGv",
        "outputId": "4d42a064-527b-444e-9715-931744af4676"
      },
      "source": [
        "# average feature values\n",
        "round(letters.drop('letter', axis=1).mean(), 2)"
      ],
      "execution_count": 13,
      "outputs": [
        {
          "output_type": "execute_result",
          "data": {
            "text/plain": [
              "xbox      4.02\n",
              "ybox      7.04\n",
              "width     5.12\n",
              "height    5.37\n",
              "onpix     3.51\n",
              "xbar      6.90\n",
              "ybar      7.50\n",
              "x2bar     4.63\n",
              "y2bar     5.18\n",
              "xybar     8.28\n",
              "x2ybar    6.45\n",
              "xy2bar    7.93\n",
              "xedge     3.05\n",
              "xedgey    8.34\n",
              "yedge     3.69\n",
              "yedgex    7.80\n",
              "dtype: float64"
            ]
          },
          "metadata": {
            "tags": []
          },
          "execution_count": 13
        }
      ]
    },
    {
      "cell_type": "markdown",
      "metadata": {
        "id": "TTbvpT5ZGFGy"
      },
      "source": [
        "In this case, the average values do not vary a lot (e.g. having a diff of an order of magnitude). Nevertheless, it is better to rescale them."
      ]
    },
    {
      "cell_type": "code",
      "metadata": {
        "id": "Ex33uyS_GFG0"
      },
      "source": [
        "# splitting into X and y\n",
        "X = letters.drop(\"letter\", axis = 1)\n",
        "y = letters['letter']"
      ],
      "execution_count": 14,
      "outputs": []
    },
    {
      "cell_type": "markdown",
      "metadata": {
        "id": "Czs-jppBKZhV"
      },
      "source": [
        "Note: Wrong scaling was used in original data. Ideally it should only be on training data and then on test data as just the transformation. It is corrected here."
      ]
    },
    {
      "cell_type": "code",
      "metadata": {
        "id": "Nu_jByR7GFG4"
      },
      "source": [
        "# train test split\n",
        "X_train, X_test, y_train, y_test = train_test_split(X, y, test_size = 0.3, random_state = 101)\n",
        "\n",
        "scaler= StandardScaler()\n",
        "X_train= scaler.fit_transform(X_train)\n",
        "X_test = scaler.transform(X_test)"
      ],
      "execution_count": 17,
      "outputs": []
    },
    {
      "cell_type": "markdown",
      "metadata": {
        "id": "sRTxPlDjGFG7"
      },
      "source": [
        "## Model Building\n",
        "\n",
        "Let's fist build two basic models - linear and non-linear with default hyperparameters, and compare the accuracies."
      ]
    },
    {
      "cell_type": "code",
      "metadata": {
        "id": "eJp4jAwsGFG8"
      },
      "source": [
        "# linear model\n",
        "\n",
        "model_linear = SVC(kernel='linear')\n",
        "model_linear.fit(X_train, y_train)\n",
        "\n",
        "# predict\n",
        "y_pred = model_linear.predict(X_test)\n"
      ],
      "execution_count": 18,
      "outputs": []
    },
    {
      "cell_type": "code",
      "metadata": {
        "colab": {
          "base_uri": "https://localhost:8080/"
        },
        "id": "Y1577ui7GFG-",
        "outputId": "1003abce-5a41-46ea-d0d6-ed09f24764c9"
      },
      "source": [
        "# confusion matrix and accuracy\n",
        "\n",
        "# accuracy\n",
        "print(\"accuracy:\", metrics.accuracy_score(y_true=y_test, y_pred=y_pred), \"\\n\")\n",
        "\n",
        "# cm\n",
        "print(metrics.confusion_matrix(y_true=y_test, y_pred=y_pred))"
      ],
      "execution_count": 19,
      "outputs": [
        {
          "output_type": "stream",
          "text": [
            "accuracy: 0.8523333333333334 \n",
            "\n",
            "[[198   0   0   0   0   0   1   1   0   1   1   1   0   0   0   0   0   1\n",
            "    0   1   1   0   0   0   3   0]\n",
            " [  0 188   0   3   0   1   3   3   1   0   1   0   0   2   0   1   1   9\n",
            "    3   0   0   1   0   1   0   0]\n",
            " [  1   0 200   0   7   0  12   1   0   0   5   0   0   0   3   0   0   0\n",
            "    0   0   1   0   0   0   0   0]\n",
            " [  1  15   0 210   0   1   2   2   1   0   1   0   1   5   3   0   0   5\n",
            "    0   1   0   0   0   0   0   0]\n",
            " [  0   1   3   0 204   2   6   1   0   0   1   5   0   0   0   0   2   2\n",
            "    1   2   0   0   0   1   0   3]\n",
            " [  0   0   0   1   1 201   1   2   1   1   0   0   0   2   0   2   0   0\n",
            "    3   7   1   0   1   0   1   0]\n",
            " [  0   1   9   4   2   2 167   1   0   1   4   3   1   0   1   0   9   1\n",
            "    8   0   0   2   3   0   0   0]\n",
            " [  0   7   3  11   0   4   3 141   0   2   4   1   2   0  12   0   4  12\n",
            "    0   0   4   2   0   4   1   0]\n",
            " [  0   0   2   3   0   6   0   0 184   9   0   0   0   0   1   0   0   0\n",
            "    3   0   0   0   0   4   0   3]\n",
            " [  2   0   0   3   0   2   0   2  10 187   0   0   0   1   2   0   0   1\n",
            "    5   0   1   0   0   0   0   4]\n",
            " [  0   1   5   2   0   0   1   3   0   0 198   2   2   0   0   0   0  19\n",
            "    0   0   0   0   0  12   0   0]\n",
            " [  2   1   3   2   5   0   8   1   0   0   1 206   0   0   0   0   5   0\n",
            "    2   1   0   0   0   0   0   0]\n",
            " [  0   3   0   0   0   0   0   3   0   0   0   0 222   1   0   0   0   2\n",
            "    0   0   0   0   3   0   0   0]\n",
            " [  1   0   0   4   0   0   0   6   0   0   0   0   1 235   1   1   0   0\n",
            "    0   0   0   1   1   0   0   0]\n",
            " [  3   0   4   7   0   0   0  21   0   0   0   0   2   0 163   3   2   3\n",
            "    0   0   3   0  10   0   0   0]\n",
            " [  0   2   0   2   0  16   5   1   0   1   3   0   0   0   1 225   0   0\n",
            "    0   0   0   1   0   0   8   0]\n",
            " [  3   1   0   0   4   0   9   0   0   2   0   1   0   0   6   0 198   0\n",
            "    8   0   0   0   1   0   0   2]\n",
            " [ 11  11   0   2   0   1   6   3   0   0  10   0   0   3   4   0   2 188\n",
            "    0   1   0   0   0   1   0   0]\n",
            " [  1  13   0   0   9   5   8   0   7   1   0   2   0   0   0   1   6   1\n",
            "  155   6   0   0   0   3   0  10]\n",
            " [  0   0   0   1   1   4   2   4   1   0   0   0   0   0   0   0   0   1\n",
            "    3 214   0   0   0   1   1   6]\n",
            " [  2   0   1   2   0   0   0   2   0   0   0   0   1   1   3   0   0   0\n",
            "    0   0 211   0   1   0   0   0]\n",
            " [  2   2   0   0   0   0   1   3   0   0   0   0   0   1   0   1   0   3\n",
            "    0   0   0 190   6   0   2   0]\n",
            " [  0   0   0   0   0   0   1   0   0   0   0   0   6   1   2   0   0   0\n",
            "    0   0   0   0 212   0   0   0]\n",
            " [  0   2   0   4   5   0   1   0   2   3   3   3   0   0   1   0   0   1\n",
            "    2   2   1   0   0 212   1   1]\n",
            " [  2   0   0   0   0   2   0   1   0   0   0   0   1   0   0   0   3   0\n",
            "    0   4   1  10   0   2 211   0]\n",
            " [  1   0   0   0   3   0   0   0   0   6   0   0   0   0   0   0   5   0\n",
            "   18   1   0   0   0   1   0 194]]\n"
          ],
          "name": "stdout"
        }
      ]
    },
    {
      "cell_type": "markdown",
      "metadata": {
        "id": "mim5GF90GFHA"
      },
      "source": [
        "The linear model gives approx. 85% accuracy. Let's look at a sufficiently non-linear model with randomly chosen hyperparameters."
      ]
    },
    {
      "cell_type": "code",
      "metadata": {
        "id": "E10c8GaHGFHC"
      },
      "source": [
        "# non-linear model\n",
        "# using rbf kernel, C=1, default value of gamma\n",
        "\n",
        "# model\n",
        "non_linear_model = SVC(kernel='rbf')\n",
        "\n",
        "# fit\n",
        "non_linear_model.fit(X_train, y_train)\n",
        "\n",
        "# predict\n",
        "y_pred = non_linear_model.predict(X_test)"
      ],
      "execution_count": 20,
      "outputs": []
    },
    {
      "cell_type": "code",
      "metadata": {
        "colab": {
          "base_uri": "https://localhost:8080/"
        },
        "id": "kl2D2uY_GFHI",
        "outputId": "dadff956-3e9b-498c-cb73-cd3dff684acd"
      },
      "source": [
        "# confusion matrix and accuracy\n",
        "\n",
        "# accuracy\n",
        "print(\"accuracy:\", metrics.accuracy_score(y_true=y_test, y_pred=y_pred), \"\\n\")\n",
        "\n",
        "# cm\n",
        "print(metrics.confusion_matrix(y_true=y_test, y_pred=y_pred))"
      ],
      "execution_count": 21,
      "outputs": [
        {
          "output_type": "stream",
          "text": [
            "accuracy: 0.9385 \n",
            "\n",
            "[[205   0   0   1   0   0   0   0   0   1   0   0   0   0   0   0   0   0\n",
            "    0   0   0   0   0   0   2   0]\n",
            " [  0 205   0   3   1   0   1   0   0   0   0   0   0   0   0   0   0   6\n",
            "    1   0   0   0   0   1   0   0]\n",
            " [  0   0 213   0   5   0   7   1   0   0   0   0   0   0   4   0   0   0\n",
            "    0   0   0   0   0   0   0   0]\n",
            " [  0   4   0 234   0   0   1   3   0   0   0   0   0   3   1   0   0   2\n",
            "    0   0   0   0   0   0   0   0]\n",
            " [  0   0   0   0 221   1   9   0   0   0   0   0   0   0   0   0   0   1\n",
            "    0   0   0   0   0   0   0   2]\n",
            " [  0   0   0   1   0 215   1   1   1   0   0   0   0   1   0   1   0   0\n",
            "    1   3   0   0   0   0   0   0]\n",
            " [  0   0   3   4   1   1 202   0   0   0   0   1   1   0   2   0   0   1\n",
            "    0   0   0   1   2   0   0   0]\n",
            " [  0   7   0   5   0   0   4 177   0   0   2   0   1   0   3   0   4  13\n",
            "    0   0   1   0   0   0   0   0]\n",
            " [  0   0   1   1   0   3   0   0 194  11   0   0   0   0   0   1   0   0\n",
            "    2   0   0   0   0   2   0   0]\n",
            " [  1   0   0   1   0   0   0   0   7 205   0   0   0   1   2   0   0   0\n",
            "    2   0   0   0   0   1   0   0]\n",
            " [  0   4   0   2   0   0   0   4   0   0 217   0   1   0   0   0   0  14\n",
            "    0   0   0   0   0   3   0   0]\n",
            " [  0   0   1   0   2   0   6   0   0   0   1 222   0   0   0   0   0   3\n",
            "    0   0   0   0   0   2   0   0]\n",
            " [  0   5   0   0   0   0   0   2   0   0   0   0 225   0   0   0   0   0\n",
            "    0   0   0   0   2   0   0   0]\n",
            " [  0   2   0   1   0   0   0   2   0   0   0   0   1 239   3   0   0   2\n",
            "    0   0   0   0   0   0   1   0]\n",
            " [  0   0   0   1   0   0   0   0   0   0   0   0   0   0 209   0   1   1\n",
            "    0   0   1   0   8   0   0   0]\n",
            " [  0   1   0   3   3  11   1   1   0   0   0   0   0   0   1 238   1   0\n",
            "    0   0   0   0   0   0   5   0]\n",
            " [  0   0   0   0   2   0   2   0   0   0   0   0   0   0   6   0 222   0\n",
            "    1   0   0   0   2   0   0   0]\n",
            " [  0  10   0   2   0   0   0   0   0   0   1   0   0   4   0   0   2 224\n",
            "    0   0   0   0   0   0   0   0]\n",
            " [  0   3   0   0   2   3   0   0   0   0   0   0   0   0   0   0   0   0\n",
            "  220   0   0   0   0   0   0   0]\n",
            " [  0   1   0   1   0   2   0   1   0   0   0   0   0   0   0   1   0   1\n",
            "    0 228   0   0   0   3   1   0]\n",
            " [  0   0   0   0   0   0   0   0   0   0   0   0   0   0   1   0   0   0\n",
            "    0   0 223   0   0   0   0   0]\n",
            " [  0   7   0   0   0   0   0   1   0   0   0   0   1   4   0   1   0   0\n",
            "    0   0   0 193   1   0   3   0]\n",
            " [  0   1   0   0   0   0   1   1   0   0   0   0   0   1   0   0   0   0\n",
            "    0   0   1   0 217   0   0   0]\n",
            " [  0   2   0   3   2   0   0   0   1   0   2   0   0   0   0   0   0   1\n",
            "    0   0   0   0   0 233   0   0]\n",
            " [  2   0   0   0   0   0   0   0   0   0   0   0   1   0   0   0   1   0\n",
            "    0   1   2   2   0   0 228   0]\n",
            " [  0   0   0   0   2   0   0   0   0   0   0   0   0   0   0   0   4   0\n",
            "    1   0   0   0   0   0   0 222]]\n"
          ],
          "name": "stdout"
        }
      ]
    },
    {
      "cell_type": "markdown",
      "metadata": {
        "id": "Byhd_wvqGFHO"
      },
      "source": [
        "The non-linear model gives approx. 93% accuracy. Thus, going forward, let's choose hyperparameters corresponding to non-linear models."
      ]
    },
    {
      "cell_type": "markdown",
      "metadata": {
        "id": "skY5tWRGGFHR"
      },
      "source": [
        "## Grid Search: Hyperparameter Tuning\n",
        "\n",
        "Let's now tune the model to find the optimal values of C and gamma corresponding to an RBF kernel. We'll use 5-fold cross validation."
      ]
    },
    {
      "cell_type": "code",
      "metadata": {
        "colab": {
          "base_uri": "https://localhost:8080/"
        },
        "id": "QC-Ooq-EGFHS",
        "outputId": "26cd3a8a-9783-4a26-f4d0-179951e1d1a3"
      },
      "source": [
        "# creating a KFold object with 5 splits \n",
        "folds = KFold(n_splits = 5, shuffle = True, random_state = 101)\n",
        "\n",
        "# specify range of hyperparameters\n",
        "# Set the parameters by cross-validation\n",
        "hyper_params = [ {'gamma': [1e-2, 1e-3],\n",
        "                     'C': [ 10, 100, 1000]}]\n",
        "\n",
        "\n",
        "# specify model\n",
        "model = SVC(kernel=\"rbf\")\n",
        "\n",
        "# set up GridSearchCV()\n",
        "model_cv = GridSearchCV(estimator = model, \n",
        "                        param_grid = hyper_params, \n",
        "                        scoring= 'accuracy', \n",
        "                        cv = folds, \n",
        "                        verbose = 1,\n",
        "                        return_train_score=True)      \n",
        "\n",
        "# fit the model\n",
        "model_cv.fit(X_train, y_train)                  \n"
      ],
      "execution_count": 24,
      "outputs": [
        {
          "output_type": "stream",
          "text": [
            "Fitting 5 folds for each of 6 candidates, totalling 30 fits\n"
          ],
          "name": "stdout"
        },
        {
          "output_type": "stream",
          "text": [
            "[Parallel(n_jobs=1)]: Using backend SequentialBackend with 1 concurrent workers.\n",
            "[Parallel(n_jobs=1)]: Done  30 out of  30 | elapsed:  4.2min finished\n"
          ],
          "name": "stderr"
        },
        {
          "output_type": "execute_result",
          "data": {
            "text/plain": [
              "GridSearchCV(cv=KFold(n_splits=5, random_state=101, shuffle=True),\n",
              "             error_score=nan,\n",
              "             estimator=SVC(C=1.0, break_ties=False, cache_size=200,\n",
              "                           class_weight=None, coef0=0.0,\n",
              "                           decision_function_shape='ovr', degree=3,\n",
              "                           gamma='scale', kernel='rbf', max_iter=-1,\n",
              "                           probability=False, random_state=None, shrinking=True,\n",
              "                           tol=0.001, verbose=False),\n",
              "             iid='deprecated', n_jobs=None,\n",
              "             param_grid=[{'C': [10, 100, 1000], 'gamma': [0.01, 0.001]}],\n",
              "             pre_dispatch='2*n_jobs', refit=True, return_train_score=True,\n",
              "             scoring='accuracy', verbose=1)"
            ]
          },
          "metadata": {
            "tags": []
          },
          "execution_count": 24
        }
      ]
    },
    {
      "cell_type": "code",
      "metadata": {
        "id": "2Y2zPXDQGFHY",
        "outputId": "3df9ad32-5aab-49dc-d847-fa30f162f5e0"
      },
      "source": [
        "# cv results\n",
        "cv_results = pd.DataFrame(model_cv.cv_results_)\n",
        "cv_results"
      ],
      "execution_count": null,
      "outputs": [
        {
          "output_type": "execute_result",
          "data": {
            "text/html": [
              "<div>\n",
              "<style scoped>\n",
              "    .dataframe tbody tr th:only-of-type {\n",
              "        vertical-align: middle;\n",
              "    }\n",
              "\n",
              "    .dataframe tbody tr th {\n",
              "        vertical-align: top;\n",
              "    }\n",
              "\n",
              "    .dataframe thead th {\n",
              "        text-align: right;\n",
              "    }\n",
              "</style>\n",
              "<table border=\"1\" class=\"dataframe\">\n",
              "  <thead>\n",
              "    <tr style=\"text-align: right;\">\n",
              "      <th></th>\n",
              "      <th>mean_fit_time</th>\n",
              "      <th>mean_score_time</th>\n",
              "      <th>mean_test_score</th>\n",
              "      <th>mean_train_score</th>\n",
              "      <th>param_C</th>\n",
              "      <th>param_gamma</th>\n",
              "      <th>params</th>\n",
              "      <th>rank_test_score</th>\n",
              "      <th>split0_test_score</th>\n",
              "      <th>split0_train_score</th>\n",
              "      <th>...</th>\n",
              "      <th>split2_test_score</th>\n",
              "      <th>split2_train_score</th>\n",
              "      <th>split3_test_score</th>\n",
              "      <th>split3_train_score</th>\n",
              "      <th>split4_test_score</th>\n",
              "      <th>split4_train_score</th>\n",
              "      <th>std_fit_time</th>\n",
              "      <th>std_score_time</th>\n",
              "      <th>std_test_score</th>\n",
              "      <th>std_train_score</th>\n",
              "    </tr>\n",
              "  </thead>\n",
              "  <tbody>\n",
              "    <tr>\n",
              "      <th>0</th>\n",
              "      <td>2.531680</td>\n",
              "      <td>1.421701</td>\n",
              "      <td>0.832714</td>\n",
              "      <td>0.844679</td>\n",
              "      <td>1</td>\n",
              "      <td>0.01</td>\n",
              "      <td>{'C': 1, 'gamma': 0.01}</td>\n",
              "      <td>7</td>\n",
              "      <td>0.826429</td>\n",
              "      <td>0.843929</td>\n",
              "      <td>...</td>\n",
              "      <td>0.828571</td>\n",
              "      <td>0.847679</td>\n",
              "      <td>0.843929</td>\n",
              "      <td>0.843571</td>\n",
              "      <td>0.830000</td>\n",
              "      <td>0.844018</td>\n",
              "      <td>0.036476</td>\n",
              "      <td>0.047152</td>\n",
              "      <td>0.006221</td>\n",
              "      <td>0.001514</td>\n",
              "    </tr>\n",
              "    <tr>\n",
              "      <th>1</th>\n",
              "      <td>5.496493</td>\n",
              "      <td>1.896336</td>\n",
              "      <td>0.677214</td>\n",
              "      <td>0.683821</td>\n",
              "      <td>1</td>\n",
              "      <td>0.001</td>\n",
              "      <td>{'C': 1, 'gamma': 0.001}</td>\n",
              "      <td>10</td>\n",
              "      <td>0.684643</td>\n",
              "      <td>0.682054</td>\n",
              "      <td>...</td>\n",
              "      <td>0.682500</td>\n",
              "      <td>0.687946</td>\n",
              "      <td>0.670000</td>\n",
              "      <td>0.679554</td>\n",
              "      <td>0.676429</td>\n",
              "      <td>0.686429</td>\n",
              "      <td>0.186916</td>\n",
              "      <td>0.054003</td>\n",
              "      <td>0.005622</td>\n",
              "      <td>0.003021</td>\n",
              "    </tr>\n",
              "    <tr>\n",
              "      <th>2</th>\n",
              "      <td>10.647400</td>\n",
              "      <td>2.109896</td>\n",
              "      <td>0.217571</td>\n",
              "      <td>0.227982</td>\n",
              "      <td>1</td>\n",
              "      <td>0.0001</td>\n",
              "      <td>{'C': 1, 'gamma': 0.0001}</td>\n",
              "      <td>12</td>\n",
              "      <td>0.203929</td>\n",
              "      <td>0.212679</td>\n",
              "      <td>...</td>\n",
              "      <td>0.206429</td>\n",
              "      <td>0.228393</td>\n",
              "      <td>0.237500</td>\n",
              "      <td>0.240625</td>\n",
              "      <td>0.232857</td>\n",
              "      <td>0.240625</td>\n",
              "      <td>0.260968</td>\n",
              "      <td>0.097644</td>\n",
              "      <td>0.014490</td>\n",
              "      <td>0.011507</td>\n",
              "    </tr>\n",
              "    <tr>\n",
              "      <th>3</th>\n",
              "      <td>1.609691</td>\n",
              "      <td>0.936208</td>\n",
              "      <td>0.911214</td>\n",
              "      <td>0.929304</td>\n",
              "      <td>10</td>\n",
              "      <td>0.01</td>\n",
              "      <td>{'C': 10, 'gamma': 0.01}</td>\n",
              "      <td>3</td>\n",
              "      <td>0.914643</td>\n",
              "      <td>0.929643</td>\n",
              "      <td>...</td>\n",
              "      <td>0.902500</td>\n",
              "      <td>0.930357</td>\n",
              "      <td>0.919286</td>\n",
              "      <td>0.928929</td>\n",
              "      <td>0.911071</td>\n",
              "      <td>0.928125</td>\n",
              "      <td>0.022005</td>\n",
              "      <td>0.020297</td>\n",
              "      <td>0.005654</td>\n",
              "      <td>0.000746</td>\n",
              "    </tr>\n",
              "    <tr>\n",
              "      <th>4</th>\n",
              "      <td>2.501903</td>\n",
              "      <td>1.427731</td>\n",
              "      <td>0.808929</td>\n",
              "      <td>0.817857</td>\n",
              "      <td>10</td>\n",
              "      <td>0.001</td>\n",
              "      <td>{'C': 10, 'gamma': 0.001}</td>\n",
              "      <td>8</td>\n",
              "      <td>0.805714</td>\n",
              "      <td>0.818125</td>\n",
              "      <td>...</td>\n",
              "      <td>0.803571</td>\n",
              "      <td>0.819643</td>\n",
              "      <td>0.820714</td>\n",
              "      <td>0.814375</td>\n",
              "      <td>0.805000</td>\n",
              "      <td>0.819464</td>\n",
              "      <td>0.024353</td>\n",
              "      <td>0.010922</td>\n",
              "      <td>0.006227</td>\n",
              "      <td>0.001897</td>\n",
              "    </tr>\n",
              "    <tr>\n",
              "      <th>5</th>\n",
              "      <td>5.405686</td>\n",
              "      <td>1.914143</td>\n",
              "      <td>0.677000</td>\n",
              "      <td>0.683643</td>\n",
              "      <td>10</td>\n",
              "      <td>0.0001</td>\n",
              "      <td>{'C': 10, 'gamma': 0.0001}</td>\n",
              "      <td>11</td>\n",
              "      <td>0.684286</td>\n",
              "      <td>0.681875</td>\n",
              "      <td>...</td>\n",
              "      <td>0.682500</td>\n",
              "      <td>0.687500</td>\n",
              "      <td>0.670000</td>\n",
              "      <td>0.680089</td>\n",
              "      <td>0.677143</td>\n",
              "      <td>0.685446</td>\n",
              "      <td>0.216667</td>\n",
              "      <td>0.111240</td>\n",
              "      <td>0.005788</td>\n",
              "      <td>0.002608</td>\n",
              "    </tr>\n",
              "    <tr>\n",
              "      <th>6</th>\n",
              "      <td>2.070304</td>\n",
              "      <td>0.750065</td>\n",
              "      <td>0.947786</td>\n",
              "      <td>0.978411</td>\n",
              "      <td>100</td>\n",
              "      <td>0.01</td>\n",
              "      <td>{'C': 100, 'gamma': 0.01}</td>\n",
              "      <td>2</td>\n",
              "      <td>0.948571</td>\n",
              "      <td>0.978482</td>\n",
              "      <td>...</td>\n",
              "      <td>0.941429</td>\n",
              "      <td>0.978393</td>\n",
              "      <td>0.952857</td>\n",
              "      <td>0.978661</td>\n",
              "      <td>0.949286</td>\n",
              "      <td>0.978571</td>\n",
              "      <td>0.088442</td>\n",
              "      <td>0.041193</td>\n",
              "      <td>0.003742</td>\n",
              "      <td>0.000249</td>\n",
              "    </tr>\n",
              "    <tr>\n",
              "      <th>7</th>\n",
              "      <td>1.858425</td>\n",
              "      <td>0.965986</td>\n",
              "      <td>0.863357</td>\n",
              "      <td>0.878768</td>\n",
              "      <td>100</td>\n",
              "      <td>0.001</td>\n",
              "      <td>{'C': 100, 'gamma': 0.001}</td>\n",
              "      <td>5</td>\n",
              "      <td>0.861071</td>\n",
              "      <td>0.879554</td>\n",
              "      <td>...</td>\n",
              "      <td>0.850357</td>\n",
              "      <td>0.882143</td>\n",
              "      <td>0.875357</td>\n",
              "      <td>0.875536</td>\n",
              "      <td>0.863929</td>\n",
              "      <td>0.879464</td>\n",
              "      <td>0.047128</td>\n",
              "      <td>0.009356</td>\n",
              "      <td>0.008074</td>\n",
              "      <td>0.002262</td>\n",
              "    </tr>\n",
              "    <tr>\n",
              "      <th>8</th>\n",
              "      <td>2.490351</td>\n",
              "      <td>1.424067</td>\n",
              "      <td>0.805714</td>\n",
              "      <td>0.813179</td>\n",
              "      <td>100</td>\n",
              "      <td>0.0001</td>\n",
              "      <td>{'C': 100, 'gamma': 0.0001}</td>\n",
              "      <td>9</td>\n",
              "      <td>0.801071</td>\n",
              "      <td>0.813571</td>\n",
              "      <td>...</td>\n",
              "      <td>0.803929</td>\n",
              "      <td>0.814286</td>\n",
              "      <td>0.817143</td>\n",
              "      <td>0.810000</td>\n",
              "      <td>0.800000</td>\n",
              "      <td>0.815357</td>\n",
              "      <td>0.014262</td>\n",
              "      <td>0.063285</td>\n",
              "      <td>0.006140</td>\n",
              "      <td>0.001815</td>\n",
              "    </tr>\n",
              "    <tr>\n",
              "      <th>9</th>\n",
              "      <td>2.196414</td>\n",
              "      <td>0.660221</td>\n",
              "      <td>0.951714</td>\n",
              "      <td>0.997357</td>\n",
              "      <td>1000</td>\n",
              "      <td>0.01</td>\n",
              "      <td>{'C': 1000, 'gamma': 0.01}</td>\n",
              "      <td>1</td>\n",
              "      <td>0.953571</td>\n",
              "      <td>0.997054</td>\n",
              "      <td>...</td>\n",
              "      <td>0.948571</td>\n",
              "      <td>0.997411</td>\n",
              "      <td>0.952857</td>\n",
              "      <td>0.997321</td>\n",
              "      <td>0.953929</td>\n",
              "      <td>0.997232</td>\n",
              "      <td>0.022609</td>\n",
              "      <td>0.002775</td>\n",
              "      <td>0.002183</td>\n",
              "      <td>0.000237</td>\n",
              "    </tr>\n",
              "    <tr>\n",
              "      <th>10</th>\n",
              "      <td>2.385556</td>\n",
              "      <td>0.784292</td>\n",
              "      <td>0.898357</td>\n",
              "      <td>0.929982</td>\n",
              "      <td>1000</td>\n",
              "      <td>0.001</td>\n",
              "      <td>{'C': 1000, 'gamma': 0.001}</td>\n",
              "      <td>4</td>\n",
              "      <td>0.897500</td>\n",
              "      <td>0.931339</td>\n",
              "      <td>...</td>\n",
              "      <td>0.889643</td>\n",
              "      <td>0.931607</td>\n",
              "      <td>0.908571</td>\n",
              "      <td>0.927589</td>\n",
              "      <td>0.900357</td>\n",
              "      <td>0.931696</td>\n",
              "      <td>0.040057</td>\n",
              "      <td>0.026058</td>\n",
              "      <td>0.006197</td>\n",
              "      <td>0.001921</td>\n",
              "    </tr>\n",
              "    <tr>\n",
              "      <th>11</th>\n",
              "      <td>2.175660</td>\n",
              "      <td>1.081910</td>\n",
              "      <td>0.844357</td>\n",
              "      <td>0.860679</td>\n",
              "      <td>1000</td>\n",
              "      <td>0.0001</td>\n",
              "      <td>{'C': 1000, 'gamma': 0.0001}</td>\n",
              "      <td>6</td>\n",
              "      <td>0.844643</td>\n",
              "      <td>0.860982</td>\n",
              "      <td>...</td>\n",
              "      <td>0.829286</td>\n",
              "      <td>0.864018</td>\n",
              "      <td>0.856071</td>\n",
              "      <td>0.858304</td>\n",
              "      <td>0.843571</td>\n",
              "      <td>0.861607</td>\n",
              "      <td>0.019762</td>\n",
              "      <td>0.006161</td>\n",
              "      <td>0.008717</td>\n",
              "      <td>0.002125</td>\n",
              "    </tr>\n",
              "  </tbody>\n",
              "</table>\n",
              "<p>12 rows × 22 columns</p>\n",
              "</div>"
            ],
            "text/plain": [
              "    mean_fit_time  mean_score_time  mean_test_score  mean_train_score param_C  \\\n",
              "0        2.531680         1.421701         0.832714          0.844679       1   \n",
              "1        5.496493         1.896336         0.677214          0.683821       1   \n",
              "2       10.647400         2.109896         0.217571          0.227982       1   \n",
              "3        1.609691         0.936208         0.911214          0.929304      10   \n",
              "4        2.501903         1.427731         0.808929          0.817857      10   \n",
              "5        5.405686         1.914143         0.677000          0.683643      10   \n",
              "6        2.070304         0.750065         0.947786          0.978411     100   \n",
              "7        1.858425         0.965986         0.863357          0.878768     100   \n",
              "8        2.490351         1.424067         0.805714          0.813179     100   \n",
              "9        2.196414         0.660221         0.951714          0.997357    1000   \n",
              "10       2.385556         0.784292         0.898357          0.929982    1000   \n",
              "11       2.175660         1.081910         0.844357          0.860679    1000   \n",
              "\n",
              "   param_gamma                        params  rank_test_score  \\\n",
              "0         0.01       {'C': 1, 'gamma': 0.01}                7   \n",
              "1        0.001      {'C': 1, 'gamma': 0.001}               10   \n",
              "2       0.0001     {'C': 1, 'gamma': 0.0001}               12   \n",
              "3         0.01      {'C': 10, 'gamma': 0.01}                3   \n",
              "4        0.001     {'C': 10, 'gamma': 0.001}                8   \n",
              "5       0.0001    {'C': 10, 'gamma': 0.0001}               11   \n",
              "6         0.01     {'C': 100, 'gamma': 0.01}                2   \n",
              "7        0.001    {'C': 100, 'gamma': 0.001}                5   \n",
              "8       0.0001   {'C': 100, 'gamma': 0.0001}                9   \n",
              "9         0.01    {'C': 1000, 'gamma': 0.01}                1   \n",
              "10       0.001   {'C': 1000, 'gamma': 0.001}                4   \n",
              "11      0.0001  {'C': 1000, 'gamma': 0.0001}                6   \n",
              "\n",
              "    split0_test_score  split0_train_score       ...         split2_test_score  \\\n",
              "0            0.826429            0.843929       ...                  0.828571   \n",
              "1            0.684643            0.682054       ...                  0.682500   \n",
              "2            0.203929            0.212679       ...                  0.206429   \n",
              "3            0.914643            0.929643       ...                  0.902500   \n",
              "4            0.805714            0.818125       ...                  0.803571   \n",
              "5            0.684286            0.681875       ...                  0.682500   \n",
              "6            0.948571            0.978482       ...                  0.941429   \n",
              "7            0.861071            0.879554       ...                  0.850357   \n",
              "8            0.801071            0.813571       ...                  0.803929   \n",
              "9            0.953571            0.997054       ...                  0.948571   \n",
              "10           0.897500            0.931339       ...                  0.889643   \n",
              "11           0.844643            0.860982       ...                  0.829286   \n",
              "\n",
              "    split2_train_score  split3_test_score  split3_train_score  \\\n",
              "0             0.847679           0.843929            0.843571   \n",
              "1             0.687946           0.670000            0.679554   \n",
              "2             0.228393           0.237500            0.240625   \n",
              "3             0.930357           0.919286            0.928929   \n",
              "4             0.819643           0.820714            0.814375   \n",
              "5             0.687500           0.670000            0.680089   \n",
              "6             0.978393           0.952857            0.978661   \n",
              "7             0.882143           0.875357            0.875536   \n",
              "8             0.814286           0.817143            0.810000   \n",
              "9             0.997411           0.952857            0.997321   \n",
              "10            0.931607           0.908571            0.927589   \n",
              "11            0.864018           0.856071            0.858304   \n",
              "\n",
              "    split4_test_score  split4_train_score  std_fit_time  std_score_time  \\\n",
              "0            0.830000            0.844018      0.036476        0.047152   \n",
              "1            0.676429            0.686429      0.186916        0.054003   \n",
              "2            0.232857            0.240625      0.260968        0.097644   \n",
              "3            0.911071            0.928125      0.022005        0.020297   \n",
              "4            0.805000            0.819464      0.024353        0.010922   \n",
              "5            0.677143            0.685446      0.216667        0.111240   \n",
              "6            0.949286            0.978571      0.088442        0.041193   \n",
              "7            0.863929            0.879464      0.047128        0.009356   \n",
              "8            0.800000            0.815357      0.014262        0.063285   \n",
              "9            0.953929            0.997232      0.022609        0.002775   \n",
              "10           0.900357            0.931696      0.040057        0.026058   \n",
              "11           0.843571            0.861607      0.019762        0.006161   \n",
              "\n",
              "    std_test_score  std_train_score  \n",
              "0         0.006221         0.001514  \n",
              "1         0.005622         0.003021  \n",
              "2         0.014490         0.011507  \n",
              "3         0.005654         0.000746  \n",
              "4         0.006227         0.001897  \n",
              "5         0.005788         0.002608  \n",
              "6         0.003742         0.000249  \n",
              "7         0.008074         0.002262  \n",
              "8         0.006140         0.001815  \n",
              "9         0.002183         0.000237  \n",
              "10        0.006197         0.001921  \n",
              "11        0.008717         0.002125  \n",
              "\n",
              "[12 rows x 22 columns]"
            ]
          },
          "metadata": {
            "tags": []
          },
          "execution_count": 17
        }
      ]
    },
    {
      "cell_type": "code",
      "metadata": {
        "id": "iUMAXmBlGFHe",
        "outputId": "71d37c63-e336-4dd5-a3a8-368e9ca11810"
      },
      "source": [
        "# converting C to numeric type for plotting on x-axis\n",
        "cv_results['param_C'] = cv_results['param_C'].astype('int')\n",
        "\n",
        "# # plotting\n",
        "plt.figure(figsize=(16,6))\n",
        "\n",
        "# subplot 1/3\n",
        "plt.subplot(131)\n",
        "gamma_01 = cv_results[cv_results['param_gamma']==0.01]\n",
        "\n",
        "plt.plot(gamma_01[\"param_C\"], gamma_01[\"mean_test_score\"])\n",
        "plt.plot(gamma_01[\"param_C\"], gamma_01[\"mean_train_score\"])\n",
        "plt.xlabel('C')\n",
        "plt.ylabel('Accuracy')\n",
        "plt.title(\"Gamma=0.01\")\n",
        "plt.ylim([0.60, 1])\n",
        "plt.legend(['test accuracy', 'train accuracy'], loc='upper left')\n",
        "plt.xscale('log')\n",
        "\n",
        "# subplot 2/3\n",
        "plt.subplot(132)\n",
        "gamma_001 = cv_results[cv_results['param_gamma']==0.001]\n",
        "\n",
        "plt.plot(gamma_001[\"param_C\"], gamma_001[\"mean_test_score\"])\n",
        "plt.plot(gamma_001[\"param_C\"], gamma_001[\"mean_train_score\"])\n",
        "plt.xlabel('C')\n",
        "plt.ylabel('Accuracy')\n",
        "plt.title(\"Gamma=0.001\")\n",
        "plt.ylim([0.60, 1])\n",
        "plt.legend(['test accuracy', 'train accuracy'], loc='upper left')\n",
        "plt.xscale('log')\n",
        "\n",
        "\n",
        "# subplot 3/3\n",
        "plt.subplot(133)\n",
        "gamma_0001 = cv_results[cv_results['param_gamma']==0.0001]\n",
        "\n",
        "plt.plot(gamma_0001[\"param_C\"], gamma_0001[\"mean_test_score\"])\n",
        "plt.plot(gamma_0001[\"param_C\"], gamma_0001[\"mean_train_score\"])\n",
        "plt.xlabel('C')\n",
        "plt.ylabel('Accuracy')\n",
        "plt.title(\"Gamma=0.0001\")\n",
        "plt.ylim([0.60, 1])\n",
        "plt.legend(['test accuracy', 'train accuracy'], loc='upper left')\n",
        "plt.xscale('log')\n"
      ],
      "execution_count": null,
      "outputs": [
        {
          "output_type": "display_data",
          "data": {
            "image/png": "[encoded data removed]",
            "text/plain": [
              "<Figure size 1152x432 with 3 Axes>"
            ]
          },
          "metadata": {
            "tags": []
          }
        }
      ]
    },
    {
      "cell_type": "markdown",
      "metadata": {
        "id": "LPs2R0iPGFHj"
      },
      "source": [
        "The plots above show some useful insights:\n",
        "- Non-linear models (high gamma) perform *much better* than the linear ones\n",
        "- At any value of gamma, a high value of C leads to better performance\n",
        "- None of the models tend to overfit (even the complex ones), since the training and test accuracies closely follow each other\n",
        "\n",
        "This suggests that the problem and the data is **inherently non-linear** in nature, and a complex model will outperform simple, linear models in this case."
      ]
    },
    {
      "cell_type": "markdown",
      "metadata": {
        "id": "vwGkBuUwGFHu"
      },
      "source": [
        "Let's now choose the best hyperparameters. "
      ]
    },
    {
      "cell_type": "code",
      "metadata": {
        "id": "Ij1dUtzaGFHw",
        "outputId": "59ba5a6d-3b33-49dd-cfca-69b1f546bd56"
      },
      "source": [
        "# printing the optimal accuracy score and hyperparameters\n",
        "best_score = model_cv.best_score_\n",
        "best_hyperparams = model_cv.best_params_\n",
        "\n",
        "print(\"The best test score is {0} corresponding to hyperparameters {1}\".format(best_score, best_hyperparams))"
      ],
      "execution_count": null,
      "outputs": [
        {
          "output_type": "stream",
          "text": [
            "The best test score is 0.9517142857142857 corresponding to hyperparameters {'C': 1000, 'gamma': 0.01}\n"
          ],
          "name": "stdout"
        }
      ]
    },
    {
      "cell_type": "markdown",
      "metadata": {
        "id": "BzdZnyKYGFHz"
      },
      "source": [
        "### Building and Evaluating the Final Model\n",
        "\n",
        "Let's now build and evaluate the final model, i.e. the model with highest test accuracy."
      ]
    },
    {
      "cell_type": "code",
      "metadata": {
        "id": "oadheyzdGFH1",
        "outputId": "964951c5-439f-4538-bfb9-f743bfaca197"
      },
      "source": [
        "# model with optimal hyperparameters\n",
        "\n",
        "# model\n",
        "model = SVC(C=1000, gamma=0.01, kernel=\"rbf\")\n",
        "\n",
        "model.fit(X_train, y_train)\n",
        "y_pred = model.predict(X_test)\n",
        "\n",
        "# metrics\n",
        "print(\"accuracy\", metrics.accuracy_score(y_test, y_pred), \"\\n\")\n",
        "print(metrics.confusion_matrix(y_test, y_pred), \"\\n\")\n",
        "\n"
      ],
      "execution_count": null,
      "outputs": [
        {
          "output_type": "stream",
          "text": [
            "accuracy 0.9596666666666667 \n",
            "\n",
            "[[206   0   0   0   0   0   0   0   0   0   0   1   0   0   0   0   0   0\n",
            "    0   0   0   0   0   0   2   0]\n",
            " [  0 211   0   2   1   0   1   0   0   0   0   0   0   0   0   0   0   1\n",
            "    2   0   0   0   0   0   0   0]\n",
            " [  0   0 220   0   3   0   4   1   0   0   0   0   0   0   2   0   0   0\n",
            "    0   0   0   0   0   0   0   0]\n",
            " [  0   3   0 236   0   1   0   1   0   1   0   0   0   2   2   0   0   1\n",
            "    1   0   0   0   0   0   0   0]\n",
            " [  0   0   1   0 225   1   4   0   0   0   0   0   0   0   0   0   0   0\n",
            "    1   0   0   0   0   0   0   2]\n",
            " [  0   0   0   1   0 217   0   0   1   1   0   0   0   1   0   3   0   0\n",
            "    0   0   0   1   0   0   0   0]\n",
            " [  0   0   2   3   1   0 209   0   0   0   0   0   1   0   1   0   0   0\n",
            "    0   0   0   1   1   0   0   0]\n",
            " [  0   1   3   5   0   0   2 195   1   1   2   1   1   0   1   0   3   1\n",
            "    0   0   0   0   0   0   0   0]\n",
            " [  0   0   0   1   0   1   0   0 203   8   0   0   0   0   0   0   1   0\n",
            "    0   0   0   0   0   1   0   0]\n",
            " [  0   0   0   0   0   0   0   0   7 209   0   0   0   1   0   0   0   1\n",
            "    0   0   2   0   0   0   0   0]\n",
            " [  0   1   0   0   2   0   0   5   0   0 228   0   0   0   0   0   0   5\n",
            "    0   0   0   0   0   4   0   0]\n",
            " [  0   0   0   0   0   0   1   1   0   0   0 232   0   0   0   1   0   1\n",
            "    0   1   0   0   0   0   0   0]\n",
            " [  0   0   0   0   0   0   0   0   0   0   0   0 230   2   0   0   0   0\n",
            "    0   0   0   0   2   0   0   0]\n",
            " [  0   3   0   1   0   0   0   0   0   0   0   0   1 244   0   0   0   1\n",
            "    0   0   0   0   1   0   0   0]\n",
            " [  0   0   2   0   0   0   2   0   0   1   0   0   2   0 210   0   1   1\n",
            "    0   0   1   0   1   0   0   0]\n",
            " [  0   0   0   0   1   8   0   1   1   0   0   0   0   0   0 252   1   0\n",
            "    0   0   0   0   0   0   1   0]\n",
            " [  0   0   0   0   3   0   1   0   0   0   0   0   0   0   2   1 226   0\n",
            "    0   0   0   0   0   0   0   2]\n",
            " [  0   8   0   1   0   0   1   3   0   0   3   0   0   3   0   0   0 224\n",
            "    0   0   0   0   0   0   0   0]\n",
            " [  0   1   0   0   1   2   1   0   0   0   0   0   0   0   0   0   0   0\n",
            "  223   0   0   0   0   0   0   0]\n",
            " [  0   0   0   1   0   0   0   1   0   0   0   0   0   0   0   1   0   0\n",
            "    0 235   0   0   0   1   0   0]\n",
            " [  2   0   0   0   0   0   1   2   0   0   0   0   0   2   0   0   0   0\n",
            "    0   0 217   0   0   0   0   0]\n",
            " [  0   4   0   0   0   0   0   0   0   0   0   0   1   0   0   1   0   0\n",
            "    0   0   0 203   1   0   1   0]\n",
            " [  0   0   0   0   0   0   1   0   0   0   0   0   0   0   0   1   0   0\n",
            "    0   0   0   0 220   0   0   0]\n",
            " [  0   1   0   3   2   0   0   0   0   0   3   1   0   0   0   0   0   1\n",
            "    0   0   0   0   0 232   1   0]\n",
            " [  1   0   0   0   0   0   0   0   0   1   0   0   0   0   0   0   0   0\n",
            "    1   0   1   2   1   0 230   0]\n",
            " [  0   0   0   0   2   1   0   0   0   0   0   0   0   0   0   0   3   0\n",
            "    1   1   0   0   0   0   0 221]] \n",
            "\n"
          ],
          "name": "stdout"
        }
      ]
    },
    {
      "cell_type": "markdown",
      "metadata": {
        "id": "kXjYP7oMGFH4"
      },
      "source": [
        "## Conclusion\n",
        "\n",
        "The accuracy achieved using a non-linear kernel (~0.95) is mush higher than that of a linear one (~0.85). We can conclude that the problem is highly non-linear in nature."
      ]
    }
  ]
}