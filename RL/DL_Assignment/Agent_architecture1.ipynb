{
  "nbformat": 4,
  "nbformat_minor": 0,
  "metadata": {
    "colab": {
      "name": "Agent_architecture1.ipynb",
      "provenance": [],
      "collapsed_sections": []
    },
    "kernelspec": {
      "name": "python3",
      "display_name": "Python 3"
    },
    "language_info": {
      "name": "python"
    }
  },
  "cells": [
    {
      "cell_type": "markdown",
      "metadata": {
        "id": "Y68FDri6fObM"
      },
      "source": [
        "# Problem Statement\n",
        "SuperCabs is a leading app-based cab provider in a large Indian metro city. The goal of our project is to build an RL-based algorithm which can help cab drivers maximise their profits by improving their decision-making process on the field. Thus, it is important that drivers choose the 'right' rides, i.e. choose the rides which are likely to maximise the total profit earned by the driver that day. \n",
        "\n",
        "## Assumptions:\n",
        " 1. Taxis are electric cars. It can run non stop for 30 days (i.e. 720 hours). Then it needs to recharge itself.If the driver is completeing a trip at that time , he'll finish the trip and then stop for charging. Therefore, there is one and only ** Terminal state** that defines an **episode** at end of 720 hr ride (or after the last drive crossing 720th hour).\n",
        " 2. There are only five locations where a driver can pick-up or drop \n",
        " 3. All decisisons are made at hourly intervals\n",
        " 4. The time taken to travel from one place to other place depends on place (pick up/ drop), hour of the day and day of the week. The travel duration is given through **TM.npy** file.\n",
        "\n",
        " ## Important definitions\n",
        " ### State\n",
        " The state space is defined by the drivers current location along with the time components\n",
        " $$ S = X_{i} T_{j} D_{k} $$ \n",
        " Xi = i th location $i= 0, 1 ,2 ,3, 4$ <br>\n",
        " Tj = j th hour of the day $j= 0, 1, 2, ...., 22, 23$ <br>\n",
        " Dk = kth day $k= 0, 1, 2, 3, ...., 29$<br>\n",
        "\n",
        " ### Action\n",
        " Action is a combination of pick up and drop\n",
        " $$ A = { (p,q): p= 0,1,2,..,4 \\ and \\ q=0,1,...,4 , \\ p \\neq q } $$\n",
        " However (0,0) is always an option to driver to rmail offline , i.e. take no request. <br>\n",
        "\n",
        " ### Requests\n",
        " The number of request received from a location follows a Poisson distribution: <br>\n",
        "\n",
        "\n",
        " |Location|λ|\n",
        " |---|---|\n",
        " |0|2|\n",
        " |1|12|\n",
        " |2|4|\n",
        " |3|7|\n",
        " |4|3|\n",
        "\n",
        " If the number of requests > 15 , then only first 15 requests are considered.\n",
        " If the number of requests is 0 , then driver stays offline (0,0).\n",
        " \n",
        "\n",
        "    \n",
        "\n",
        "\n"
      ]
    },
    {
      "cell_type": "markdown",
      "metadata": {
        "id": "FOLIN_lrlGti"
      },
      "source": [
        "# Deep RL\n",
        "Statrt of deep re-inforcement learning code.\n",
        "\n",
        "## Import necessary libraries for this notebook"
      ]
    },
    {
      "cell_type": "code",
      "metadata": {
        "id": "7E2TOqtFlWDi"
      },
      "source": [
        "# Import Libraries\n",
        "import numpy as np\n",
        "import random\n",
        "import math\n",
        "import time\n",
        "\n",
        "# Library to store experiences from environment agent interaction\n",
        "from collections import deque\n",
        "# Save model\n",
        "import pickle\n",
        "\n",
        "#Libraries for DQN\n",
        "import keras\n",
        "from keras import layers, Sequential\n",
        "from keras.layers import Dense, Activation, Flatten\n",
        "from tensorflow.keras.optimizers import Adam\n",
        "\n",
        "\n",
        "from keras import backend as K\n",
        "import tensorflow.compat.v1 as tf\n",
        "\n",
        "\n",
        "\n",
        "# Plot\n",
        "import matplotlib.pyplot as plt\n",
        "\n",
        "# import the MDP environment\n",
        "from Env import CabDriver\n",
        "\n",
        "env= CabDriver()"
      ],
      "execution_count": 1,
      "outputs": []
    },
    {
      "cell_type": "markdown",
      "metadata": {
        "id": "iAM_2mK-6mf8"
      },
      "source": [
        "Important step to accelerate run time"
      ]
    },
    {
      "cell_type": "code",
      "metadata": {
        "colab": {
          "base_uri": "https://localhost:8080/"
        },
        "id": "mVqUp2fVsrfR",
        "outputId": "630083b6-4cab-4168-d283-906da0b55c87"
      },
      "source": [
        "tf.disable_v2_behavior()\n",
        "jobs = 8 # Play around with this number\n",
        "config = tf.ConfigProto(intra_op_parallelism_threads=jobs,\n",
        "                         inter_op_parallelism_threads=jobs,\n",
        "                         allow_soft_placement=True,\n",
        "                         device_count={'CPU': jobs})\n",
        "session = tf.Session(config=config)\n",
        "K.set_session(session)"
      ],
      "execution_count": 2,
      "outputs": [
        {
          "output_type": "stream",
          "name": "stdout",
          "text": [
            "WARNING:tensorflow:From /usr/local/lib/python3.7/dist-packages/tensorflow/python/compat/v2_compat.py:111: disable_resource_variables (from tensorflow.python.ops.variable_scope) is deprecated and will be removed in a future version.\n",
            "Instructions for updating:\n",
            "non-resource variables are not supported in the long term\n"
          ]
        }
      ]
    },
    {
      "cell_type": "code",
      "metadata": {
        "id": "jamAQWT-k7bo"
      },
      "source": [
        "# Load time matrix\n",
        "TM= np.load('TM.npy')"
      ],
      "execution_count": 3,
      "outputs": []
    },
    {
      "cell_type": "markdown",
      "metadata": {
        "id": "a5zCu6vpkjmk"
      },
      "source": [
        "## Time Matrix\n",
        "\n",
        "Time to travel from location p to q depends on time of the day and day of the week. This data is provided as **TM.npy** file. We assume Sunday is day 0."
      ]
    },
    {
      "cell_type": "code",
      "metadata": {
        "colab": {
          "base_uri": "https://localhost:8080/"
        },
        "id": "eTq8bo4Tl4vj",
        "outputId": "9a1772d8-8726-4108-864a-96fee57b3d49"
      },
      "source": [
        "print(\"Time required to travel from location 2 to location 1 at 5 am on Monday: \", TM[1][0][4][1])"
      ],
      "execution_count": 4,
      "outputs": [
        {
          "output_type": "stream",
          "name": "stdout",
          "text": [
            "Time required to travel from location 2 to location 1 at 5 am on Monday:  3.0\n"
          ]
        }
      ]
    },
    {
      "cell_type": "code",
      "metadata": {
        "colab": {
          "base_uri": "https://localhost:8080/"
        },
        "id": "ptsz9EpHmlEz",
        "outputId": "3fc95e5e-99c1-412a-d92c-fd3766593800"
      },
      "source": [
        "# Sanity check\n",
        "print(\"What is trip time if we stay on the same location: \", TM[1][1][0][1])"
      ],
      "execution_count": 5,
      "outputs": [
        {
          "output_type": "stream",
          "name": "stdout",
          "text": [
            "What is trip time if we stay on the same location:  0.0\n"
          ]
        }
      ]
    },
    {
      "cell_type": "code",
      "metadata": {
        "colab": {
          "base_uri": "https://localhost:8080/"
        },
        "id": "M5cYRL4mrDcL",
        "outputId": "0e0da183-a171-460b-d940-accb1bd480c1"
      },
      "source": [
        "print(type(TM))\n",
        "print(\"Maximum transit time: \",TM.max())\n",
        "print(\"Minimum transit time: \", TM.min())\n",
        "print(\"Average transit time: \",TM.mean())\n",
        "print(\"Varince of transit time: \",TM.var())"
      ],
      "execution_count": 6,
      "outputs": [
        {
          "output_type": "stream",
          "name": "stdout",
          "text": [
            "<class 'numpy.ndarray'>\n",
            "Maximum transit time:  11.0\n",
            "Minimum transit time:  0.0\n",
            "Average transit time:  3.0542857142857143\n",
            "Varince of transit time:  7.93705306122449\n"
          ]
        }
      ]
    },
    {
      "cell_type": "markdown",
      "metadata": {
        "id": "IzdzedTHm_zS"
      },
      "source": [
        "# Checking environment\n",
        "A MDP environment is created separately and it is provided as **env.py** file in the source. <br>\n",
        "**Parameters** <br>\n",
        "Number of location: 5 <br>\n",
        "Total hours in a day: 24 <br>\n",
        "Number of days in a week: 7 <br>\n",
        "Fuel cost per hour: 5 unit <br>\n",
        "Revenue from a passenger per hour: 9 unit"
      ]
    },
    {
      "cell_type": "code",
      "metadata": {
        "colab": {
          "base_uri": "https://localhost:8080/"
        },
        "id": "gFCUoNvZn0gv",
        "outputId": "5310a2f9-cb7d-4513-9b93-d1cff31f267b"
      },
      "source": [
        "print(\"Total number of actions possible: \", len(env.action_space))\n",
        "print(\"Total number of states possible: \", len(env.state_space))"
      ],
      "execution_count": 7,
      "outputs": [
        {
          "output_type": "stream",
          "name": "stdout",
          "text": [
            "Total number of actions possible:  21\n",
            "Total number of states possible:  840\n"
          ]
        }
      ]
    },
    {
      "cell_type": "code",
      "metadata": {
        "colab": {
          "base_uri": "https://localhost:8080/"
        },
        "id": "TSsqpMLQoN2C",
        "outputId": "02794bcf-a5f2-42b4-ff8b-bb356bf906ac"
      },
      "source": [
        "# State encoding for architecture 1\n",
        "print(\"Encodes state (1,4,1), i.e. location 2, 5 am, Monday: \",env.state_encod_arch1(state=[1,4,1]))"
      ],
      "execution_count": 8,
      "outputs": [
        {
          "output_type": "stream",
          "name": "stdout",
          "text": [
            "Encodes state (1,4,1), i.e. location 2, 5 am, Monday:  [0, 1, 0, 0, 0, 0, 0, 0, 0, 1, 0, 0, 0, 0, 0, 0, 0, 0, 0, 0, 0, 0, 0, 0, 0, 0, 0, 0, 0, 0, 1, 0, 0, 0, 0, 0]\n"
          ]
        }
      ]
    },
    {
      "cell_type": "code",
      "metadata": {
        "colab": {
          "base_uri": "https://localhost:8080/"
        },
        "id": "GTBU9SGppk46",
        "outputId": "056964b1-82e5-44de-9fcf-01d4b646f4ce"
      },
      "source": [
        "print(\"Requests received from state (1,4,1): [Index of possible actions from action space, actions] \\n\", env.requests([1,4,1]))"
      ],
      "execution_count": 9,
      "outputs": [
        {
          "output_type": "stream",
          "name": "stdout",
          "text": [
            "Requests received from state (1,4,1): [Index of possible actions from action space, actions] \n",
            " ([10, 2, 19, 15, 1, 17, 14, 4, 9, 18, 6, 0], [[2, 1], [0, 2], [4, 2], [3, 2], [0, 1], [4, 0], [3, 1], [0, 4], [2, 0], [4, 1], [1, 2], [0, 0]])\n"
          ]
        }
      ]
    },
    {
      "cell_type": "code",
      "metadata": {
        "colab": {
          "base_uri": "https://localhost:8080/"
        },
        "id": "t37liSe3qTda",
        "outputId": "e02b8728-84bf-4932-f4b0-f8d2e19fb812"
      },
      "source": [
        "print(\"Next state after the trip from current state (1,4,1) after completing the action/ trip [2,1]: (next state, wait_time, transit_time, ride time) \\n\", env.next_state_func([1,4,1], [2,1], TM))"
      ],
      "execution_count": 10,
      "outputs": [
        {
          "output_type": "stream",
          "name": "stdout",
          "text": [
            "Next state after the trip from current state (1,4,1) after completing the action/ trip [2,1]: (next state, wait_time, transit_time, ride time) \n",
            " ([1, 19, 1], 0, 6.0, 9.0)\n"
          ]
        }
      ]
    },
    {
      "cell_type": "code",
      "metadata": {
        "colab": {
          "base_uri": "https://localhost:8080/"
        },
        "id": "hwq81z2Hrv4B",
        "outputId": "2c1c0fb0-d543-4b20-8f23-50e3573f4284"
      },
      "source": [
        "print(\"Reward of the trip: \", env.reward_func([1,4,1], [2,1], TM))"
      ],
      "execution_count": 11,
      "outputs": [
        {
          "output_type": "stream",
          "name": "stdout",
          "text": [
            "Reward of the trip:  6.0\n"
          ]
        }
      ]
    },
    {
      "cell_type": "code",
      "metadata": {
        "colab": {
          "base_uri": "https://localhost:8080/"
        },
        "id": "9XocIjeGsNAZ",
        "outputId": "20d48893-48cf-4c7f-aa5d-5985ecad58dc"
      },
      "source": [
        "print(\"Rewards earned, next state , total trip duration \", env.step([1,4,1], [2,1], TM))"
      ],
      "execution_count": 12,
      "outputs": [
        {
          "output_type": "stream",
          "name": "stdout",
          "text": [
            "Rewards earned, next staep , total trip duration  (6.0, [1, 19, 1], 15.0)\n"
          ]
        }
      ]
    },
    {
      "cell_type": "markdown",
      "metadata": {
        "id": "hOyn2pg5s6sp"
      },
      "source": [
        "## Agent interaction to environment - Deep Q net and Q learning\n",
        "\n",
        "1. Input to agent class: State and Action Size <br>\n",
        "2. Hyperparameters: discount factor, learning rate , epsilon decay rate, batch size <br>\n",
        "3. Create a neural-network model in function 'build_model()'\n",
        "4. Define epsilon-greedy strategy in function 'get_action()'\n",
        "5. Complete the function 'append_sample()'. This function appends the recent experience tuple <state, action, reward, new-state> to the memory\n",
        "6. Complete the 'train_model()' function with following logic:\n",
        "If the memory size is greater than mini-batch size, you randomly sample experiences from memory as per the mini-batch size and do the following:\n",
        "7. Initialise your input and output batch for training the model\n",
        "8. Calculate the target Q value for each sample: reward + gamma*max(Q(s'a,))\n",
        "Get Q(s', a) values from the last trained model\n",
        "9. Update the input batch as your encoded state and output batch as your Q-values. Then fit your DQN model using the updated input and output batch."
      ]
    },
    {
      "cell_type": "code",
      "metadata": {
        "id": "GfY9Ueexai6W"
      },
      "source": [
        "# Build DQN and perform Q learning\n",
        "\n",
        "class DQNAgent:\n",
        "  def __init__(self, state_size, action_size):\n",
        "    # Define size of state and action\n",
        "    self.state_size = state_size\n",
        "    self.action_size = action_size\n",
        "\n",
        "    # Specify hyperparameters for  for DQN\n",
        "    self.discount_factor = 0.95\n",
        "    self.learning_rate = 0.01\n",
        "    self.epsilon_max = 1.0\n",
        "    self.epsilon_decay = -0.0006\n",
        "    self.epsilon_min = 0.0001\n",
        "    self.epsilon = 0 \n",
        "    self.batch_size = 32\n",
        "    # State to track [2,3,4]\n",
        "    self.track_state= np.array(env.state_encod_arch1([2,3,4])).reshape(1, self.state_size)\n",
        "\n",
        "    self.store_states_tracked = []\n",
        "\n",
        "    # Replay buffer\n",
        "    self.memory = deque(maxlen=2000)\n",
        "\n",
        "    # DQN network\n",
        "    self.model = self.build_model()\n",
        "\n",
        "  # Approximate Q function using network\n",
        "\n",
        "  def build_model(self):\n",
        "    model =  Sequential()\n",
        "    model.add(Dense(32, activation='relu', input_dim= self.state_size, kernel_initializer='he_uniform'))\n",
        "    model.add(Dense(32, activation='relu',kernel_initializer='he_uniform'))\n",
        "    model.add(Dense(self.action_size, activation='relu',kernel_initializer='he_uniform'))\n",
        "    model.compile(loss='mse', optimizer= Adam(lr=self.learning_rate))\n",
        "    model.summary\n",
        "    return model\n",
        "\n",
        "  # Epsilon greedy action\n",
        "  def get_action(self, state):\n",
        "    z= np.random.rand()\n",
        "    # Actions from the state\n",
        "    possible_actions_index, action = env.requests(state)\n",
        "    if z > self.epsilon:\n",
        "      # best action\n",
        "      state_encoded = np.array(env.state_encod_arch1(state)).reshape(1, self.state_size)\n",
        "      #q-value for all actions\n",
        "      q_value = self.model.predict(state_encoded)\n",
        "      \n",
        "      q_value_possible_actions= [q_value[0][i] for i in possible_actions_index]\n",
        "      # best possible action\n",
        "      agent_action_id= possible_actions_index[np.argmax(q_value_possible_actions)]\n",
        "      #agent_action= env.action_space[best_action_index]\n",
        "\n",
        "\n",
        "    else:\n",
        "      agent_action_id = random.choice(possible_actions_index)\n",
        "\n",
        "    return agent_action_id\n",
        "\n",
        "  # Add experience to memory\n",
        "  def append_sample(self, state, action, reward, next_state, done):\n",
        "    self.memory.append((state, action, reward, next_state, done))\n",
        "\n",
        "  # Train the model\n",
        "  def train_model(self):\n",
        "    # Start training if memory size is higher than batch size\n",
        "    if len(self.memory) > self.batch_size:\n",
        "      # Draw a random sample of to generate mini_batch\n",
        "      mini_batch = random.sample(self.memory, self.batch_size)\n",
        "      #Initialize input  and target \n",
        "      update_input = np.zeros(shape=(self.batch_size, self.state_size))\n",
        "      update_target = np.zeros(shape=(self.batch_size, self.state_size))\n",
        "      #Initialize actions , rewards and terminal state status\n",
        "      actions, rewards, done =[], [], []\n",
        "\n",
        "      #Load experiences from memory\n",
        "      for i in range(self.batch_size):\n",
        "       \n",
        "        update_input[i] = env.state_encod_arch1(mini_batch[i][0])\n",
        "        actions.append(mini_batch[i][1])\n",
        "        rewards.append(mini_batch[i][2])\n",
        "        update_target[i]= env.state_encod_arch1(mini_batch[i][3])\n",
        "        done.append(mini_batch[i][4])\n",
        "      \n",
        "      # Predict the q_value from state s\n",
        "      target = self.model.predict(update_input)\n",
        "      # target for next state\n",
        "      target_qval = self.model.predict(update_target)\n",
        "\n",
        "      # Update q_values using Q learning:\n",
        "      for i in range(self.batch_size):\n",
        "        if done[i]: #terminal state\n",
        "          target[i][actions[i]]= rewards[i]\n",
        "        else:\n",
        "          target[i][actions[i]]= rewards[i] + self.discount_factor * np.max(target_qval[i])\n",
        "      # Update the model\n",
        "      self.model.fit(update_input, target, batch_size= self.batch_size, epochs=1, verbose=0)\n",
        "\n",
        "  def save_tracked_states(self):\n",
        "    q_value= self.model.predict(self.track_state)\n",
        "    # 3 rd action from action space i.e action 0,2\n",
        "    self.store_states_tracked.append(q_value[0][2])\n",
        "\n",
        "  def save_model(self, name):\n",
        "    self.model.save_weights(name)\n",
        "      \n",
        "\n"
      ],
      "execution_count": 13,
      "outputs": []
    },
    {
      "cell_type": "markdown",
      "metadata": {
        "id": "y2ZDQM0g2owM"
      },
      "source": [
        "## Start training\n",
        "for episode in range(Episodes):\n",
        "\n",
        "while not in terminal_state:\n",
        "\n",
        "1. Pick epsilon-greedy action from possible actions for the current state\n",
        "2. Evaluate your reward and next state\n",
        "3. Append the experience to the memory\n",
        "4. Train the model by calling function agent.train_model\n",
        "5. Keep a track of rewards, Q-values"
      ]
    },
    {
      "cell_type": "code",
      "metadata": {
        "colab": {
          "base_uri": "https://localhost:8080/"
        },
        "id": "t5IYKsppdOBt",
        "outputId": "a5f24a04-d195-445c-ddea-9ff4d689d96d"
      },
      "source": [
        "# Declare storage spaces and parameters\n",
        "#action_space, state_space, state = env.reset()\n",
        "\n",
        "# Set up state and action sizes.\n",
        "state_size = 36 # No. of place + no. of hours + no. of days\n",
        "action_size = len(env.action_space)\n",
        "\n",
        "# Invoke agent class\n",
        "agent = DQNAgent(action_size=action_size, state_size=state_size)\n",
        "\n",
        "# Number of episodes \n",
        "n_episodes = 10000\n",
        "# Time to terminal state\n",
        "time_to_terminal = 24*30\n",
        "\n",
        "# Store episode wise rewards episodes\n",
        "epoisode_wise_rewards, episode_count = [], []\n"
      ],
      "execution_count": 14,
      "outputs": [
        {
          "output_type": "stream",
          "name": "stderr",
          "text": [
            "/usr/local/lib/python3.7/dist-packages/keras/optimizer_v2/adam.py:105: UserWarning: The `lr` argument is deprecated, use `learning_rate` instead.\n",
            "  super(Adam, self).__init__(name, **kwargs)\n"
          ]
        }
      ]
    },
    {
      "cell_type": "code",
      "metadata": {
        "colab": {
          "base_uri": "https://localhost:8080/"
        },
        "id": "h_ETAXjx5gUE",
        "outputId": "8795fcf9-9100-44cd-f8be-12afcbf2ee37"
      },
      "source": [
        "start_time = time.time()\n",
        "\n",
        "for ep in range(n_episodes):\n",
        "\n",
        "  done = False\n",
        "  ep_reward= 0 # reward of an episode\n",
        "  total_time= 0\n",
        "\n",
        "  # reset at the start of each episode\n",
        "  env = CabDriver()\n",
        "  action_space, state_space, state = env.reset()\n",
        "\n",
        "  while not done:\n",
        "    # find epsilon greedy action by agent\n",
        "    agent_action= agent.get_action(state)\n",
        "\n",
        "    # Evaluate reward, next_state and trip_time\n",
        "    reward_received, next_state, trip_duration = env.step(state, env.action_space[agent_action], TM)\n",
        "\n",
        "    total_time += trip_duration\n",
        "\n",
        "    if total_time > time_to_terminal :\n",
        "      # Terminal state\n",
        "      done = True\n",
        "    else:\n",
        "      # Add the new learning to the experience\n",
        "      agent.append_sample(state, agent_action, reward_received, next_state, done)\n",
        "      # train model\n",
        "      agent.train_model()\n",
        "\n",
        "      # Track reward\n",
        "      ep_reward += reward_received\n",
        "      #Update state\n",
        "      state = next_state\n",
        "\n",
        "  # Calculate total reward in an episode and store\n",
        "  epoisode_wise_rewards.append(ep_reward)\n",
        "  #Episode\n",
        "  episode_count.append(ep)\n",
        "\n",
        "  # Update epsilon\n",
        "  agent.epsilon = (agent.epsilon_max - agent.epsilon_min) * np.exp(agent.epsilon_decay * ep)\n",
        "\n",
        "  # Print result after every 50 episodes\n",
        "  if (ep+1) % 50 ==0:\n",
        "    print(\"At {0}th episode the total reward earned is {1}. Time taken to complete this episode is {2} and the length of memory is {3}, epsioln value is {4} \".format(ep+1, \n",
        "                                                                                                                                                                      ep_reward, \n",
        "                                                                                                                                                                      total_time,\n",
        "                                                                                                                                                                      len(agent.memory),\n",
        "                                                                                                                                                                      agent.epsilon))\n",
        "    \n",
        "  # Save the Q_value of the state, action pair we are tracking for every 5 th episode\n",
        "  if (ep + 1) % 10 == 0:\n",
        "    agent.save_tracked_states()\n",
        "\n",
        "\n",
        "  if (ep +1) % 2000 == 0:\n",
        "    print(\"Saving Model {}\".format(ep+1))\n",
        "    agent.save_model(name=\"model_weights.pkl\")\n",
        "    \n",
        "elapsed_time = time.time() - start_time\n",
        "print(elapsed_time)                                                                                                                                                                  "
      ],
      "execution_count": 15,
      "outputs": [
        {
          "output_type": "stream",
          "name": "stderr",
          "text": [
            "/usr/local/lib/python3.7/dist-packages/keras/engine/training_v1.py:2079: UserWarning: `Model.state_updates` will be removed in a future version. This property should not be used in TensorFlow 2.0, as `updates` are applied automatically.\n",
            "  updates=self.state_updates,\n"
          ]
        },
        {
          "output_type": "stream",
          "name": "stdout",
          "text": [
            "At 50th episode the total reward earned is -177.0. Time taken to complete this episode is 728.0 and the length of memory is 2000, epsioln value is 0.9709308727862163 \n",
            "At 100th episode the total reward earned is -162.0. Time taken to complete this episode is 725.0 and the length of memory is 2000, epsioln value is 0.9422355288797383 \n",
            "At 150th episode the total reward earned is -66.0. Time taken to complete this episode is 725.0 and the length of memory is 2000, epsioln value is 0.9143882605520585 \n",
            "At 200th episode the total reward earned is 90.0. Time taken to complete this episode is 731.0 and the length of memory is 2000, epsioln value is 0.8873640033819347 \n",
            "At 250th episode the total reward earned is 45.0. Time taken to complete this episode is 727.0 and the length of memory is 2000, epsioln value is 0.8611384337137219 \n",
            "At 300th episode the total reward earned is 138.0. Time taken to complete this episode is 721.0 and the length of memory is 2000, epsioln value is 0.8356879467644394 \n",
            "At 350th episode the total reward earned is 82.0. Time taken to complete this episode is 721.0 and the length of memory is 2000, epsioln value is 0.8109896353778737 \n",
            "At 400th episode the total reward earned is 360.0. Time taken to complete this episode is 733.0 and the length of memory is 2000, epsioln value is 0.7870212694065908 \n",
            "At 450th episode the total reward earned is 371.0. Time taken to complete this episode is 729.0 and the length of memory is 2000, epsioln value is 0.7637612757033032 \n",
            "At 500th episode the total reward earned is 87.0. Time taken to complete this episode is 723.0 and the length of memory is 2000, epsioln value is 0.7411887187035813 \n",
            "At 550th episode the total reward earned is 199.0. Time taken to complete this episode is 727.0 and the length of memory is 2000, epsioln value is 0.7192832815824322 \n",
            "At 600th episode the total reward earned is 263.0. Time taken to complete this episode is 721.0 and the length of memory is 2000, epsioln value is 0.6980252479677852 \n",
            "At 650th episode the total reward earned is 306.0. Time taken to complete this episode is 721.0 and the length of memory is 2000, epsioln value is 0.677395484194427 \n",
            "At 700th episode the total reward earned is 108.0. Time taken to complete this episode is 724.0 and the length of memory is 2000, epsioln value is 0.6573754220824108 \n",
            "At 750th episode the total reward earned is 261.0. Time taken to complete this episode is 722.0 and the length of memory is 2000, epsioln value is 0.6379470422244409 \n",
            "At 800th episode the total reward earned is 291.0. Time taken to complete this episode is 725.0 and the length of memory is 2000, epsioln value is 0.6190928577671901 \n",
            "At 850th episode the total reward earned is 389.0. Time taken to complete this episode is 728.0 and the length of memory is 2000, epsioln value is 0.6007958986719515 \n",
            "At 900th episode the total reward earned is 225.0. Time taken to complete this episode is 728.0 and the length of memory is 2000, epsioln value is 0.5830396964404574 \n",
            "At 950th episode the total reward earned is 513.0. Time taken to complete this episode is 724.0 and the length of memory is 2000, epsioln value is 0.5658082692921201 \n",
            "At 1000th episode the total reward earned is 277.0. Time taken to complete this episode is 721.0 and the length of memory is 2000, epsioln value is 0.5490861077793494 \n",
            "At 1050th episode the total reward earned is 527.0. Time taken to complete this episode is 728.0 and the length of memory is 2000, epsioln value is 0.5328581608280043 \n",
            "At 1100th episode the total reward earned is 401.0. Time taken to complete this episode is 732.0 and the length of memory is 2000, epsioln value is 0.5171098221904096 \n",
            "At 1150th episode the total reward earned is 745.0. Time taken to complete this episode is 729.0 and the length of memory is 2000, epsioln value is 0.5018269172987462 \n",
            "At 1200th episode the total reward earned is 410.0. Time taken to complete this episode is 722.0 and the length of memory is 2000, epsioln value is 0.4869956905069848 \n",
            "At 1250th episode the total reward earned is 347.0. Time taken to complete this episode is 727.0 and the length of memory is 2000, epsioln value is 0.472602792709875 \n",
            "At 1300th episode the total reward earned is 741.0. Time taken to complete this episode is 721.0 and the length of memory is 2000, epsioln value is 0.4586352693278497 \n",
            "At 1350th episode the total reward earned is 372.0. Time taken to complete this episode is 722.0 and the length of memory is 2000, epsioln value is 0.44508054864702884 \n",
            "At 1400th episode the total reward earned is 716.0. Time taken to complete this episode is 723.0 and the length of memory is 2000, epsioln value is 0.4319264305038287 \n",
            "At 1450th episode the total reward earned is 834.0. Time taken to complete this episode is 725.0 and the length of memory is 2000, epsioln value is 0.4191610753039906 \n",
            "At 1500th episode the total reward earned is 558.0. Time taken to complete this episode is 729.0 and the length of memory is 2000, epsioln value is 0.4067729933661476 \n",
            "At 1550th episode the total reward earned is 1074.0. Time taken to complete this episode is 724.0 and the length of memory is 2000, epsioln value is 0.3947510345803349 \n",
            "At 1600th episode the total reward earned is 318.0. Time taken to complete this episode is 721.0 and the length of memory is 2000, epsioln value is 0.3830843783721387 \n",
            "At 1650th episode the total reward earned is 823.0. Time taken to complete this episode is 722.0 and the length of memory is 2000, epsioln value is 0.3717625239634487 \n",
            "At 1700th episode the total reward earned is 585.0. Time taken to complete this episode is 725.0 and the length of memory is 2000, epsioln value is 0.36077528092104905 \n",
            "At 1750th episode the total reward earned is 867.0. Time taken to complete this episode is 729.0 and the length of memory is 2000, epsioln value is 0.3501127599845404 \n",
            "At 1800th episode the total reward earned is 792.0. Time taken to complete this episode is 722.0 and the length of memory is 2000, epsioln value is 0.3397653641653381 \n",
            "At 1850th episode the total reward earned is 657.0. Time taken to complete this episode is 730.0 and the length of memory is 2000, epsioln value is 0.32972378010873465 \n",
            "At 1900th episode the total reward earned is 855.0. Time taken to complete this episode is 728.0 and the length of memory is 2000, epsioln value is 0.31997896971125195 \n",
            "At 1950th episode the total reward earned is 1153.0. Time taken to complete this episode is 728.0 and the length of memory is 2000, epsioln value is 0.31052216198573784 \n",
            "At 2000th episode the total reward earned is 1019.0. Time taken to complete this episode is 731.0 and the length of memory is 2000, epsioln value is 0.3013448451668857 \n",
            "Saving Model 2000\n",
            "At 2050th episode the total reward earned is 824.0. Time taken to complete this episode is 721.0 and the length of memory is 2000, epsioln value is 0.292438759050071 \n",
            "At 2100th episode the total reward earned is 875.0. Time taken to complete this episode is 722.0 and the length of memory is 2000, epsioln value is 0.2837958875566097 \n",
            "At 2150th episode the total reward earned is 668.0. Time taken to complete this episode is 726.0 and the length of memory is 2000, epsioln value is 0.27540845151874654 \n",
            "At 2200th episode the total reward earned is 968.0. Time taken to complete this episode is 730.0 and the length of memory is 2000, epsioln value is 0.2672689016778785 \n",
            "At 2250th episode the total reward earned is 1094.0. Time taken to complete this episode is 721.0 and the length of memory is 2000, epsioln value is 0.2593699118897126 \n",
            "At 2300th episode the total reward earned is 931.0. Time taken to complete this episode is 725.0 and the length of memory is 2000, epsioln value is 0.25170437253024164 \n",
            "At 2350th episode the total reward earned is 1076.0. Time taken to complete this episode is 721.0 and the length of memory is 2000, epsioln value is 0.2442653840966028 \n",
            "At 2400th episode the total reward earned is 759.0. Time taken to complete this episode is 723.0 and the length of memory is 2000, epsioln value is 0.23704625099705903 \n",
            "At 2450th episode the total reward earned is 861.0. Time taken to complete this episode is 726.0 and the length of memory is 2000, epsioln value is 0.23004047552451454 \n",
            "At 2500th episode the total reward earned is 999.0. Time taken to complete this episode is 731.0 and the length of memory is 2000, epsioln value is 0.22324175200814006 \n",
            "At 2550th episode the total reward earned is 1033.0. Time taken to complete this episode is 721.0 and the length of memory is 2000, epsioln value is 0.2166439611378432 \n",
            "At 2600th episode the total reward earned is 963.0. Time taken to complete this episode is 721.0 and the length of memory is 2000, epsioln value is 0.2102411644564765 \n",
            "At 2650th episode the total reward earned is 1278.0. Time taken to complete this episode is 731.0 and the length of memory is 2000, epsioln value is 0.204027599014825 \n",
            "At 2700th episode the total reward earned is 1173.0. Time taken to complete this episode is 724.0 and the length of memory is 2000, epsioln value is 0.19799767218456293 \n",
            "At 2750th episode the total reward earned is 1091.0. Time taken to complete this episode is 729.0 and the length of memory is 2000, epsioln value is 0.1921459566245108 \n",
            "At 2800th episode the total reward earned is 1389.0. Time taken to complete this episode is 725.0 and the length of memory is 2000, epsioln value is 0.18646718539566193 \n",
            "At 2850th episode the total reward earned is 1154.0. Time taken to complete this episode is 722.0 and the length of memory is 2000, epsioln value is 0.1809562472205817 \n",
            "At 2900th episode the total reward earned is 1026.0. Time taken to complete this episode is 729.0 and the length of memory is 2000, epsioln value is 0.17560818188291316 \n",
            "At 2950th episode the total reward earned is 1373.0. Time taken to complete this episode is 726.0 and the length of memory is 2000, epsioln value is 0.17041817576284712 \n",
            "At 3000th episode the total reward earned is 1270.0. Time taken to complete this episode is 726.0 and the length of memory is 2000, epsioln value is 0.16538155750453962 \n",
            "At 3050th episode the total reward earned is 602.0. Time taken to complete this episode is 722.0 and the length of memory is 2000, epsioln value is 0.16049379381157625 \n",
            "At 3100th episode the total reward earned is 1055.0. Time taken to complete this episode is 723.0 and the length of memory is 2000, epsioln value is 0.15575048536669936 \n",
            "At 3150th episode the total reward earned is 1112.0. Time taken to complete this episode is 726.0 and the length of memory is 2000, epsioln value is 0.15114736287212568 \n",
            "At 3200th episode the total reward earned is 1364.0. Time taken to complete this episode is 725.0 and the length of memory is 2000, epsioln value is 0.14668028320689 \n",
            "At 3250th episode the total reward earned is 773.0. Time taken to complete this episode is 726.0 and the length of memory is 2000, epsioln value is 0.14234522569775662 \n",
            "At 3300th episode the total reward earned is 1159.0. Time taken to complete this episode is 722.0 and the length of memory is 2000, epsioln value is 0.13813828850034224 \n",
            "At 3350th episode the total reward earned is 968.0. Time taken to complete this episode is 727.0 and the length of memory is 2000, epsioln value is 0.1340556850871924 \n",
            "At 3400th episode the total reward earned is 1040.0. Time taken to complete this episode is 726.0 and the length of memory is 2000, epsioln value is 0.13009374083965125 \n",
            "At 3450th episode the total reward earned is 927.0. Time taken to complete this episode is 730.0 and the length of memory is 2000, epsioln value is 0.12624888974045667 \n",
            "At 3500th episode the total reward earned is 1244.0. Time taken to complete this episode is 725.0 and the length of memory is 2000, epsioln value is 0.12251767116408425 \n",
            "At 3550th episode the total reward earned is 1245.0. Time taken to complete this episode is 725.0 and the length of memory is 2000, epsioln value is 0.1188967267619504 \n",
            "At 3600th episode the total reward earned is 1137.0. Time taken to complete this episode is 723.0 and the length of memory is 2000, epsioln value is 0.11538279743967217 \n",
            "At 3650th episode the total reward earned is 1053.0. Time taken to complete this episode is 721.0 and the length of memory is 2000, epsioln value is 0.11197272042366206 \n",
            "At 3700th episode the total reward earned is 1126.0. Time taken to complete this episode is 726.0 and the length of memory is 2000, epsioln value is 0.1086634264144187 \n",
            "At 3750th episode the total reward earned is 1142.0. Time taken to complete this episode is 721.0 and the length of memory is 2000, epsioln value is 0.10545193682394964 \n",
            "At 3800th episode the total reward earned is 1006.0. Time taken to complete this episode is 726.0 and the length of memory is 2000, epsioln value is 0.10233536109484136 \n",
            "At 3850th episode the total reward earned is 1267.0. Time taken to complete this episode is 726.0 and the length of memory is 2000, epsioln value is 0.09931089409856259 \n",
            "At 3900th episode the total reward earned is 1031.0. Time taken to complete this episode is 728.0 and the length of memory is 2000, epsioln value is 0.09637581361065893 \n",
            "At 3950th episode the total reward earned is 1499.0. Time taken to complete this episode is 731.0 and the length of memory is 2000, epsioln value is 0.0935274778605675 \n",
            "At 4000th episode the total reward earned is 1253.0. Time taken to complete this episode is 723.0 and the length of memory is 2000, epsioln value is 0.0907633231538447 \n",
            "Saving Model 4000\n",
            "At 4050th episode the total reward earned is 1294.0. Time taken to complete this episode is 721.0 and the length of memory is 2000, epsioln value is 0.08808086156466849 \n",
            "At 4100th episode the total reward earned is 1386.0. Time taken to complete this episode is 726.0 and the length of memory is 2000, epsioln value is 0.08547767869653701 \n",
            "At 4150th episode the total reward earned is 1025.0. Time taken to complete this episode is 723.0 and the length of memory is 2000, epsioln value is 0.0829514315091488 \n",
            "At 4200th episode the total reward earned is 1205.0. Time taken to complete this episode is 721.0 and the length of memory is 2000, epsioln value is 0.08049984620950845 \n",
            "At 4250th episode the total reward earned is 1302.0. Time taken to complete this episode is 721.0 and the length of memory is 2000, epsioln value is 0.07812071620535926 \n",
            "At 4300th episode the total reward earned is 1313.0. Time taken to complete this episode is 724.0 and the length of memory is 2000, epsioln value is 0.07581190011910148 \n",
            "At 4350th episode the total reward earned is 1347.0. Time taken to complete this episode is 722.0 and the length of memory is 2000, epsioln value is 0.07357131986040763 \n",
            "At 4400th episode the total reward earned is 1065.0. Time taken to complete this episode is 723.0 and the length of memory is 2000, epsioln value is 0.07139695875580125 \n",
            "At 4450th episode the total reward earned is 1228.0. Time taken to complete this episode is 723.0 and the length of memory is 2000, epsioln value is 0.0692868597335144 \n",
            "At 4500th episode the total reward earned is 1375.0. Time taken to complete this episode is 722.0 and the length of memory is 2000, epsioln value is 0.06723912356199101 \n",
            "At 4550th episode the total reward earned is 1099.0. Time taken to complete this episode is 729.0 and the length of memory is 2000, epsioln value is 0.06525190714045044 \n",
            "At 4600th episode the total reward earned is 1378.0. Time taken to complete this episode is 723.0 and the length of memory is 2000, epsioln value is 0.06332342183997212 \n",
            "At 4650th episode the total reward earned is 1221.0. Time taken to complete this episode is 722.0 and the length of memory is 2000, epsioln value is 0.061451931893609014 \n",
            "At 4700th episode the total reward earned is 1214.0. Time taken to complete this episode is 724.0 and the length of memory is 2000, epsioln value is 0.05963575283407997 \n",
            "At 4750th episode the total reward earned is 1167.0. Time taken to complete this episode is 724.0 and the length of memory is 2000, epsioln value is 0.0578732499776357 \n",
            "At 4800th episode the total reward earned is 1313.0. Time taken to complete this episode is 724.0 and the length of memory is 2000, epsioln value is 0.05616283695273286 \n",
            "At 4850th episode the total reward earned is 1368.0. Time taken to complete this episode is 722.0 and the length of memory is 2000, epsioln value is 0.05450297427219272 \n",
            "At 4900th episode the total reward earned is 1378.0. Time taken to complete this episode is 730.0 and the length of memory is 2000, epsioln value is 0.05289216794755869 \n",
            "At 4950th episode the total reward earned is 1041.0. Time taken to complete this episode is 723.0 and the length of memory is 2000, epsioln value is 0.05132896814440588 \n",
            "At 5000th episode the total reward earned is 905.0. Time taken to complete this episode is 728.0 and the length of memory is 2000, epsioln value is 0.04981196787739236 \n",
            "At 5050th episode the total reward earned is 977.0. Time taken to complete this episode is 723.0 and the length of memory is 2000, epsioln value is 0.04833980174387716 \n",
            "At 5100th episode the total reward earned is 1272.0. Time taken to complete this episode is 723.0 and the length of memory is 2000, epsioln value is 0.04691114469496599 \n",
            "At 5150th episode the total reward earned is 1521.0. Time taken to complete this episode is 727.0 and the length of memory is 2000, epsioln value is 0.04552471084287753 \n",
            "At 5200th episode the total reward earned is 1373.0. Time taken to complete this episode is 728.0 and the length of memory is 2000, epsioln value is 0.04417925230355784 \n",
            "At 5250th episode the total reward earned is 1504.0. Time taken to complete this episode is 726.0 and the length of memory is 2000, epsioln value is 0.042873558073500365 \n",
            "At 5300th episode the total reward earned is 1353.0. Time taken to complete this episode is 728.0 and the length of memory is 2000, epsioln value is 0.04160645293976099 \n",
            "At 5350th episode the total reward earned is 1743.0. Time taken to complete this episode is 727.0 and the length of memory is 2000, epsioln value is 0.040376796422187264 \n",
            "At 5400th episode the total reward earned is 1676.0. Time taken to complete this episode is 722.0 and the length of memory is 2000, epsioln value is 0.039183481746909006 \n",
            "At 5450th episode the total reward earned is 1269.0. Time taken to complete this episode is 725.0 and the length of memory is 2000, epsioln value is 0.03802543485016735 \n",
            "At 5500th episode the total reward earned is 1260.0. Time taken to complete this episode is 722.0 and the length of memory is 2000, epsioln value is 0.03690161341158468 \n",
            "At 5550th episode the total reward earned is 1521.0. Time taken to complete this episode is 731.0 and the length of memory is 2000, epsioln value is 0.03581100591600609 \n",
            "At 5600th episode the total reward earned is 1467.0. Time taken to complete this episode is 726.0 and the length of memory is 2000, epsioln value is 0.034752630743067316 \n",
            "At 5650th episode the total reward earned is 1296.0. Time taken to complete this episode is 726.0 and the length of memory is 2000, epsioln value is 0.03372553528367024 \n",
            "At 5700th episode the total reward earned is 1250.0. Time taken to complete this episode is 723.0 and the length of memory is 2000, epsioln value is 0.032728795082570414 \n",
            "At 5750th episode the total reward earned is 1701.0. Time taken to complete this episode is 721.0 and the length of memory is 2000, epsioln value is 0.03176151300630482 \n",
            "At 5800th episode the total reward earned is 1520.0. Time taken to complete this episode is 721.0 and the length of memory is 2000, epsioln value is 0.03082281843571138 \n",
            "At 5850th episode the total reward earned is 1553.0. Time taken to complete this episode is 723.0 and the length of memory is 2000, epsioln value is 0.029911866482312713 \n",
            "At 5900th episode the total reward earned is 1437.0. Time taken to complete this episode is 722.0 and the length of memory is 2000, epsioln value is 0.029027837227859704 \n",
            "At 5950th episode the total reward earned is 1467.0. Time taken to complete this episode is 730.0 and the length of memory is 2000, epsioln value is 0.028169934986349555 \n",
            "At 6000th episode the total reward earned is 1423.0. Time taken to complete this episode is 728.0 and the length of memory is 2000, epsioln value is 0.027337387587854787 \n",
            "Saving Model 6000\n",
            "At 6050th episode the total reward earned is 1395.0. Time taken to complete this episode is 725.0 and the length of memory is 2000, epsioln value is 0.02652944568351811 \n",
            "At 6100th episode the total reward earned is 1436.0. Time taken to complete this episode is 723.0 and the length of memory is 2000, epsioln value is 0.02574538207108789 \n",
            "At 6150th episode the total reward earned is 1380.0. Time taken to complete this episode is 722.0 and the length of memory is 2000, epsioln value is 0.02498449104038709 \n",
            "At 6200th episode the total reward earned is 1411.0. Time taken to complete this episode is 725.0 and the length of memory is 2000, epsioln value is 0.024246087738126365 \n",
            "At 6250th episode the total reward earned is 1142.0. Time taken to complete this episode is 721.0 and the length of memory is 2000, epsioln value is 0.023529507551489984 \n",
            "At 6300th episode the total reward earned is 1538.0. Time taken to complete this episode is 721.0 and the length of memory is 2000, epsioln value is 0.022834105509939348 \n",
            "At 6350th episode the total reward earned is 1331.0. Time taken to complete this episode is 721.0 and the length of memory is 2000, epsioln value is 0.022159255704696023 \n",
            "At 6400th episode the total reward earned is 1112.0. Time taken to complete this episode is 728.0 and the length of memory is 2000, epsioln value is 0.021504350725381562 \n",
            "At 6450th episode the total reward earned is 1310.0. Time taken to complete this episode is 723.0 and the length of memory is 2000, epsioln value is 0.02086880111330715 \n",
            "At 6500th episode the total reward earned is 1379.0. Time taken to complete this episode is 723.0 and the length of memory is 2000, epsioln value is 0.020252034830921067 \n",
            "At 6550th episode the total reward earned is 1238.0. Time taken to complete this episode is 731.0 and the length of memory is 2000, epsioln value is 0.01965349674693616 \n",
            "At 6600th episode the total reward earned is 1585.0. Time taken to complete this episode is 724.0 and the length of memory is 2000, epsioln value is 0.019072648136674333 \n",
            "At 6650th episode the total reward earned is 1663.0. Time taken to complete this episode is 729.0 and the length of memory is 2000, epsioln value is 0.018508966197177883 \n",
            "At 6700th episode the total reward earned is 1519.0. Time taken to complete this episode is 724.0 and the length of memory is 2000, epsioln value is 0.017961943576651585 \n",
            "At 6750th episode the total reward earned is 1239.0. Time taken to complete this episode is 724.0 and the length of memory is 2000, epsioln value is 0.01743108791781186 \n",
            "At 6800th episode the total reward earned is 1661.0. Time taken to complete this episode is 724.0 and the length of memory is 2000, epsioln value is 0.01691592141473188 \n",
            "At 6850th episode the total reward earned is 1449.0. Time taken to complete this episode is 722.0 and the length of memory is 2000, epsioln value is 0.01641598038278411 \n",
            "At 6900th episode the total reward earned is 1611.0. Time taken to complete this episode is 729.0 and the length of memory is 2000, epsioln value is 0.015930814841292777 \n",
            "At 6950th episode the total reward earned is 1641.0. Time taken to complete this episode is 724.0 and the length of memory is 2000, epsioln value is 0.01545998810852086 \n",
            "At 7000th episode the total reward earned is 1643.0. Time taken to complete this episode is 723.0 and the length of memory is 2000, epsioln value is 0.015003076408627114 \n",
            "At 7050th episode the total reward earned is 1207.0. Time taken to complete this episode is 727.0 and the length of memory is 2000, epsioln value is 0.014559668490239172 \n",
            "At 7100th episode the total reward earned is 1467.0. Time taken to complete this episode is 730.0 and the length of memory is 2000, epsioln value is 0.014129365256299565 \n",
            "At 7150th episode the total reward earned is 1205.0. Time taken to complete this episode is 721.0 and the length of memory is 2000, epsioln value is 0.013711779404851382 \n",
            "At 7200th episode the total reward earned is 1266.0. Time taken to complete this episode is 725.0 and the length of memory is 2000, epsioln value is 0.013306535080440442 \n",
            "At 7250th episode the total reward earned is 1455.0. Time taken to complete this episode is 724.0 and the length of memory is 2000, epsioln value is 0.012913267535819974 \n",
            "At 7300th episode the total reward earned is 1322.0. Time taken to complete this episode is 724.0 and the length of memory is 2000, epsioln value is 0.012531622803653442 \n",
            "At 7350th episode the total reward earned is 1628.0. Time taken to complete this episode is 722.0 and the length of memory is 2000, epsioln value is 0.012161257377920112 \n",
            "At 7400th episode the total reward earned is 1549.0. Time taken to complete this episode is 721.0 and the length of memory is 2000, epsioln value is 0.011801837904736412 \n",
            "At 7450th episode the total reward earned is 1735.0. Time taken to complete this episode is 721.0 and the length of memory is 2000, epsioln value is 0.011453040882314941 \n",
            "At 7500th episode the total reward earned is 1543.0. Time taken to complete this episode is 723.0 and the length of memory is 2000, epsioln value is 0.011114552369791 \n",
            "At 7550th episode the total reward earned is 1209.0. Time taken to complete this episode is 722.0 and the length of memory is 2000, epsioln value is 0.01078606770465466 \n",
            "At 7600th episode the total reward earned is 1728.0. Time taken to complete this episode is 727.0 and the length of memory is 2000, epsioln value is 0.01046729122853393 \n",
            "At 7650th episode the total reward earned is 1887.0. Time taken to complete this episode is 732.0 and the length of memory is 2000, epsioln value is 0.010157936021082227 \n",
            "At 7700th episode the total reward earned is 1497.0. Time taken to complete this episode is 723.0 and the length of memory is 2000, epsioln value is 0.009857723641730749 \n",
            "At 7750th episode the total reward earned is 1652.0. Time taken to complete this episode is 727.0 and the length of memory is 2000, epsioln value is 0.009566383879073138 \n",
            "At 7800th episode the total reward earned is 1124.0. Time taken to complete this episode is 721.0 and the length of memory is 2000, epsioln value is 0.009283654507656983 \n",
            "At 7850th episode the total reward earned is 1697.0. Time taken to complete this episode is 721.0 and the length of memory is 2000, epsioln value is 0.009009281051963193 \n",
            "At 7900th episode the total reward earned is 1814.0. Time taken to complete this episode is 730.0 and the length of memory is 2000, epsioln value is 0.008743016557360884 \n",
            "At 7950th episode the total reward earned is 1269.0. Time taken to complete this episode is 724.0 and the length of memory is 2000, epsioln value is 0.008484621367831529 \n",
            "At 8000th episode the total reward earned is 1634.0. Time taken to complete this episode is 729.0 and the length of memory is 2000, epsioln value is 0.008233862910262341 \n",
            "Saving Model 8000\n",
            "At 8050th episode the total reward earned is 1345.0. Time taken to complete this episode is 721.0 and the length of memory is 2000, epsioln value is 0.007990515485114808 \n",
            "At 8100th episode the total reward earned is 1556.0. Time taken to complete this episode is 724.0 and the length of memory is 2000, epsioln value is 0.007754360063279853 \n",
            "At 8150th episode the total reward earned is 1352.0. Time taken to complete this episode is 722.0 and the length of memory is 2000, epsioln value is 0.0075251840889368656 \n",
            "At 8200th episode the total reward earned is 1611.0. Time taken to complete this episode is 722.0 and the length of memory is 2000, epsioln value is 0.00730278128823908 \n",
            "At 8250th episode the total reward earned is 1418.0. Time taken to complete this episode is 723.0 and the length of memory is 2000, epsioln value is 0.007086951483653233 \n",
            "At 8300th episode the total reward earned is 1797.0. Time taken to complete this episode is 727.0 and the length of memory is 2000, epsioln value is 0.006877500413786258 \n",
            "At 8350th episode the total reward earned is 1166.0. Time taken to complete this episode is 731.0 and the length of memory is 2000, epsioln value is 0.00667423955853689 \n",
            "At 8400th episode the total reward earned is 1395.0. Time taken to complete this episode is 728.0 and the length of memory is 2000, epsioln value is 0.006476985969414889 \n",
            "At 8450th episode the total reward earned is 1575.0. Time taken to complete this episode is 721.0 and the length of memory is 2000, epsioln value is 0.006285562104875032 \n",
            "At 8500th episode the total reward earned is 1742.0. Time taken to complete this episode is 734.0 and the length of memory is 2000, epsioln value is 0.006099795670517738 \n",
            "At 8550th episode the total reward earned is 1478.0. Time taken to complete this episode is 722.0 and the length of memory is 2000, epsioln value is 0.005919519464012465 \n",
            "At 8600th episode the total reward earned is 1313.0. Time taken to complete this episode is 726.0 and the length of memory is 2000, epsioln value is 0.005744571224604355 \n",
            "At 8650th episode the total reward earned is 1596.0. Time taken to complete this episode is 721.0 and the length of memory is 2000, epsioln value is 0.005574793487068584 \n",
            "At 8700th episode the total reward earned is 1167.0. Time taken to complete this episode is 725.0 and the length of memory is 2000, epsioln value is 0.005410033439981019 \n",
            "At 8750th episode the total reward earned is 1392.0. Time taken to complete this episode is 725.0 and the length of memory is 2000, epsioln value is 0.00525014278817765 \n",
            "At 8800th episode the total reward earned is 1937.0. Time taken to complete this episode is 721.0 and the length of memory is 2000, epsioln value is 0.00509497761927891 \n",
            "At 8850th episode the total reward earned is 1490.0. Time taken to complete this episode is 721.0 and the length of memory is 2000, epsioln value is 0.004944398274158833 \n",
            "At 8900th episode the total reward earned is 1123.0. Time taken to complete this episode is 722.0 and the length of memory is 2000, epsioln value is 0.004798269221242391 \n",
            "At 8950th episode the total reward earned is 1547.0. Time taken to complete this episode is 721.0 and the length of memory is 2000, epsioln value is 0.004656458934517956 \n",
            "At 9000th episode the total reward earned is 1488.0. Time taken to complete this episode is 729.0 and the length of memory is 2000, epsioln value is 0.004518839775154998 \n",
            "At 9050th episode the total reward earned is 1172.0. Time taken to complete this episode is 725.0 and the length of memory is 2000, epsioln value is 0.004385287876620512 \n",
            "At 9100th episode the total reward earned is 1904.0. Time taken to complete this episode is 726.0 and the length of memory is 2000, epsioln value is 0.004255683033190796 \n",
            "At 9150th episode the total reward earned is 1881.0. Time taken to complete this episode is 723.0 and the length of memory is 2000, epsioln value is 0.004129908591758174 \n",
            "At 9200th episode the total reward earned is 1532.0. Time taken to complete this episode is 727.0 and the length of memory is 2000, epsioln value is 0.004007851346835332 \n",
            "At 9250th episode the total reward earned is 1719.0. Time taken to complete this episode is 728.0 and the length of memory is 2000, epsioln value is 0.00388940143866272 \n",
            "At 9300th episode the total reward earned is 1530.0. Time taken to complete this episode is 728.0 and the length of memory is 2000, epsioln value is 0.003774452254327378 \n",
            "At 9350th episode the total reward earned is 1379.0. Time taken to complete this episode is 725.0 and the length of memory is 2000, epsioln value is 0.003662900331804101 \n",
            "At 9400th episode the total reward earned is 1646.0. Time taken to complete this episode is 726.0 and the length of memory is 2000, epsioln value is 0.0035546452668326406 \n",
            "At 9450th episode the total reward earned is 1503.0. Time taken to complete this episode is 725.0 and the length of memory is 2000, epsioln value is 0.00344958962254708 \n",
            "At 9500th episode the total reward earned is 1607.0. Time taken to complete this episode is 725.0 and the length of memory is 2000, epsioln value is 0.0033476388417760976 \n",
            "At 9550th episode the total reward earned is 1140.0. Time taken to complete this episode is 726.0 and the length of memory is 2000, epsioln value is 0.0032487011619351165 \n",
            "At 9600th episode the total reward earned is 1608.0. Time taken to complete this episode is 724.0 and the length of memory is 2000, epsioln value is 0.0031526875324337823 \n",
            "At 9650th episode the total reward earned is 1582.0. Time taken to complete this episode is 724.0 and the length of memory is 2000, epsioln value is 0.003059511534524431 \n",
            "At 9700th episode the total reward earned is 1073.0. Time taken to complete this episode is 726.0 and the length of memory is 2000, epsioln value is 0.0029690893035193753 \n",
            "At 9750th episode the total reward earned is 1122.0. Time taken to complete this episode is 729.0 and the length of memory is 2000, epsioln value is 0.0028813394533070305 \n",
            "At 9800th episode the total reward earned is 1361.0. Time taken to complete this episode is 727.0 and the length of memory is 2000, epsioln value is 0.0027961830030989077 \n",
            "At 9850th episode the total reward earned is 1476.0. Time taken to complete this episode is 727.0 and the length of memory is 2000, epsioln value is 0.0027135433063415885 \n",
            "At 9900th episode the total reward earned is 1472.0. Time taken to complete this episode is 722.0 and the length of memory is 2000, epsioln value is 0.0026333459817296477 \n",
            "At 9950th episode the total reward earned is 1234.0. Time taken to complete this episode is 722.0 and the length of memory is 2000, epsioln value is 0.0025555188462574475 \n",
            "At 10000th episode the total reward earned is 1297.0. Time taken to complete this episode is 724.0 and the length of memory is 2000, epsioln value is 0.002479991850249576 \n",
            "Saving Model 10000\n",
            "8202.736667394638\n"
          ]
        }
      ]
    },
    {
      "cell_type": "markdown",
      "metadata": {
        "id": "SEcpKJ-M8XL1"
      },
      "source": [
        "### Save the final model for submission"
      ]
    },
    {
      "cell_type": "code",
      "metadata": {
        "id": "cqhbviG98N8D"
      },
      "source": [
        "weights=agent.save_model(name=\"model_weights.pkl\")"
      ],
      "execution_count": 23,
      "outputs": []
    },
    {
      "cell_type": "code",
      "metadata": {
        "id": "BSFIH2qptlN4"
      },
      "source": [
        "with open('final_model.pkl', 'wb') as file:\n",
        "        pickle.dump(weights, file, pickle.HIGHEST_PROTOCOL)"
      ],
      "execution_count": 24,
      "outputs": []
    },
    {
      "cell_type": "code",
      "metadata": {
        "id": "gW7nHTF17Wck"
      },
      "source": [
        "agent.model.save_weights('weights.h5')"
      ],
      "execution_count": 25,
      "outputs": []
    },
    {
      "cell_type": "markdown",
      "metadata": {
        "id": "eEvAPV9x8bfk"
      },
      "source": [
        "## Check Convergence\n",
        "We can plot the (state, action) value we tracked to check the convergence"
      ]
    },
    {
      "cell_type": "code",
      "metadata": {
        "colab": {
          "base_uri": "https://localhost:8080/",
          "height": 457
        },
        "id": "Nl8-c--a9AhT",
        "outputId": "66797d99-d5b7-4009-c200-c644456dfff9"
      },
      "source": [
        "plt.figure(figsize=(8,6))\n",
        "plt.title(\"Q values for state (2,3,4) and action (0,2) \\n\", size=20)\n",
        "\n",
        "plt.plot(np.arange(1,len(agent.store_states_tracked)*10 + 1,10), agent.store_states_tracked)\n",
        "\n",
        "plt.xlabel(\"\\n Episodes\", size=16)\n",
        "plt.ylabel (\"Q(s,a) \\n\", size=16)\n",
        "plt.axhline(y=520, color='r')\n",
        "plt.xticks(size=14)\n",
        "plt.yticks(size=14)\n",
        "plt.show()"
      ],
      "execution_count": 64,
      "outputs": [
        {
          "output_type": "display_data",
          "data": {
            "image/png": "[encoded data removed]",
            "text/plain": [
              "<Figure size 576x432 with 1 Axes>"
            ]
          },
          "metadata": {
            "needs_background": "light"
          }
        }
      ]
    },
    {
      "cell_type": "markdown",
      "metadata": {
        "id": "zX-s1BkC6geJ"
      },
      "source": [
        "## Track total rewards per episode"
      ]
    },
    {
      "cell_type": "code",
      "metadata": {
        "colab": {
          "base_uri": "https://localhost:8080/",
          "height": 457
        },
        "id": "1dZZRNdxzhWH",
        "outputId": "e8c381d7-df5e-4691-e8b4-9360e832d7ad"
      },
      "source": [
        "plt.figure(figsize=(8,6))\n",
        "plt.title(\"Reward gain per episode: Q learining progress \\n\", size=20)\n",
        "plt.plot(episode_count,epoisode_wise_rewards)\n",
        "plt.xlabel(\"\\n Epoisodes\", size=16)\n",
        "plt.ylabel (\"Total rewards \\n\", size=16)\n",
        "plt.xticks(size=14)\n",
        "plt.yticks(size=14)\n",
        "plt.show()"
      ],
      "execution_count": 27,
      "outputs": [
        {
          "output_type": "display_data",
          "data": {
            "image/png": "[encoded data removed]",
            "text/plain": [
              "<Figure size 576x432 with 1 Axes>"
            ]
          },
          "metadata": {
            "needs_background": "light"
          }
        }
      ]
    },
    {
      "cell_type": "markdown",
      "metadata": {
        "id": "TlAdnHhVvs6g"
      },
      "source": [
        "## Epsilon decay\n",
        "The action of the agent in a Q learning model is taken by a ϵ-greedy rule. If ϵ is too small then the chance of exploration is little, on the other hand if ϵ is too large then model will only explore (i.e. no exploitation of best valued action). Thus ideally at teh start of model building we allow sufficient exploration to give a chance to visit variety of states and actions. However with enough experience in memory , we try to always find the action that provides maximum rewards. <br>\n",
        "As a thumb rule initial ~50% of the episodes should allow chance to explore (i.e ϵ > 0.1)"
      ]
    },
    {
      "cell_type": "code",
      "metadata": {
        "id": "snhXoX6pxQld"
      },
      "source": [
        "decay_rate = 0.0006\n",
        "# Maximum and minimum epsilon\n",
        "max_e= 1\n",
        "min_e = 0.00001\n",
        "\n",
        "# Number of episodes in the experiment\n",
        "episodes= 10000\n",
        "\n",
        "times = np.arange(0, episodes)\n",
        "epsilon=[]\n",
        "\n",
        "for i in times:\n",
        "  epsilon.append((max_e - min_e)*np.exp(-decay_rate*i))"
      ],
      "execution_count": 21,
      "outputs": []
    },
    {
      "cell_type": "code",
      "metadata": {
        "id": "lThcAOYVyCFl",
        "colab": {
          "base_uri": "https://localhost:8080/",
          "height": 457
        },
        "outputId": "ec332cd8-f0b4-4ad4-9492-cf6b4782f839"
      },
      "source": [
        "plt.figure(figsize=(8,6))\n",
        "plt.title(\"Epsion decay across episodes \\n\", size=20)\n",
        "plt.plot(times, epsilon)\n",
        "plt.xlabel(\"\\n Epoisodes\", size=16)\n",
        "plt.ylabel (\"Epsilon \\n\", size=16)\n",
        "plt.xticks(size=14)\n",
        "plt.yticks(size=14)\n",
        "\n",
        "plt.show()"
      ],
      "execution_count": 22,
      "outputs": [
        {
          "output_type": "display_data",
          "data": {
            "image/png": "[encoded data removed]",
            "text/plain": [
              "<Figure size 576x432 with 1 Axes>"
            ]
          },
          "metadata": {
            "needs_background": "light"
          }
        }
      ]
    },
    {
      "cell_type": "markdown",
      "metadata": {
        "id": "_uG6rcMKpUHw"
      },
      "source": [
        "## Reusing model weights to predict a state action value"
      ]
    },
    {
      "cell_type": "code",
      "metadata": {
        "colab": {
          "base_uri": "https://localhost:8080/"
        },
        "id": "6Zc_zscy3hYD",
        "outputId": "54534c86-9666-4ab3-cf13-478a3311dafc"
      },
      "source": [
        "from keras.models import load_model\n",
        "agent.model.save(\"DQN.h5\")\n",
        "loaded_model = load_model(\"DQN.h5\")\n",
        "loaded_model.predict(np.array(env.state_encod_arch1([2,3,4])).reshape(1, 36))"
      ],
      "execution_count": 125,
      "outputs": [
        {
          "output_type": "stream",
          "name": "stderr",
          "text": [
            "/usr/local/lib/python3.7/dist-packages/keras/engine/training_v1.py:2079: UserWarning: `Model.state_updates` will be removed in a future version. This property should not be used in TensorFlow 2.0, as `updates` are applied automatically.\n",
            "  updates=self.state_updates,\n"
          ]
        },
        {
          "output_type": "execute_result",
          "data": {
            "text/plain": [
              "array([[  0.     , 538.87286, 520.4663 , 531.65137, 508.69302, 515.251  ,\n",
              "        503.77518, 496.90195, 495.87384, 528.6594 , 551.44244, 527.68536,\n",
              "        525.3103 ,   0.     ,   0.     , 513.4109 , 514.6059 , 512.3801 ,\n",
              "        524.4699 , 522.5074 , 512.1609 ]], dtype=float32)"
            ]
          },
          "metadata": {},
          "execution_count": 125
        }
      ]
    }
  ]
}