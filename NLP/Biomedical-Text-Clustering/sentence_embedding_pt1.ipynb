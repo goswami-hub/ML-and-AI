{
  "nbformat": 4,
  "nbformat_minor": 0,
  "metadata": {
    "colab": {
      "provenance": [],
      "collapsed_sections": []
    },
    "kernelspec": {
      "name": "python3",
      "display_name": "Python 3"
    },
    "language_info": {
      "name": "python"
    }
  },
  "cells": [
    {
      "cell_type": "markdown",
      "source": [
        "## Prepare the ground truth data"
      ],
      "metadata": {
        "id": "1NBXAS3IFokf"
      }
    },
    {
      "cell_type": "markdown",
      "source": [
        "Load all the necessary libraries here"
      ],
      "metadata": {
        "id": "f7YViYgZvrSR"
      }
    },
    {
      "cell_type": "code",
      "source": [
        "from urllib.request import urlopen\n",
        "from bs4 import BeautifulSoup\n",
        "\n",
        "import re\n",
        "import pandas as pd\n"
      ],
      "metadata": {
        "id": "Pyrv9729u5nL"
      },
      "execution_count": 22,
      "outputs": []
    },
    {
      "cell_type": "markdown",
      "source": [
        "Custom function to extract text for inclusion criteria:\n",
        "- Data is stored in standard format in [clinical trail repository](https://clinicaltrials.gov/).\n",
        "The 'Inclusion Criteria' and 'Exclusion Criteria' are always initialized with respective headers.\n",
        "\n"
      ],
      "metadata": {
        "id": "AEKpc6YHG36j"
      }
    },
    {
      "cell_type": "code",
      "source": [
        "# Extract inclusion criteria from an webpage given an url from clinical trial repository\n",
        "start ='Inclusion Criteria:\\n'\n",
        "end = '\\nExclusion Criteria:'\n",
        "\n",
        "def criteria_ext(url, start=start,end=end):\n",
        "\n",
        "  #open url and use html parser to read the text\n",
        "  html = urlopen(url).read()\n",
        "  soup = BeautifulSoup(html, features=\"html.parser\")\n",
        "\n",
        "  # kill all script and style elements\n",
        "  for script in soup([\"script\", \"style\"]):\n",
        "    script.extract() \n",
        "  # get text\n",
        "  text = soup.get_text()\n",
        "\n",
        "  # break into lines and remove leading and trailing space on each\n",
        "  lines = (line.strip() for line in text.splitlines())\n",
        "  # break multi-headlines into a line each\n",
        "  chunks = (phrase.strip() for line in lines for phrase in line.split(\"  \"))\n",
        "  # drop blank lines\n",
        "  text = '\\n'.join(chunk for chunk in chunks if chunk)\n",
        "\n",
        "  # Avoid stops using try / except rules\n",
        "  try:\n",
        "    inclusion = text[text.index(start)+len(start):text.index(end)]\n",
        "  except ValueError:\n",
        "    inclusion ='Error'\n",
        "\n",
        "  return inclusion"
      ],
      "metadata": {
        "id": "m8WLXIh0G6Jo"
      },
      "execution_count": null,
      "outputs": []
    },
    {
      "cell_type": "markdown",
      "source": [
        "### Preparation of breast cancer data"
      ],
      "metadata": {
        "id": "-FE8oP0pGoXI"
      }
    },
    {
      "cell_type": "markdown",
      "source": [
        "Read breast cancer data "
      ],
      "metadata": {
        "id": "mFC_vR5tvyuC"
      }
    },
    {
      "cell_type": "code",
      "source": [
        "BC_raw = pd.read_csv(\"/content/BreastCancer.csv\")"
      ],
      "metadata": {
        "id": "kWhR-zZqmXce"
      },
      "execution_count": 30,
      "outputs": []
    },
    {
      "cell_type": "code",
      "source": [
        "BC_raw.head()"
      ],
      "metadata": {
        "colab": {
          "base_uri": "https://localhost:8080/",
          "height": 664
        },
        "id": "UQP-VZLHmhly",
        "outputId": "16cc3fbf-d2c9-462c-e3e2-26809fa318ef"
      },
      "execution_count": 31,
      "outputs": [
        {
          "output_type": "execute_result",
          "data": {
            "text/plain": [
              "   Rank   NCT Number                                              Title  \\\n",
              "0     1  NCT05376241  Promoting Informed Choice for Breast Cancer Sc...   \n",
              "1     2  NCT05600257  The Effect of Digital Breast Tomosynthesis in ...   \n",
              "2     3  NCT05132790  Breast Cancer Study of Stereotactic Body Radia...   \n",
              "3     4  NCT03254875                 Rehabilitation After Breast Cancer   \n",
              "4     5  NCT05563220  Open-Label Umbrella Study To Evaluate Safety A...   \n",
              "\n",
              "      Acronym              Status         Study Results  \\\n",
              "0         NaN          Recruiting  No Results Available   \n",
              "1         NaN           Completed  No Results Available   \n",
              "2         NaN          Recruiting  No Results Available   \n",
              "3  REBECCA II           Completed  No Results Available   \n",
              "4     ELEVATE  Not yet recruiting  No Results Available   \n",
              "\n",
              "                               Conditions  \\\n",
              "0                           Breast Cancer   \n",
              "1                           Breast Cancer   \n",
              "2                           Breast Cancer   \n",
              "3                           Breast Cancer   \n",
              "4  Breast Cancer|Metastatic Breast Cancer   \n",
              "\n",
              "                                       Interventions  \\\n",
              "0                                 Behavioral: Survey   \n",
              "1                             Device: DBT|Device: DM   \n",
              "2  Drug: SHR-1316 at a dose 20mg/kg q3w|Drug: SHR...   \n",
              "3  Behavioral: Individually tailored nurse naviga...   \n",
              "4  Drug: Elacestrant|Drug: Alpelisib|Drug: Everol...   \n",
              "\n",
              "                                    Outcome Measures  \\\n",
              "0  Reactance|Disbelief|Source derogation|Self exe...   \n",
              "1                              Overall survival rate   \n",
              "2  Pathological complete response (pCR) for TNBC ...   \n",
              "3  Distress|Depression|Anxiety|Health related qua...   \n",
              "4  Determine the recommended Phase 2 dose (RP2D) ...   \n",
              "\n",
              "                               Sponsor/Collaborators  ...  \\\n",
              "0  University of Colorado, Denver|National Cancer...  ...   \n",
              "1               Kaohsiung Veterans General Hospital.  ...   \n",
              "2  Shengjing Hospital|Jiangsu HengRui Medicine Co...  ...   \n",
              "3  Danish Cancer Society|Rigshospitalet, Denmark|...  ...   \n",
              "4                        Stemline Therapeutics, Inc.  ...   \n",
              "\n",
              "                       Other IDs         Start Date Primary Completion Date  \\\n",
              "0         20-1866.cc|R01CA254926     August 7, 2020             August 2023   \n",
              "1                KSVGH22-CT11-01  September 1, 2011         August 31, 2021   \n",
              "2  BC-NEO-IIT-SHR1316-SHR6390-RT  November 12, 2021       December 15, 2022   \n",
              "3                     REBECCA II    August 15, 2017          March 31, 2021   \n",
              "4                  STML-ELA-0222  December 31, 2022       December 31, 2024   \n",
              "\n",
              "    Completion Date       First Posted Results First Posted  \\\n",
              "0       August 2025       May 17, 2022                  NaN   \n",
              "1   August 31, 2021   October 31, 2022                  NaN   \n",
              "2  October 15, 2023  November 24, 2021                  NaN   \n",
              "3    March 31, 2021    August 21, 2017                  NaN   \n",
              "4   August 31, 2026    October 3, 2022                  NaN   \n",
              "\n",
              "   Last Update Posted                                          Locations  \\\n",
              "0        May 17, 2022  University of Colorado Hospital, Aurora, Color...   \n",
              "1    October 31, 2022  Kaohsiung Veterans General Hospital, Kaohsiung...   \n",
              "2  September 13, 2022  Shengjing Hospital of China Medical University...   \n",
              "3     August 27, 2021                Rigshospitalet, Copenhagen, Denmark   \n",
              "4     October 3, 2022                                                NaN   \n",
              "\n",
              "  Study Documents                                          URL  \n",
              "0             NaN  https://ClinicalTrials.gov/show/NCT05376241  \n",
              "1             NaN  https://ClinicalTrials.gov/show/NCT05600257  \n",
              "2             NaN  https://ClinicalTrials.gov/show/NCT05132790  \n",
              "3             NaN  https://ClinicalTrials.gov/show/NCT03254875  \n",
              "4             NaN  https://ClinicalTrials.gov/show/NCT05563220  \n",
              "\n",
              "[5 rows x 27 columns]"
            ],
            "text/html": [
              "\n",
              "  <div id=\"df-3a4b884b-492e-49ce-9f2b-e79ee8c105f5\">\n",
              "    <div class=\"colab-df-container\">\n",
              "      <div>\n",
              "<style scoped>\n",
              "    .dataframe tbody tr th:only-of-type {\n",
              "        vertical-align: middle;\n",
              "    }\n",
              "\n",
              "    .dataframe tbody tr th {\n",
              "        vertical-align: top;\n",
              "    }\n",
              "\n",
              "    .dataframe thead th {\n",
              "        text-align: right;\n",
              "    }\n",
              "</style>\n",
              "<table border=\"1\" class=\"dataframe\">\n",
              "  <thead>\n",
              "    <tr style=\"text-align: right;\">\n",
              "      <th></th>\n",
              "      <th>Rank</th>\n",
              "      <th>NCT Number</th>\n",
              "      <th>Title</th>\n",
              "      <th>Acronym</th>\n",
              "      <th>Status</th>\n",
              "      <th>Study Results</th>\n",
              "      <th>Conditions</th>\n",
              "      <th>Interventions</th>\n",
              "      <th>Outcome Measures</th>\n",
              "      <th>Sponsor/Collaborators</th>\n",
              "      <th>...</th>\n",
              "      <th>Other IDs</th>\n",
              "      <th>Start Date</th>\n",
              "      <th>Primary Completion Date</th>\n",
              "      <th>Completion Date</th>\n",
              "      <th>First Posted</th>\n",
              "      <th>Results First Posted</th>\n",
              "      <th>Last Update Posted</th>\n",
              "      <th>Locations</th>\n",
              "      <th>Study Documents</th>\n",
              "      <th>URL</th>\n",
              "    </tr>\n",
              "  </thead>\n",
              "  <tbody>\n",
              "    <tr>\n",
              "      <th>0</th>\n",
              "      <td>1</td>\n",
              "      <td>NCT05376241</td>\n",
              "      <td>Promoting Informed Choice for Breast Cancer Sc...</td>\n",
              "      <td>NaN</td>\n",
              "      <td>Recruiting</td>\n",
              "      <td>No Results Available</td>\n",
              "      <td>Breast Cancer</td>\n",
              "      <td>Behavioral: Survey</td>\n",
              "      <td>Reactance|Disbelief|Source derogation|Self exe...</td>\n",
              "      <td>University of Colorado, Denver|National Cancer...</td>\n",
              "      <td>...</td>\n",
              "      <td>20-1866.cc|R01CA254926</td>\n",
              "      <td>August 7, 2020</td>\n",
              "      <td>August 2023</td>\n",
              "      <td>August 2025</td>\n",
              "      <td>May 17, 2022</td>\n",
              "      <td>NaN</td>\n",
              "      <td>May 17, 2022</td>\n",
              "      <td>University of Colorado Hospital, Aurora, Color...</td>\n",
              "      <td>NaN</td>\n",
              "      <td>https://ClinicalTrials.gov/show/NCT05376241</td>\n",
              "    </tr>\n",
              "    <tr>\n",
              "      <th>1</th>\n",
              "      <td>2</td>\n",
              "      <td>NCT05600257</td>\n",
              "      <td>The Effect of Digital Breast Tomosynthesis in ...</td>\n",
              "      <td>NaN</td>\n",
              "      <td>Completed</td>\n",
              "      <td>No Results Available</td>\n",
              "      <td>Breast Cancer</td>\n",
              "      <td>Device: DBT|Device: DM</td>\n",
              "      <td>Overall survival rate</td>\n",
              "      <td>Kaohsiung Veterans General Hospital.</td>\n",
              "      <td>...</td>\n",
              "      <td>KSVGH22-CT11-01</td>\n",
              "      <td>September 1, 2011</td>\n",
              "      <td>August 31, 2021</td>\n",
              "      <td>August 31, 2021</td>\n",
              "      <td>October 31, 2022</td>\n",
              "      <td>NaN</td>\n",
              "      <td>October 31, 2022</td>\n",
              "      <td>Kaohsiung Veterans General Hospital, Kaohsiung...</td>\n",
              "      <td>NaN</td>\n",
              "      <td>https://ClinicalTrials.gov/show/NCT05600257</td>\n",
              "    </tr>\n",
              "    <tr>\n",
              "      <th>2</th>\n",
              "      <td>3</td>\n",
              "      <td>NCT05132790</td>\n",
              "      <td>Breast Cancer Study of Stereotactic Body Radia...</td>\n",
              "      <td>NaN</td>\n",
              "      <td>Recruiting</td>\n",
              "      <td>No Results Available</td>\n",
              "      <td>Breast Cancer</td>\n",
              "      <td>Drug: SHR-1316 at a dose 20mg/kg q3w|Drug: SHR...</td>\n",
              "      <td>Pathological complete response (pCR) for TNBC ...</td>\n",
              "      <td>Shengjing Hospital|Jiangsu HengRui Medicine Co...</td>\n",
              "      <td>...</td>\n",
              "      <td>BC-NEO-IIT-SHR1316-SHR6390-RT</td>\n",
              "      <td>November 12, 2021</td>\n",
              "      <td>December 15, 2022</td>\n",
              "      <td>October 15, 2023</td>\n",
              "      <td>November 24, 2021</td>\n",
              "      <td>NaN</td>\n",
              "      <td>September 13, 2022</td>\n",
              "      <td>Shengjing Hospital of China Medical University...</td>\n",
              "      <td>NaN</td>\n",
              "      <td>https://ClinicalTrials.gov/show/NCT05132790</td>\n",
              "    </tr>\n",
              "    <tr>\n",
              "      <th>3</th>\n",
              "      <td>4</td>\n",
              "      <td>NCT03254875</td>\n",
              "      <td>Rehabilitation After Breast Cancer</td>\n",
              "      <td>REBECCA II</td>\n",
              "      <td>Completed</td>\n",
              "      <td>No Results Available</td>\n",
              "      <td>Breast Cancer</td>\n",
              "      <td>Behavioral: Individually tailored nurse naviga...</td>\n",
              "      <td>Distress|Depression|Anxiety|Health related qua...</td>\n",
              "      <td>Danish Cancer Society|Rigshospitalet, Denmark|...</td>\n",
              "      <td>...</td>\n",
              "      <td>REBECCA II</td>\n",
              "      <td>August 15, 2017</td>\n",
              "      <td>March 31, 2021</td>\n",
              "      <td>March 31, 2021</td>\n",
              "      <td>August 21, 2017</td>\n",
              "      <td>NaN</td>\n",
              "      <td>August 27, 2021</td>\n",
              "      <td>Rigshospitalet, Copenhagen, Denmark</td>\n",
              "      <td>NaN</td>\n",
              "      <td>https://ClinicalTrials.gov/show/NCT03254875</td>\n",
              "    </tr>\n",
              "    <tr>\n",
              "      <th>4</th>\n",
              "      <td>5</td>\n",
              "      <td>NCT05563220</td>\n",
              "      <td>Open-Label Umbrella Study To Evaluate Safety A...</td>\n",
              "      <td>ELEVATE</td>\n",
              "      <td>Not yet recruiting</td>\n",
              "      <td>No Results Available</td>\n",
              "      <td>Breast Cancer|Metastatic Breast Cancer</td>\n",
              "      <td>Drug: Elacestrant|Drug: Alpelisib|Drug: Everol...</td>\n",
              "      <td>Determine the recommended Phase 2 dose (RP2D) ...</td>\n",
              "      <td>Stemline Therapeutics, Inc.</td>\n",
              "      <td>...</td>\n",
              "      <td>STML-ELA-0222</td>\n",
              "      <td>December 31, 2022</td>\n",
              "      <td>December 31, 2024</td>\n",
              "      <td>August 31, 2026</td>\n",
              "      <td>October 3, 2022</td>\n",
              "      <td>NaN</td>\n",
              "      <td>October 3, 2022</td>\n",
              "      <td>NaN</td>\n",
              "      <td>NaN</td>\n",
              "      <td>https://ClinicalTrials.gov/show/NCT05563220</td>\n",
              "    </tr>\n",
              "  </tbody>\n",
              "</table>\n",
              "<p>5 rows × 27 columns</p>\n",
              "</div>\n",
              "      <button class=\"colab-df-convert\" onclick=\"convertToInteractive('df-3a4b884b-492e-49ce-9f2b-e79ee8c105f5')\"\n",
              "              title=\"Convert this dataframe to an interactive table.\"\n",
              "              style=\"display:none;\">\n",
              "        \n",
              "  <svg xmlns=\"http://www.w3.org/2000/svg\" height=\"24px\"viewBox=\"0 0 24 24\"\n",
              "       width=\"24px\">\n",
              "    <path d=\"M0 0h24v24H0V0z\" fill=\"none\"/>\n",
              "    <path d=\"M18.56 5.44l.94 2.06.94-2.06 2.06-.94-2.06-.94-.94-2.06-.94 2.06-2.06.94zm-11 1L8.5 8.5l.94-2.06 2.06-.94-2.06-.94L8.5 2.5l-.94 2.06-2.06.94zm10 10l.94 2.06.94-2.06 2.06-.94-2.06-.94-.94-2.06-.94 2.06-2.06.94z\"/><path d=\"M17.41 7.96l-1.37-1.37c-.4-.4-.92-.59-1.43-.59-.52 0-1.04.2-1.43.59L10.3 9.45l-7.72 7.72c-.78.78-.78 2.05 0 2.83L4 21.41c.39.39.9.59 1.41.59.51 0 1.02-.2 1.41-.59l7.78-7.78 2.81-2.81c.8-.78.8-2.07 0-2.86zM5.41 20L4 18.59l7.72-7.72 1.47 1.35L5.41 20z\"/>\n",
              "  </svg>\n",
              "      </button>\n",
              "      \n",
              "  <style>\n",
              "    .colab-df-container {\n",
              "      display:flex;\n",
              "      flex-wrap:wrap;\n",
              "      gap: 12px;\n",
              "    }\n",
              "\n",
              "    .colab-df-convert {\n",
              "      background-color: #E8F0FE;\n",
              "      border: none;\n",
              "      border-radius: 50%;\n",
              "      cursor: pointer;\n",
              "      display: none;\n",
              "      fill: #1967D2;\n",
              "      height: 32px;\n",
              "      padding: 0 0 0 0;\n",
              "      width: 32px;\n",
              "    }\n",
              "\n",
              "    .colab-df-convert:hover {\n",
              "      background-color: #E2EBFA;\n",
              "      box-shadow: 0px 1px 2px rgba(60, 64, 67, 0.3), 0px 1px 3px 1px rgba(60, 64, 67, 0.15);\n",
              "      fill: #174EA6;\n",
              "    }\n",
              "\n",
              "    [theme=dark] .colab-df-convert {\n",
              "      background-color: #3B4455;\n",
              "      fill: #D2E3FC;\n",
              "    }\n",
              "\n",
              "    [theme=dark] .colab-df-convert:hover {\n",
              "      background-color: #434B5C;\n",
              "      box-shadow: 0px 1px 3px 1px rgba(0, 0, 0, 0.15);\n",
              "      filter: drop-shadow(0px 1px 2px rgba(0, 0, 0, 0.3));\n",
              "      fill: #FFFFFF;\n",
              "    }\n",
              "  </style>\n",
              "\n",
              "      <script>\n",
              "        const buttonEl =\n",
              "          document.querySelector('#df-3a4b884b-492e-49ce-9f2b-e79ee8c105f5 button.colab-df-convert');\n",
              "        buttonEl.style.display =\n",
              "          google.colab.kernel.accessAllowed ? 'block' : 'none';\n",
              "\n",
              "        async function convertToInteractive(key) {\n",
              "          const element = document.querySelector('#df-3a4b884b-492e-49ce-9f2b-e79ee8c105f5');\n",
              "          const dataTable =\n",
              "            await google.colab.kernel.invokeFunction('convertToInteractive',\n",
              "                                                     [key], {});\n",
              "          if (!dataTable) return;\n",
              "\n",
              "          const docLinkHtml = 'Like what you see? Visit the ' +\n",
              "            '<a target=\"_blank\" href=https://colab.research.google.com/notebooks/data_table.ipynb>data table notebook</a>'\n",
              "            + ' to learn more about interactive tables.';\n",
              "          element.innerHTML = '';\n",
              "          dataTable['output_type'] = 'display_data';\n",
              "          await google.colab.output.renderOutput(dataTable, element);\n",
              "          const docLink = document.createElement('div');\n",
              "          docLink.innerHTML = docLinkHtml;\n",
              "          element.appendChild(docLink);\n",
              "        }\n",
              "      </script>\n",
              "    </div>\n",
              "  </div>\n",
              "  "
            ]
          },
          "metadata": {},
          "execution_count": 31
        }
      ]
    },
    {
      "cell_type": "code",
      "source": [
        "# Store URLs and NCT IDs seperately\n",
        "BC_url= BC_raw['URL']\n",
        "BC_NCTID= BC_raw['NCT Number']"
      ],
      "metadata": {
        "id": "OeG8IHWmmtfu"
      },
      "execution_count": 33,
      "outputs": []
    },
    {
      "cell_type": "markdown",
      "source": [
        "Very few studies contain no exclusion criteria. For such cases our serach method will result an error.\n",
        "\n",
        "Consider the following demonstration"
      ],
      "metadata": {
        "id": "Gd28g4KW6vOY"
      }
    },
    {
      "cell_type": "code",
      "source": [
        "# Sample demonstration of Error message\n",
        "print('Inclusion criteria for trial:',BC_NCTID[43])\n",
        "criteria_ext(url=BC_url[43]).split('\\n')"
      ],
      "metadata": {
        "colab": {
          "base_uri": "https://localhost:8080/"
        },
        "id": "hY86CUZJvczt",
        "outputId": "f499a4e5-1c8d-432e-c192-1e61080bd988"
      },
      "execution_count": 86,
      "outputs": [
        {
          "output_type": "stream",
          "name": "stdout",
          "text": [
            "Inclusion criteria for trial: NCT02663973\n"
          ]
        },
        {
          "output_type": "execute_result",
          "data": {
            "text/plain": [
              "['Error']"
            ]
          },
          "metadata": {},
          "execution_count": 86
        }
      ]
    },
    {
      "cell_type": "code",
      "source": [
        "# Sample demonstartion with no Error\n",
        "print('Inclusion criteria for trial:',BC_NCTID[10])\n",
        "criteria_ext(url=BC_url[10]).split('\\n')"
      ],
      "metadata": {
        "colab": {
          "base_uri": "https://localhost:8080/"
        },
        "id": "rm50pbbL7OVL",
        "outputId": "8e359e21-d60a-42e5-9f92-cdac2a3824a0"
      },
      "execution_count": 127,
      "outputs": [
        {
          "output_type": "stream",
          "name": "stdout",
          "text": [
            "Inclusion criteria for trial: NCT04360330\n"
          ]
        },
        {
          "output_type": "execute_result",
          "data": {
            "text/plain": [
              "['Female, ≥ 50 years of age.',\n",
              " 'Oncotype or MammaPrint diagnosis results are required prior to the start of treatment',\n",
              " 'Histologically confirmed invasive breast cancer.',\n",
              " 'Clinical stage T1N0M0.',\n",
              " 'Receptor status: Estrogen-Receptor (ER)/Progesterone-Receptor (PR) positive and Human Epidermal Growth Factor Receptor 2 (HER2) negative.',\n",
              " 'Unifocal breast cancer.',\n",
              " 'Eastern Cooperative Oncology Group (ECOG) 0, 1.',\n",
              " 'Ability to undergo MRI.',\n",
              " 'Women of child-bearing potential (WOCBP) must agree to use adequate contraception or agree to undergo sexual abstinence prior to study entry and for the duration of study participation. WOCBP must have a negative serum or urine pregnancy test at time of enrollment. Should a woman become pregnant or suspect she is pregnant while she is participating in this study, she should inform her treating physician immediately.',\n",
              " 'Ability to understand the investigational nature, potential risks and benefits of the research study and willingness to sign the written informed consent and HIPAA document(s).']"
            ]
          },
          "metadata": {},
          "execution_count": 127
        }
      ]
    },
    {
      "cell_type": "markdown",
      "source": [
        "All inclusion criteria for a trial are extracted as a single list. Seperate criterias are essentially different elements of this list."
      ],
      "metadata": {
        "id": "zg5jQRf2xPsp"
      }
    },
    {
      "cell_type": "code",
      "source": [
        "#Initialize an empty list to store inclusion criteria for each trial\n",
        "## Extract only 250 studies to start with\n",
        "n_study = 250\n",
        "incl_list = list()\n",
        "from tqdm import tqdm\n",
        "for i in tqdm(range(n_study)):\n",
        "  incl= criteria_ext(url=BC_url[i]).split('\\n')\n",
        "  incl_list.append(incl)"
      ],
      "metadata": {
        "colab": {
          "base_uri": "https://localhost:8080/"
        },
        "id": "LFAF9sqYnLtL",
        "outputId": "b05fa57c-d5c9-47ae-dfd8-6b03eb87aef3"
      },
      "execution_count": 85,
      "outputs": [
        {
          "output_type": "stream",
          "name": "stderr",
          "text": [
            "100%|██████████| 250/250 [00:59<00:00,  4.21it/s]\n"
          ]
        }
      ]
    },
    {
      "cell_type": "code",
      "source": [
        "# repeat clinical trial ID as many times as number of inclusion criteria\n",
        "NCTID=[]\n",
        "for i in range(len(incl_list)):\n",
        "  ID=[BC_NCTID[i]]*len(incl_list[i])\n",
        "  NCTID.extend(ID)"
      ],
      "metadata": {
        "id": "kYLJSniv8Pko"
      },
      "execution_count": 103,
      "outputs": []
    },
    {
      "cell_type": "code",
      "source": [
        "# stretch all inclusion criteri in single long list\n",
        "all_incl = [item for sublist in incl_list for item in sublist]"
      ],
      "metadata": {
        "id": "YG53F6Bp9YmX"
      },
      "execution_count": 108,
      "outputs": []
    },
    {
      "cell_type": "code",
      "source": [
        "# check : total number of data points\n",
        "print('Number of inclusion criteria:',len(all_incl))\n",
        "print('\\nNumber of NCTIDs:',len(NCTID))"
      ],
      "metadata": {
        "colab": {
          "base_uri": "https://localhost:8080/"
        },
        "id": "RasrM39F_PtE",
        "outputId": "f0448d05-ac19-4afc-ea24-073257c0b914"
      },
      "execution_count": 112,
      "outputs": [
        {
          "output_type": "stream",
          "name": "stdout",
          "text": [
            "Number of inclusion criteria: 2016\n",
            "\n",
            "Number of NCTIDs: 2016\n"
          ]
        }
      ]
    },
    {
      "cell_type": "markdown",
      "source": [
        "List to data frame"
      ],
      "metadata": {
        "id": "Zw58N5voFKXN"
      }
    },
    {
      "cell_type": "code",
      "source": [
        "BC_data=pd.DataFrame(list(zip(NCTID,all_incl)), columns=['Trial_ID','Incl_crit'])"
      ],
      "metadata": {
        "id": "x7wyQNpE_24j"
      },
      "execution_count": 115,
      "outputs": []
    },
    {
      "cell_type": "markdown",
      "source": [
        "Remove records that are recorded as Error."
      ],
      "metadata": {
        "id": "uTRgS2uDFVas"
      }
    },
    {
      "cell_type": "code",
      "source": [
        "BC_data= BC_data[BC_data['Incl_crit']!='Error']"
      ],
      "metadata": {
        "id": "MXW_DJFbENxY"
      },
      "execution_count": 123,
      "outputs": []
    },
    {
      "cell_type": "code",
      "source": [
        "BC_data.head()"
      ],
      "metadata": {
        "colab": {
          "base_uri": "https://localhost:8080/",
          "height": 206
        },
        "id": "0N0tMs13Az3e",
        "outputId": "63b2f345-7764-4cd6-9064-7d211b295d1f"
      },
      "execution_count": 124,
      "outputs": [
        {
          "output_type": "execute_result",
          "data": {
            "text/plain": [
              "      Trial_ID                                          Incl_crit\n",
              "0  NCT05376241                                             Female\n",
              "1  NCT05376241                         Between 39-49 years of age\n",
              "2  NCT05376241                        No history of breast cancer\n",
              "3  NCT05376241                         No known BRCA 1/2 mutation\n",
              "4  NCT05600257  individuals were diagnosed with breast cancer ..."
            ],
            "text/html": [
              "\n",
              "  <div id=\"df-df50bd1a-dd19-48d5-aaef-5390e6f4877b\">\n",
              "    <div class=\"colab-df-container\">\n",
              "      <div>\n",
              "<style scoped>\n",
              "    .dataframe tbody tr th:only-of-type {\n",
              "        vertical-align: middle;\n",
              "    }\n",
              "\n",
              "    .dataframe tbody tr th {\n",
              "        vertical-align: top;\n",
              "    }\n",
              "\n",
              "    .dataframe thead th {\n",
              "        text-align: right;\n",
              "    }\n",
              "</style>\n",
              "<table border=\"1\" class=\"dataframe\">\n",
              "  <thead>\n",
              "    <tr style=\"text-align: right;\">\n",
              "      <th></th>\n",
              "      <th>Trial_ID</th>\n",
              "      <th>Incl_crit</th>\n",
              "    </tr>\n",
              "  </thead>\n",
              "  <tbody>\n",
              "    <tr>\n",
              "      <th>0</th>\n",
              "      <td>NCT05376241</td>\n",
              "      <td>Female</td>\n",
              "    </tr>\n",
              "    <tr>\n",
              "      <th>1</th>\n",
              "      <td>NCT05376241</td>\n",
              "      <td>Between 39-49 years of age</td>\n",
              "    </tr>\n",
              "    <tr>\n",
              "      <th>2</th>\n",
              "      <td>NCT05376241</td>\n",
              "      <td>No history of breast cancer</td>\n",
              "    </tr>\n",
              "    <tr>\n",
              "      <th>3</th>\n",
              "      <td>NCT05376241</td>\n",
              "      <td>No known BRCA 1/2 mutation</td>\n",
              "    </tr>\n",
              "    <tr>\n",
              "      <th>4</th>\n",
              "      <td>NCT05600257</td>\n",
              "      <td>individuals were diagnosed with breast cancer ...</td>\n",
              "    </tr>\n",
              "  </tbody>\n",
              "</table>\n",
              "</div>\n",
              "      <button class=\"colab-df-convert\" onclick=\"convertToInteractive('df-df50bd1a-dd19-48d5-aaef-5390e6f4877b')\"\n",
              "              title=\"Convert this dataframe to an interactive table.\"\n",
              "              style=\"display:none;\">\n",
              "        \n",
              "  <svg xmlns=\"http://www.w3.org/2000/svg\" height=\"24px\"viewBox=\"0 0 24 24\"\n",
              "       width=\"24px\">\n",
              "    <path d=\"M0 0h24v24H0V0z\" fill=\"none\"/>\n",
              "    <path d=\"M18.56 5.44l.94 2.06.94-2.06 2.06-.94-2.06-.94-.94-2.06-.94 2.06-2.06.94zm-11 1L8.5 8.5l.94-2.06 2.06-.94-2.06-.94L8.5 2.5l-.94 2.06-2.06.94zm10 10l.94 2.06.94-2.06 2.06-.94-2.06-.94-.94-2.06-.94 2.06-2.06.94z\"/><path d=\"M17.41 7.96l-1.37-1.37c-.4-.4-.92-.59-1.43-.59-.52 0-1.04.2-1.43.59L10.3 9.45l-7.72 7.72c-.78.78-.78 2.05 0 2.83L4 21.41c.39.39.9.59 1.41.59.51 0 1.02-.2 1.41-.59l7.78-7.78 2.81-2.81c.8-.78.8-2.07 0-2.86zM5.41 20L4 18.59l7.72-7.72 1.47 1.35L5.41 20z\"/>\n",
              "  </svg>\n",
              "      </button>\n",
              "      \n",
              "  <style>\n",
              "    .colab-df-container {\n",
              "      display:flex;\n",
              "      flex-wrap:wrap;\n",
              "      gap: 12px;\n",
              "    }\n",
              "\n",
              "    .colab-df-convert {\n",
              "      background-color: #E8F0FE;\n",
              "      border: none;\n",
              "      border-radius: 50%;\n",
              "      cursor: pointer;\n",
              "      display: none;\n",
              "      fill: #1967D2;\n",
              "      height: 32px;\n",
              "      padding: 0 0 0 0;\n",
              "      width: 32px;\n",
              "    }\n",
              "\n",
              "    .colab-df-convert:hover {\n",
              "      background-color: #E2EBFA;\n",
              "      box-shadow: 0px 1px 2px rgba(60, 64, 67, 0.3), 0px 1px 3px 1px rgba(60, 64, 67, 0.15);\n",
              "      fill: #174EA6;\n",
              "    }\n",
              "\n",
              "    [theme=dark] .colab-df-convert {\n",
              "      background-color: #3B4455;\n",
              "      fill: #D2E3FC;\n",
              "    }\n",
              "\n",
              "    [theme=dark] .colab-df-convert:hover {\n",
              "      background-color: #434B5C;\n",
              "      box-shadow: 0px 1px 3px 1px rgba(0, 0, 0, 0.15);\n",
              "      filter: drop-shadow(0px 1px 2px rgba(0, 0, 0, 0.3));\n",
              "      fill: #FFFFFF;\n",
              "    }\n",
              "  </style>\n",
              "\n",
              "      <script>\n",
              "        const buttonEl =\n",
              "          document.querySelector('#df-df50bd1a-dd19-48d5-aaef-5390e6f4877b button.colab-df-convert');\n",
              "        buttonEl.style.display =\n",
              "          google.colab.kernel.accessAllowed ? 'block' : 'none';\n",
              "\n",
              "        async function convertToInteractive(key) {\n",
              "          const element = document.querySelector('#df-df50bd1a-dd19-48d5-aaef-5390e6f4877b');\n",
              "          const dataTable =\n",
              "            await google.colab.kernel.invokeFunction('convertToInteractive',\n",
              "                                                     [key], {});\n",
              "          if (!dataTable) return;\n",
              "\n",
              "          const docLinkHtml = 'Like what you see? Visit the ' +\n",
              "            '<a target=\"_blank\" href=https://colab.research.google.com/notebooks/data_table.ipynb>data table notebook</a>'\n",
              "            + ' to learn more about interactive tables.';\n",
              "          element.innerHTML = '';\n",
              "          dataTable['output_type'] = 'display_data';\n",
              "          await google.colab.output.renderOutput(dataTable, element);\n",
              "          const docLink = document.createElement('div');\n",
              "          docLink.innerHTML = docLinkHtml;\n",
              "          element.appendChild(docLink);\n",
              "        }\n",
              "      </script>\n",
              "    </div>\n",
              "  </div>\n",
              "  "
            ]
          },
          "metadata": {},
          "execution_count": 124
        }
      ]
    },
    {
      "cell_type": "code",
      "source": [
        "# Store data frame to a csv for future use\n",
        "BC_data.to_csv(r'/content/BreastCancer_incl.csv')"
      ],
      "metadata": {
        "id": "q-HMxeqmDk1C"
      },
      "execution_count": 125,
      "outputs": []
    },
    {
      "cell_type": "code",
      "source": [
        "print('Number of studies dropped from first', n_study,'studies=', len(all_incl)- BC_data.shape[0])"
      ],
      "metadata": {
        "id": "rQF2G5URL7_X"
      },
      "execution_count": null,
      "outputs": []
    },
    {
      "cell_type": "markdown",
      "source": [
        "### Preparation of Asthma data\n",
        "\n",
        "Same steps as breast cancer data preparation are used."
      ],
      "metadata": {
        "id": "OrZpbNR-HeyF"
      }
    },
    {
      "cell_type": "code",
      "source": [
        "AS_raw=pd.read_csv('/content/Asthma.csv')"
      ],
      "metadata": {
        "id": "qx7q-nePHn96"
      },
      "execution_count": 132,
      "outputs": []
    },
    {
      "cell_type": "code",
      "source": [
        "AS_raw.head()"
      ],
      "metadata": {
        "colab": {
          "base_uri": "https://localhost:8080/",
          "height": 716
        },
        "id": "uhdiewalH2F9",
        "outputId": "7f21548f-2f40-4d83-d993-a323b52867d1"
      },
      "execution_count": 133,
      "outputs": [
        {
          "output_type": "execute_result",
          "data": {
            "text/plain": [
              "   Rank   NCT Number                                     Title   Acronym  \\\n",
              "0     1  NCT04293588         Asthma: Phenotyping EXacerbations      APEX   \n",
              "1     2  NCT04293445       Asthma: Phenotyping Exacerbations 2    APEX 2   \n",
              "2     3  NCT03520881                 Pediatric ASTHMA-Educator       NaN   \n",
              "3     4  NCT05439915       Asthma Diagnosis Through Peak Flows  DAPF-CSL   \n",
              "4     5  NCT04125316  Level of FeNO in Chinese Asthma Patients       NaN   \n",
              "\n",
              "               Status         Study Results Conditions  \\\n",
              "0          Recruiting  No Results Available     Asthma   \n",
              "1          Recruiting  No Results Available     ASTHMA   \n",
              "2           Completed  No Results Available     Asthma   \n",
              "3  Not yet recruiting  No Results Available     Asthma   \n",
              "4          Recruiting  No Results Available     Asthma   \n",
              "\n",
              "                                       Interventions  \\\n",
              "0  Diagnostic Test: spirometry, FOT, Induced sput...   \n",
              "1  Diagnostic Test: spirometry, FOT, Induced sput...   \n",
              "2  Other: Pediatric ASTHMA-Educator mobile applic...   \n",
              "3                                                NaN   \n",
              "4                Other: Observation, no intervention   \n",
              "\n",
              "                                    Outcome Measures  \\\n",
              "0  Proportion of study participants with an eosin...   \n",
              "1  Proportion of study participants with an eosin...   \n",
              "2  Change from baseline asthma control to 2, 4, a...   \n",
              "3  Diagnosis of asthma|Acceptation|Ratios|Sensiti...   \n",
              "4  the level of FeNO|FeNO and risk of asthma exac...   \n",
              "\n",
              "                  Sponsor/Collaborators  ...               Other IDs  \\\n",
              "0  University of Nottingham|AstraZeneca  ...                   19051   \n",
              "1  University of Nottingham|AstraZeneca  ...                   19055   \n",
              "2             Montefiore Medical Center  ...              2013-2693A   \n",
              "3         Consorci Sanitari de Terrassa  ...           02-22-161-062   \n",
              "4       Chinese University of Hong Kong  ...  FeNO_study_protocol V1   \n",
              "\n",
              "          Start Date Primary Completion Date    Completion Date  \\\n",
              "0  November 22, 2019               July 2022          July 2022   \n",
              "1  November 22, 2019               July 2022          July 2022   \n",
              "2       July 1, 2016           June 30, 2019      June 30, 2019   \n",
              "3          July 2022            January 2023          July 2023   \n",
              "4   October 15, 2019           June 30, 2022  December 31, 2022   \n",
              "\n",
              "       First Posted Results First Posted Last Update Posted  \\\n",
              "0     March 3, 2020                  NaN     April 29, 2021   \n",
              "1     March 3, 2020                  NaN     April 29, 2021   \n",
              "2      May 11, 2018                  NaN    August 16, 2019   \n",
              "3     June 30, 2022                  NaN       July 8, 2022   \n",
              "4  October 14, 2019                  NaN     March 10, 2022   \n",
              "\n",
              "                                           Locations Study Documents  \\\n",
              "0  Nottingham respriatory research unit, Nottingh...             NaN   \n",
              "1  Nottingham respriatory research unit, Nottingh...             NaN   \n",
              "2  Montefiore Medical Center, Bronx, New York, Un...             NaN   \n",
              "3                                                NaN             NaN   \n",
              "4  The Chinese University of Hong Kong, Hong Kong...             NaN   \n",
              "\n",
              "                                           URL  \n",
              "0  https://ClinicalTrials.gov/show/NCT04293588  \n",
              "1  https://ClinicalTrials.gov/show/NCT04293445  \n",
              "2  https://ClinicalTrials.gov/show/NCT03520881  \n",
              "3  https://ClinicalTrials.gov/show/NCT05439915  \n",
              "4  https://ClinicalTrials.gov/show/NCT04125316  \n",
              "\n",
              "[5 rows x 27 columns]"
            ],
            "text/html": [
              "\n",
              "  <div id=\"df-8d5d13ee-6cab-4feb-8ef7-8097162d49b1\">\n",
              "    <div class=\"colab-df-container\">\n",
              "      <div>\n",
              "<style scoped>\n",
              "    .dataframe tbody tr th:only-of-type {\n",
              "        vertical-align: middle;\n",
              "    }\n",
              "\n",
              "    .dataframe tbody tr th {\n",
              "        vertical-align: top;\n",
              "    }\n",
              "\n",
              "    .dataframe thead th {\n",
              "        text-align: right;\n",
              "    }\n",
              "</style>\n",
              "<table border=\"1\" class=\"dataframe\">\n",
              "  <thead>\n",
              "    <tr style=\"text-align: right;\">\n",
              "      <th></th>\n",
              "      <th>Rank</th>\n",
              "      <th>NCT Number</th>\n",
              "      <th>Title</th>\n",
              "      <th>Acronym</th>\n",
              "      <th>Status</th>\n",
              "      <th>Study Results</th>\n",
              "      <th>Conditions</th>\n",
              "      <th>Interventions</th>\n",
              "      <th>Outcome Measures</th>\n",
              "      <th>Sponsor/Collaborators</th>\n",
              "      <th>...</th>\n",
              "      <th>Other IDs</th>\n",
              "      <th>Start Date</th>\n",
              "      <th>Primary Completion Date</th>\n",
              "      <th>Completion Date</th>\n",
              "      <th>First Posted</th>\n",
              "      <th>Results First Posted</th>\n",
              "      <th>Last Update Posted</th>\n",
              "      <th>Locations</th>\n",
              "      <th>Study Documents</th>\n",
              "      <th>URL</th>\n",
              "    </tr>\n",
              "  </thead>\n",
              "  <tbody>\n",
              "    <tr>\n",
              "      <th>0</th>\n",
              "      <td>1</td>\n",
              "      <td>NCT04293588</td>\n",
              "      <td>Asthma: Phenotyping EXacerbations</td>\n",
              "      <td>APEX</td>\n",
              "      <td>Recruiting</td>\n",
              "      <td>No Results Available</td>\n",
              "      <td>Asthma</td>\n",
              "      <td>Diagnostic Test: spirometry, FOT, Induced sput...</td>\n",
              "      <td>Proportion of study participants with an eosin...</td>\n",
              "      <td>University of Nottingham|AstraZeneca</td>\n",
              "      <td>...</td>\n",
              "      <td>19051</td>\n",
              "      <td>November 22, 2019</td>\n",
              "      <td>July 2022</td>\n",
              "      <td>July 2022</td>\n",
              "      <td>March 3, 2020</td>\n",
              "      <td>NaN</td>\n",
              "      <td>April 29, 2021</td>\n",
              "      <td>Nottingham respriatory research unit, Nottingh...</td>\n",
              "      <td>NaN</td>\n",
              "      <td>https://ClinicalTrials.gov/show/NCT04293588</td>\n",
              "    </tr>\n",
              "    <tr>\n",
              "      <th>1</th>\n",
              "      <td>2</td>\n",
              "      <td>NCT04293445</td>\n",
              "      <td>Asthma: Phenotyping Exacerbations 2</td>\n",
              "      <td>APEX 2</td>\n",
              "      <td>Recruiting</td>\n",
              "      <td>No Results Available</td>\n",
              "      <td>ASTHMA</td>\n",
              "      <td>Diagnostic Test: spirometry, FOT, Induced sput...</td>\n",
              "      <td>Proportion of study participants with an eosin...</td>\n",
              "      <td>University of Nottingham|AstraZeneca</td>\n",
              "      <td>...</td>\n",
              "      <td>19055</td>\n",
              "      <td>November 22, 2019</td>\n",
              "      <td>July 2022</td>\n",
              "      <td>July 2022</td>\n",
              "      <td>March 3, 2020</td>\n",
              "      <td>NaN</td>\n",
              "      <td>April 29, 2021</td>\n",
              "      <td>Nottingham respriatory research unit, Nottingh...</td>\n",
              "      <td>NaN</td>\n",
              "      <td>https://ClinicalTrials.gov/show/NCT04293445</td>\n",
              "    </tr>\n",
              "    <tr>\n",
              "      <th>2</th>\n",
              "      <td>3</td>\n",
              "      <td>NCT03520881</td>\n",
              "      <td>Pediatric ASTHMA-Educator</td>\n",
              "      <td>NaN</td>\n",
              "      <td>Completed</td>\n",
              "      <td>No Results Available</td>\n",
              "      <td>Asthma</td>\n",
              "      <td>Other: Pediatric ASTHMA-Educator mobile applic...</td>\n",
              "      <td>Change from baseline asthma control to 2, 4, a...</td>\n",
              "      <td>Montefiore Medical Center</td>\n",
              "      <td>...</td>\n",
              "      <td>2013-2693A</td>\n",
              "      <td>July 1, 2016</td>\n",
              "      <td>June 30, 2019</td>\n",
              "      <td>June 30, 2019</td>\n",
              "      <td>May 11, 2018</td>\n",
              "      <td>NaN</td>\n",
              "      <td>August 16, 2019</td>\n",
              "      <td>Montefiore Medical Center, Bronx, New York, Un...</td>\n",
              "      <td>NaN</td>\n",
              "      <td>https://ClinicalTrials.gov/show/NCT03520881</td>\n",
              "    </tr>\n",
              "    <tr>\n",
              "      <th>3</th>\n",
              "      <td>4</td>\n",
              "      <td>NCT05439915</td>\n",
              "      <td>Asthma Diagnosis Through Peak Flows</td>\n",
              "      <td>DAPF-CSL</td>\n",
              "      <td>Not yet recruiting</td>\n",
              "      <td>No Results Available</td>\n",
              "      <td>Asthma</td>\n",
              "      <td>NaN</td>\n",
              "      <td>Diagnosis of asthma|Acceptation|Ratios|Sensiti...</td>\n",
              "      <td>Consorci Sanitari de Terrassa</td>\n",
              "      <td>...</td>\n",
              "      <td>02-22-161-062</td>\n",
              "      <td>July 2022</td>\n",
              "      <td>January 2023</td>\n",
              "      <td>July 2023</td>\n",
              "      <td>June 30, 2022</td>\n",
              "      <td>NaN</td>\n",
              "      <td>July 8, 2022</td>\n",
              "      <td>NaN</td>\n",
              "      <td>NaN</td>\n",
              "      <td>https://ClinicalTrials.gov/show/NCT05439915</td>\n",
              "    </tr>\n",
              "    <tr>\n",
              "      <th>4</th>\n",
              "      <td>5</td>\n",
              "      <td>NCT04125316</td>\n",
              "      <td>Level of FeNO in Chinese Asthma Patients</td>\n",
              "      <td>NaN</td>\n",
              "      <td>Recruiting</td>\n",
              "      <td>No Results Available</td>\n",
              "      <td>Asthma</td>\n",
              "      <td>Other: Observation, no intervention</td>\n",
              "      <td>the level of FeNO|FeNO and risk of asthma exac...</td>\n",
              "      <td>Chinese University of Hong Kong</td>\n",
              "      <td>...</td>\n",
              "      <td>FeNO_study_protocol V1</td>\n",
              "      <td>October 15, 2019</td>\n",
              "      <td>June 30, 2022</td>\n",
              "      <td>December 31, 2022</td>\n",
              "      <td>October 14, 2019</td>\n",
              "      <td>NaN</td>\n",
              "      <td>March 10, 2022</td>\n",
              "      <td>The Chinese University of Hong Kong, Hong Kong...</td>\n",
              "      <td>NaN</td>\n",
              "      <td>https://ClinicalTrials.gov/show/NCT04125316</td>\n",
              "    </tr>\n",
              "  </tbody>\n",
              "</table>\n",
              "<p>5 rows × 27 columns</p>\n",
              "</div>\n",
              "      <button class=\"colab-df-convert\" onclick=\"convertToInteractive('df-8d5d13ee-6cab-4feb-8ef7-8097162d49b1')\"\n",
              "              title=\"Convert this dataframe to an interactive table.\"\n",
              "              style=\"display:none;\">\n",
              "        \n",
              "  <svg xmlns=\"http://www.w3.org/2000/svg\" height=\"24px\"viewBox=\"0 0 24 24\"\n",
              "       width=\"24px\">\n",
              "    <path d=\"M0 0h24v24H0V0z\" fill=\"none\"/>\n",
              "    <path d=\"M18.56 5.44l.94 2.06.94-2.06 2.06-.94-2.06-.94-.94-2.06-.94 2.06-2.06.94zm-11 1L8.5 8.5l.94-2.06 2.06-.94-2.06-.94L8.5 2.5l-.94 2.06-2.06.94zm10 10l.94 2.06.94-2.06 2.06-.94-2.06-.94-.94-2.06-.94 2.06-2.06.94z\"/><path d=\"M17.41 7.96l-1.37-1.37c-.4-.4-.92-.59-1.43-.59-.52 0-1.04.2-1.43.59L10.3 9.45l-7.72 7.72c-.78.78-.78 2.05 0 2.83L4 21.41c.39.39.9.59 1.41.59.51 0 1.02-.2 1.41-.59l7.78-7.78 2.81-2.81c.8-.78.8-2.07 0-2.86zM5.41 20L4 18.59l7.72-7.72 1.47 1.35L5.41 20z\"/>\n",
              "  </svg>\n",
              "      </button>\n",
              "      \n",
              "  <style>\n",
              "    .colab-df-container {\n",
              "      display:flex;\n",
              "      flex-wrap:wrap;\n",
              "      gap: 12px;\n",
              "    }\n",
              "\n",
              "    .colab-df-convert {\n",
              "      background-color: #E8F0FE;\n",
              "      border: none;\n",
              "      border-radius: 50%;\n",
              "      cursor: pointer;\n",
              "      display: none;\n",
              "      fill: #1967D2;\n",
              "      height: 32px;\n",
              "      padding: 0 0 0 0;\n",
              "      width: 32px;\n",
              "    }\n",
              "\n",
              "    .colab-df-convert:hover {\n",
              "      background-color: #E2EBFA;\n",
              "      box-shadow: 0px 1px 2px rgba(60, 64, 67, 0.3), 0px 1px 3px 1px rgba(60, 64, 67, 0.15);\n",
              "      fill: #174EA6;\n",
              "    }\n",
              "\n",
              "    [theme=dark] .colab-df-convert {\n",
              "      background-color: #3B4455;\n",
              "      fill: #D2E3FC;\n",
              "    }\n",
              "\n",
              "    [theme=dark] .colab-df-convert:hover {\n",
              "      background-color: #434B5C;\n",
              "      box-shadow: 0px 1px 3px 1px rgba(0, 0, 0, 0.15);\n",
              "      filter: drop-shadow(0px 1px 2px rgba(0, 0, 0, 0.3));\n",
              "      fill: #FFFFFF;\n",
              "    }\n",
              "  </style>\n",
              "\n",
              "      <script>\n",
              "        const buttonEl =\n",
              "          document.querySelector('#df-8d5d13ee-6cab-4feb-8ef7-8097162d49b1 button.colab-df-convert');\n",
              "        buttonEl.style.display =\n",
              "          google.colab.kernel.accessAllowed ? 'block' : 'none';\n",
              "\n",
              "        async function convertToInteractive(key) {\n",
              "          const element = document.querySelector('#df-8d5d13ee-6cab-4feb-8ef7-8097162d49b1');\n",
              "          const dataTable =\n",
              "            await google.colab.kernel.invokeFunction('convertToInteractive',\n",
              "                                                     [key], {});\n",
              "          if (!dataTable) return;\n",
              "\n",
              "          const docLinkHtml = 'Like what you see? Visit the ' +\n",
              "            '<a target=\"_blank\" href=https://colab.research.google.com/notebooks/data_table.ipynb>data table notebook</a>'\n",
              "            + ' to learn more about interactive tables.';\n",
              "          element.innerHTML = '';\n",
              "          dataTable['output_type'] = 'display_data';\n",
              "          await google.colab.output.renderOutput(dataTable, element);\n",
              "          const docLink = document.createElement('div');\n",
              "          docLink.innerHTML = docLinkHtml;\n",
              "          element.appendChild(docLink);\n",
              "        }\n",
              "      </script>\n",
              "    </div>\n",
              "  </div>\n",
              "  "
            ]
          },
          "metadata": {},
          "execution_count": 133
        }
      ]
    },
    {
      "cell_type": "code",
      "source": [
        "# Store URLs and NCT IDs seperately\n",
        "AS_url= AS_raw['URL']\n",
        "AS_NCTID= AS_raw['NCT Number']"
      ],
      "metadata": {
        "id": "Xod2tHv0H_zG"
      },
      "execution_count": 140,
      "outputs": []
    },
    {
      "cell_type": "markdown",
      "source": [
        "All inclusion criteria for a trial are extracted as a single list. Seperate criterias are essentially different elements of this list."
      ],
      "metadata": {
        "id": "SPVIQiCsILow"
      }
    },
    {
      "cell_type": "code",
      "source": [
        "#Initialize an empty list to store inclusion criteria for each trial\n",
        "## Extract only 250 studies to start with\n",
        "n_study = 250\n",
        "incl_list = list()\n",
        "from tqdm import tqdm\n",
        "for i in tqdm(range(n_study)):\n",
        "  incl= criteria_ext(url=AS_url[i]).split('\\n')\n",
        "  incl_list.append(incl)"
      ],
      "metadata": {
        "colab": {
          "base_uri": "https://localhost:8080/"
        },
        "outputId": "a510002d-cfd9-49f7-b423-bfd239e0ae1c",
        "id": "tUd4w8KLILox"
      },
      "execution_count": 141,
      "outputs": [
        {
          "output_type": "stream",
          "name": "stderr",
          "text": [
            "100%|██████████| 250/250 [01:01<00:00,  4.09it/s]\n"
          ]
        }
      ]
    },
    {
      "cell_type": "code",
      "source": [
        "incl_list[10]"
      ],
      "metadata": {
        "colab": {
          "base_uri": "https://localhost:8080/"
        },
        "id": "k4Q7fipdIqzw",
        "outputId": "008f3e75-67d7-438a-ea6b-1160a92693a2"
      },
      "execution_count": 149,
      "outputs": [
        {
          "output_type": "execute_result",
          "data": {
            "text/plain": [
              "['Ages 12 to 21 years, inclusive, of both genders',\n",
              " 'Physician diagnosis of persistent asthma or symptoms consistent with persistent asthma based on expert guidelines for diagnosis and management of asthma (1).',\n",
              " 'Current use of a controller therapy such as an inhaled corticosteroid (ICS), ICS in combination with long-acting beta agonist (LABA), or leukotriene receptor antagonist (LTRA).',\n",
              " 'Asthma is \"not well controlled\" (participant must have ≥1 of the following):',\n",
              " 'Asthma Control Test (ACT) score <20,',\n",
              " 'FEV1 <80% of predicted,',\n",
              " 'Meets Global Initiative on Asthma (GINA) criteria for partly controlled or uncontrolled asthma (2):',\n",
              " 'In the past 4 weeks, has the patient had:',\n",
              " 'Daytime symptoms >2x/week?',\n",
              " 'Any night waking due to asthma?',\n",
              " 'SABA reliever needed >2x/week?',\n",
              " 'Any activity limitation due to asthma?',\n",
              " '[0 = Well controlled; 1-2 = Partly controlled; 3-4 = Uncontrolled]',\n",
              " 'A history of at least one exacerbation requiring systemic corticosteroids (oral, IM or IV) in the past 24 months',\n",
              " 'Access to a smartphone',\n",
              " \"Wireless internet access in the participant's home\",\n",
              " 'Access to a standard freezer in the home']"
            ]
          },
          "metadata": {},
          "execution_count": 149
        }
      ]
    },
    {
      "cell_type": "code",
      "source": [
        "# repeat clinical trial ID as many times as number of inclusion criteria\n",
        "NCTID=[]\n",
        "for i in range(len(incl_list)):\n",
        "  ID=[AS_NCTID[i]]*len(incl_list[i])\n",
        "  NCTID.extend(ID)"
      ],
      "metadata": {
        "id": "A0JuJtvwIYs9"
      },
      "execution_count": 150,
      "outputs": []
    },
    {
      "cell_type": "code",
      "source": [
        "# stretch all inclusion criteri in single long list\n",
        "all_incl = [item for sublist in incl_list for item in sublist]"
      ],
      "metadata": {
        "id": "w-fB15kNIYs-"
      },
      "execution_count": 151,
      "outputs": []
    },
    {
      "cell_type": "code",
      "source": [
        "# check : total number of data points\n",
        "print('Number of inclusion criteria:',len(all_incl))\n",
        "print('\\nNumber of NCTIDs:',len(NCTID))"
      ],
      "metadata": {
        "colab": {
          "base_uri": "https://localhost:8080/"
        },
        "outputId": "a66046c8-aa02-4725-c3de-9f75abe337bb",
        "id": "v-Pldf-XIYs-"
      },
      "execution_count": 152,
      "outputs": [
        {
          "output_type": "stream",
          "name": "stdout",
          "text": [
            "Number of inclusion criteria: 1235\n",
            "\n",
            "Number of NCTIDs: 1235\n"
          ]
        }
      ]
    },
    {
      "cell_type": "markdown",
      "source": [
        "List to data frame"
      ],
      "metadata": {
        "id": "3Zi5UQdvKDKw"
      }
    },
    {
      "cell_type": "code",
      "source": [
        "AS_data=pd.DataFrame(list(zip(NCTID,all_incl)), columns=['Trial_ID','Incl_crit'])"
      ],
      "metadata": {
        "id": "o3lqnrHYKDKy"
      },
      "execution_count": 155,
      "outputs": []
    },
    {
      "cell_type": "markdown",
      "source": [
        "Remove records that are recorded as Error."
      ],
      "metadata": {
        "id": "cCrp-MWmKDKy"
      }
    },
    {
      "cell_type": "code",
      "source": [
        "AS_data= AS_data[AS_data['Incl_crit']!='Error']"
      ],
      "metadata": {
        "id": "3whkcIMfKDKy"
      },
      "execution_count": 156,
      "outputs": []
    },
    {
      "cell_type": "code",
      "source": [
        "AS_data.to_csv('/content/Asthma_incl.csv')"
      ],
      "metadata": {
        "id": "hGp0c6-SLDVv"
      },
      "execution_count": 161,
      "outputs": []
    },
    {
      "cell_type": "code",
      "source": [
        "AS_data.shape"
      ],
      "metadata": {
        "colab": {
          "base_uri": "https://localhost:8080/"
        },
        "id": "riS_E4u5KSLD",
        "outputId": "03301890-53ac-496c-92b4-cda40a95212b"
      },
      "execution_count": 159,
      "outputs": [
        {
          "output_type": "execute_result",
          "data": {
            "text/plain": [
              "(1196, 2)"
            ]
          },
          "metadata": {},
          "execution_count": 159
        }
      ]
    },
    {
      "cell_type": "code",
      "source": [
        "print('Number of studies dropped from first', n_study,'studies=', len(all_incl)- AS_data.shape[0])"
      ],
      "metadata": {
        "colab": {
          "base_uri": "https://localhost:8080/"
        },
        "id": "B1U0GmbzKj4S",
        "outputId": "10948516-56fa-45e8-b372-90488102a835"
      },
      "execution_count": 160,
      "outputs": [
        {
          "output_type": "stream",
          "name": "stdout",
          "text": [
            "Number of studies dropped from first 250 studies: 39\n"
          ]
        }
      ]
    }
  ]
}