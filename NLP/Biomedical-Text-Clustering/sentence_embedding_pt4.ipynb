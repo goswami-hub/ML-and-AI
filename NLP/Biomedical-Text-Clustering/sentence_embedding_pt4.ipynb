{
  "nbformat": 4,
  "nbformat_minor": 0,
  "metadata": {
    "colab": {
      "provenance": [],
      "collapsed_sections": []
    },
    "kernelspec": {
      "name": "python3",
      "display_name": "Python 3"
    },
    "language_info": {
      "name": "python"
    }
  },
  "cells": [
    {
      "cell_type": "markdown",
      "source": [
        "# Topic Modelling using Latent Dirichlet Allocation (LDA)\n",
        "Major assumptions:\n",
        "1. Each document is as homogeneous as possible in terms of topic, i.e. each document is likely expplained by as less topics as possible\n",
        "2. Each word is as homogeneous as possible in terms of a topic, i.e. each word is as unique as possible for a topic description."
      ],
      "metadata": {
        "id": "-f7uS1i0jdGn"
      }
    },
    {
      "cell_type": "markdown",
      "source": [
        "## Load necessary libraries for this notebook"
      ],
      "metadata": {
        "id": "iA4l9exvAUEB"
      }
    },
    {
      "cell_type": "code",
      "source": [
        "# Download nltk stowards for stopword removal\n",
        "\n",
        "import nltk\n",
        "nltk.download(\"stopwords\")\n",
        "\n",
        "# LDA visualization using pyLDAvis\n",
        "\n",
        "!pip install pyLDAvis"
      ],
      "metadata": {
        "colab": {
          "base_uri": "https://localhost:8080/"
        },
        "id": "jLVZFvp1_qjY",
        "outputId": "1e87926a-d346-4c66-af3e-f2edae267de2"
      },
      "execution_count": 1,
      "outputs": [
        {
          "output_type": "stream",
          "name": "stderr",
          "text": [
            "[nltk_data] Downloading package stopwords to /root/nltk_data...\n",
            "[nltk_data]   Unzipping corpora/stopwords.zip.\n"
          ]
        },
        {
          "output_type": "stream",
          "name": "stdout",
          "text": [
            "Looking in indexes: https://pypi.org/simple, https://us-python.pkg.dev/colab-wheels/public/simple/\n",
            "Collecting pyLDAvis\n",
            "  Downloading pyLDAvis-3.3.1.tar.gz (1.7 MB)\n",
            "\u001b[K     |████████████████████████████████| 1.7 MB 13.7 MB/s \n",
            "\u001b[?25h  Installing build dependencies ... \u001b[?25l\u001b[?25hdone\n",
            "  Getting requirements to build wheel ... \u001b[?25l\u001b[?25hdone\n",
            "  Installing backend dependencies ... \u001b[?25l\u001b[?25hdone\n",
            "    Preparing wheel metadata ... \u001b[?25l\u001b[?25hdone\n",
            "Requirement already satisfied: future in /usr/local/lib/python3.7/dist-packages (from pyLDAvis) (0.16.0)\n",
            "Requirement already satisfied: scipy in /usr/local/lib/python3.7/dist-packages (from pyLDAvis) (1.7.3)\n",
            "Requirement already satisfied: joblib in /usr/local/lib/python3.7/dist-packages (from pyLDAvis) (1.2.0)\n",
            "Collecting sklearn\n",
            "  Downloading sklearn-0.0.post1.tar.gz (3.6 kB)\n",
            "Requirement already satisfied: pandas>=1.2.0 in /usr/local/lib/python3.7/dist-packages (from pyLDAvis) (1.3.5)\n",
            "Requirement already satisfied: setuptools in /usr/local/lib/python3.7/dist-packages (from pyLDAvis) (57.4.0)\n",
            "Requirement already satisfied: numpy>=1.20.0 in /usr/local/lib/python3.7/dist-packages (from pyLDAvis) (1.21.6)\n",
            "Requirement already satisfied: numexpr in /usr/local/lib/python3.7/dist-packages (from pyLDAvis) (2.8.4)\n",
            "Requirement already satisfied: jinja2 in /usr/local/lib/python3.7/dist-packages (from pyLDAvis) (2.11.3)\n",
            "Collecting funcy\n",
            "  Downloading funcy-1.17-py2.py3-none-any.whl (33 kB)\n",
            "Requirement already satisfied: scikit-learn in /usr/local/lib/python3.7/dist-packages (from pyLDAvis) (1.0.2)\n",
            "Requirement already satisfied: gensim in /usr/local/lib/python3.7/dist-packages (from pyLDAvis) (3.6.0)\n",
            "Requirement already satisfied: pytz>=2017.3 in /usr/local/lib/python3.7/dist-packages (from pandas>=1.2.0->pyLDAvis) (2022.6)\n",
            "Requirement already satisfied: python-dateutil>=2.7.3 in /usr/local/lib/python3.7/dist-packages (from pandas>=1.2.0->pyLDAvis) (2.8.2)\n",
            "Requirement already satisfied: six>=1.5 in /usr/local/lib/python3.7/dist-packages (from python-dateutil>=2.7.3->pandas>=1.2.0->pyLDAvis) (1.15.0)\n",
            "Requirement already satisfied: smart-open>=1.2.1 in /usr/local/lib/python3.7/dist-packages (from gensim->pyLDAvis) (5.2.1)\n",
            "Requirement already satisfied: MarkupSafe>=0.23 in /usr/local/lib/python3.7/dist-packages (from jinja2->pyLDAvis) (2.0.1)\n",
            "Requirement already satisfied: threadpoolctl>=2.0.0 in /usr/local/lib/python3.7/dist-packages (from scikit-learn->pyLDAvis) (3.1.0)\n",
            "Building wheels for collected packages: pyLDAvis, sklearn\n",
            "  Building wheel for pyLDAvis (PEP 517) ... \u001b[?25l\u001b[?25hdone\n",
            "  Created wheel for pyLDAvis: filename=pyLDAvis-3.3.1-py2.py3-none-any.whl size=136898 sha256=efbc0a86f71f08f49d35e99a9ab004c1aba0501cd177749b73bcb82075abbcfd\n",
            "  Stored in directory: /root/.cache/pip/wheels/c9/21/f6/17bcf2667e8a68532ba2fbf6d5c72fdf4c7f7d9abfa4852d2f\n",
            "  Building wheel for sklearn (setup.py) ... \u001b[?25l\u001b[?25hdone\n",
            "  Created wheel for sklearn: filename=sklearn-0.0.post1-py3-none-any.whl size=2344 sha256=1808111400537f6e1e90f506b02409394fbec7ef2d7a6cd8d06334ed9c915294\n",
            "  Stored in directory: /root/.cache/pip/wheels/42/56/cc/4a8bf86613aafd5b7f1b310477667c1fca5c51c3ae4124a003\n",
            "Successfully built pyLDAvis sklearn\n",
            "Installing collected packages: sklearn, funcy, pyLDAvis\n",
            "Successfully installed funcy-1.17 pyLDAvis-3.3.1 sklearn-0.0.post1\n"
          ]
        }
      ]
    },
    {
      "cell_type": "code",
      "execution_count": 2,
      "metadata": {
        "id": "enM75emRjQhy",
        "colab": {
          "base_uri": "https://localhost:8080/"
        },
        "outputId": "31117bbd-c584-45a5-ce11-792593e21f0a"
      },
      "outputs": [
        {
          "output_type": "stream",
          "name": "stderr",
          "text": [
            "/usr/local/lib/python3.7/dist-packages/past/types/oldstr.py:5: DeprecationWarning: Using or importing the ABCs from 'collections' instead of from 'collections.abc' is deprecated since Python 3.3,and in 3.9 it will stop working\n",
            "  from collections import Iterable\n"
          ]
        }
      ],
      "source": [
        "# synatctic processing related libraries\n",
        "from nltk.corpus import stopwords\n",
        "import spacy\n",
        "import re\n",
        "\n",
        "# Numpy and pandas to read the data\n",
        "import numpy as np\n",
        "import pandas as pd\n",
        "from pandas.core.base import value_counts\n",
        "\n",
        "# LDA from gensim\n",
        "\n",
        "import gensim\n",
        "import gensim.corpora as corpora\n",
        "from gensim.utils import simple_preprocess\n",
        "from gensim.models import CoherenceModel\n",
        "\n",
        "# Visulaization\n",
        "import pyLDAvis\n",
        "import pyLDAvis.gensim_models\n",
        "\n",
        "# Stop showing deprecation realted warnings\n",
        "import warnings\n",
        "warnings.filterwarnings(\"ignore\", category=DeprecationWarning)"
      ]
    },
    {
      "cell_type": "markdown",
      "source": [
        "# Load and pre-process data"
      ],
      "metadata": {
        "id": "Vt6ASlL0A1gA"
      }
    },
    {
      "cell_type": "code",
      "source": [
        "bc_incl = pd.read_csv('/content/BreastCancer_incl.csv',index_col=[0], encoding=\"utf-8\")\n",
        "print(\"Number of protocols in the file\", bc_incl['Trial_ID'].nunique())\n",
        "print(\"Total number of inclusion criteria in the file\", bc_incl.shape[0])"
      ],
      "metadata": {
        "colab": {
          "base_uri": "https://localhost:8080/"
        },
        "id": "oBPMnknKA8OZ",
        "outputId": "3251d687-1ab9-4dae-b261-dfc6164d2990"
      },
      "execution_count": 3,
      "outputs": [
        {
          "output_type": "stream",
          "name": "stdout",
          "text": [
            "Number of protocols in the file 213\n",
            "Total number of inclusion criteria in the file 1979\n"
          ]
        }
      ]
    },
    {
      "cell_type": "code",
      "source": [
        "# Check for missing values related to encodings\n",
        "bc_incl[bc_incl.isnull().any(axis=1)]"
      ],
      "metadata": {
        "colab": {
          "base_uri": "https://localhost:8080/",
          "height": 49
        },
        "id": "JPES7NzcBGZx",
        "outputId": "52d8deab-3238-44d4-f60b-943b2059f042"
      },
      "execution_count": 4,
      "outputs": [
        {
          "output_type": "execute_result",
          "data": {
            "text/plain": [
              "Empty DataFrame\n",
              "Columns: [Trial_ID, Incl_crit]\n",
              "Index: []"
            ],
            "text/html": [
              "\n",
              "  <div id=\"df-6f82eecb-82b8-4114-b4d6-61c95f636dc2\">\n",
              "    <div class=\"colab-df-container\">\n",
              "      <div>\n",
              "<style scoped>\n",
              "    .dataframe tbody tr th:only-of-type {\n",
              "        vertical-align: middle;\n",
              "    }\n",
              "\n",
              "    .dataframe tbody tr th {\n",
              "        vertical-align: top;\n",
              "    }\n",
              "\n",
              "    .dataframe thead th {\n",
              "        text-align: right;\n",
              "    }\n",
              "</style>\n",
              "<table border=\"1\" class=\"dataframe\">\n",
              "  <thead>\n",
              "    <tr style=\"text-align: right;\">\n",
              "      <th></th>\n",
              "      <th>Trial_ID</th>\n",
              "      <th>Incl_crit</th>\n",
              "    </tr>\n",
              "  </thead>\n",
              "  <tbody>\n",
              "  </tbody>\n",
              "</table>\n",
              "</div>\n",
              "      <button class=\"colab-df-convert\" onclick=\"convertToInteractive('df-6f82eecb-82b8-4114-b4d6-61c95f636dc2')\"\n",
              "              title=\"Convert this dataframe to an interactive table.\"\n",
              "              style=\"display:none;\">\n",
              "        \n",
              "  <svg xmlns=\"http://www.w3.org/2000/svg\" height=\"24px\"viewBox=\"0 0 24 24\"\n",
              "       width=\"24px\">\n",
              "    <path d=\"M0 0h24v24H0V0z\" fill=\"none\"/>\n",
              "    <path d=\"M18.56 5.44l.94 2.06.94-2.06 2.06-.94-2.06-.94-.94-2.06-.94 2.06-2.06.94zm-11 1L8.5 8.5l.94-2.06 2.06-.94-2.06-.94L8.5 2.5l-.94 2.06-2.06.94zm10 10l.94 2.06.94-2.06 2.06-.94-2.06-.94-.94-2.06-.94 2.06-2.06.94z\"/><path d=\"M17.41 7.96l-1.37-1.37c-.4-.4-.92-.59-1.43-.59-.52 0-1.04.2-1.43.59L10.3 9.45l-7.72 7.72c-.78.78-.78 2.05 0 2.83L4 21.41c.39.39.9.59 1.41.59.51 0 1.02-.2 1.41-.59l7.78-7.78 2.81-2.81c.8-.78.8-2.07 0-2.86zM5.41 20L4 18.59l7.72-7.72 1.47 1.35L5.41 20z\"/>\n",
              "  </svg>\n",
              "      </button>\n",
              "      \n",
              "  <style>\n",
              "    .colab-df-container {\n",
              "      display:flex;\n",
              "      flex-wrap:wrap;\n",
              "      gap: 12px;\n",
              "    }\n",
              "\n",
              "    .colab-df-convert {\n",
              "      background-color: #E8F0FE;\n",
              "      border: none;\n",
              "      border-radius: 50%;\n",
              "      cursor: pointer;\n",
              "      display: none;\n",
              "      fill: #1967D2;\n",
              "      height: 32px;\n",
              "      padding: 0 0 0 0;\n",
              "      width: 32px;\n",
              "    }\n",
              "\n",
              "    .colab-df-convert:hover {\n",
              "      background-color: #E2EBFA;\n",
              "      box-shadow: 0px 1px 2px rgba(60, 64, 67, 0.3), 0px 1px 3px 1px rgba(60, 64, 67, 0.15);\n",
              "      fill: #174EA6;\n",
              "    }\n",
              "\n",
              "    [theme=dark] .colab-df-convert {\n",
              "      background-color: #3B4455;\n",
              "      fill: #D2E3FC;\n",
              "    }\n",
              "\n",
              "    [theme=dark] .colab-df-convert:hover {\n",
              "      background-color: #434B5C;\n",
              "      box-shadow: 0px 1px 3px 1px rgba(0, 0, 0, 0.15);\n",
              "      filter: drop-shadow(0px 1px 2px rgba(0, 0, 0, 0.3));\n",
              "      fill: #FFFFFF;\n",
              "    }\n",
              "  </style>\n",
              "\n",
              "      <script>\n",
              "        const buttonEl =\n",
              "          document.querySelector('#df-6f82eecb-82b8-4114-b4d6-61c95f636dc2 button.colab-df-convert');\n",
              "        buttonEl.style.display =\n",
              "          google.colab.kernel.accessAllowed ? 'block' : 'none';\n",
              "\n",
              "        async function convertToInteractive(key) {\n",
              "          const element = document.querySelector('#df-6f82eecb-82b8-4114-b4d6-61c95f636dc2');\n",
              "          const dataTable =\n",
              "            await google.colab.kernel.invokeFunction('convertToInteractive',\n",
              "                                                     [key], {});\n",
              "          if (!dataTable) return;\n",
              "\n",
              "          const docLinkHtml = 'Like what you see? Visit the ' +\n",
              "            '<a target=\"_blank\" href=https://colab.research.google.com/notebooks/data_table.ipynb>data table notebook</a>'\n",
              "            + ' to learn more about interactive tables.';\n",
              "          element.innerHTML = '';\n",
              "          dataTable['output_type'] = 'display_data';\n",
              "          await google.colab.output.renderOutput(dataTable, element);\n",
              "          const docLink = document.createElement('div');\n",
              "          docLink.innerHTML = docLinkHtml;\n",
              "          element.appendChild(docLink);\n",
              "        }\n",
              "      </script>\n",
              "    </div>\n",
              "  </div>\n",
              "  "
            ]
          },
          "metadata": {},
          "execution_count": 4
        }
      ]
    },
    {
      "cell_type": "markdown",
      "source": [
        "There are no missing records."
      ],
      "metadata": {
        "id": "5f3x7mPgDF4w"
      }
    },
    {
      "cell_type": "markdown",
      "source": [
        "### Pre-process\n",
        "- No cleaning\n",
        "- Simple cleaning : remove alpha numeric letters and convert to lower case \n",
        "- Super cleaning:\n",
        "  - Simple cleaning\n",
        "  - Remove stopwords\n",
        "  - Create pure words using lemmatization"
      ],
      "metadata": {
        "id": "_-3zH7SEDhMT"
      }
    },
    {
      "cell_type": "markdown",
      "source": [
        "**No cleaning and simple cleaning**"
      ],
      "metadata": {
        "id": "80GQA8BTJ3RO"
      }
    },
    {
      "cell_type": "code",
      "source": [
        "no_clean= list(bc_incl['Incl_crit'])\n",
        "simple_clean = [re.sub(r'[^\\w]',' ',sent.lower()) for sent in bc_incl['Incl_crit']]"
      ],
      "metadata": {
        "id": "E68M-HKqHkUY"
      },
      "execution_count": 5,
      "outputs": []
    },
    {
      "cell_type": "code",
      "source": [
        "#New\n",
        "import string\n",
        "\n",
        "test_clean = [sent.translate(str.maketrans('', '', string.punctuation)).lower() for sent in bc_incl['Incl_crit']]"
      ],
      "metadata": {
        "id": "Zc38pxLQo8W0"
      },
      "execution_count": 6,
      "outputs": []
    },
    {
      "cell_type": "code",
      "source": [
        "print('Oringinal text\\n', bc_incl['Incl_crit'][7])\n",
        "print('Clended text after removing alphanumeric symbols and making lower case\\n', simple_clean[7])"
      ],
      "metadata": {
        "colab": {
          "base_uri": "https://localhost:8080/"
        },
        "id": "1_EDoqGuH4dQ",
        "outputId": "5e528849-a92c-49f9-ee81-0bd2128fe85f"
      },
      "execution_count": 7,
      "outputs": [
        {
          "output_type": "stream",
          "name": "stdout",
          "text": [
            "Oringinal text\n",
            " TNBC patients （ HER2-neu 0-1+ by IHC or FISH-negative by ASCO CAP guidelines）\n",
            "Clended text after removing alphanumeric symbols and making lower case\n",
            " tnbc patients   her2 neu 0 1  by ihc or fish negative by asco cap guidelines \n"
          ]
        }
      ]
    },
    {
      "cell_type": "markdown",
      "source": [
        "Note that, we might well use data without cleaning because \n",
        "1. TNBC, FISH these are short form of some sort of diagnosis. After cleasing the meaning is changed (e.g. fish might be interpreted as an creature rather than a test type)"
      ],
      "metadata": {
        "id": "dH3Ks_y9I05Z"
      }
    },
    {
      "cell_type": "markdown",
      "source": [
        "**Super Cleaning**"
      ],
      "metadata": {
        "id": "cP7rbCqCJ8TN"
      }
    },
    {
      "cell_type": "code",
      "source": [
        "# Stopword removal\n",
        "stopwords= stopwords.words(\"english\")"
      ],
      "metadata": {
        "id": "53rVvO19DkK_"
      },
      "execution_count": 8,
      "outputs": []
    },
    {
      "cell_type": "code",
      "source": [
        "# POS_tag specific lemmatization\n",
        "def lemmatize_text(texts, lemma_tags=[\"NOUN\",\"ADJ\", \"VERB\", \"ADV\"]):\n",
        "  # Load the spacy model and remove NER or Parsing pipelines to make it faster\n",
        "  nlp= spacy.load(\"en_core_web_sm\", disable=[\"parser\", \"ner\"])\n",
        "  texts_out=[]\n",
        "  for text in texts:\n",
        "    sent=nlp(text)\n",
        "    new_text = []\n",
        "    for token in sent:\n",
        "      if token.pos_ in lemma_tags:\n",
        "        new_text.append(token.lemma_)\n",
        "    final= \" \".join(new_text)\n",
        "    texts_out.append(final)\n",
        "  return texts_out"
      ],
      "metadata": {
        "id": "T_uyJzXlEBkg"
      },
      "execution_count": 9,
      "outputs": []
    },
    {
      "cell_type": "code",
      "source": [
        "lemmatized_texts= lemmatize_text(simple_clean)"
      ],
      "metadata": {
        "colab": {
          "base_uri": "https://localhost:8080/"
        },
        "id": "DgmJRPKoKb3Y",
        "outputId": "028af523-4d3e-46da-8ccf-9abd497fa20e"
      },
      "execution_count": 10,
      "outputs": [
        {
          "output_type": "stream",
          "name": "stderr",
          "text": [
            "/usr/local/lib/python3.7/dist-packages/spacy/language.py:1899: UserWarning: [W123] Argument disable with value ['parser', 'ner'] is used instead of ['senter'] as specified in the config. Be aware that this might affect other components in your pipeline.\n",
            "  config_value=config[\"nlp\"][key],\n"
          ]
        }
      ]
    },
    {
      "cell_type": "code",
      "source": [
        "print('Oringinal text\\n', no_clean[7])\n",
        "print('Clended text after removing alphanumeric symbols and making lower case\\n', simple_clean[7])\n",
        "print('Lemmatized version\\n', lemmatized_texts[7])"
      ],
      "metadata": {
        "colab": {
          "base_uri": "https://localhost:8080/"
        },
        "id": "crNrTv90KxVv",
        "outputId": "f23d5506-8075-4eea-8899-e34360abeb95"
      },
      "execution_count": 11,
      "outputs": [
        {
          "output_type": "stream",
          "name": "stdout",
          "text": [
            "Oringinal text\n",
            " TNBC patients （ HER2-neu 0-1+ by IHC or FISH-negative by ASCO CAP guidelines）\n",
            "Clended text after removing alphanumeric symbols and making lower case\n",
            " tnbc patients   her2 neu 0 1  by ihc or fish negative by asco cap guidelines \n",
            "Lemmatized version\n",
            " tnbc patient fish negative guideline\n"
          ]
        }
      ]
    },
    {
      "cell_type": "markdown",
      "source": [
        "Lemmatization can pose potential dangerous threat as it has removed key information like `ASCO CAP`"
      ],
      "metadata": {
        "id": "ukBCLZJELhWo"
      }
    },
    {
      "cell_type": "code",
      "source": [
        "# Stopwords removal using gensim utils pre processing\n",
        "def gen_words(texts):\n",
        "  final=[]\n",
        "  for text in texts:\n",
        "    # Along with pre processing the deaccenct option allows to remove non english letters\n",
        "    new= gensim.utils.simple_preprocess(text, deacc=True)\n",
        "    final.append(new)\n",
        "  return final"
      ],
      "metadata": {
        "id": "ZedyUHVULte-"
      },
      "execution_count": 12,
      "outputs": []
    },
    {
      "cell_type": "code",
      "source": [
        "super_clean= gen_words(lemmatized_texts)"
      ],
      "metadata": {
        "id": "MRzPp1YVNK_w"
      },
      "execution_count": 13,
      "outputs": []
    },
    {
      "cell_type": "code",
      "source": [
        "print('Oringinal text\\n', no_clean[7])\n",
        "print('Clended text after removing alphanumeric symbols and making lower case\\n', simple_clean[7])\n",
        "print('Super clean version\\n', super_clean[7])"
      ],
      "metadata": {
        "colab": {
          "base_uri": "https://localhost:8080/"
        },
        "id": "fYtnSKEbNTSf",
        "outputId": "c1d29990-f179-4231-a795-3c7e76a35cd6"
      },
      "execution_count": 14,
      "outputs": [
        {
          "output_type": "stream",
          "name": "stdout",
          "text": [
            "Oringinal text\n",
            " TNBC patients （ HER2-neu 0-1+ by IHC or FISH-negative by ASCO CAP guidelines）\n",
            "Clended text after removing alphanumeric symbols and making lower case\n",
            " tnbc patients   her2 neu 0 1  by ihc or fish negative by asco cap guidelines \n",
            "Super clean version\n",
            " ['tnbc', 'patient', 'fish', 'negative', 'guideline']\n"
          ]
        }
      ]
    },
    {
      "cell_type": "markdown",
      "source": [
        "\n",
        "Idea to improve further:\n",
        "1. Use no_clean version with stop word removal only.\n",
        "2. Use simple clean with stop word removal\n",
        "3. Try using bi-gram or trigram to keep expression like 'FISH-positive' as it is\n",
        "\n",
        "For this notebook we are working only with super clean version."
      ],
      "metadata": {
        "id": "kFpfzgaoPIgd"
      }
    },
    {
      "cell_type": "markdown",
      "source": [
        "**Data dictionary**\n",
        "\n",
        "this step will create a bag of words representation i.e. unique words and it's frequency in each document. \n",
        "*corpora.Dictionary()* a mapping between words and their integer ids <br>\n",
        "*corpora.Dictionary.doc2bow()* Convert document (a list of words) into the bag-of-words format = list of (token_id, token_count) 2-tuples. Each word is assumed to be a tokenized and normalized string (either unicode or utf8-encoded). No further preprocessing is done on the words in document;"
      ],
      "metadata": {
        "id": "xXeE8F9sO1zW"
      }
    },
    {
      "cell_type": "code",
      "source": [
        "#a mapping between words and their integer ids\n",
        "id2word= corpora.Dictionary(super_clean)\n",
        "\n",
        "corpus = []\n",
        "\n",
        "for text in super_clean:\n",
        "  #Bag of words representation\n",
        "  new= id2word.doc2bow(text)\n",
        "  corpus.append(new)\n"
      ],
      "metadata": {
        "id": "cI2_VsSvO6o_"
      },
      "execution_count": 15,
      "outputs": []
    },
    {
      "cell_type": "markdown",
      "source": [
        "Demonstration"
      ],
      "metadata": {
        "id": "SUXbJaxRSvM9"
      }
    },
    {
      "cell_type": "code",
      "source": [
        "print('Super clean version\\n', super_clean[101])"
      ],
      "metadata": {
        "colab": {
          "base_uri": "https://localhost:8080/"
        },
        "id": "VjC4m9w1QPQe",
        "outputId": "32d35015-8d8b-426f-9cd1-087b8e1acbf7"
      },
      "execution_count": 16,
      "outputs": [
        {
          "output_type": "stream",
          "name": "stdout",
          "text": [
            "Super clean version\n",
            " ['receptor', 'status', 'receptor', 'progesterone', 'receptor', 'positive', 'human', 'epidermal', 'growth', 'factor', 'receptor', 'negative']\n"
          ]
        }
      ]
    },
    {
      "cell_type": "code",
      "source": [
        "print('All the words in the complete set of texts (i.e all senteces) are converted to an unique ID\\n')\n",
        "print('Frequency of each ID in each sentence is counted. The final representation is a list of tuples (ID, frequency) for each sentence')\n",
        "\n",
        "print(corpus[101])"
      ],
      "metadata": {
        "colab": {
          "base_uri": "https://localhost:8080/"
        },
        "id": "dmEsVMPhS4Y-",
        "outputId": "dd85df37-8866-46d5-94fa-c9f567055144"
      },
      "execution_count": 17,
      "outputs": [
        {
          "output_type": "stream",
          "name": "stdout",
          "text": [
            "All the words in the complete set of texts (i.e all senteces) are converted to an unique ID\n",
            "\n",
            "Frequency of each ID in each sentence is counted. The final representation is a list of tuples (ID, frequency) for each sentence\n",
            "[(25, 1), (28, 1), (42, 1), (387, 1), (388, 1), (389, 1), (390, 1), (391, 1), (392, 4)]\n"
          ]
        }
      ]
    },
    {
      "cell_type": "code",
      "source": [
        "print('We can see that the word receptor appear 4 times')\n",
        "print('According to the logic stated above, the word RECEPTOR should map to ID 392')\n",
        "print('word map for ID 392:', id2word[392])\n",
        "print('Great job !!')"
      ],
      "metadata": {
        "colab": {
          "base_uri": "https://localhost:8080/"
        },
        "id": "W-Q_Xmp-SY2W",
        "outputId": "c70a008f-dc5a-491b-eb5e-6e78e40f657d"
      },
      "execution_count": 18,
      "outputs": [
        {
          "output_type": "stream",
          "name": "stdout",
          "text": [
            "We can see that the word receptor appear 4 times\n",
            "According to the logic stated above, the word RECEPTOR should map to ID 392\n",
            "word map for ID 392: receptor\n",
            "Great job !!\n"
          ]
        }
      ]
    },
    {
      "cell_type": "markdown",
      "source": [
        "## LDA model\n",
        "\n",
        "Initial run with super clean data. <br>\n",
        "- Number of topics (num_topics): 30\n",
        "- Seed (random_state): 2022\n",
        "- update parameters (update_every) after every epoch (i.e., 1)\n",
        "- Number of senetences to consider (chunksize) at each run (i.e. batch size): 128\n",
        "- Number of epochs (passes): 30"
      ],
      "metadata": {
        "id": "J_z0usU2URls"
      }
    },
    {
      "cell_type": "code",
      "source": [
        "num_topics=30\n",
        "\n",
        "lda_model= gensim.models.ldamodel.LdaModel(corpus=corpus, id2word=id2word, num_topics=num_topics, random_state=2022, update_every=1, chunksize=128, passes=30, alpha='auto')"
      ],
      "metadata": {
        "id": "UXjWqTvuURGc"
      },
      "execution_count": 19,
      "outputs": []
    },
    {
      "cell_type": "markdown",
      "source": [
        "## Visualizing Data"
      ],
      "metadata": {
        "id": "9vdobq79V0_s"
      }
    },
    {
      "cell_type": "code",
      "source": [
        "#enable automatic D3 display of prepared model data in the IPython notebook\n",
        "pyLDAvis.enable_notebook()"
      ],
      "metadata": {
        "id": "SoMh3vPDUNnn"
      },
      "execution_count": 20,
      "outputs": []
    },
    {
      "cell_type": "markdown",
      "source": [
        "`pyLDAvis.gensim_models.prepare` parameters:\n",
        "- R: Number of words to display per topic\n",
        "- mds: Multidimensional scaling \n",
        "  - PCA\n",
        "  - t-SNE"
      ],
      "metadata": {
        "id": "SfNpZlZQXBMV"
      }
    },
    {
      "cell_type": "code",
      "source": [
        "vis_pca = pyLDAvis.gensim_models.prepare(lda_model, corpus, id2word, R=20, mds='pcoa')"
      ],
      "metadata": {
        "colab": {
          "base_uri": "https://localhost:8080/"
        },
        "id": "iB8WgtSEY1P9",
        "outputId": "ff6f69fc-acd8-4cda-9909-17eea1613040"
      },
      "execution_count": 21,
      "outputs": [
        {
          "output_type": "stream",
          "name": "stderr",
          "text": [
            "/usr/local/lib/python3.7/dist-packages/pyLDAvis/_prepare.py:247: FutureWarning: In a future version of pandas all arguments of DataFrame.drop except for the argument 'labels' will be keyword-only\n",
            "  by='saliency', ascending=False).head(R).drop('saliency', 1)\n"
          ]
        }
      ]
    },
    {
      "cell_type": "code",
      "source": [
        "vis_pca"
      ],
      "metadata": {
        "colab": {
          "base_uri": "https://localhost:8080/",
          "height": 881
        },
        "id": "DY389TdMY5Z8",
        "outputId": "5b69d38d-307a-4c4f-ab89-19eb8491029e"
      },
      "execution_count": 22,
      "outputs": [
        {
          "output_type": "execute_result",
          "data": {
            "text/plain": [
              "PreparedData(topic_coordinates=              x         y  topics  cluster      Freq\n",
              "topic                                               \n",
              "4     -0.047703  0.109050       1        1  6.216758\n",
              "19     0.269662  0.126023       2        1  5.687644\n",
              "12    -0.029175 -0.013038       3        1  5.560307\n",
              "22     0.003006  0.081625       4        1  5.194096\n",
              "24     0.080758  0.189881       5        1  4.900039\n",
              "28    -0.086856  0.197320       6        1  4.573786\n",
              "9      0.186441 -0.023762       7        1  4.387309\n",
              "14    -0.074755 -0.136704       8        1  4.251210\n",
              "15    -0.083361  0.205656       9        1  4.068867\n",
              "6     -0.119115 -0.056043      10        1  4.067749\n",
              "16    -0.085388  0.000680      11        1  3.711855\n",
              "5     -0.054561 -0.044493      12        1  3.582446\n",
              "11    -0.032835  0.027074      13        1  3.551962\n",
              "23    -0.086014 -0.022320      14        1  3.505185\n",
              "0      0.251210 -0.084062      15        1  3.484973\n",
              "17    -0.080286  0.076812      16        1  3.391288\n",
              "25    -0.025489  0.051553      17        1  2.846826\n",
              "2     -0.005268 -0.037549      18        1  2.785239\n",
              "27    -0.051450  0.032013      19        1  2.554038\n",
              "18    -0.027866 -0.019486      20        1  2.496883\n",
              "26     0.176491 -0.027341      21        1  2.376974\n",
              "8     -0.076222 -0.133202      22        1  2.269189\n",
              "20     0.080105 -0.100745      23        1  2.126840\n",
              "3     -0.032566 -0.066137      24        1  1.954877\n",
              "21    -0.026996 -0.033318      25        1  1.895512\n",
              "29    -0.038848 -0.070842      26        1  1.883752\n",
              "13    -0.040381 -0.083766      27        1  1.861031\n",
              "1      0.105096 -0.051755      28        1  1.804129\n",
              "7     -0.021044 -0.054531      29        1  1.629702\n",
              "10    -0.026590 -0.038594      30        1  1.379536, topic_info=               Term        Freq       Total Category  logprob  loglift\n",
              "26          patient  455.000000  455.000000  Default  20.0000  20.0000\n",
              "3            breast  354.000000  354.000000  Default  19.0000  19.0000\n",
              "4            cancer  288.000000  288.000000  Default  18.0000  18.0000\n",
              "148       treatment  230.000000  230.000000  Default  17.0000  17.0000\n",
              "2              year  153.000000  153.000000  Default  16.0000  16.0000\n",
              "...             ...         ...         ...      ...      ...      ...\n",
              "1903        propose    3.258519    4.175961  Topic30  -4.3832   4.0354\n",
              "1027      technique    3.159794    4.077236  Topic30  -4.4140   4.0285\n",
              "1238    granulocyte    3.084551    4.001994  Topic30  -4.4381   4.0230\n",
              "952   hematological    2.910567    3.828010  Topic30  -4.4962   4.0094\n",
              "1024     accurately    2.745747    3.663189  Topic30  -4.5544   3.9951\n",
              "\n",
              "[693 rows x 6 columns], token_table=      Topic      Freq      Term\n",
              "term                           \n",
              "233      13  0.985385   ability\n",
              "236      24  0.975144      able\n",
              "1023     14  0.826352     above\n",
              "109      16  0.899441   absence\n",
              "50       30  0.968881  absolute\n",
              "...     ...       ...       ...\n",
              "107      23  0.552683     woman\n",
              "453      19  0.723660      work\n",
              "93       13  0.984592     write\n",
              "2        20  0.991912      year\n",
              "736      20  0.635147        yr\n",
              "\n",
              "[694 rows x 3 columns], R=20, lambda_step=0.01, plot_opts={'xlab': 'PC1', 'ylab': 'PC2'}, topic_order=[5, 20, 13, 23, 25, 29, 10, 15, 16, 7, 17, 6, 12, 24, 1, 18, 26, 3, 28, 19, 27, 9, 21, 4, 22, 30, 14, 2, 8, 11])"
            ],
            "text/html": [
              "\n",
              "<link rel=\"stylesheet\" type=\"text/css\" href=\"https://cdn.jsdelivr.net/gh/bmabey/pyLDAvis@3.3.1/pyLDAvis/js/ldavis.v1.0.0.css\">\n",
              "\n",
              "\n",
              "<div id=\"ldavis_el751396550103828009466227996\"></div>\n",
              "<script type=\"text/javascript\">\n",
              "\n",
              "var ldavis_el751396550103828009466227996_data = {\"mdsDat\": {\"x\": [-0.04770307438887377, 0.2696620113677927, -0.029174913793296488, 0.0030061940184720353, 0.08075769311533698, -0.08685630403334275, 0.18644061223466782, -0.07475508393179038, -0.08336061596952332, -0.11911528004973594, -0.08538794590447059, -0.05456117160213351, -0.03283470367350223, -0.08601377268781364, 0.2512101778697607, -0.08028591579262007, -0.025488702137838395, -0.0052675423028598015, -0.05145031874771937, -0.02786561844087922, 0.17649090440108361, -0.07622170515765606, 0.08010462497085391, -0.032566381903930804, -0.026995930123696787, -0.03884787984359327, -0.040380563551915695, 0.10509564019063992, -0.021044444354239612, -0.026589989777176113], \"y\": [0.10905038449780821, 0.1260233229358671, -0.0130378623935896, 0.08162486471553392, 0.18988125177154988, 0.1973201498103163, -0.023762420655632333, -0.136703948409976, 0.20565637631321818, -0.056043377343531285, 0.0006802744094442986, -0.044492730301120165, 0.027073620488476568, -0.022320082948706514, -0.08406231061772892, 0.07681161817875944, 0.05155275845488879, -0.03754921729590835, 0.03201343911268016, -0.01948599388943614, -0.027340903962121785, -0.13320185102843865, -0.10074452189352893, -0.066136609681016, -0.03331801805456114, -0.07084221473833749, -0.08376648616925947, -0.051754525208309164, -0.05453072846939318, -0.038594257627946216], \"topics\": [1, 2, 3, 4, 5, 6, 7, 8, 9, 10, 11, 12, 13, 14, 15, 16, 17, 18, 19, 20, 21, 22, 23, 24, 25, 26, 27, 28, 29, 30], \"cluster\": [1, 1, 1, 1, 1, 1, 1, 1, 1, 1, 1, 1, 1, 1, 1, 1, 1, 1, 1, 1, 1, 1, 1, 1, 1, 1, 1, 1, 1, 1], \"Freq\": [6.216758023154834, 5.687644183028881, 5.560306514404003, 5.194095945085161, 4.900039296771331, 4.573786099394604, 4.387309020397476, 4.251209706302019, 4.068867241802798, 4.0677486230684154, 3.7118548809508574, 3.582446427025948, 3.5519615496360415, 3.505184884551456, 3.4849725298386174, 3.391287553312547, 2.846826109805029, 2.7852394230245254, 2.554037616378447, 2.4968832428749406, 2.376974124865042, 2.269189308665634, 2.1268398264105937, 1.9548765216627264, 1.8955117217452133, 1.8837516654634148, 1.8610305372923168, 1.8041287549198055, 1.6297023780277575, 1.379536290139567]}, \"tinfo\": {\"Term\": [\"patient\", \"breast\", \"cancer\", \"treatment\", \"year\", \"therapy\", \"age\", \"prior\", \"disease\", \"woman\", \"consent\", \"study\", \"least\", \"negative\", \"uln\", \"metastatic\", \"informed\", \"month\", \"biopsy\", \"status\", \"breast\", \"cancer\", \"stage\", \"invasive\", \"histologically\", \"diagnose\", \"hemoglobin\", \"resection\", \"prove\", \"tumour\", \"histology\", \"confirm\", \"condition\", \"location\", \"experimental\", \"unifocal\", \"cytology\", \"suitable\", \"resectable\", \"dcis\", \"newly\", \"treatment\", \"subject\", \"day\", \"perform\", \"first\", \"start\", \"result\", \"male\", \"drug\", \"peripheral\", \"mense\", \"more\", \"outline\", \"onset\", \"lactate\", \"flash\", \"hot\", \"relevant\", \"systematic\", \"eribulin\", \"dose\", \"last\", \"prior\", \"study\", \"require\", \"carcinoma\", \"period\", \"neoadjuvant\", \"axillary\", \"trastuzumab\", \"situ\", \"inclusion\", \"anti\", \"have\", \"ductal\", \"long\", \"menopause\", \"recurrence\", \"as\", \"assessment\", \"end\", \"cohort\", \"hybridization\", \"coagulation\", \"histological\", \"phase\", \"patient\", \"week\", \"setting\", \"hormone\", \"postmenopausal\", \"premenopausal\", \"evaluation\", \"know\", \"intact\", \"agonist\", \"release\", \"lhrh\", \"stimulate\", \"luteinizing\", \"follicle\", \"mutation\", \"third\", \"spontaneous\", \"palbociclib\", \"legal\", \"receive\", \"require\", \"range\", \"chemotherapy\", \"adjuvant\", \"include\", \"line\", \"regimen\", \"systemic\", \"give\", \"toxicity\", \"target\", \"agent\", \"aromatase\", \"tamoxifen\", \"therapy\", \"elapse\", \"discontinue\", \"biologic\", \"weekly\", \"set\", \"progress\", \"ai\", \"prior\", \"number\", \"hormonal\", \"diagnosis\", \"previous\", \"advanced\", \"evidence\", \"recurrent\", \"locally\", \"metastatic\", \"diagnostic\", \"unresectable\", \"contralateral\", \"subtype\", \"recommend\", \"new\", \"adenocarcinoma\", \"ipsilateral\", \"ongoing\", \"regiman\", \"complete\", \"highly\", \"disease\", \"clinical\", \"use\", \"potential\", \"childbeare\", \"method\", \"agree\", \"blood\", \"effective\", \"medication\", \"barrier\", \"agreement\", \"device\", \"condom\", \"intrauterine\", \"routine\", \"develop\", \"institution\", \"sexually\", \"spermicidal\", \"example\", \"up\", \"completion\", \"last\", \"dose\", \"study\", \"woman\", \"function\", \"test\", \"female\", \"pregnancy\", \"bone\", \"serum\", \"organ\", \"marrow\", \"screen\", \"value\", \"laboratory\", \"urine\", \"hour\", \"take\", \"hematologic\", \"administration\", \"partner\", \"adequate\", \"reserve\", \"describe\", \"define\", \"negative\", \"participant\", \"measurable\", \"total\", \"group\", \"cooperative\", \"eastern\", \"recist\", \"bilirubin\", \"brain\", \"stable\", \"baseline\", \"symptom\", \"direct\", \"case\", \"syndrome\", \"version\", \"oral\", \"testing\", \"srs\", \"personal\", \"oncology\", \"lesion\", \"disease\", \"metastasis\", \"eligible\", \"creatinine\", \"cell\", \"cytologically\", \"renal\", \"fish\", \"also\", \"consider\", \"confirmation\", \"cap\", \"pr\", \"american\", \"pathological\", \"demonstrate\", \"gene\", \"pathologic\", \"staining\", \"low\", \"gfr\", \"amplification\", \"local\", \"guideline\", \"ratio\", \"positive\", \"tumor\", \"define\", \"participant\", \"biopsy\", \"registration\", \"tissue\", \"available\", \"obtain\", \"core\", \"accessible\", \"no\", \"ovarian\", \"sample\", \"find\", \"purpose\", \"safely\", \"amenorrhea\", \"block\", \"safety\", \"speciman\", \"alone\", \"availability\", \"pretreatment\", \"participant\", \"provide\", \"tumor\", \"lesion\", \"newly\", \"least\", \"month\", \"at\", \"trial\", \"life\", \"surgical\", \"expectancy\", \"bilateral\", \"present\", \"oophorectomy\", \"hormonotherapy\", \"hysterectomy\", \"significant\", \"regime\", \"sterilization\", \"tubal\", \"ligation\", \"stop\", \"expect\", \"survival\", \"define\", \"consent\", \"informed\", \"sign\", \"write\", \"document\", \"ability\", \"understand\", \"willingness\", \"meet\", \"capable\", \"indicate\", \"evaluable\", \"provision\", \"allocate\", \"chance\", \"understanding\", \"icf\", \"nod\", \"voluntarily\", \"close\", \"requirement\", \"local\", \"time\", \"primary\", \"cm\", \"great\", \"mri\", \"ultrasound\", \"minimum\", \"diameter\", \"mammogram\", \"exam\", \"dimension\", \"size\", \"measurement\", \"response\", \"focus\", \"mass\", \"above\", \"small\", \"date\", \"clip\", \"measure\", \"tumor\", \"enrollment\", \"ratio\", \"contraception\", \"undergo\", \"entry\", \"physician\", \"pregnant\", \"man\", \"only\", \"participation\", \"duration\", \"abstinence\", \"bear\", \"child\", \"imaging\", \"see\", \"suspect\", \"enrol\", \"screening\", \"become\", \"show\", \"immediately\", \"woman\", \"study\", \"treat\", \"adequate\", \"alt\", \"liver\", \"ast\", \"old\", \"phosphatase\", \"acceptable\", \"alanine\", \"aspartate\", \"sgpt\", \"absence\", \"rate\", \"sgot\", \"preferred\", \"alp\", \"plt\", \"uln\", \"distant\", \"alkaline\", \"tbil\", \"lifestyle\", \"metastasis\", \"contraceptive\", \"note\", \"participant\", \"progression\", \"determine\", \"continue\", \"fraction\", \"scan\", \"inhibitor\", \"ejection\", \"such\", \"ventricular\", \"leave\", \"plan\", \"lvef\", \"initiate\", \"research\", \"risk\", \"iv\", \"ptt\", \"bisphosphonate\", \"cardiac\", \"anticoagulant\", \"range\", \"receive\", \"therapy\", \"platelet\", \"radiation\", \"grade\", \"previously\", \"practice\", \"randomization\", \"permit\", \"investigator\", \"oncologist\", \"margin\", \"candidate\", \"neuropathy\", \"possible\", \"final\", \"ctcae\", \"however\", \"major\", \"cardiovascular\", \"monotherapy\", \"event\", \"treat\", \"provide\", \"recover\", \"normal\", \"limit\", \"criterion\", \"upper\", \"accord\", \"hepatic\", \"warfarin\", \"international\", \"presence\", \"normalized\", \"read\", \"unl\", \"classification\", \"initial\", \"monitor\", \"sorafenib\", \"white\", \"speak\", \"transaminase\", \"work\", \"uln\", \"year\", \"age\", \"past\", \"examination\", \"adult\", \"menopausal\", \"relative\", \"good\", \"visit\", \"menstrual\", \"cycle\", \"datum\", \"yr\", \"aged\", \"cure\", \"encompass\", \"avoid\", \"later\", \"select\", \"come\", \"leptomeningeal\", \"phase\", \"form\", \"institutional\", \"standard\", \"base\", \"clearance\", \"min\", \"specific\", \"calculate\", \"investigational\", \"nature\", \"failure\", \"infarction\", \"myocardial\", \"gault\", \"participate\", \"knowledge\", \"immunotherapy\", \"accordance\", \"allow\", \"formula\", \"inform\", \"study\", \"receptor\", \"progesterone\", \"human\", \"estrogen\", \"growth\", \"triple\", \"factor\", \"epidermal\", \"needle\", \"operative\", \"hr\", \"staging\", \"positivity\", \"pathologically\", \"asco\", \"positive\", \"ish\", \"lack\", \"negative\", \"amplify\", \"status\", \"mammography\", \"pathology\", \"non\", \"equal\", \"necessary\", \"palpable\", \"detect\", \"analysis\", \"perimenopausal\", \"paraffin\", \"hospital\", \"acquisition\", \"department\", \"embed\", \"fix\", \"formalin\", \"fast\", \"functional\", \"ml\", \"pertuzumab\", \"woman\", \"level\", \"history\", \"able\", \"procedure\", \"active\", \"relate\", \"malignancy\", \"french\", \"infection\", \"uncontrolle\", \"refer\", \"skin\", \"exclusion\", \"degree\", \"diabetes\", \"unstable\", \"diseased\", \"anamnesis\", \"lactation\", \"mastitis\", \"rule\", \"other\", \"surgery\", \"radiotherapy\", \"care\", \"schedule\", \"score\", \"site\", \"lumpectomy\", \"taxane\", \"high\", \"center\", \"section\", \"continuation\", \"part\", \"enter\", \"amenable\", \"questionnaire\", \"conservation\", \"cavity\", \"anthracycline\", \"accept\", \"receive\", \"performance\", \"ecog\", \"clinically\", \"endocrine\", \"appropriate\", \"most\", \"recent\", \"expression\", \"status\", \"weight\", \"express\", \"kidney\", \"immunologically\", \"overexpresse\", \"chronic\", \"fulfill\", \"determination\", \"quantification\", \"suffice\", \"interstitial\", \"eligibility\", \"family\", \"medical\", \"social\", \"security\", \"follow\", \"identify\", \"remain\", \"member\", \"copy\", \"ovary\", \"cover\", \"transfusion\", \"affiliate\", \"progressive\", \"clear\", \"state\", \"average\", \"surgeon\", \"cause\", \"other\", \"number\", \"willing\", \"control\", \"protocol\", \"comply\", \"birth\", \"initiation\", \"surgically\", \"healthy\", \"presumably\", \"assess\", \"free\", \"sterile\", \"specify\", \"course\", \"abstain\", \"sterilize\", \"activity\", \"vaccine\", \"opinion\", \"deceased\", \"study\", \"participant\", \"lymph\", \"node\", \"less\", \"currently\", \"physical\", \"axilla\", \"dissection\", \"stain\", \"chest\", \"involvement\", \"sentinel\", \"same\", \"medicine\", \"ray\", \"consumption\", \"inpatient\", \"detail\", \"aspiration\", \"pk\", \"intravenous\", \"completion\", \"count\", \"mm\", \"absolute\", \"neutrophil\", \"post\", \"program\", \"record\", \"sport\", \"conventional\", \"exceed\", \"certificate\", \"deliver\", \"healthcare\", \"motivation\", \"professional\", \"propose\", \"technique\", \"granulocyte\", \"hematological\", \"accurately\"], \"Freq\": [455.0, 354.0, 288.0, 230.0, 153.0, 201.0, 142.0, 225.0, 184.0, 157.0, 134.0, 233.0, 131.0, 131.0, 137.0, 133.0, 110.0, 108.0, 109.0, 94.0, 353.45631447431333, 287.1423608318752, 70.67493832281876, 69.14632691852879, 55.32580086366482, 35.58515504300304, 31.464878714295022, 13.372571920052325, 13.335764080501681, 10.797166721560247, 9.00841996686689, 73.5278301374465, 7.1801603474831595, 5.741538814763074, 5.096069100625396, 4.945701687765989, 4.7319313116952575, 4.390762412076712, 4.179250696398011, 3.8778980799609117, 8.491030098664922, 229.30805293138863, 122.24858884693641, 119.8748591845734, 39.28855664251023, 36.01810328088878, 34.29870640917512, 27.49482671540191, 21.603153867088466, 19.493535612413346, 11.410547613332513, 10.192038037322545, 38.25522449292289, 4.052265058140544, 3.428138933691886, 2.8645616818079684, 2.6237308630273035, 2.6237308630273035, 2.495662946207411, 2.4150478660584667, 2.415047364985774, 28.329894421981297, 27.025307572400354, 89.79851196976881, 90.60499047279922, 11.651551552728472, 52.471428473840575, 49.34110184808201, 43.24417754462906, 35.13874422814371, 31.800241221842636, 31.600523647772047, 27.8080372622963, 25.505531330230916, 25.206243983244697, 24.171883022838998, 20.77514416127924, 20.24209239721665, 19.528795752786937, 17.22885665798776, 16.39553195980544, 15.867862716330835, 14.735545563535247, 14.36421826316789, 12.648765648643426, 12.269015791032725, 14.553945745786766, 454.36384630227576, 66.20395732302865, 50.950077992781715, 41.00848864513695, 38.58209137138212, 24.546583296318733, 21.503767698143857, 9.457728976748271, 7.139373257809657, 6.583819683346882, 6.326095257501037, 6.245755398280768, 6.0679882848660975, 4.851667041183917, 3.899309945854872, 3.722193070463292, 3.478933580682127, 3.416629017959446, 3.3098055726558693, 3.003169153644555, 66.6160315992127, 42.91117753425373, 7.729542740766972, 108.62815899462088, 66.25329628321347, 64.73871416265446, 32.57154149655351, 24.207547460039887, 22.560568996043695, 21.1172530398473, 18.776664095032952, 17.08608708034884, 16.84841462940875, 11.990417325556992, 10.813240916290273, 185.83776122326918, 9.667915157216193, 8.746281269033698, 8.346781855704196, 7.9378846400015695, 7.523397955069398, 5.485409181265404, 4.5094225828764225, 134.81207163238918, 6.216262932728428, 70.87384374335983, 50.37607188180421, 35.126039670556096, 33.369431611137365, 32.331948776858425, 25.928452701161014, 24.311429109260903, 127.45257981967694, 17.59589519045024, 13.014222775533382, 12.756504135358583, 11.525266719721632, 10.169327152199855, 9.511733818844695, 9.335080965978838, 8.785375757683173, 8.17863711895923, 7.547280243489686, 27.12813963988981, 6.572682385305185, 134.2404050279019, 33.11843003929027, 96.16431814580027, 74.61371043965917, 59.4277645095653, 49.19966718580055, 44.156751229285334, 31.64182609454589, 25.172659893569044, 20.55820373053772, 20.075800334216, 12.313251569729099, 11.581501054606498, 10.333555668127792, 10.279750437719935, 8.84991024038251, 8.648051148091765, 7.29865944468873, 6.4126321734863945, 6.206219159492093, 5.914324064536968, 5.625906446543897, 19.12946432839735, 20.731353249216443, 21.149296738022827, 19.912772874743926, 16.3662596655927, 87.87949926361603, 65.2764104893328, 61.897607485588054, 42.49364857643282, 41.68133075747872, 34.59606329008644, 32.03948054702421, 26.681007160254907, 26.552760802221105, 19.816177633578043, 18.28899940023881, 16.9680870805725, 14.276816149002606, 14.056929509127745, 9.439160261744636, 8.25481474812418, 7.343798348659812, 78.81709020618521, 5.610565433763197, 2.881805108723086, 38.11583451800082, 41.978374047329226, 11.728337378486506, 59.430076154017065, 53.702162880637225, 53.40802990932954, 33.11859313178314, 33.11859313178314, 29.757502793480768, 26.723036325839832, 20.04600882273681, 19.118191474218456, 16.70333907507864, 13.967011738180268, 13.809534113064485, 12.835448060607634, 11.839078642446603, 10.40869977680372, 10.327882607731562, 8.316298763015572, 6.985439407385745, 6.459214449948564, 43.3068874659341, 45.18049109283406, 49.216032853820444, 24.170754304883623, 66.60744107200436, 37.83840953334229, 35.868703633313515, 31.60774329604208, 29.033758135527155, 28.519023601824756, 22.229392417091468, 19.919355490333423, 17.232873208764705, 16.268201795031104, 16.12986387885452, 16.040549937449082, 15.564174513830775, 14.12021490698369, 13.709831200515657, 12.001266840015631, 10.24407413682156, 9.243585119064372, 7.172798090235524, 6.954394132455727, 28.73616540727163, 19.537126166569486, 18.630821951804645, 22.24646910163675, 22.69099327614936, 19.945775399076318, 20.150625374591538, 108.29389568695196, 37.78288844640633, 36.320599726858774, 24.459735254670985, 21.530416189452936, 18.859193317358457, 14.460489443843354, 8.984215389943294, 8.864276447676714, 28.94742996726132, 7.788913576004157, 7.68528255751349, 7.015067112393325, 6.819168627672127, 6.61561225325804, 6.526408204511623, 6.321631433636102, 5.971415582213558, 5.851502146625432, 5.80590209170552, 37.74728635542315, 16.156751578870576, 30.84296335472229, 16.813245084999664, 8.53113960654028, 130.33150541186237, 107.80741495286065, 92.30510285230343, 32.192471766177526, 30.238077984846154, 29.031811536164636, 27.171877970588355, 18.55606327236393, 17.199543423450464, 10.89748262678884, 9.276998335548537, 8.610076313338363, 7.804998146021245, 7.540175881116016, 7.374520178650563, 7.294447269760288, 6.876271071506808, 6.560172604001818, 5.590224598170755, 4.91167305191033, 21.523322699519014, 133.48132574513812, 109.87174059560299, 78.57866526963853, 55.966896843431925, 52.546850909928736, 37.65412063819209, 21.932216255006225, 20.03015660209435, 16.48891834894928, 10.537003978492752, 10.063693916085862, 9.44637261102054, 5.2128700294574495, 4.554992424269257, 4.554992424269257, 4.371270710578132, 3.3537971444980363, 3.0566673673423095, 2.9946571114582903, 2.9020931181104626, 7.3099560285841845, 4.227214720024809, 79.0832947934432, 55.880447508500396, 46.42311096826792, 26.312393285818214, 24.84572749790599, 17.489389149191297, 14.132671104721002, 12.7313316332091, 12.475114179305447, 11.726407916961671, 11.412290202478571, 11.05015387188825, 8.972241672268702, 8.730095680093495, 8.179318138925613, 6.612902708491291, 6.353815254471234, 6.136885983783589, 5.764298578958331, 4.974371036698667, 18.290318667365227, 77.7588530440086, 13.525504576975145, 6.892146864426349, 52.834202112384446, 29.439393300098956, 25.631869794394103, 24.76448470227917, 24.193192841404425, 21.328109939259765, 21.200828976546077, 20.37142971505673, 19.83949913759929, 18.15933074495212, 17.182201713217914, 16.28694773699363, 14.83321203210033, 13.958314757193483, 12.184231184777452, 11.19025899675894, 10.10011134248661, 7.881160284121823, 7.613342432414258, 7.328616950072772, 53.578356459024164, 64.2210599802283, 13.93258764957409, 10.445256044870048, 59.21519739393025, 57.56160453976151, 52.834093854503585, 42.91112654825858, 21.284092406658605, 18.781314705734772, 16.822735503020652, 14.929894647122353, 10.72525167632786, 9.09958339823664, 9.09486944919259, 7.17447986636733, 5.867220950045665, 5.026490617807519, 4.347501798836774, 113.06885705987646, 4.110335607028551, 3.9464701576631565, 3.3180426099924114, 3.211966805812916, 61.42156695045071, 12.943427317930375, 16.882548698521884, 8.81204385970369, 27.304973258859516, 22.703577551231653, 21.749925826016295, 21.550992482647164, 21.16117951748233, 20.14032717027923, 20.070983704584364, 20.025845544585017, 17.465648916556052, 17.114272708785872, 16.136875145299086, 15.01083385089388, 14.561574027323896, 14.329017299269294, 12.630069284013587, 11.523407884146929, 10.445250519041828, 9.53437541165045, 9.53130259785132, 9.163023406175974, 13.277190025895154, 19.70236442675887, 15.098362395183853, 48.237435772814514, 40.94591429405837, 29.28948417361988, 21.17799302488242, 17.392566625792632, 17.200465245238465, 13.013214212248991, 12.676302142620722, 11.118379007080009, 10.931987019086124, 10.098693470128387, 9.493347689052756, 8.69554816848723, 6.350306963842439, 6.2973858906497995, 6.292823873008371, 5.943488942517889, 5.621910866351763, 5.581210955521915, 5.489240365790319, 43.137932362726154, 21.94234494708637, 6.646755173682763, 80.64705981951084, 74.92112327406726, 54.46742372202874, 39.001015657094364, 17.462243407461585, 14.309400699659934, 13.889446244747129, 11.698249215188392, 11.349974720280398, 11.036533975053056, 8.602611331197616, 6.8879431113640015, 6.587895219717076, 5.941282884692872, 5.916956501641341, 5.916956501641341, 5.441987438917654, 4.214216791261578, 3.3158835208755555, 3.2354172711045766, 23.901746655533127, 152.33233111344268, 142.0125180972377, 16.16655698870418, 13.249263256823745, 9.80869323982104, 8.695720694538236, 7.919720834622786, 7.2919422167101855, 7.037525300785939, 6.7676144674924945, 5.726605620706668, 2.288395238714742, 2.2418226383495328, 2.189765046934279, 2.0608280523901925, 2.0041365399217907, 1.9984377365075736, 1.9611263791016174, 1.3752489353487207, 1.1118655383664464, 1.759600196906723, 1.722794114192644, 38.34409529759876, 35.403072207986426, 28.302738591548515, 24.477952772308694, 22.185822344573058, 15.349401139230226, 13.035398489834277, 10.552449848259377, 8.523603608340435, 7.327210171194499, 5.433549623289523, 5.421548045779223, 5.421548045779223, 5.390290587155332, 52.43969009308681, 4.976541060747748, 4.210201219345606, 3.2553705219428637, 34.444423588313164, 1.918332970124817, 8.905386621450587, 37.448734728621226, 59.2571080565409, 17.504060507846642, 16.729596299788014, 12.930399101273784, 12.665795468000887, 12.084733406027933, 11.874655393613239, 10.604474790476742, 8.454305186712185, 7.810098894151761, 6.548105090644903, 5.99167939415247, 3.9669526234510832, 3.544099784619842, 2.9299874574102547, 64.26280426392462, 2.2198931409209637, 1.9280676791960143, 88.53178571168174, 1.6025470358541518, 9.569375603820145, 18.654807841626223, 12.908645317244138, 11.694314322137652, 11.442621435302744, 8.122417507829418, 7.969718881543478, 7.373079154870285, 7.034537415996179, 6.913132047439857, 6.797988628164568, 6.720819378155835, 6.7163329594369525, 6.368983269880537, 5.546191989535054, 5.546191989535054, 5.546191989535054, 5.489073343732285, 5.370398349949249, 5.220573999604992, 5.175086240686448, 86.6273041986865, 13.759961631540722, 41.89880643141545, 28.828026619140843, 19.381567938119595, 18.50154444056514, 13.151141171382864, 13.067915422445093, 9.900831645473291, 8.534921384250602, 8.534921384250602, 7.328321624036515, 6.146923396562474, 5.67486292824615, 5.028812133266576, 4.280611534319967, 4.280611534319967, 4.280611534319967, 4.280611189876746, 4.280611189876746, 4.280611189876746, 4.280611189876746, 14.277214239742403, 58.127040621475984, 37.62691425667615, 22.103812768011117, 14.351175370697842, 11.520543772235133, 10.82372429953299, 10.405699412577016, 10.002545467219466, 9.619978254111095, 6.093503750193105, 5.833736862527729, 5.2961552961963125, 5.170975339551573, 4.799514741967963, 4.526167758261319, 4.517891317445828, 4.164585719510709, 3.8348930767467304, 3.803299256004106, 3.5075543484683487, 9.302698101678729, 60.978409226963976, 46.796351720324935, 19.826473686598195, 17.617261846218685, 16.112990979739628, 12.16513246925428, 12.16513246925428, 8.348765907418784, 84.1381081882075, 6.1750725527470784, 5.0764453497390845, 4.030764959785653, 2.983868115134438, 1.1555288214753119, 1.058960490611816, 0.9909945279523406, 1.3046605249323564, 0.29438925593286325, 0.29438925593286325, 0.2549594244404028, 16.588982639010517, 14.440925219483336, 12.96117809674574, 11.060739632875414, 10.177611658287441, 67.44058151263614, 8.610155088531503, 5.848010869787832, 5.762401344628551, 5.419627794262848, 5.315148156170493, 5.055949462766776, 4.7119374044589, 4.534888152601595, 3.749204225317716, 3.6393514892268315, 3.6034557450060953, 3.559711526441725, 3.0940289331984028, 2.8131791404021023, 29.28352968306811, 6.540341072264483, 44.15289465145457, 35.12891838982443, 25.440647730684486, 23.11479211791175, 21.368633620569174, 19.96761860677882, 10.210829769306889, 10.023802028914119, 10.023802028914119, 7.8681372222670705, 5.171371252517246, 4.340162140045085, 4.223889513120765, 4.022936954815191, 3.540134701781409, 3.434969187348615, 3.2919922531899415, 3.2030399886789516, 3.024944412617464, 2.4528701058518196, 20.272804331818566, 5.475396072751201, 25.81595386280769, 24.385062829626662, 19.793939024610243, 12.255142430846496, 11.606868997682291, 10.776012740305289, 10.561068275749543, 9.838793218307952, 7.331513252227967, 6.724455397457592, 5.374350734232953, 4.693333178871881, 4.648361123291127, 4.305466428400213, 3.960412663644716, 3.850019843576887, 3.5867746975765415, 3.517956391576266, 3.2167786364282396, 3.1008702672236996, 3.4985566362828364, 39.58287952366871, 31.122142126074763, 25.91764494310208, 24.012685555706568, 11.912057852001357, 10.691198688061029, 8.723151928934955, 6.497015340706531, 5.984243524531167, 3.550206453139034, 3.2585185101520024, 3.2585185101520024, 3.2585185101520024, 3.2585185101520024, 3.2585185101520024, 3.2585185101520024, 3.1597936668601405, 3.084551091394831, 2.9105669008045623, 2.745746693976639], \"Total\": [455.0, 354.0, 288.0, 230.0, 153.0, 201.0, 142.0, 225.0, 184.0, 157.0, 134.0, 233.0, 131.0, 131.0, 137.0, 133.0, 110.0, 108.0, 109.0, 94.0, 354.3624662656032, 288.04851262316504, 71.58109011410866, 70.05247870981869, 56.23195265495466, 36.491306834292885, 32.37103050558489, 14.278723711342193, 14.24191587179155, 11.703318512850116, 9.91457175815676, 82.46347138836954, 8.086312138773025, 6.647690606052938, 6.00222089191526, 5.851853479055853, 5.638083102985122, 5.296914203366576, 5.085402487687875, 4.784049871250776, 17.8886085255178, 230.20987942394368, 123.15041533949152, 120.77669918704146, 40.19038313506528, 36.91992977344383, 35.20053290173017, 28.396653207956998, 22.504980359643554, 20.395362104968434, 12.31237410588759, 11.093864529877623, 45.69579030733762, 4.954091550695616, 4.32996542624696, 3.7663881743630427, 3.5255573555823774, 3.5255573555823774, 3.3974894387624848, 3.3168743586135405, 3.316873857540848, 50.3464492880774, 48.62391894969008, 225.48004188683356, 233.2346741570009, 63.10542487085064, 53.37170048334983, 50.24137385759126, 44.14444955413831, 36.03901623765296, 32.7005132313519, 32.500795657281316, 28.708309271805586, 26.405803339740203, 26.106515992753984, 25.072155032348284, 21.675416170788527, 21.142364406725935, 20.429067762296224, 18.129128667497046, 17.295803969314726, 16.76813472584012, 15.635817573044523, 15.264490272677167, 13.549037658152702, 13.169287800542001, 17.14660088956525, 455.26574978779814, 67.10586080855106, 51.851981478304076, 41.91039213065931, 39.48399485690448, 25.44848678184113, 22.405671183666254, 10.359632462270659, 8.04127674333204, 7.4857231688692645, 7.227998743023419, 7.1476588838031505, 6.96989177038848, 5.753570526706299, 4.801213431377254, 4.624096555985674, 4.380837066204509, 4.318532503481829, 4.211709058178252, 3.905072639166939, 96.45830705219399, 63.10542487085064, 21.876487904570592, 109.53325535818033, 67.15839264677292, 65.64381052621391, 33.47663786011291, 25.11264382359932, 23.46566535960313, 22.022349403406732, 19.681760458592386, 17.991183443908273, 17.753510992968184, 12.895513689116415, 11.718337279849695, 201.8090716343985, 10.573011520775616, 9.651377632593121, 9.251878219263618, 8.842981003560993, 8.42849431862882, 6.390505544824823, 5.414518946435841, 225.48004188683356, 13.630634102353618, 71.77881857341853, 51.28104671186287, 36.03101450061476, 34.27440644119603, 33.23692360691709, 26.833427531219705, 25.216403939319594, 133.06529738575438, 18.50087002050893, 13.919197605592068, 13.661478965417269, 12.430241549780318, 11.074301982258541, 10.41670864890338, 10.240055796037524, 9.69035058774186, 9.083611949017916, 8.45225507354837, 30.84061438836857, 7.477657215363865, 184.33109819120497, 45.165493859331335, 97.06721435275739, 75.5166066466163, 60.33066071652238, 50.10256339275763, 45.059647436242415, 32.54472230150298, 26.075556100526157, 21.461099937494833, 20.978696541173115, 13.216147776686205, 12.484397261563604, 11.236451875084898, 11.18264664467704, 9.752806447339616, 9.550947355048871, 8.201555651645833, 7.315528380443496, 7.109115366449195, 6.81722027149407, 6.528802653500998, 23.50475795095304, 48.62391894969008, 50.3464492880774, 233.2346741570009, 157.41396312957175, 88.78538969572178, 66.18230092143855, 62.803497917693775, 43.39953900853854, 42.58722118958444, 35.50195372219216, 32.94537097912993, 27.586897592360657, 27.458651234326855, 20.722068065683793, 19.19488983234456, 17.87397751267825, 15.182706581108349, 14.962819941233487, 10.345050693850379, 9.160705180229922, 8.249688780765553, 90.13675917833883, 6.516455865868936, 3.7876955408288264, 82.87238968544092, 131.38615184911006, 89.24916567269364, 60.337226204879926, 54.609312931500085, 54.3151799601924, 34.025743182646, 34.025743182646, 30.664652844343653, 27.630186376702717, 20.953158873599694, 20.02534152508134, 17.610489125941527, 14.874161789043146, 14.716684163927363, 13.742598111470512, 12.746228693309481, 11.315849827666598, 11.23503265859444, 9.22344881387845, 7.8925894582486205, 7.366364500811439, 49.4425944987893, 62.86117325771931, 184.33109819120497, 86.46863345805448, 67.50887831623082, 38.739846777568715, 36.77014087753994, 32.50918054026851, 29.9351953797536, 29.420460846051203, 23.130829661317915, 20.82079273455987, 18.13431045299115, 17.16963903925755, 17.031301123080965, 16.94198718167553, 16.465611758057218, 15.02165215121013, 14.611268444742096, 12.902704084242071, 11.145511381048, 10.145022363290812, 8.07423533446196, 7.855831376682164, 33.83682923055683, 24.15496250258296, 26.393957722325048, 87.38081226778124, 132.12408560999694, 82.87238968544092, 89.24916567269364, 109.19164728741359, 38.680640046867914, 37.218351327320356, 25.357486855132596, 22.428167789914546, 19.756944917820068, 15.358241044304956, 9.881966990404896, 9.762028048138315, 32.24109155847368, 8.686665176465759, 8.583034157975092, 7.912818712854924, 7.716920228133726, 7.513363853719639, 7.424159804973222, 7.219383034097701, 6.869167182675157, 6.749253747087031, 6.703653692167119, 89.24916567269364, 38.965210140247876, 132.12408560999694, 62.86117325771931, 17.8886085255178, 131.23611707296928, 108.71202661396768, 93.20971451341046, 33.09708342728451, 31.14268964595316, 29.93642319727164, 28.07648963169536, 19.460674933470933, 18.10415508455747, 11.802094287895835, 10.181609996655533, 9.514687974445359, 8.709609807128242, 8.444787542223015, 8.279131839757557, 8.199058930867285, 7.780882732613802, 7.464784265108812, 6.494836259277749, 5.816284713017324, 82.87238968544092, 134.3908021756109, 110.78121702607585, 79.4881417001114, 56.876373273904754, 53.456327340401565, 38.56359706866492, 22.84169268547907, 20.939633032567198, 17.398394779422127, 11.446480408965595, 10.973170346558705, 10.355849041493382, 6.122346459930289, 5.464468854742097, 5.464468854742097, 5.280747141050972, 4.263273574970877, 3.9661437978151506, 3.9041335419311314, 3.8115695485833037, 10.351938119302023, 33.83682923055683, 79.99031102674972, 56.78746374180688, 47.330127201574406, 27.21940951912471, 25.752743731212487, 18.396405382497793, 15.039687338027495, 13.638347866515593, 13.38213041261194, 12.633424150268164, 12.319306435785064, 11.957170105194743, 9.879257905575194, 9.637111913399988, 9.086334372232105, 7.51991894179778, 7.260831487777724, 7.0439022170900785, 6.6713148122648205, 5.881387270005156, 24.786719804576148, 132.12408560999694, 18.497369413079692, 26.393957722325048, 53.74018917900115, 30.345380366715673, 26.53785686101082, 25.670471768895887, 25.099179908021142, 22.23409700587648, 22.106816043162794, 21.27741678167345, 20.745486204216007, 19.065317811568836, 18.08818877983463, 17.192934803610346, 15.739199098717041, 14.864301823810194, 13.090218251394164, 12.096246063375652, 11.006098409103322, 8.787147350738536, 8.51932949903097, 8.234604016689483, 157.41396312957175, 233.2346741570009, 57.94486909274627, 90.13675917833883, 60.12182411722637, 58.46823126305763, 53.740720577799706, 43.8177532715547, 22.19071912995474, 19.687941429030907, 17.729362226316788, 15.836521370418483, 11.63187839962399, 10.006210121532769, 10.00149617248872, 8.081106589663458, 6.773847673341793, 5.933117341103647, 5.254128522132902, 137.8499394454201, 5.016962330324679, 4.853096880959284, 4.22466933328854, 4.118593529109044, 86.46863345805448, 18.11670102504552, 24.91714008871772, 89.24916567269364, 28.21028948268448, 23.608893775056618, 22.65524204984126, 22.45630870647213, 22.066495741307296, 21.045643394104196, 20.97629992840933, 20.931161768409982, 18.370965140381017, 18.019588932610837, 17.04219136912405, 15.91615007471884, 15.466890251148856, 15.234333523094254, 13.535385507838546, 12.428724107971888, 11.350566742866787, 10.439691635475409, 10.43661882167628, 10.068339630000933, 21.876487904570592, 96.45830705219399, 201.8090716343985, 49.143262358082715, 41.85174087932657, 30.19531075888809, 22.08381961015063, 18.298393211060844, 18.106291830506677, 13.919040797517201, 13.582128727888932, 12.024205592348219, 11.837813604354334, 11.004520055396597, 10.399174274320966, 9.60137475375544, 7.256133549110647, 7.203212475918007, 7.198650458276578, 6.849315527786096, 6.527737451619971, 6.487037540790123, 6.395066951058526, 57.94486909274627, 38.965210140247876, 13.307532205883007, 81.55723339766418, 75.83129685222059, 55.377597300182046, 39.91118923524767, 18.372416985614898, 15.219574277813244, 14.79961982290044, 12.608422793341703, 12.260148298433709, 11.946707553206366, 9.512784909350927, 7.79811668951731, 7.498068797870385, 6.851456462846181, 6.8271300797946495, 6.8271300797946495, 6.352161017070963, 5.124390369414887, 4.226057099028864, 4.145590849257887, 137.8499394454201, 153.2393847049581, 142.9195716887531, 17.073610580219622, 14.156316848339182, 10.715746831336476, 9.602774286053673, 8.826774426138224, 8.198995808225625, 7.944578892301376, 7.6746680590079315, 6.6336592122221045, 3.19544883023018, 3.1488762298649706, 3.096818638449717, 2.9678816439056304, 2.9111901314372286, 2.9054913280230115, 2.868179970617055, 2.2823025268641586, 2.0189191298818843, 3.586590752997607, 17.14660088956525, 39.250981526321674, 36.30995843670934, 29.209624820271436, 25.384839001031615, 23.09270857329598, 16.25628736795315, 13.942284718557195, 11.459336076982295, 9.430489837063353, 8.234096399917417, 6.34043585201244, 6.32843427450214, 6.32843427450214, 6.297176815878249, 61.41207194242005, 5.883427289470665, 5.117087448068523, 4.162256750665781, 44.08545554476075, 2.8252191988477344, 17.39995275005916, 233.2346741570009, 60.16467428597319, 18.411626737278944, 17.637162529220316, 13.83796533070608, 13.573361697433183, 12.99229963546023, 12.782221623045535, 11.512041019909038, 9.361871416144481, 8.717665123584057, 7.455671320077198, 6.899245623584766, 4.874518852883378, 4.451666014052138, 3.83755368684255, 87.38081226778124, 3.127459370353259, 2.83563390862831, 131.38615184911006, 2.5101132652864475, 94.58627323130578, 19.562896517198563, 13.816733992816477, 12.60240299770999, 12.350710110875083, 9.030506183401757, 8.877807557115815, 8.281167830442623, 7.942626091568516, 7.821220723012194, 7.706077303736905, 7.628908053728172, 7.6244216350092895, 7.277071945452874, 6.454280665107391, 6.454280665107391, 6.454280665107391, 6.397162019304622, 6.278487025521586, 6.1286626751773285, 6.083174916258785, 157.41396312957175, 21.563031099596, 42.80996879910921, 29.7391889868346, 20.29273030581335, 19.412706808258896, 14.062303539076618, 13.979077790138847, 10.811994013167045, 9.446083751944355, 9.446083751944355, 8.239483991730268, 7.0580857642562265, 6.586025295939903, 5.939974500960329, 5.19177390201372, 5.19177390201372, 5.19177390201372, 5.191773557570499, 5.191773557570499, 5.191773557570499, 5.191773557570499, 44.44084002430555, 59.031962979550066, 38.53183661475023, 23.008735126085202, 15.256097728771927, 12.425466130309218, 11.728646657607076, 11.310621770651101, 10.907467825293551, 10.52490061218518, 6.9984261082671875, 6.738659220601812, 6.201077654270395, 6.075897697625655, 5.704437100042045, 5.431090116335401, 5.422813675519911, 5.069508077584792, 4.739815434820813, 4.708221614078188, 4.4124767065424315, 96.45830705219399, 61.8870970082487, 47.70503950160966, 20.735161467882925, 18.525949627503415, 17.021678761024358, 13.073820250539008, 13.073820250539008, 9.257453688703512, 94.58627323130578, 7.083760334031806, 5.985133131023812, 4.93945274107038, 3.8925558964191653, 2.0642166027600393, 1.9676482718965433, 1.899682309237068, 3.014131049350876, 1.2030770372175905, 1.2030770372175905, 1.1636472057251301, 17.49538094425069, 15.347323524723507, 13.867576401985911, 11.967137938115584, 11.084009963527611, 74.01800764162658, 9.516553393771673, 6.754409175028002, 6.6687996498687205, 6.326026099503017, 6.221546461410663, 5.962347768006945, 5.618335709699069, 5.441286457841764, 4.655602530557886, 4.545749794467001, 4.509854050246265, 4.466109831681894, 4.000427238438572, 3.7195774456422717, 44.44084002430555, 13.630634102353618, 45.05946871114803, 36.03549244951789, 26.34722179037795, 24.021366177605216, 22.27520768026264, 20.874192666472286, 11.11740382900035, 10.93037608860758, 10.93037608860758, 8.774711281960533, 6.077945312210708, 5.246736199738547, 5.130463572814227, 4.929511014508653, 4.446708761474871, 4.341543247042077, 4.198566312883403, 4.109614048372413, 3.9315184723109264, 3.3594441655452822, 233.2346741570009, 89.24916567269364, 26.727259213562313, 25.296368180381286, 20.705244375364867, 13.166447781601118, 12.518174348436913, 11.687318091059911, 11.472373626504165, 10.750098569062574, 8.24281860298259, 7.635760748212214, 6.2856560849875756, 5.604638529626503, 5.559666474045749, 5.216771779154835, 4.871718014399338, 4.761325194331509, 4.498080048331164, 4.429261742330889, 4.128083987182862, 4.012175617978322, 23.50475795095304, 40.50032213825835, 32.0395847406644, 26.83508755769172, 24.930128170296207, 12.829500466590995, 11.608641302650666, 9.640594543524593, 7.414457955296168, 6.901686139120804, 4.467649067728671, 4.17596112474164, 4.17596112474164, 4.17596112474164, 4.17596112474164, 4.17596112474164, 4.17596112474164, 4.077236281449778, 4.001993705984469, 3.8280095153941995, 3.663189308566276], \"Category\": [\"Default\", \"Default\", \"Default\", \"Default\", \"Default\", \"Default\", \"Default\", \"Default\", \"Default\", \"Default\", \"Default\", \"Default\", \"Default\", \"Default\", \"Default\", \"Default\", \"Default\", \"Default\", \"Default\", \"Default\", \"Topic1\", \"Topic1\", \"Topic1\", \"Topic1\", \"Topic1\", \"Topic1\", \"Topic1\", \"Topic1\", \"Topic1\", \"Topic1\", \"Topic1\", \"Topic1\", \"Topic1\", \"Topic1\", \"Topic1\", \"Topic1\", \"Topic1\", \"Topic1\", \"Topic1\", \"Topic1\", \"Topic1\", \"Topic2\", \"Topic2\", \"Topic2\", \"Topic2\", \"Topic2\", \"Topic2\", \"Topic2\", \"Topic2\", \"Topic2\", \"Topic2\", \"Topic2\", \"Topic2\", \"Topic2\", \"Topic2\", \"Topic2\", \"Topic2\", \"Topic2\", \"Topic2\", \"Topic2\", \"Topic2\", \"Topic2\", \"Topic2\", \"Topic2\", \"Topic2\", \"Topic2\", \"Topic3\", \"Topic3\", \"Topic3\", \"Topic3\", \"Topic3\", \"Topic3\", \"Topic3\", \"Topic3\", \"Topic3\", \"Topic3\", \"Topic3\", \"Topic3\", \"Topic3\", \"Topic3\", \"Topic3\", \"Topic3\", \"Topic3\", \"Topic3\", \"Topic3\", \"Topic3\", \"Topic3\", \"Topic4\", \"Topic4\", \"Topic4\", \"Topic4\", \"Topic4\", \"Topic4\", \"Topic4\", \"Topic4\", \"Topic4\", \"Topic4\", \"Topic4\", \"Topic4\", \"Topic4\", \"Topic4\", \"Topic4\", \"Topic4\", \"Topic4\", \"Topic4\", \"Topic4\", \"Topic4\", \"Topic4\", \"Topic4\", \"Topic4\", \"Topic5\", \"Topic5\", \"Topic5\", \"Topic5\", \"Topic5\", \"Topic5\", \"Topic5\", \"Topic5\", \"Topic5\", \"Topic5\", \"Topic5\", \"Topic5\", \"Topic5\", \"Topic5\", \"Topic5\", \"Topic5\", \"Topic5\", \"Topic5\", \"Topic5\", \"Topic5\", \"Topic5\", \"Topic5\", \"Topic6\", \"Topic6\", \"Topic6\", \"Topic6\", \"Topic6\", \"Topic6\", \"Topic6\", \"Topic6\", \"Topic6\", \"Topic6\", \"Topic6\", \"Topic6\", \"Topic6\", \"Topic6\", \"Topic6\", \"Topic6\", \"Topic6\", \"Topic6\", \"Topic6\", \"Topic6\", \"Topic6\", \"Topic6\", \"Topic7\", \"Topic7\", \"Topic7\", \"Topic7\", \"Topic7\", \"Topic7\", \"Topic7\", \"Topic7\", \"Topic7\", \"Topic7\", \"Topic7\", \"Topic7\", \"Topic7\", \"Topic7\", \"Topic7\", \"Topic7\", \"Topic7\", \"Topic7\", \"Topic7\", \"Topic7\", \"Topic7\", \"Topic7\", \"Topic7\", \"Topic7\", \"Topic7\", \"Topic8\", \"Topic8\", \"Topic8\", \"Topic8\", \"Topic8\", \"Topic8\", \"Topic8\", \"Topic8\", \"Topic8\", \"Topic8\", \"Topic8\", \"Topic8\", \"Topic8\", \"Topic8\", \"Topic8\", \"Topic8\", \"Topic8\", \"Topic8\", \"Topic8\", \"Topic8\", \"Topic8\", \"Topic8\", \"Topic8\", \"Topic9\", \"Topic9\", \"Topic9\", \"Topic9\", \"Topic9\", \"Topic9\", \"Topic9\", \"Topic9\", \"Topic9\", \"Topic9\", \"Topic9\", \"Topic9\", \"Topic9\", \"Topic9\", \"Topic9\", \"Topic9\", \"Topic9\", \"Topic9\", \"Topic9\", \"Topic9\", \"Topic9\", \"Topic9\", \"Topic9\", \"Topic10\", \"Topic10\", \"Topic10\", \"Topic10\", \"Topic10\", \"Topic10\", \"Topic10\", \"Topic10\", \"Topic10\", \"Topic10\", \"Topic10\", \"Topic10\", \"Topic10\", \"Topic10\", \"Topic10\", \"Topic10\", \"Topic10\", \"Topic10\", \"Topic10\", \"Topic10\", \"Topic10\", \"Topic10\", \"Topic10\", \"Topic10\", \"Topic10\", \"Topic10\", \"Topic10\", \"Topic11\", \"Topic11\", \"Topic11\", \"Topic11\", \"Topic11\", \"Topic11\", \"Topic11\", \"Topic11\", \"Topic11\", \"Topic11\", \"Topic11\", \"Topic11\", \"Topic11\", \"Topic11\", \"Topic11\", \"Topic11\", \"Topic11\", \"Topic11\", \"Topic11\", \"Topic11\", \"Topic11\", \"Topic11\", \"Topic11\", \"Topic11\", \"Topic11\", \"Topic12\", \"Topic12\", \"Topic12\", \"Topic12\", \"Topic12\", \"Topic12\", \"Topic12\", \"Topic12\", \"Topic12\", \"Topic12\", \"Topic12\", \"Topic12\", \"Topic12\", \"Topic12\", \"Topic12\", \"Topic12\", \"Topic12\", \"Topic12\", \"Topic12\", \"Topic12\", \"Topic12\", \"Topic13\", \"Topic13\", \"Topic13\", \"Topic13\", \"Topic13\", \"Topic13\", \"Topic13\", \"Topic13\", \"Topic13\", \"Topic13\", \"Topic13\", \"Topic13\", \"Topic13\", \"Topic13\", \"Topic13\", \"Topic13\", \"Topic13\", \"Topic13\", \"Topic13\", \"Topic13\", \"Topic13\", \"Topic13\", \"Topic14\", \"Topic14\", \"Topic14\", \"Topic14\", \"Topic14\", \"Topic14\", \"Topic14\", \"Topic14\", \"Topic14\", \"Topic14\", \"Topic14\", \"Topic14\", \"Topic14\", \"Topic14\", \"Topic14\", \"Topic14\", \"Topic14\", \"Topic14\", \"Topic14\", \"Topic14\", \"Topic14\", \"Topic14\", \"Topic14\", \"Topic14\", \"Topic15\", \"Topic15\", \"Topic15\", \"Topic15\", \"Topic15\", \"Topic15\", \"Topic15\", \"Topic15\", \"Topic15\", \"Topic15\", \"Topic15\", \"Topic15\", \"Topic15\", \"Topic15\", \"Topic15\", \"Topic15\", \"Topic15\", \"Topic15\", \"Topic15\", \"Topic15\", \"Topic15\", \"Topic15\", \"Topic15\", \"Topic15\", \"Topic16\", \"Topic16\", \"Topic16\", \"Topic16\", \"Topic16\", \"Topic16\", \"Topic16\", \"Topic16\", \"Topic16\", \"Topic16\", \"Topic16\", \"Topic16\", \"Topic16\", \"Topic16\", \"Topic16\", \"Topic16\", \"Topic16\", \"Topic16\", \"Topic16\", \"Topic16\", \"Topic16\", \"Topic16\", \"Topic16\", \"Topic16\", \"Topic17\", \"Topic17\", \"Topic17\", \"Topic17\", \"Topic17\", \"Topic17\", \"Topic17\", \"Topic17\", \"Topic17\", \"Topic17\", \"Topic17\", \"Topic17\", \"Topic17\", \"Topic17\", \"Topic17\", \"Topic17\", \"Topic17\", \"Topic17\", \"Topic17\", \"Topic17\", \"Topic17\", \"Topic17\", \"Topic17\", \"Topic18\", \"Topic18\", \"Topic18\", \"Topic18\", \"Topic18\", \"Topic18\", \"Topic18\", \"Topic18\", \"Topic18\", \"Topic18\", \"Topic18\", \"Topic18\", \"Topic18\", \"Topic18\", \"Topic18\", \"Topic18\", \"Topic18\", \"Topic18\", \"Topic18\", \"Topic18\", \"Topic18\", \"Topic18\", \"Topic18\", \"Topic19\", \"Topic19\", \"Topic19\", \"Topic19\", \"Topic19\", \"Topic19\", \"Topic19\", \"Topic19\", \"Topic19\", \"Topic19\", \"Topic19\", \"Topic19\", \"Topic19\", \"Topic19\", \"Topic19\", \"Topic19\", \"Topic19\", \"Topic19\", \"Topic19\", \"Topic19\", \"Topic19\", \"Topic20\", \"Topic20\", \"Topic20\", \"Topic20\", \"Topic20\", \"Topic20\", \"Topic20\", \"Topic20\", \"Topic20\", \"Topic20\", \"Topic20\", \"Topic20\", \"Topic20\", \"Topic20\", \"Topic20\", \"Topic20\", \"Topic20\", \"Topic20\", \"Topic20\", \"Topic20\", \"Topic20\", \"Topic20\", \"Topic21\", \"Topic21\", \"Topic21\", \"Topic21\", \"Topic21\", \"Topic21\", \"Topic21\", \"Topic21\", \"Topic21\", \"Topic21\", \"Topic21\", \"Topic21\", \"Topic21\", \"Topic21\", \"Topic21\", \"Topic21\", \"Topic21\", \"Topic21\", \"Topic21\", \"Topic21\", \"Topic21\", \"Topic21\", \"Topic22\", \"Topic22\", \"Topic22\", \"Topic22\", \"Topic22\", \"Topic22\", \"Topic22\", \"Topic22\", \"Topic22\", \"Topic22\", \"Topic22\", \"Topic22\", \"Topic22\", \"Topic22\", \"Topic22\", \"Topic22\", \"Topic22\", \"Topic22\", \"Topic22\", \"Topic22\", \"Topic22\", \"Topic23\", \"Topic23\", \"Topic23\", \"Topic23\", \"Topic23\", \"Topic23\", \"Topic23\", \"Topic23\", \"Topic23\", \"Topic23\", \"Topic23\", \"Topic23\", \"Topic23\", \"Topic23\", \"Topic23\", \"Topic23\", \"Topic23\", \"Topic23\", \"Topic23\", \"Topic23\", \"Topic23\", \"Topic23\", \"Topic24\", \"Topic24\", \"Topic24\", \"Topic24\", \"Topic24\", \"Topic24\", \"Topic24\", \"Topic24\", \"Topic24\", \"Topic24\", \"Topic24\", \"Topic24\", \"Topic24\", \"Topic24\", \"Topic24\", \"Topic24\", \"Topic24\", \"Topic24\", \"Topic24\", \"Topic24\", \"Topic24\", \"Topic25\", \"Topic25\", \"Topic25\", \"Topic25\", \"Topic25\", \"Topic25\", \"Topic25\", \"Topic25\", \"Topic25\", \"Topic25\", \"Topic25\", \"Topic25\", \"Topic25\", \"Topic25\", \"Topic25\", \"Topic25\", \"Topic25\", \"Topic25\", \"Topic25\", \"Topic25\", \"Topic25\", \"Topic26\", \"Topic26\", \"Topic26\", \"Topic26\", \"Topic26\", \"Topic26\", \"Topic26\", \"Topic26\", \"Topic26\", \"Topic26\", \"Topic26\", \"Topic26\", \"Topic26\", \"Topic26\", \"Topic26\", \"Topic26\", \"Topic26\", \"Topic26\", \"Topic26\", \"Topic26\", \"Topic27\", \"Topic27\", \"Topic27\", \"Topic27\", \"Topic27\", \"Topic27\", \"Topic27\", \"Topic27\", \"Topic27\", \"Topic27\", \"Topic27\", \"Topic27\", \"Topic27\", \"Topic27\", \"Topic27\", \"Topic27\", \"Topic27\", \"Topic27\", \"Topic27\", \"Topic27\", \"Topic27\", \"Topic27\", \"Topic28\", \"Topic28\", \"Topic28\", \"Topic28\", \"Topic28\", \"Topic28\", \"Topic28\", \"Topic28\", \"Topic28\", \"Topic28\", \"Topic28\", \"Topic28\", \"Topic28\", \"Topic28\", \"Topic28\", \"Topic28\", \"Topic28\", \"Topic28\", \"Topic28\", \"Topic28\", \"Topic28\", \"Topic28\", \"Topic29\", \"Topic29\", \"Topic29\", \"Topic29\", \"Topic29\", \"Topic29\", \"Topic29\", \"Topic29\", \"Topic29\", \"Topic29\", \"Topic29\", \"Topic29\", \"Topic29\", \"Topic29\", \"Topic29\", \"Topic29\", \"Topic29\", \"Topic29\", \"Topic29\", \"Topic29\", \"Topic29\", \"Topic30\", \"Topic30\", \"Topic30\", \"Topic30\", \"Topic30\", \"Topic30\", \"Topic30\", \"Topic30\", \"Topic30\", \"Topic30\", \"Topic30\", \"Topic30\", \"Topic30\", \"Topic30\", \"Topic30\", \"Topic30\", \"Topic30\", \"Topic30\", \"Topic30\", \"Topic30\"], \"logprob\": [20.0, 19.0, 18.0, 17.0, 16.0, 15.0, 14.0, 13.0, 12.0, 11.0, 10.0, 9.0, 8.0, 7.0, 6.0, 5.0, 4.0, 3.0, 2.0, 1.0, -1.2022, -1.41, -2.8119, -2.8338, -3.0568, -3.4981, -3.6211, -4.4768, -4.4796, -4.6907, -4.8718, -2.7723, -5.0987, -5.3223, -5.4415, -5.4715, -5.5157, -5.5905, -5.6399, -5.7147, -4.931, -1.546, -2.175, -2.1946, -3.3101, -3.397, -3.4459, -3.6671, -3.9082, -4.011, -4.5465, -4.6594, -3.3368, -5.5818, -5.749, -5.9286, -6.0165, -6.0165, -6.0665, -6.0993, -6.0993, -3.6371, -3.6843, -2.4835, -2.4745, -4.5256, -2.9981, -3.0596, -3.1915, -3.3991, -3.4989, -3.5052, -3.6331, -3.7195, -3.7313, -3.7732, -3.9246, -3.9506, -3.9865, -4.1118, -4.1614, -4.1941, -4.2681, -4.2937, -4.4208, -4.4513, -4.2805, -0.7714, -2.6975, -2.9594, -3.1765, -3.2375, -3.6897, -3.822, -4.6434, -4.9246, -5.0057, -5.0456, -5.0584, -5.0872, -5.311, -5.5295, -5.576, -5.6435, -5.6616, -5.6934, -5.7906, -2.6913, -3.1311, -4.8452, -2.1441, -2.6385, -2.6616, -3.3486, -3.6453, -3.7158, -3.7819, -3.8994, -3.9937, -4.0077, -4.3479, -4.4512, -1.6071, -4.5632, -4.6634, -4.7101, -4.7603, -4.814, -5.1299, -5.3258, -1.9281, -5.0048, -2.5022, -2.8436, -3.2042, -3.2555, -3.287, -3.5078, -3.5721, -1.9153, -3.8954, -4.1971, -4.2171, -4.3186, -4.4437, -4.5106, -4.5293, -4.59, -4.6616, -4.7419, -3.4625, -4.8802, -1.8635, -3.263, -2.1554, -2.4091, -2.6367, -2.8256, -2.9337, -3.267, -3.4957, -3.6982, -3.722, -4.2108, -4.2721, -4.3861, -4.3913, -4.5411, -4.5641, -4.7338, -4.8632, -4.8959, -4.9441, -4.9941, -3.7702, -3.6898, -3.6699, -3.7301, -3.9262, -2.214, -2.5113, -2.5645, -2.9406, -2.9599, -3.1462, -3.223, -3.406, -3.4108, -3.7035, -3.7837, -3.8586, -4.0313, -4.0468, -4.4451, -4.5792, -4.6961, -2.3228, -4.9653, -5.6315, -3.0493, -2.9528, -4.2279, -2.5613, -2.6627, -2.6682, -3.146, -3.146, -3.253, -3.3606, -3.6481, -3.6955, -3.8305, -4.0094, -4.0208, -4.0939, -4.1747, -4.3035, -4.3113, -4.5279, -4.7023, -4.7806, -2.8778, -2.8355, -2.7499, -3.461, -2.447, -3.0125, -3.066, -3.1924, -3.2774, -3.2953, -3.5444, -3.6541, -3.799, -3.8566, -3.8652, -3.8707, -3.9009, -3.9982, -4.0277, -4.1608, -4.3191, -4.4219, -4.6755, -4.7065, -3.2877, -3.6735, -3.721, -3.5437, -3.5239, -3.6528, -3.6426, -1.8694, -2.9224, -2.9619, -3.3573, -3.4848, -3.6173, -3.8829, -4.3588, -4.3723, -3.1888, -4.5016, -4.515, -4.6062, -4.6345, -4.6649, -4.6784, -4.7103, -4.7673, -4.7876, -4.7954, -2.9234, -3.7719, -3.1254, -3.7321, -4.4106, -1.6487, -1.8385, -1.9937, -3.0471, -3.1097, -3.1504, -3.2166, -3.598, -3.6739, -4.1303, -4.2913, -4.3659, -4.464, -4.4986, -4.5208, -4.5317, -4.5907, -4.6378, -4.7978, -4.9272, -3.4497, -1.6163, -1.8109, -2.1462, -2.4855, -2.5485, -2.8818, -3.4223, -3.513, -3.7076, -4.1554, -4.2013, -4.2646, -4.8591, -4.994, -4.994, -5.0352, -5.3002, -5.3929, -5.4134, -5.4448, -4.521, -5.0687, -2.1265, -2.4738, -2.6592, -3.227, -3.2843, -3.6354, -3.8485, -3.9529, -3.9733, -4.0352, -4.0623, -4.0946, -4.3029, -4.3302, -4.3954, -4.608, -4.6479, -4.6827, -4.7453, -4.8927, -3.5906, -2.1434, -3.8924, -4.5666, -2.5241, -3.1089, -3.2474, -3.2818, -3.3051, -3.4312, -3.4372, -3.4771, -3.5035, -3.592, -3.6473, -3.7008, -3.7943, -3.8551, -3.9911, -4.0762, -4.1787, -4.4267, -4.4613, -4.4994, -2.5101, -2.3289, -3.857, -4.1451, -2.3828, -2.4111, -2.4968, -2.7048, -3.406, -3.5311, -3.6412, -3.7606, -4.0914, -4.2557, -4.2563, -4.4934, -4.6946, -4.8492, -4.9944, -1.736, -5.0505, -5.0911, -5.2646, -5.2971, -2.3462, -3.9034, -3.6377, -4.2878, -2.9819, -3.1664, -3.2093, -3.2185, -3.2368, -3.2862, -3.2897, -3.2919, -3.4287, -3.449, -3.5078, -3.5802, -3.6106, -3.6267, -3.7529, -3.8446, -3.9428, -4.0341, -4.0344, -4.0738, -3.7029, -3.3082, -3.5744, -2.391, -2.5548, -2.8899, -3.2141, -3.411, -3.4221, -3.7011, -3.7274, -3.8585, -3.8754, -3.9547, -4.0165, -4.1043, -4.4186, -4.427, -4.4277, -4.4848, -4.5404, -4.5477, -4.5643, -2.5027, -3.1787, -4.373, -1.7903, -1.864, -2.1828, -2.5168, -3.3204, -3.5195, -3.5493, -3.721, -3.7512, -3.7792, -4.0284, -4.2507, -4.2952, -4.3985, -4.4026, -4.4026, -4.4863, -4.742, -4.9817, -5.0063, -3.0065, -1.1317, -1.2019, -3.3749, -3.5739, -3.8745, -3.995, -4.0884, -4.171, -4.2065, -4.2456, -4.4127, -5.3299, -5.3505, -5.374, -5.4347, -5.4626, -5.4654, -5.4843, -5.8392, -6.0518, -5.5927, -5.6138, -2.462, -2.5418, -2.7656, -2.9108, -3.0091, -3.3775, -3.5409, -3.7522, -3.9657, -4.117, -4.416, -4.4182, -4.4182, -4.424, -2.1489, -4.5038, -4.6711, -4.9283, -2.5692, -5.4571, -3.9219, -2.4856, -1.9803, -3.1997, -3.245, -3.5026, -3.5233, -3.5702, -3.5878, -3.7009, -3.9275, -4.0068, -4.183, -4.2718, -4.6842, -4.7969, -4.9872, -1.8992, -5.2647, -5.4057, -1.5788, -5.5906, -3.8036, -3.0713, -3.4395, -3.5383, -3.56, -3.9028, -3.9217, -3.9996, -4.0466, -4.064, -4.0808, -4.0922, -4.0928, -4.1459, -4.2843, -4.2843, -4.2843, -4.2946, -4.3165, -4.3448, -4.3535, -1.5358, -3.3756, -2.1778, -2.5517, -2.9488, -2.9952, -3.3366, -3.3429, -3.6205, -3.7689, -3.7689, -3.9213, -4.0971, -4.177, -4.2979, -4.459, -4.459, -4.459, -4.459, -4.459, -4.459, -4.459, -3.2544, -1.8196, -2.2545, -2.7865, -3.2184, -3.4381, -3.5005, -3.5399, -3.5794, -3.6184, -4.075, -4.1186, -4.2153, -4.2392, -4.3137, -4.3724, -4.3742, -4.4556, -4.5381, -4.5464, -4.6273, -3.6519, -1.7655, -2.0302, -2.889, -3.0071, -3.0964, -3.3774, -3.3774, -3.7539, -1.4436, -4.0555, -4.2514, -4.4821, -4.7828, -5.7315, -5.8187, -5.8851, -5.6101, -7.0989, -7.0989, -7.2427, -3.0551, -3.1938, -3.3019, -3.4605, -3.5437, -1.6526, -3.7109, -4.0978, -4.1125, -4.1739, -4.1933, -4.2433, -4.3138, -4.3521, -4.5423, -4.5721, -4.582, -4.5942, -4.7344, -4.8296, -2.4869, -3.9859, -2.0452, -2.2738, -2.5965, -2.6924, -2.7709, -2.8387, -3.5094, -3.5279, -3.5279, -3.77, -4.1897, -4.3649, -4.3921, -4.4408, -4.5687, -4.5988, -4.6413, -4.6687, -4.7259, -4.9356, -2.8235, -4.1326, -2.4802, -2.5372, -2.7458, -3.2252, -3.2796, -3.3538, -3.374, -3.4448, -3.739, -3.8254, -4.0495, -4.185, -4.1946, -4.2713, -4.3548, -4.3831, -4.4539, -4.4733, -4.5628, -4.5995, -4.4788, -1.8861, -2.1266, -2.3096, -2.3859, -3.0869, -3.1951, -3.3985, -3.6932, -3.7754, -4.2975, -4.3832, -4.3832, -4.3832, -4.3832, -4.3832, -4.3832, -4.414, -4.4381, -4.4962, -4.5544], \"loglift\": [20.0, 19.0, 18.0, 17.0, 16.0, 15.0, 14.0, 13.0, 12.0, 11.0, 10.0, 9.0, 8.0, 7.0, 6.0, 5.0, 4.0, 3.0, 2.0, 1.0, 2.7754, 2.7748, 2.7652, 2.7649, 2.7617, 2.7528, 2.7495, 2.7124, 2.7122, 2.6973, 2.6821, 2.6632, 2.6591, 2.6314, 2.6143, 2.6097, 2.6027, 2.5903, 2.5817, 2.5679, 2.0328, 2.8629, 2.8595, 2.8594, 2.8442, 2.8421, 2.8409, 2.8346, 2.826, 2.8216, 2.7908, 2.7821, 2.6891, 2.6659, 2.6333, 2.5932, 2.5714, 2.5714, 2.5584, 2.5496, 2.5496, 2.2919, 2.2795, 1.9462, 1.9213, 1.1775, 2.8725, 2.8714, 2.8689, 2.8642, 2.8616, 2.8614, 2.8577, 2.8548, 2.8544, 2.8529, 2.8471, 2.846, 2.8444, 2.8386, 2.8361, 2.8343, 2.8302, 2.8287, 2.8208, 2.8187, 2.7256, 2.9557, 2.9441, 2.9401, 2.9359, 2.9345, 2.9216, 2.9166, 2.8666, 2.8387, 2.8293, 2.8244, 2.8228, 2.8191, 2.7871, 2.7496, 2.7407, 2.7271, 2.7234, 2.7167, 2.695, 2.5875, 2.572, 1.9173, 3.0076, 3.0024, 3.002, 2.9885, 2.9792, 2.9766, 2.974, 2.9688, 2.9643, 2.9636, 2.9432, 2.9355, 2.9335, 2.9264, 2.9175, 2.913, 2.9079, 2.9023, 2.8632, 2.833, 2.5016, 2.2308, 3.0721, 3.067, 3.0594, 3.0581, 3.0572, 3.0505, 3.0483, 3.0417, 3.0347, 3.0176, 3.0163, 3.0092, 2.9996, 2.9939, 2.9923, 2.9868, 2.9799, 2.9716, 2.9566, 2.9558, 2.7677, 2.7746, 3.1171, 3.1144, 3.1114, 3.1083, 3.1062, 3.0983, 3.0912, 3.0835, 3.0825, 3.0557, 3.0514, 3.0427, 3.0423, 3.0293, 3.0271, 3.0098, 2.9947, 2.9906, 2.9844, 2.9776, 2.9205, 2.274, 2.2591, 0.6658, 0.8628, 3.1477, 3.1442, 3.1434, 3.1369, 3.1365, 3.1321, 3.1301, 3.1246, 3.1244, 3.1133, 3.1096, 3.106, 3.0964, 3.0955, 3.0663, 3.0538, 3.0416, 3.0238, 3.0083, 2.8846, 2.3813, 2.017, 1.1285, 3.1867, 3.1851, 3.185, 3.1748, 3.1748, 3.1718, 3.1684, 3.1575, 3.1554, 3.1489, 3.1389, 3.1382, 3.1335, 3.128, 3.1182, 3.1176, 3.0983, 3.0797, 3.0704, 3.0693, 2.8715, 1.8813, 1.9272, 3.1886, 3.1785, 3.1773, 3.174, 3.1715, 3.171, 3.1623, 3.1578, 3.1511, 3.1482, 3.1477, 3.1474, 3.1458, 3.1402, 3.1384, 3.1297, 3.1177, 3.109, 3.0837, 3.0802, 3.0387, 2.9899, 2.8538, 1.834, 1.4403, 1.7778, 1.7139, 3.2854, 3.2702, 3.2692, 3.2576, 3.2528, 3.2471, 3.2334, 3.1984, 3.1972, 3.1859, 3.1846, 3.1832, 3.1732, 3.17, 3.1664, 3.1648, 3.1608, 3.1536, 3.1509, 3.1499, 2.4331, 2.4133, 1.8388, 1.9749, 2.5532, 3.3222, 3.3208, 3.3194, 3.3014, 3.2996, 3.2984, 3.2964, 3.2815, 3.2779, 3.2494, 3.2361, 3.2292, 3.2195, 3.2158, 3.2134, 3.2122, 3.2055, 3.1999, 3.1791, 3.1601, 1.981, 3.3309, 3.3294, 3.3262, 3.3216, 3.3205, 3.3138, 3.297, 3.2933, 3.284, 3.2549, 3.2512, 3.2457, 3.1769, 3.1556, 3.1556, 3.1487, 3.0977, 3.0772, 3.0725, 3.0651, 2.9897, 1.2577, 3.3395, 3.3348, 3.3316, 3.317, 3.3151, 3.3004, 3.2887, 3.2821, 3.2807, 3.2764, 3.2745, 3.272, 3.2546, 3.2521, 3.2458, 3.2224, 3.2175, 3.2131, 3.2048, 3.1834, 3.047, 2.8208, 3.0379, 2.0082, 3.3397, 3.3264, 3.322, 3.3208, 3.3199, 3.3151, 3.3149, 3.3132, 3.3121, 3.308, 3.3053, 3.3026, 3.2974, 3.2938, 3.285, 3.2789, 3.2708, 3.2479, 3.2443, 3.2402, 2.279, 2.067, 1.9314, 1.2015, 3.3688, 3.3683, 3.3669, 3.3631, 3.3422, 3.3368, 3.3315, 3.325, 3.3028, 3.289, 3.2889, 3.265, 3.2403, 3.2181, 3.1945, 3.1858, 3.1846, 3.1772, 3.1424, 3.1353, 3.0419, 3.0477, 2.9947, 1.0686, 3.5263, 3.5199, 3.5182, 3.5178, 3.5171, 3.515, 3.5148, 3.5148, 3.5084, 3.5074, 3.5044, 3.5004, 3.4986, 3.4977, 3.4897, 3.4833, 3.4758, 3.4683, 3.4682, 3.4647, 3.0596, 1.9706, 0.9662, 3.5622, 3.559, 3.5504, 3.539, 3.5301, 3.5295, 3.5135, 3.5118, 3.5025, 3.5012, 3.4949, 3.4897, 3.4817, 3.4475, 3.4464, 3.4464, 3.439, 3.4314, 3.4304, 3.4281, 3.2857, 3.0066, 2.8866, 3.6563, 3.6554, 3.6509, 3.6444, 3.6167, 3.6058, 3.604, 3.5926, 3.5904, 3.5883, 3.5669, 3.5434, 3.5381, 3.525, 3.5244, 3.5244, 3.5128, 3.4719, 3.4249, 3.4196, 1.9153, 3.6842, 3.6838, 3.6355, 3.6239, 3.6017, 3.5909, 3.5817, 3.5729, 3.5689, 3.5644, 3.5431, 3.3563, 3.3504, 3.3435, 3.3254, 3.3168, 3.3159, 3.31, 3.1836, 3.0936, 2.978, 1.3923, 3.716, 3.714, 3.7078, 3.703, 3.6993, 3.6819, 3.6721, 3.6569, 3.6382, 3.6227, 3.585, 3.5847, 3.5847, 3.5838, 3.5814, 3.5719, 3.5443, 3.4936, 3.4926, 3.3522, 3.0695, 1.9103, 3.7705, 3.7352, 3.7329, 3.7179, 3.7165, 3.7133, 3.7121, 3.7036, 3.6838, 3.6758, 3.6559, 3.6447, 3.5797, 3.5578, 3.5159, 3.4785, 3.443, 3.4, 3.391, 3.337, 1.4948, 3.803, 3.7825, 3.7757, 3.7742, 3.7446, 3.7426, 3.7344, 3.7291, 3.7271, 3.7252, 3.7238, 3.7237, 3.7172, 3.6989, 3.6989, 3.6989, 3.6974, 3.6943, 3.6902, 3.6889, 3.2533, 3.4013, 3.9133, 3.9037, 3.8889, 3.8868, 3.8679, 3.8674, 3.8468, 3.8334, 3.8334, 3.8177, 3.7966, 3.7859, 3.7683, 3.7419, 3.7419, 3.7419, 3.7419, 3.7419, 3.7419, 3.7419, 2.7993, 3.9502, 3.9419, 3.9256, 3.9045, 3.8901, 3.8854, 3.8823, 3.8791, 3.8758, 3.8272, 3.8215, 3.8079, 3.8044, 3.793, 3.7834, 3.7831, 3.7691, 3.7538, 3.7522, 3.7362, 1.6269, 3.9571, 3.9527, 3.9271, 3.9216, 3.917, 3.8999, 3.8999, 3.8686, 3.8549, 3.8346, 3.8072, 3.7686, 3.7061, 3.3917, 3.3524, 3.3212, 3.1345, 2.5642, 2.5642, 2.4537, 3.9308, 3.9232, 3.9164, 3.9053, 3.8987, 3.891, 3.8839, 3.8399, 3.838, 3.8294, 3.8266, 3.8191, 3.8081, 3.8018, 3.7675, 3.7617, 3.7597, 3.7572, 3.7271, 3.7047, 3.5669, 3.2497, 3.9948, 3.9896, 3.9801, 3.9766, 3.9735, 3.9707, 3.93, 3.9285, 3.9285, 3.906, 3.8536, 3.8254, 3.8207, 3.8119, 3.7871, 3.7809, 3.7718, 3.7659, 3.753, 3.7006, 1.5723, 1.2239, 4.0821, 4.0801, 4.0718, 4.045, 4.0412, 4.0356, 4.034, 4.0282, 3.9996, 3.9897, 3.9601, 3.9393, 3.9377, 3.9248, 3.9097, 3.9043, 3.8904, 3.8864, 3.8673, 3.8591, 2.2119, 4.2605, 4.2544, 4.2486, 4.2459, 4.2092, 4.2011, 4.1834, 4.1513, 4.1408, 4.0536, 4.0354, 4.0354, 4.0354, 4.0354, 4.0354, 4.0354, 4.0285, 4.023, 4.0094, 3.9951]}, \"token.table\": {\"Topic\": [13, 24, 14, 16, 30, 28, 15, 25, 16, 11, 19, 21, 30, 23, 24, 28, 6, 8, 15, 5, 8, 20, 6, 27, 20, 20, 5, 4, 7, 7, 5, 16, 16, 13, 9, 21, 11, 16, 10, 16, 25, 11, 10, 10, 22, 23, 24, 25, 3, 17, 26, 5, 3, 22, 16, 29, 28, 3, 16, 12, 11, 11, 27, 20, 29, 3, 7, 21, 9, 15, 15, 12, 9, 5, 11, 28, 17, 11, 7, 8, 9, 1, 21, 1, 18, 10, 13, 3, 17, 18, 25, 9, 27, 25, 10, 25, 30, 13, 5, 29, 15, 7, 26, 19, 27, 21, 6, 10, 26, 14, 13, 14, 3, 3, 20, 6, 9, 7, 29, 28, 1, 7, 1, 10, 10, 13, 25, 10, 29, 25, 17, 15, 8, 16, 6, 28, 30, 9, 27, 11, 30, 28, 27, 10, 19, 18, 20, 29, 20, 10, 1, 14, 20, 2, 1, 28, 8, 10, 12, 27, 24, 30, 10, 23, 8, 29, 23, 22, 26, 17, 7, 7, 24, 1, 6, 6, 14, 14, 9, 5, 6, 9, 24, 29, 16, 13, 2, 7, 2, 3, 15, 9, 26, 7, 17, 5, 27, 10, 23, 20, 3, 26, 15, 6, 14, 25, 15, 22, 23, 2, 22, 13, 4, 18, 6, 14, 20, 7, 30, 24, 12, 12, 1, 26, 26, 22, 21, 27, 23, 8, 18, 11, 2, 10, 23, 2, 14, 4, 8, 27, 21, 23, 21, 17, 28, 24, 26, 8, 23, 21, 10, 10, 5, 20, 18, 30, 14, 9, 22, 10, 21, 3, 30, 28, 8, 30, 1, 19, 25, 6, 3, 1, 1, 24, 6, 4, 12, 23, 2, 8, 18, 22, 22, 3, 12, 13, 27, 15, 15, 26, 21, 5, 3, 13, 21, 24, 15, 21, 13, 17, 19, 17, 28, 29, 7, 21, 4, 19, 7, 29, 1, 21, 18, 29, 6, 22, 17, 26, 4, 21, 8, 22, 2, 24, 2, 7, 20, 12, 17, 4, 5, 20, 9, 11, 29, 10, 23, 4, 12, 16, 12, 19, 5, 16, 10, 13, 6, 1, 3, 10, 25, 4, 17, 29, 18, 2, 24, 14, 23, 15, 18, 8, 14, 24, 9, 10, 14, 14, 27, 7, 29, 13, 27, 20, 3, 2, 20, 9, 16, 6, 11, 7, 21, 14, 23, 30, 19, 18, 12, 2, 11, 26, 30, 14, 4, 21, 21, 23, 22, 8, 22, 3, 18, 30, 6, 1, 11, 11, 13, 29, 23, 19, 19, 3, 16, 5, 27, 11, 16, 18, 9, 10, 6, 15, 2, 12, 22, 28, 9, 8, 24, 27, 2, 11, 27, 26, 4, 23, 23, 25, 8, 10, 11, 16, 17, 28, 15, 21, 15, 8, 20, 10, 10, 22, 23, 4, 2, 26, 23, 3, 2, 18, 9, 23, 3, 20, 16, 29, 15, 29, 17, 18, 16, 10, 22, 22, 18, 30, 4, 7, 10, 18, 16, 8, 15, 4, 19, 12, 28, 11, 6, 18, 14, 2, 5, 24, 30, 22, 30, 5, 17, 27, 30, 28, 1, 11, 18, 13, 17, 11, 25, 18, 25, 18, 4, 17, 16, 10, 14, 29, 19, 4, 17, 25, 26, 22, 9, 6, 30, 5, 18, 3, 6, 24, 6, 12, 5, 11, 24, 20, 4, 2, 27, 10, 2, 4, 15, 13, 28, 17, 1, 1, 8, 14, 2, 17, 7, 24, 11, 11, 29, 11, 29, 17, 25, 25, 8, 15, 25, 27, 15, 20, 29, 8, 5, 4, 7, 16, 16, 15, 13, 12, 25, 3, 14, 24, 14, 27, 19, 19, 21, 28, 11, 7, 4, 30, 9, 9, 1, 22, 29, 10, 21, 2, 27, 22, 26, 28, 12, 28, 4, 12, 2, 7, 15, 21, 28, 2, 6, 17, 1, 27, 25, 12, 28, 12, 15, 9, 9, 2, 5, 8, 5, 5, 25, 16, 30, 8, 9, 5, 17, 4, 14, 11, 9, 5, 19, 27, 3, 15, 18, 2, 12, 22, 12, 10, 11, 14, 1, 16, 19, 14, 24, 15, 13, 13, 1, 19, 6, 24, 7, 19, 8, 7, 28, 8, 17, 9, 20, 13, 19, 4, 5, 26, 19, 28, 13, 7, 15, 23, 19, 13, 20, 20], \"Freq\": [0.9853852567834531, 0.9751442789121844, 0.8263516389410632, 0.8994414359371222, 0.9688807589728785, 0.8995417092873185, 0.9441227352149146, 0.9065203662308636, 0.9650577267557033, 0.9115627212526001, 0.9253001395140626, 0.7207628408603409, 0.8189584941691589, 0.9181024260067001, 0.9787403780248041, 0.7145296218841243, 0.8789014610137794, 0.8764459774252106, 0.11094252878800134, 0.9827513345522485, 0.873295215008678, 0.9332060711584386, 0.962817548908323, 0.9189003443834868, 0.9935658099315066, 0.6458240644667556, 0.9575570717664447, 0.9351133941354882, 0.9764834503478579, 0.9079801620536102, 0.923443070282596, 0.9588613387776493, 0.8242159796342955, 0.9150020126221365, 0.2041489622549582, 0.7712294129631755, 0.8734683318136006, 0.8427273071713641, 0.9511115823394342, 0.9813408170211366, 0.9206254900763317, 0.9070976235415735, 0.9443992507151473, 0.8910578224448071, 0.796776793963425, 0.8813206009320822, 0.7704496268269081, 0.8495776808889975, 0.9846320396119335, 0.8938911807446811, 0.9399777909471678, 0.9305561832816158, 0.9377174331868794, 0.7817480209555921, 0.9471777070953823, 0.9030850359940592, 0.9117109091038447, 0.925079864942175, 0.986216772498847, 0.9870215833218069, 0.888987171743186, 0.9464660333696346, 0.8956340418734481, 0.6883517361453849, 0.9411911196645133, 0.9711696836894396, 0.9533480767381182, 0.9454462168944489, 0.9653337779788165, 0.9398398151921223, 0.910420604171116, 0.9763279056329847, 0.9771921054707731, 0.8646892890724561, 0.9890866442899525, 0.9427521530408643, 0.9578826989504862, 0.9316732340247986, 0.9832623459971013, 0.9862113288169162, 0.95451001544208, 0.9961551620295418, 0.9599159956653216, 0.9963599443245981, 0.9087175042310017, 0.9318774823056427, 0.960994087875616, 0.9742991047516324, 0.958164724693265, 0.9191546143619788, 0.9561586014808093, 0.9459637758852389, 0.8065432280526101, 0.8439147167238208, 0.9790552644303205, 0.8573356219210839, 0.7183974923103732, 0.9150020126221365, 0.9951315666056254, 0.849224074574092, 0.9306148242148955, 0.977943872970747, 0.5082209123870177, 0.9335737226081672, 0.8799428435037764, 0.9526816627063155, 0.7306462783907343, 0.24354875946357807, 0.9645451775708798, 0.8501395623953898, 0.7870773343529963, 0.9718968175194306, 0.9594777376810717, 0.9593358281347152, 0.4953145399432143, 0.8754689404042143, 0.09727432671157937, 0.808346975520742, 0.12763373297695926, 0.9574809288508569, 0.8656603751957248, 0.8899606487145164, 0.8973670251096996, 0.09701265136321076, 0.9374494852764554, 0.9896510612847335, 0.7890311917415219, 0.9605782188495898, 0.821065584702809, 0.8063114637109458, 0.9710776848731196, 0.9862265245003943, 0.22079074962214043, 0.7175699362719564, 0.9515807207190569, 0.971264651066764, 0.869352775402263, 0.9698539080501507, 0.7903856103901955, 0.9616871474325299, 0.9876464652169835, 0.8114395095633433, 0.8385958341492997, 0.9809021759477607, 0.9751235631854054, 0.832961684812072, 0.67388132006776, 0.9114075564685625, 0.9044781783401494, 0.9843373308152816, 0.8868262330778196, 0.8993729375458871, 0.6258901663763874, 0.9935691305337082, 0.836111685214145, 0.5953365799355006, 0.45853631280860563, 0.2413349014782135, 0.2654683916260348, 0.02413349014782135, 0.8417544552071122, 0.7183974923103732, 0.931988030282819, 0.8245074454360919, 0.7920383166128336, 0.8892683004794553, 0.8452914061549522, 0.33177057786367986, 0.33177057786367986, 0.9742091357241003, 0.9423148998138257, 0.9611997879100704, 0.7704495757121723, 0.9865363321592205, 0.9750190997648547, 0.9729272180198176, 0.9531946337809111, 0.8929074097911268, 0.9513012472140936, 0.9325093621460432, 0.7269527568321815, 0.26582600809534995, 0.7704495757121723, 0.9588251183335889, 0.7972952030798156, 0.9914635485992941, 0.5561464690347232, 0.4171098517760424, 0.931584342666389, 0.9572372206950307, 0.964065137019324, 0.9698539080501507, 0.985220859075363, 0.9587523235792292, 0.9534569999598893, 0.9458043226710131, 0.9716850438507609, 0.9924620534524794, 0.9296156010749135, 0.6870042524541734, 0.954190806646108, 0.9716101124056499, 0.9093730354332982, 0.21624696521287812, 0.7568643782450735, 0.8765106727117995, 0.9797324680803056, 0.9555212651671837, 0.8906370484976608, 0.6029774076132076, 0.9394444695675992, 0.869074082090148, 0.9818942632719707, 0.7818526433366563, 0.9627846541531399, 0.9498612456342869, 0.9183179593444293, 0.8801241211302437, 0.8953254696957607, 0.9110198838286924, 0.9238108183911665, 0.9616586814870147, 0.8330249902556552, 0.8354033052468968, 0.8641685142602517, 0.9388039383048061, 0.788589320466512, 0.9122111733324016, 0.7815965868789275, 0.9872061597787628, 0.8268866551850322, 0.9209518080279993, 0.9750831115040329, 0.9857085567676402, 0.9296156010749135, 0.8509292850532673, 0.8804430557220136, 0.8331227214059881, 0.08106135508334991, 0.9051851317640741, 0.9681286562099659, 0.9296156010749135, 0.7079096732797583, 0.979680155254518, 0.8226464278898503, 0.9248987733272712, 0.5264038071721636, 0.9911540660190443, 0.7963702050629984, 0.7940066074359807, 0.9581645873488784, 0.8669551617009509, 0.9535767331323615, 0.8537630904722826, 0.9604140269185258, 0.7496263663568197, 0.9552007357739359, 0.9757861437418361, 0.9577583129209907, 0.8279872095790396, 0.1655974419158079, 0.9576153327751162, 0.7183974923103732, 0.9148816032435256, 0.869981237051845, 0.7836971114976622, 0.9576463744227003, 0.9198680425909737, 0.9501277369234749, 0.9361220765265285, 0.9112110071363253, 0.9780915903362977, 0.9077547895697726, 0.9810799021389135, 0.9891497437698571, 0.9782776518095778, 0.8839466452708687, 0.9175625070719222, 0.8509292850532673, 0.9221017297021352, 0.8334895595745392, 0.938882590109608, 0.963873864168077, 0.9171613168806197, 0.9459059534240416, 0.7036846093135117, 0.9457205384766986, 0.9530345163003056, 0.8500712342466925, 0.7707018421391857, 0.7816946731113272, 0.9901923651132833, 0.9753273776905693, 0.9113136572363609, 0.7900848429674735, 0.95277579961616, 0.45977136345803005, 0.5172427838902838, 0.9929481093722596, 0.9503154465499911, 0.8757262098265637, 0.969813566685509, 0.9581208873348958, 0.8401022481644631, 0.8534966166565348, 0.9639228880145186, 0.8705085303530333, 0.951744734189672, 0.8942426884927118, 0.7477239995570426, 0.9849758534001571, 0.9543512750131538, 0.9571400964052406, 0.9167390428830464, 0.928758966820546, 0.639496717034598, 0.9655053805807066, 0.809806310472605, 0.8687566892722901, 0.8498447850198302, 0.9377495863335928, 0.7053096642392269, 0.7965190684328093, 0.7704496268269081, 0.5552822681350758, 0.4318862085495034, 0.6973063128844469, 0.9905809688633047, 0.9434177474067879, 0.7682315483483513, 0.27881631021443365, 0.5576326204288673, 0.7158631897547988, 0.27043720501847957, 0.9659388528539191, 0.32462968530111475, 0.6492593706022295, 0.8394356946155074, 0.9633079332920865, 0.7284039997627481, 0.8996408557424072, 0.9890375493137007, 0.9857620749698757, 0.9919916978341454, 0.8570543002832883, 0.1182143862459708, 0.9517614033211582, 0.9025690808379085, 0.9688395292866963, 0.8871345648843506, 0.884124692945536, 0.869025586249711, 0.942438964798777, 0.972789607503291, 0.8759999412582733, 0.9775613952301377, 0.9299612031038621, 0.8967182077892952, 0.9712263203609088, 0.9444952945221787, 0.9292256465293423, 0.9787254949420924, 0.9308610975966872, 0.7704496268269081, 0.9778374597410351, 0.24206510773935785, 0.7261953232180736, 0.9109995999720789, 0.9374384984919449, 0.978514617664622, 0.8993345236340262, 0.9196250690278581, 0.8997121393680066, 0.9372291518994572, 0.9459679918125657, 0.9013991448217469, 0.9120915648962747, 0.27755729494259074, 0.7054581246457515, 0.9544186387817466, 0.03757553695991128, 0.9779938726065859, 0.9227199089485996, 0.9308704154109195, 0.8158386690543918, 0.9675531144027292, 0.8788465914480528, 0.9249214240356004, 0.993450341823761, 0.8315864490891218, 0.1531869774637856, 0.9178648451668336, 0.7183974923103732, 0.970770348236714, 0.8650338399232147, 0.7900848429674735, 0.8501236395617381, 0.885886110648388, 0.8545300020040925, 0.31966839281688336, 0.6773925466833957, 0.9740748935438697, 0.8654533295229031, 0.9626905981412307, 0.9599961309326579, 0.44721197786782213, 0.5031134751012999, 0.9107498546330643, 0.7564022266798861, 0.9487527944273562, 0.952199354534254, 0.9931675784666804, 0.9207557773562239, 0.28093111709756546, 0.6822612843798018, 0.4401849506740096, 0.5135491091196779, 0.9809093728063206, 0.9813373984173314, 0.9148213506096413, 0.8696954606832564, 0.10112737914921587, 0.8807069307782273, 0.9499332675948552, 0.6928461788204806, 0.9320379698441776, 0.9176769108000553, 0.763063946189884, 0.8900730691112251, 0.9713048919762111, 0.31502554839969565, 0.6525529216850838, 0.8074134196083539, 0.9219395760408987, 0.8036587094563478, 0.484445284793714, 0.7122999140158154, 0.9011233853101234, 0.9083739656498765, 0.8229236647539185, 0.13445503842588277, 0.22409173070980462, 0.42577428834862874, 0.10084127881941207, 0.056022932677451155, 0.056022932677451155, 0.13026754751900896, 0.8467390588735582, 0.9399637279853583, 0.8485168575474935, 0.9371187145697562, 0.9300376046487392, 0.97172217073384, 0.8985400044328555, 0.9408880569575191, 0.9972197561789172, 0.9703813937014525, 0.985665881078079, 0.8950009529080369, 0.9752918011137608, 0.8934101502601328, 0.9339724043569774, 0.8145130476966043, 0.8219392124721364, 0.8748089546499221, 0.11664119395332295, 0.946341570862054, 0.9586062364995248, 0.9738815953624866, 0.7267294002046933, 0.9388463991190578, 0.9767361322137645, 0.7613060820933647, 0.2517715208755477, 0.7324262425470479, 0.8205938105324831, 0.9373657659263617, 0.9353442896119707, 0.9877419987856207, 0.9931590325683756, 0.9394467213263386, 0.9290433211219877, 0.8857595105973168, 0.9677522148734531, 0.9562065409288585, 0.9823766817380611, 0.897215900839087, 0.9390109574625057, 0.9148816032435256, 0.8950343015198856, 0.9713853602263359, 0.9509224568356616, 0.9861331411913867, 0.39914840908700117, 0.5987226136305017, 0.9362958908765956, 0.7183974923103732, 0.9776431087186065, 0.9475699793987353, 0.7824107130380498, 0.9570975872676756, 0.8591798749453544, 0.7183974923103732, 0.9488666470758614, 0.9127985389766718, 0.4106227052904639, 0.5646062197743879, 0.8166803418793995, 0.8810132768290584, 0.9320713226530324, 0.92203057290561, 0.9796486152921944, 0.9861974756078291, 0.9389001436151204, 0.36568941207096517, 0.5942452946153184, 0.8998653646197904, 0.7198617274410898, 0.2652122153730331, 0.7667577132630549, 0.9460951851390157, 0.6946006212170615, 0.20734346902001832, 0.09330456105900825, 0.9178648451668336, 0.980641891611724, 0.97832511433547, 0.9029914495758185, 0.933552381999628, 0.4508724763669942, 0.5260178890948266, 0.9789971932498991, 0.9689406979317107, 0.849567765047629, 0.9464929690818586, 0.9473299310374447, 0.9556938794889558, 0.9824035991637365, 0.9244573596264177, 0.9063333459967048, 0.8301052910103639, 0.588669968236454, 0.8883086358141941, 0.9687593360293846, 0.1901579780907708, 0.6813994214919288, 0.1267719853938472, 0.6762018782693393, 0.19320053664838266, 0.9189768609684772, 0.786565077136822, 0.9104455175971751, 0.9207458967728205, 0.933889746313508, 0.9508162740964966, 0.960445492481282, 0.9228113003775475, 0.7704496268269081, 0.8846405123155435, 0.9428676353802231, 0.8921181934516664, 0.8994732683725826, 0.06203263919810914, 0.9516690029169029, 0.9176658572130791, 0.9657585376800162, 0.9832966582949464, 0.9085871876021787, 0.8903848382266399, 0.9022005603482323, 0.9418538567061573, 0.4381540081691017, 0.795461910800658, 0.9858612366485512, 0.9491612259046371, 0.983568969709276, 0.8201731560552372, 0.8662180014991634, 0.9456770112345384, 0.9390410361413957, 0.9938589368216326, 0.9185256489277541, 0.9378746176879253, 0.984591280085504, 0.9199501138836433, 0.8500888485069682, 0.8518005808545527, 0.9191838563976746, 0.8788465914480528, 0.7805806567497565, 0.9324153295117397, 0.7796566417887788, 0.8310959498424642, 0.8439868662585558, 0.6946804261820981, 0.8092297557253235, 0.8869079073515262, 0.9487978008366489, 0.9918820723017443, 0.8696602972779032, 0.9302240287153029, 0.8972221783384615, 0.9585881425141771, 0.9658944679876945, 0.8869466628929104, 0.10572358608046141, 0.8880781230758759, 0.762378714637745, 0.8454992788476944, 0.6909985296228295, 0.8608455048744005, 0.9377364102427899, 0.3901649715202455, 0.08575054319126275, 0.2744017382120408, 0.15863850490383608, 0.08575054319126275, 0.9906584534341997, 0.9653875149523605, 0.9555131349748908, 0.7551566528031939, 0.7499199013480735, 0.982518572524726, 0.9687196031703285, 0.8994905783591721, 0.8596553034636679, 0.9167150439773568, 0.9412295091689076, 0.9414549423782755, 0.6029773165227771, 0.9801554589453583, 0.9356525076813752, 0.9386997265316032, 0.9449072682184293, 0.916803071085921, 0.7101147482387122, 0.7357925302610286, 0.9821356933050424, 0.8673545179718961, 0.9216632260068143, 0.07432767951667857, 0.6848006339115357, 0.9876196127501173, 0.9672647690219954, 0.9888423256255873, 0.9653607988966885, 0.7098815585547558, 0.8899432604869764, 0.9785779132457079, 0.24160896761353742, 0.7420846862415792, 0.9947444504685413, 0.9668525648281112, 0.9236240185877549, 0.8537565175494537, 0.17407878278825906, 0.2346279246276535, 0.5903541329340959, 0.9399043517376819, 0.8197319524013349, 0.17410236157196493, 0.9240935740725564, 0.95277579961616, 0.9556644091964867, 0.9631510371377094, 0.7574685727527416, 0.8544301421584307, 0.8976526357203418, 0.9339618825999871, 0.7704495757121723, 0.919004650382956, 0.9771695794410719, 0.95110335614676, 0.989005408676106, 0.7299955579011442, 0.9651546330513433, 0.925373265372568, 0.8837162168368988, 0.881103969750151, 0.7684163381655452, 0.9459702456908295, 0.9835206523658789, 0.9046723041447752, 0.8470077638249274, 0.7871336993131739, 0.9764873234982039, 0.9551265759478308, 0.10164282559120857, 0.34304453637032895, 0.5526828641521967, 0.7236604163522404, 0.984591611183007, 0.9919121007478308, 0.6351472252327185], \"Term\": [\"ability\", \"able\", \"above\", \"absence\", \"absolute\", \"abstain\", \"abstinence\", \"accept\", \"acceptable\", \"accessible\", \"accord\", \"accordance\", \"accurately\", \"acquisition\", \"active\", \"activity\", \"adenocarcinoma\", \"adequate\", \"adequate\", \"adjuvant\", \"administration\", \"adult\", \"advanced\", \"affiliate\", \"age\", \"aged\", \"agent\", \"agonist\", \"agree\", \"agreement\", \"ai\", \"alanine\", \"alkaline\", \"allocate\", \"allow\", \"allow\", \"alone\", \"alp\", \"also\", \"alt\", \"amenable\", \"amenorrhea\", \"american\", \"amplification\", \"amplify\", \"analysis\", \"anamnesis\", \"anthracycline\", \"anti\", \"anticoagulant\", \"appropriate\", \"aromatase\", \"as\", \"asco\", \"aspartate\", \"aspiration\", \"assess\", \"assessment\", \"ast\", \"at\", \"availability\", \"available\", \"average\", \"avoid\", \"axilla\", \"axillary\", \"barrier\", \"base\", \"baseline\", \"bear\", \"become\", \"bilateral\", \"bilirubin\", \"biologic\", \"biopsy\", \"birth\", \"bisphosphonate\", \"block\", \"blood\", \"bone\", \"brain\", \"breast\", \"calculate\", \"cancer\", \"candidate\", \"cap\", \"capable\", \"carcinoma\", \"cardiac\", \"cardiovascular\", \"care\", \"case\", \"cause\", \"cavity\", \"cell\", \"center\", \"certificate\", \"chance\", \"chemotherapy\", \"chest\", \"child\", \"childbeare\", \"chronic\", \"classification\", \"clear\", \"clearance\", \"clinical\", \"clinical\", \"clinically\", \"clip\", \"close\", \"cm\", \"coagulation\", \"cohort\", \"come\", \"complete\", \"complete\", \"completion\", \"completion\", \"comply\", \"condition\", \"condom\", \"confirm\", \"confirm\", \"confirmation\", \"consent\", \"conservation\", \"consider\", \"consumption\", \"continuation\", \"continue\", \"contraception\", \"contraceptive\", \"contraceptive\", \"contralateral\", \"control\", \"conventional\", \"cooperative\", \"copy\", \"core\", \"count\", \"course\", \"cover\", \"creatinine\", \"criterion\", \"ctcae\", \"cure\", \"currently\", \"cycle\", \"cytologically\", \"cytology\", \"date\", \"datum\", \"day\", \"dcis\", \"deceased\", \"define\", \"define\", \"define\", \"define\", \"degree\", \"deliver\", \"demonstrate\", \"department\", \"describe\", \"detail\", \"detect\", \"determination\", \"determination\", \"determine\", \"develop\", \"device\", \"diabetes\", \"diagnose\", \"diagnosis\", \"diagnostic\", \"diameter\", \"dimension\", \"direct\", \"discontinue\", \"disease\", \"disease\", \"diseased\", \"dissection\", \"distant\", \"document\", \"dose\", \"dose\", \"drug\", \"ductal\", \"duration\", \"eastern\", \"ecog\", \"effective\", \"ejection\", \"elapse\", \"eligibility\", \"eligible\", \"embed\", \"encompass\", \"end\", \"endocrine\", \"enrol\", \"enrollment\", \"enrollment\", \"enter\", \"entry\", \"epidermal\", \"equal\", \"eribulin\", \"estrogen\", \"evaluable\", \"evaluation\", \"event\", \"evidence\", \"exam\", \"examination\", \"example\", \"exceed\", \"exclusion\", \"expect\", \"expectancy\", \"experimental\", \"express\", \"expression\", \"factor\", \"failure\", \"family\", \"fast\", \"female\", \"final\", \"find\", \"first\", \"fish\", \"fix\", \"flash\", \"focus\", \"follicle\", \"follow\", \"follow\", \"form\", \"formalin\", \"formula\", \"fraction\", \"free\", \"french\", \"fulfill\", \"function\", \"functional\", \"gault\", \"gene\", \"gfr\", \"give\", \"good\", \"grade\", \"granulocyte\", \"great\", \"group\", \"growth\", \"guideline\", \"guideline\", \"have\", \"healthcare\", \"healthy\", \"hematologic\", \"hematological\", \"hemoglobin\", \"hepatic\", \"high\", \"highly\", \"histological\", \"histologically\", \"histology\", \"history\", \"hormonal\", \"hormone\", \"hormonotherapy\", \"hospital\", \"hot\", \"hour\", \"however\", \"hr\", \"human\", \"hybridization\", \"hysterectomy\", \"icf\", \"identify\", \"imaging\", \"immediately\", \"immunologically\", \"immunotherapy\", \"include\", \"inclusion\", \"indicate\", \"infarction\", \"infection\", \"inform\", \"inform\", \"informed\", \"inhibitor\", \"initial\", \"initiate\", \"initiation\", \"inpatient\", \"institution\", \"institutional\", \"intact\", \"international\", \"intrauterine\", \"intravenous\", \"invasive\", \"investigational\", \"investigator\", \"involvement\", \"ipsilateral\", \"ish\", \"iv\", \"kidney\", \"know\", \"knowledge\", \"laboratory\", \"lack\", \"lactate\", \"lactation\", \"last\", \"last\", \"later\", \"least\", \"leave\", \"legal\", \"leptomeningeal\", \"leptomeningeal\", \"lesion\", \"lesion\", \"less\", \"level\", \"level\", \"lhrh\", \"life\", \"lifestyle\", \"ligation\", \"limit\", \"line\", \"liver\", \"local\", \"local\", \"locally\", \"location\", \"long\", \"low\", \"lumpectomy\", \"luteinizing\", \"lvef\", \"lymph\", \"major\", \"male\", \"malignancy\", \"mammogram\", \"mammography\", \"man\", \"margin\", \"marrow\", \"mass\", \"mastitis\", \"measurable\", \"measure\", \"measure\", \"measurement\", \"medical\", \"medication\", \"medicine\", \"meet\", \"member\", \"menopausal\", \"menopause\", \"mense\", \"menstrual\", \"metastasis\", \"metastasis\", \"metastatic\", \"metastatic\", \"method\", \"min\", \"minimum\", \"ml\", \"mm\", \"monitor\", \"monotherapy\", \"month\", \"more\", \"more\", \"most\", \"motivation\", \"mri\", \"mutation\", \"myocardial\", \"nature\", \"necessary\", \"needle\", \"negative\", \"negative\", \"neoadjuvant\", \"neuropathy\", \"neutrophil\", \"new\", \"newly\", \"newly\", \"no\", \"nod\", \"node\", \"non\", \"normal\", \"normalized\", \"note\", \"note\", \"number\", \"number\", \"obtain\", \"old\", \"oncologist\", \"oncology\", \"oncology\", \"ongoing\", \"only\", \"onset\", \"oophorectomy\", \"operative\", \"opinion\", \"oral\", \"organ\", \"other\", \"other\", \"outline\", \"ovarian\", \"ovary\", \"overexpresse\", \"palbociclib\", \"palpable\", \"paraffin\", \"part\", \"participant\", \"participant\", \"participant\", \"participant\", \"participant\", \"participant\", \"participate\", \"participate\", \"participation\", \"partner\", \"past\", \"pathologic\", \"pathological\", \"pathologically\", \"pathology\", \"patient\", \"perform\", \"performance\", \"perimenopausal\", \"period\", \"peripheral\", \"permit\", \"personal\", \"pertuzumab\", \"phase\", \"phase\", \"phosphatase\", \"physical\", \"physician\", \"pk\", \"plan\", \"platelet\", \"plt\", \"positive\", \"positive\", \"positivity\", \"possible\", \"post\", \"postmenopausal\", \"potential\", \"pr\", \"practice\", \"preferred\", \"pregnancy\", \"pregnant\", \"premenopausal\", \"presence\", \"present\", \"presumably\", \"pretreatment\", \"previous\", \"previously\", \"primary\", \"prior\", \"prior\", \"procedure\", \"professional\", \"progesterone\", \"program\", \"progress\", \"progression\", \"progressive\", \"propose\", \"protocol\", \"prove\", \"provide\", \"provide\", \"provision\", \"ptt\", \"purpose\", \"questionnaire\", \"radiation\", \"radiotherapy\", \"randomization\", \"range\", \"range\", \"rate\", \"ratio\", \"ratio\", \"ray\", \"read\", \"receive\", \"receive\", \"receive\", \"recent\", \"receptor\", \"recist\", \"recommend\", \"record\", \"recover\", \"recover\", \"recurrence\", \"recurrent\", \"refer\", \"regiman\", \"regime\", \"regimen\", \"registration\", \"relate\", \"relative\", \"release\", \"relevant\", \"remain\", \"renal\", \"require\", \"require\", \"require\", \"requirement\", \"requirement\", \"research\", \"resectable\", \"resection\", \"reserve\", \"response\", \"result\", \"risk\", \"routine\", \"rule\", \"safely\", \"safety\", \"same\", \"sample\", \"sample\", \"scan\", \"schedule\", \"score\", \"screen\", \"screening\", \"section\", \"security\", \"see\", \"select\", \"sentinel\", \"serum\", \"set\", \"setting\", \"sexually\", \"sgot\", \"sgpt\", \"show\", \"sign\", \"significant\", \"site\", \"situ\", \"size\", \"skin\", \"small\", \"social\", \"sorafenib\", \"speak\", \"specific\", \"specify\", \"speciman\", \"spermicidal\", \"spontaneous\", \"sport\", \"srs\", \"stable\", \"stage\", \"staging\", \"stain\", \"staining\", \"standard\", \"start\", \"state\", \"status\", \"status\", \"sterile\", \"sterilization\", \"sterilize\", \"stimulate\", \"stop\", \"study\", \"study\", \"study\", \"study\", \"study\", \"subject\", \"subtype\", \"such\", \"suitable\", \"surgeon\", \"surgery\", \"surgical\", \"surgically\", \"survival\", \"suspect\", \"symptom\", \"syndrome\", \"systematic\", \"systemic\", \"take\", \"tamoxifen\", \"target\", \"taxane\", \"tbil\", \"technique\", \"test\", \"testing\", \"therapy\", \"therapy\", \"third\", \"time\", \"tissue\", \"total\", \"toxicity\", \"transaminase\", \"transfusion\", \"trastuzumab\", \"treat\", \"treat\", \"treatment\", \"trial\", \"triple\", \"tubal\", \"tumor\", \"tumor\", \"tumor\", \"tumour\", \"uln\", \"uln\", \"ultrasound\", \"uncontrolle\", \"undergo\", \"understand\", \"understanding\", \"unifocal\", \"unl\", \"unresectable\", \"unstable\", \"up\", \"upper\", \"urine\", \"use\", \"vaccine\", \"value\", \"ventricular\", \"version\", \"visit\", \"voluntarily\", \"warfarin\", \"week\", \"weekly\", \"weight\", \"white\", \"willing\", \"willingness\", \"woman\", \"woman\", \"woman\", \"work\", \"write\", \"year\", \"yr\"]}, \"R\": 20, \"lambda.step\": 0.01, \"plot.opts\": {\"xlab\": \"PC1\", \"ylab\": \"PC2\"}, \"topic.order\": [5, 20, 13, 23, 25, 29, 10, 15, 16, 7, 17, 6, 12, 24, 1, 18, 26, 3, 28, 19, 27, 9, 21, 4, 22, 30, 14, 2, 8, 11]};\n",
              "\n",
              "function LDAvis_load_lib(url, callback){\n",
              "  var s = document.createElement('script');\n",
              "  s.src = url;\n",
              "  s.async = true;\n",
              "  s.onreadystatechange = s.onload = callback;\n",
              "  s.onerror = function(){console.warn(\"failed to load library \" + url);};\n",
              "  document.getElementsByTagName(\"head\")[0].appendChild(s);\n",
              "}\n",
              "\n",
              "if(typeof(LDAvis) !== \"undefined\"){\n",
              "   // already loaded: just create the visualization\n",
              "   !function(LDAvis){\n",
              "       new LDAvis(\"#\" + \"ldavis_el751396550103828009466227996\", ldavis_el751396550103828009466227996_data);\n",
              "   }(LDAvis);\n",
              "}else if(typeof define === \"function\" && define.amd){\n",
              "   // require.js is available: use it to load d3/LDAvis\n",
              "   require.config({paths: {d3: \"https://d3js.org/d3.v5\"}});\n",
              "   require([\"d3\"], function(d3){\n",
              "      window.d3 = d3;\n",
              "      LDAvis_load_lib(\"https://cdn.jsdelivr.net/gh/bmabey/pyLDAvis@3.3.1/pyLDAvis/js/ldavis.v3.0.0.js\", function(){\n",
              "        new LDAvis(\"#\" + \"ldavis_el751396550103828009466227996\", ldavis_el751396550103828009466227996_data);\n",
              "      });\n",
              "    });\n",
              "}else{\n",
              "    // require.js not available: dynamically load d3 & LDAvis\n",
              "    LDAvis_load_lib(\"https://d3js.org/d3.v5.js\", function(){\n",
              "         LDAvis_load_lib(\"https://cdn.jsdelivr.net/gh/bmabey/pyLDAvis@3.3.1/pyLDAvis/js/ldavis.v3.0.0.js\", function(){\n",
              "                 new LDAvis(\"#\" + \"ldavis_el751396550103828009466227996\", ldavis_el751396550103828009466227996_data);\n",
              "            })\n",
              "         });\n",
              "}\n",
              "</script>"
            ]
          },
          "metadata": {},
          "execution_count": 22
        }
      ]
    },
    {
      "cell_type": "markdown",
      "source": [
        "Few topics are well seperated , but still there is overlap between topics.\n",
        "Let's try 2D mapping with t-SNE."
      ],
      "metadata": {
        "id": "Hg1qfKfWZLSl"
      }
    },
    {
      "cell_type": "code",
      "source": [
        "vis_tsne = pyLDAvis.gensim_models.prepare(lda_model, corpus, id2word, R=20, mds='tsne')"
      ],
      "metadata": {
        "colab": {
          "base_uri": "https://localhost:8080/"
        },
        "id": "rUlI-69FV_k2",
        "outputId": "a34eaea8-618b-44b3-9bc1-43c7f74f2f16"
      },
      "execution_count": 23,
      "outputs": [
        {
          "output_type": "stream",
          "name": "stderr",
          "text": [
            "/usr/local/lib/python3.7/dist-packages/pyLDAvis/_prepare.py:247: FutureWarning: In a future version of pandas all arguments of DataFrame.drop except for the argument 'labels' will be keyword-only\n",
            "  by='saliency', ascending=False).head(R).drop('saliency', 1)\n",
            "/usr/local/lib/python3.7/dist-packages/sklearn/manifold/_t_sne.py:783: FutureWarning: The default initialization in TSNE will change from 'random' to 'pca' in 1.2.\n",
            "  FutureWarning,\n",
            "/usr/local/lib/python3.7/dist-packages/sklearn/manifold/_t_sne.py:793: FutureWarning: The default learning rate in TSNE will change from 200.0 to 'auto' in 1.2.\n",
            "  FutureWarning,\n",
            "/usr/local/lib/python3.7/dist-packages/sklearn/manifold/_t_sne.py:827: FutureWarning: 'square_distances' has been introduced in 0.24 to help phase out legacy squaring behavior. The 'legacy' setting will be removed in 1.1 (renaming of 0.26), and the default setting will be changed to True. In 1.3, 'square_distances' will be removed altogether, and distances will be squared by default. Set 'square_distances'=True to silence this warning.\n",
            "  FutureWarning,\n"
          ]
        }
      ]
    },
    {
      "cell_type": "code",
      "source": [
        "vis_tsne"
      ],
      "metadata": {
        "colab": {
          "base_uri": "https://localhost:8080/",
          "height": 881
        },
        "id": "-oB02ROgWRuF",
        "outputId": "43ef84bd-f8f7-4fce-96bc-c6c1b19e36be"
      },
      "execution_count": 24,
      "outputs": [
        {
          "output_type": "execute_result",
          "data": {
            "text/plain": [
              "PreparedData(topic_coordinates=                x           y  topics  cluster      Freq\n",
              "topic                                                   \n",
              "4      119.070190   64.655502       1        1  6.216748\n",
              "19      54.382130  109.799164       2        1  5.673934\n",
              "12    -161.423965 -103.744957       3        1  5.560301\n",
              "22    -135.370758   36.673065       4        1  5.194139\n",
              "24     177.317215  -66.872452       5        1  4.909779\n",
              "28     -16.436356  142.453796       6        1  4.573798\n",
              "9       31.052383  204.777573       7        1  4.387312\n",
              "14     -25.024384 -186.083466       8        1  4.251191\n",
              "15     -68.157486   20.934038       9        1  4.068950\n",
              "6       -3.751695    4.961509      10        1  4.067691\n",
              "16    -114.470009 -179.605469      11        1  3.708967\n",
              "5     -110.729126  -40.476776      12        1  3.582465\n",
              "11      42.552418  -42.789406      13        1  3.551960\n",
              "23     -10.661536   71.922211      14        1  3.505228\n",
              "0      112.652969  -16.279951      15        1  3.485465\n",
              "17    -195.499146  -25.853945      16        1  3.391223\n",
              "25    -207.165924   66.070419      17        1  2.849635\n",
              "2       10.217649 -110.752060      18        1  2.785273\n",
              "27     -81.255081   96.477776      19        1  2.554078\n",
              "18     -77.253441  192.755219      20        1  2.496887\n",
              "26     182.353027  110.412880      21        1  2.380297\n",
              "8       89.766510  -93.997673      22        1  2.269218\n",
              "20     -36.483528  -52.542774      23        1  2.126884\n",
              "3      -72.052170 -112.144821      24        1  1.954878\n",
              "21     144.822769 -150.811508      25        1  1.895500\n",
              "29    -148.475357  135.678162      26        1  1.883763\n",
              "13     189.811615   17.382956      27        1  1.861032\n",
              "1       56.555355   33.755768      28        1  1.804172\n",
              "7       58.988537 -178.376541      29        1  1.629695\n",
              "10     110.556717  164.236694      30        1  1.379536, topic_info=               Term        Freq       Total Category  logprob  loglift\n",
              "26          patient  455.000000  455.000000  Default  20.0000  20.0000\n",
              "3            breast  354.000000  354.000000  Default  19.0000  19.0000\n",
              "4            cancer  288.000000  288.000000  Default  18.0000  18.0000\n",
              "148       treatment  229.000000  229.000000  Default  17.0000  17.0000\n",
              "2              year  153.000000  153.000000  Default  16.0000  16.0000\n",
              "...             ...         ...         ...      ...      ...      ...\n",
              "1903        propose    3.258518    4.175990  Topic30  -4.3832   4.0353\n",
              "1027      technique    3.159794    4.077265  Topic30  -4.4140   4.0285\n",
              "1238    granulocyte    3.084551    4.002023  Topic30  -4.4381   4.0230\n",
              "952   hematological    2.910567    3.828039  Topic30  -4.4962   4.0094\n",
              "1024     accurately    2.745747    3.663218  Topic30  -4.5544   3.9951\n",
              "\n",
              "[693 rows x 6 columns], token_table=      Topic      Freq      Term\n",
              "term                           \n",
              "233      13  0.985385   ability\n",
              "236      24  0.975142      able\n",
              "1023     14  0.826340     above\n",
              "109      16  0.899454   absence\n",
              "50       30  0.968880  absolute\n",
              "...     ...       ...       ...\n",
              "107      23  0.552650     woman\n",
              "453      19  0.723646      work\n",
              "93       13  0.984592     write\n",
              "2        20  0.991910      year\n",
              "736      20  0.635141        yr\n",
              "\n",
              "[694 rows x 3 columns], R=20, lambda_step=0.01, plot_opts={'xlab': 'PC1', 'ylab': 'PC2'}, topic_order=[5, 20, 13, 23, 25, 29, 10, 15, 16, 7, 17, 6, 12, 24, 1, 18, 26, 3, 28, 19, 27, 9, 21, 4, 22, 30, 14, 2, 8, 11])"
            ],
            "text/html": [
              "\n",
              "<link rel=\"stylesheet\" type=\"text/css\" href=\"https://cdn.jsdelivr.net/gh/bmabey/pyLDAvis@3.3.1/pyLDAvis/js/ldavis.v1.0.0.css\">\n",
              "\n",
              "\n",
              "<div id=\"ldavis_el751396550110628645951898766\"></div>\n",
              "<script type=\"text/javascript\">\n",
              "\n",
              "var ldavis_el751396550110628645951898766_data = {\"mdsDat\": {\"x\": [119.0701904296875, 54.38212966918945, -161.42396545410156, -135.37075805664062, 177.3172149658203, -16.436355590820312, 31.052383422851562, -25.024383544921875, -68.15748596191406, -3.751695156097412, -114.47000885009766, -110.7291259765625, 42.55241775512695, -10.66153621673584, 112.65296936035156, -195.4991455078125, -207.16592407226562, 10.217649459838867, -81.25508117675781, -77.2534408569336, 182.35302734375, 89.76651000976562, -36.48352813720703, -72.05216979980469, 144.82276916503906, -148.47535705566406, 189.81161499023438, 56.555355072021484, 58.9885368347168, 110.55671691894531], \"y\": [64.65550231933594, 109.79916381835938, -103.74495697021484, 36.673065185546875, -66.87245178222656, 142.45379638671875, 204.77757263183594, -186.08346557617188, 20.934038162231445, 4.9615092277526855, -179.60546875, -40.476776123046875, -42.789405822753906, 71.92221069335938, -16.279951095581055, -25.853944778442383, 66.07041931152344, -110.75205993652344, 96.47777557373047, 192.75521850585938, 110.41287994384766, -93.99767303466797, -52.54277420043945, -112.14482116699219, -150.81150817871094, 135.67816162109375, 17.38295555114746, 33.755767822265625, -178.3765411376953, 164.2366943359375], \"topics\": [1, 2, 3, 4, 5, 6, 7, 8, 9, 10, 11, 12, 13, 14, 15, 16, 17, 18, 19, 20, 21, 22, 23, 24, 25, 26, 27, 28, 29, 30], \"cluster\": [1, 1, 1, 1, 1, 1, 1, 1, 1, 1, 1, 1, 1, 1, 1, 1, 1, 1, 1, 1, 1, 1, 1, 1, 1, 1, 1, 1, 1, 1], \"Freq\": [6.216747544335356, 5.673934009538235, 5.5603012119608906, 5.194138687994082, 4.909779195501968, 4.573797890677862, 4.38731245241209, 4.2511912787666555, 4.068950137276714, 4.067691292496314, 3.708966692473776, 3.582464854030767, 3.5519600214840574, 3.5052277802539575, 3.485464662900678, 3.3912225598577233, 2.8496350716154217, 2.7852730131312575, 2.554078029029676, 2.496886946181429, 2.3802973459725707, 2.269218202194356, 2.1268843109711706, 1.954878476943759, 1.8954998873031235, 1.883762722940691, 1.8610317006848047, 1.8041722688920414, 1.629695479930987, 1.3795362722475855]}, \"tinfo\": {\"Term\": [\"patient\", \"breast\", \"cancer\", \"treatment\", \"year\", \"therapy\", \"age\", \"prior\", \"disease\", \"woman\", \"consent\", \"study\", \"least\", \"negative\", \"uln\", \"metastatic\", \"informed\", \"month\", \"biopsy\", \"status\", \"breast\", \"cancer\", \"stage\", \"invasive\", \"histologically\", \"diagnose\", \"hemoglobin\", \"resection\", \"prove\", \"tumour\", \"histology\", \"confirm\", \"condition\", \"location\", \"experimental\", \"unifocal\", \"cytology\", \"suitable\", \"resectable\", \"dcis\", \"newly\", \"treatment\", \"subject\", \"day\", \"perform\", \"first\", \"start\", \"result\", \"male\", \"drug\", \"peripheral\", \"mense\", \"more\", \"outline\", \"onset\", \"lactate\", \"flash\", \"hot\", \"relevant\", \"systematic\", \"eribulin\", \"dose\", \"last\", \"prior\", \"study\", \"require\", \"carcinoma\", \"period\", \"neoadjuvant\", \"axillary\", \"trastuzumab\", \"situ\", \"inclusion\", \"anti\", \"have\", \"ductal\", \"long\", \"menopause\", \"recurrence\", \"as\", \"assessment\", \"end\", \"cohort\", \"hybridization\", \"coagulation\", \"histological\", \"phase\", \"patient\", \"week\", \"setting\", \"hormone\", \"postmenopausal\", \"premenopausal\", \"evaluation\", \"know\", \"intact\", \"agonist\", \"release\", \"lhrh\", \"stimulate\", \"luteinizing\", \"follicle\", \"mutation\", \"third\", \"spontaneous\", \"palbociclib\", \"legal\", \"receive\", \"require\", \"range\", \"chemotherapy\", \"adjuvant\", \"include\", \"line\", \"regimen\", \"systemic\", \"give\", \"toxicity\", \"target\", \"agent\", \"aromatase\", \"tamoxifen\", \"therapy\", \"elapse\", \"discontinue\", \"biologic\", \"weekly\", \"set\", \"progress\", \"ai\", \"prior\", \"number\", \"hormonal\", \"diagnosis\", \"previous\", \"advanced\", \"evidence\", \"recurrent\", \"locally\", \"metastatic\", \"diagnostic\", \"unresectable\", \"contralateral\", \"subtype\", \"recommend\", \"new\", \"adenocarcinoma\", \"ipsilateral\", \"ongoing\", \"regiman\", \"complete\", \"highly\", \"disease\", \"clinical\", \"use\", \"potential\", \"childbeare\", \"method\", \"agree\", \"blood\", \"effective\", \"medication\", \"barrier\", \"agreement\", \"device\", \"condom\", \"intrauterine\", \"routine\", \"develop\", \"institution\", \"sexually\", \"spermicidal\", \"example\", \"up\", \"completion\", \"last\", \"dose\", \"study\", \"woman\", \"function\", \"test\", \"female\", \"pregnancy\", \"bone\", \"serum\", \"organ\", \"marrow\", \"screen\", \"value\", \"laboratory\", \"urine\", \"hour\", \"take\", \"hematologic\", \"administration\", \"partner\", \"adequate\", \"reserve\", \"describe\", \"define\", \"negative\", \"participant\", \"measurable\", \"total\", \"group\", \"cooperative\", \"eastern\", \"recist\", \"bilirubin\", \"brain\", \"stable\", \"baseline\", \"symptom\", \"direct\", \"case\", \"syndrome\", \"version\", \"oral\", \"testing\", \"srs\", \"personal\", \"oncology\", \"lesion\", \"disease\", \"metastasis\", \"eligible\", \"creatinine\", \"cell\", \"cytologically\", \"renal\", \"fish\", \"also\", \"consider\", \"confirmation\", \"cap\", \"pr\", \"american\", \"pathological\", \"demonstrate\", \"gene\", \"pathologic\", \"staining\", \"low\", \"gfr\", \"amplification\", \"local\", \"guideline\", \"ratio\", \"positive\", \"tumor\", \"define\", \"participant\", \"biopsy\", \"registration\", \"tissue\", \"available\", \"obtain\", \"core\", \"accessible\", \"no\", \"ovarian\", \"sample\", \"find\", \"purpose\", \"safely\", \"amenorrhea\", \"block\", \"safety\", \"speciman\", \"alone\", \"availability\", \"pretreatment\", \"participant\", \"provide\", \"tumor\", \"lesion\", \"newly\", \"least\", \"month\", \"at\", \"trial\", \"life\", \"surgical\", \"expectancy\", \"bilateral\", \"present\", \"oophorectomy\", \"hormonotherapy\", \"hysterectomy\", \"significant\", \"regime\", \"sterilization\", \"tubal\", \"ligation\", \"stop\", \"expect\", \"survival\", \"define\", \"consent\", \"informed\", \"sign\", \"write\", \"document\", \"ability\", \"understand\", \"willingness\", \"meet\", \"capable\", \"indicate\", \"evaluable\", \"provision\", \"allocate\", \"chance\", \"understanding\", \"icf\", \"nod\", \"voluntarily\", \"close\", \"requirement\", \"local\", \"time\", \"primary\", \"cm\", \"great\", \"mri\", \"ultrasound\", \"minimum\", \"diameter\", \"mammogram\", \"exam\", \"dimension\", \"size\", \"measurement\", \"response\", \"focus\", \"mass\", \"above\", \"small\", \"date\", \"clip\", \"measure\", \"tumor\", \"enrollment\", \"ratio\", \"contraception\", \"undergo\", \"entry\", \"physician\", \"pregnant\", \"man\", \"only\", \"participation\", \"duration\", \"abstinence\", \"bear\", \"child\", \"imaging\", \"see\", \"suspect\", \"enrol\", \"screening\", \"become\", \"show\", \"immediately\", \"woman\", \"study\", \"treat\", \"adequate\", \"alt\", \"liver\", \"ast\", \"old\", \"phosphatase\", \"acceptable\", \"alanine\", \"aspartate\", \"sgpt\", \"absence\", \"rate\", \"sgot\", \"preferred\", \"alp\", \"plt\", \"uln\", \"distant\", \"alkaline\", \"tbil\", \"lifestyle\", \"metastasis\", \"contraceptive\", \"note\", \"participant\", \"progression\", \"determine\", \"continue\", \"fraction\", \"scan\", \"inhibitor\", \"ejection\", \"such\", \"ventricular\", \"leave\", \"plan\", \"lvef\", \"initiate\", \"research\", \"risk\", \"iv\", \"ptt\", \"bisphosphonate\", \"cardiac\", \"anticoagulant\", \"range\", \"receive\", \"therapy\", \"platelet\", \"radiation\", \"grade\", \"previously\", \"practice\", \"randomization\", \"permit\", \"investigator\", \"oncologist\", \"margin\", \"candidate\", \"neuropathy\", \"possible\", \"final\", \"ctcae\", \"however\", \"major\", \"cardiovascular\", \"monotherapy\", \"event\", \"treat\", \"provide\", \"recover\", \"normal\", \"limit\", \"criterion\", \"upper\", \"accord\", \"hepatic\", \"warfarin\", \"international\", \"presence\", \"normalized\", \"read\", \"unl\", \"classification\", \"initial\", \"monitor\", \"sorafenib\", \"white\", \"speak\", \"transaminase\", \"work\", \"uln\", \"year\", \"age\", \"past\", \"examination\", \"adult\", \"menopausal\", \"relative\", \"good\", \"visit\", \"menstrual\", \"cycle\", \"datum\", \"yr\", \"aged\", \"cure\", \"encompass\", \"avoid\", \"later\", \"select\", \"come\", \"leptomeningeal\", \"phase\", \"form\", \"institutional\", \"standard\", \"base\", \"clearance\", \"min\", \"specific\", \"calculate\", \"investigational\", \"nature\", \"failure\", \"infarction\", \"myocardial\", \"gault\", \"participate\", \"knowledge\", \"immunotherapy\", \"accordance\", \"allow\", \"formula\", \"inform\", \"study\", \"receptor\", \"progesterone\", \"human\", \"estrogen\", \"growth\", \"triple\", \"factor\", \"epidermal\", \"needle\", \"operative\", \"hr\", \"staging\", \"positivity\", \"pathologically\", \"asco\", \"positive\", \"ish\", \"lack\", \"negative\", \"amplify\", \"status\", \"mammography\", \"pathology\", \"non\", \"equal\", \"necessary\", \"palpable\", \"detect\", \"analysis\", \"perimenopausal\", \"paraffin\", \"hospital\", \"acquisition\", \"department\", \"embed\", \"fix\", \"formalin\", \"fast\", \"functional\", \"ml\", \"pertuzumab\", \"woman\", \"level\", \"history\", \"able\", \"procedure\", \"active\", \"relate\", \"malignancy\", \"french\", \"infection\", \"uncontrolle\", \"refer\", \"skin\", \"exclusion\", \"degree\", \"diabetes\", \"unstable\", \"diseased\", \"anamnesis\", \"lactation\", \"mastitis\", \"rule\", \"other\", \"surgery\", \"radiotherapy\", \"care\", \"schedule\", \"score\", \"site\", \"lumpectomy\", \"taxane\", \"high\", \"center\", \"section\", \"continuation\", \"part\", \"enter\", \"amenable\", \"questionnaire\", \"conservation\", \"cavity\", \"anthracycline\", \"accept\", \"receive\", \"performance\", \"ecog\", \"clinically\", \"endocrine\", \"appropriate\", \"most\", \"recent\", \"expression\", \"status\", \"weight\", \"express\", \"kidney\", \"immunologically\", \"overexpresse\", \"chronic\", \"fulfill\", \"determination\", \"quantification\", \"suffice\", \"interstitial\", \"eligibility\", \"family\", \"medical\", \"social\", \"security\", \"follow\", \"identify\", \"remain\", \"member\", \"copy\", \"ovary\", \"cover\", \"transfusion\", \"affiliate\", \"progressive\", \"clear\", \"state\", \"average\", \"surgeon\", \"cause\", \"other\", \"number\", \"willing\", \"control\", \"protocol\", \"comply\", \"birth\", \"initiation\", \"surgically\", \"healthy\", \"presumably\", \"assess\", \"free\", \"sterile\", \"specify\", \"course\", \"abstain\", \"sterilize\", \"activity\", \"vaccine\", \"opinion\", \"deceased\", \"study\", \"participant\", \"lymph\", \"node\", \"less\", \"currently\", \"physical\", \"axilla\", \"dissection\", \"stain\", \"chest\", \"involvement\", \"sentinel\", \"same\", \"medicine\", \"ray\", \"consumption\", \"inpatient\", \"detail\", \"aspiration\", \"pk\", \"intravenous\", \"completion\", \"count\", \"mm\", \"absolute\", \"neutrophil\", \"post\", \"program\", \"record\", \"sport\", \"conventional\", \"exceed\", \"certificate\", \"deliver\", \"healthcare\", \"motivation\", \"professional\", \"propose\", \"technique\", \"granulocyte\", \"hematological\", \"accurately\"], \"Freq\": [455.0, 354.0, 288.0, 229.0, 153.0, 202.0, 142.0, 225.0, 184.0, 157.0, 134.0, 233.0, 131.0, 131.0, 137.0, 133.0, 110.0, 108.0, 109.0, 94.0, 353.4557195678575, 287.1418775392101, 70.67481936900367, 69.14621053753741, 55.325707744162465, 35.58509514921249, 31.46482575538974, 13.372549412520161, 13.335741634921222, 10.797148548722687, 9.008404804689908, 73.52770638189584, 7.180148262471322, 5.741529151111959, 5.0960605233719045, 4.945693363597648, 4.731923347326337, 4.390755021933155, 4.179243662252296, 3.8778915530253095, 8.491015807312879, 228.75530211210824, 121.95390662022353, 119.58589887211014, 39.19385093289876, 35.93128105269868, 34.21602881532017, 27.428549985044523, 21.55107911067925, 19.446546125377505, 11.383042301325025, 10.167469962615842, 38.1630096473913, 4.042497006813107, 3.4198753486150366, 2.8576566089321704, 2.6174063167866897, 2.6174063167866897, 2.489647109778951, 2.4092263536017513, 2.4092258537369027, 28.26160474723288, 26.96016262563122, 89.58205118513033, 90.38658565851335, 11.623465296775718, 52.47137856513136, 49.34105491681339, 43.244136412509256, 35.13871080558559, 31.8002109747341, 31.600493590626822, 27.808010812411364, 25.505507070396877, 25.20622000808073, 24.17186003151751, 20.775124400798937, 20.242073143753714, 19.528777177783038, 17.228840270593285, 16.39551636503585, 15.867847623458978, 14.735531547677855, 14.36420460050207, 12.648753617647035, 12.269004121239101, 14.553931902659807, 454.36758644282486, 66.20450228739435, 50.95049739334413, 41.00882621053192, 38.58240896365003, 24.546785353925813, 21.503944708516006, 9.457806828971629, 7.139432026260611, 6.583873878704118, 6.3261473313743934, 6.245806810828696, 6.068038234106602, 4.851706978156849, 3.899342043407, 3.722223710060495, 3.4789622178649893, 3.4166571422761915, 3.3098328176449514, 3.00319387452589, 66.6165799556082, 42.911530761818845, 7.7296063672558875, 108.84408146345356, 66.38498934911992, 64.8673966619293, 32.63628463239152, 24.255665309595038, 22.60541311197994, 21.159228246400822, 18.813986863874522, 17.120049453818336, 16.881904576365123, 12.014250929433098, 10.834734621940237, 186.2071548370158, 9.687132274845096, 8.763666435662621, 8.363372928974439, 7.953662939704347, 7.538352370899549, 5.496312644087, 4.518386056676551, 135.0800404132718, 6.228619128872876, 70.87402663177159, 50.37620187616166, 35.12613031253722, 33.36951772022962, 32.33203220874879, 25.92851960896908, 24.31149184437477, 127.45290870828616, 17.59594059627494, 13.014256358452101, 12.756537053239958, 11.525296460421645, 10.169353393927317, 9.511758363666866, 9.335105054952166, 8.78539842815417, 8.178658223754372, 7.5472997190821465, 27.12820964346392, 6.572699345969077, 134.24075143234637, 33.11851550067842, 96.16439360826162, 74.61376899083854, 59.42781114396638, 49.19970579396681, 44.15678588015373, 31.64185092465049, 25.1726796471628, 20.55821986305635, 20.075816088181046, 12.313261232234781, 11.581510142889893, 10.333563777118322, 10.279758504488202, 8.849917185120665, 8.648057934426218, 7.298665172122947, 6.4126372056336285, 6.206224029662052, 5.914328705649802, 5.625910861328465, 19.129479339749693, 20.731369517609682, 21.14931333438641, 19.912788500777392, 16.366272508591653, 87.87911855272141, 65.27612769936651, 61.89733933324629, 42.493464485773444, 41.68115018593639, 34.59591341328564, 32.03934174583162, 26.68089157299974, 26.55264577055383, 19.81609178608485, 18.28892016877548, 16.968013571555417, 14.276754299088873, 14.056868611805232, 9.43911936948674, 8.25477898667886, 7.3437665339127705, 78.81674875538981, 5.6105411277145345, 2.8817926241890337, 38.115669392874025, 41.97819218893822, 11.728286569073012, 59.431287075878714, 53.70325709298319, 53.409118128547654, 33.11926794209882, 33.11926794209882, 29.758109119654527, 26.723580823020228, 20.046417271655155, 19.118581018326584, 16.703679415185157, 13.967296324049077, 13.80981549023643, 12.835709590218, 11.839319870459045, 10.40891186002701, 10.328093044258715, 8.316468212369028, 6.9855817397171, 6.459346060144826, 43.30776986858586, 45.18141167123349, 49.217035658696076, 24.1712467978551, 66.6065024754192, 37.837876334627495, 35.86819819064521, 31.607297896557508, 29.033349007270587, 28.518621726933095, 22.229079172332668, 19.919074797384695, 17.232630372293496, 16.267972552195683, 16.129636585403336, 16.040323902562395, 15.563955191772843, 14.120015932435502, 13.709638008876091, 12.001097724555072, 10.243929782784711, 9.243454863385912, 7.172697014984994, 6.95429613483745, 28.735760472533293, 19.536850859792818, 18.630559416184283, 22.246155616242408, 22.6906735267571, 19.945494333832308, 20.150341422710774, 108.20963264278842, 37.75348973304774, 36.29233881446462, 24.44070323316212, 21.513663459313136, 18.844519054979134, 14.449237795235613, 8.977224808125406, 8.85737918986684, 28.924906088567333, 7.782853053714534, 7.679302670102061, 7.009608716920966, 6.813862660021899, 6.610464672003077, 6.521330032567788, 6.316712597673105, 5.966769247794327, 5.846949116367573, 5.801384542666775, 37.717915343908196, 16.144180075525963, 30.818964569132323, 16.800162766701458, 8.524501561165044, 130.3321761183295, 107.8079697468085, 92.30557786891004, 32.19263743371078, 30.238233594761, 29.031960938442225, 27.17201780135469, 18.556158764789974, 17.199631935011578, 10.897538706951885, 9.277046076444032, 8.610120622148024, 7.805038311771776, 7.5402146840494355, 7.37455812909363, 7.294484808135547, 6.876306457881445, 6.560206363683924, 5.590253366347558, 4.911698328153937, 21.52343346192971, 133.48126864675277, 109.87169359652691, 78.57863165658529, 55.96687290285878, 52.546828432325036, 37.65410453114882, 21.932206873213467, 20.030148033932523, 16.488911295598495, 10.536999471151294, 10.06368961120898, 9.446368570210932, 5.21286779958402, 4.55499047581159, 4.55499047581159, 4.371268840709834, 3.353795709867382, 3.056666059812809, 2.9946558304544886, 2.9020918767021215, 7.309952901654753, 4.227212911778347, 79.08426279278642, 55.88113149917919, 46.42367919877785, 26.31271535610481, 24.84603161583586, 17.489603223696587, 14.132844092156375, 12.731487467898226, 12.475266877828739, 11.726551451132718, 11.412429891770088, 11.050289128540346, 8.972351494754836, 8.730202538652014, 8.179418255829027, 6.612983652077357, 6.353893026761948, 6.136961100805675, 5.764369135417229, 4.974431924246524, 18.2905425454485, 77.75980483185296, 13.525670132540089, 6.892231226030851, 52.841663264887615, 29.44355067911162, 25.635489481676792, 24.76798189897447, 24.196609361274344, 21.33112185719358, 21.20382292008763, 20.374306532302658, 19.842300836550613, 18.16189517349701, 17.18462815333051, 16.289247750924346, 14.835306752047986, 13.960285925696589, 12.185951820338678, 11.191839265327154, 10.101537662332701, 7.882273247627105, 7.614417575156572, 7.329651884386448, 53.585922699686975, 64.23012916464428, 13.934555184940596, 10.446731105440087, 59.21406269057958, 57.56050152316416, 52.83308142820148, 42.910304269498766, 21.283684553066408, 18.780954811287664, 16.82241313958723, 14.929608555000284, 10.725046155117944, 9.099409028679057, 9.094695169965432, 7.174342386350342, 5.867108520203933, 5.02639429834905, 4.3474184904113145, 113.06669039292932, 4.110256843268724, 3.946394533953226, 3.317979028441848, 3.2119052569258533, 61.420389967836634, 12.94317929122451, 16.882225188926054, 8.811875000084305, 27.331915128830722, 22.72597921515081, 21.77138651993211, 21.572256888647985, 21.182059294275827, 20.16019967008559, 20.090787783058886, 20.04560508514969, 17.482882306151843, 17.131159394797265, 16.15279743124255, 15.025645069712377, 14.575941960604805, 14.34315576837645, 12.642531397825284, 11.534778053013113, 10.455556867948777, 9.543782998325671, 9.54070715257522, 9.172064579108536, 13.290290654995555, 19.72180478787839, 15.11325997858644, 48.23801763723992, 40.94640820445207, 29.289837478239125, 21.178248484579754, 17.392776423756057, 17.200672725977572, 13.013371184241574, 12.676455050608975, 11.118513122608928, 10.932118886260312, 10.098815285692984, 9.493462202629397, 8.695653058601259, 6.350383564467109, 6.297461852913633, 6.292899780242833, 5.94356063589717, 5.621978680693125, 5.581278278920302, 5.489306579792787, 43.138452714354, 21.94260962678441, 6.646835350216154, 80.64833610029905, 74.92230893899391, 54.46828569674468, 39.00163286802698, 17.462519756355515, 14.309627153212544, 13.889666052306643, 11.698434345939127, 11.350154339409906, 11.036708633823162, 8.602747471902498, 6.8880521165711714, 6.587999476513572, 5.941376908519903, 5.917050140490972, 5.917050140490972, 5.442073561140008, 4.214283483388235, 3.315935996420765, 3.2354684732304095, 23.902124912845043, 152.33255742386868, 142.01272907617584, 16.166581006326517, 13.249282940408904, 9.808707811970821, 8.695733613215712, 7.919732600446776, 7.291953049883532, 7.037535755988305, 6.767624521705555, 5.726614128359298, 2.2883986384375556, 2.241825968882405, 2.1897683001285086, 2.060831114030955, 2.00413951733959, 1.9984407054590243, 1.9611292926219648, 1.3752509784683271, 1.111867190194143, 1.7596028110324784, 1.7227966736379503, 38.39770384573042, 35.45256893716311, 28.342308405682, 24.51217518645549, 22.21684015098545, 15.37086100425972, 13.053623167765362, 10.56720313716101, 8.535520384854431, 7.337454280387441, 5.441146222042085, 5.429127865230027, 5.429127865230027, 5.39782670582347, 52.51300557043855, 4.983498719780088, 4.216087465271074, 3.2599218273252824, 34.49258003914269, 1.9210149748653986, 8.917837165494507, 37.50109148088223, 59.257862721806475, 17.50428342973576, 16.72980935853571, 12.930563775578552, 12.66595677246231, 12.084887310409101, 11.874806622558763, 10.60460984311509, 8.454412855997411, 7.810198359187255, 6.548188483635706, 5.991755700817941, 3.9670031443329368, 3.5441449202852993, 2.9300247720858303, 64.26362267892726, 2.2199214122339197, 1.9280922339836994, 88.53291320280925, 1.602567444993647, 9.569497474016282, 18.65519806786864, 12.908915343727367, 11.694558946921475, 11.442860795107679, 8.122587414723677, 7.969885594247176, 7.373233386905161, 7.034684566324731, 6.913276658178551, 6.798130830302529, 6.720959966046857, 6.716473453479872, 6.369116497970073, 5.546308006257293, 5.546308006257293, 5.546308006257293, 5.489188165631467, 5.3705106893732815, 5.220683204963332, 5.175194494519723, 86.62911629172412, 13.760249466085513, 41.8988484421527, 28.828055524180268, 19.381587371464537, 18.501562991535643, 13.151154357656731, 13.067928525270876, 9.900841572754572, 8.534929941972653, 8.534929941972653, 7.328328971935427, 6.146929559907106, 5.674868618269225, 5.028817175512959, 4.280615826366967, 4.280615826366967, 4.280615826366967, 4.2806154819234, 4.2806154819234, 4.2806154819234, 4.2806154819234, 14.27722855509759, 58.126677854236476, 37.62667942944824, 22.103674819492586, 14.351085805906358, 11.52047187323912, 10.823656749343899, 10.405634471255205, 10.002483041956314, 9.619918216426086, 6.093465721015794, 5.833700454539382, 5.296122243221032, 5.170943067816604, 4.799484788495444, 4.526139510730297, 4.517863121567557, 4.164559728590667, 3.8348691434179325, 3.8032755198503754, 3.5075324580401626, 9.302640044119386, 60.97876731581635, 46.796626526639095, 19.826590115335826, 17.617365301608164, 16.11308560146757, 12.165203907626976, 12.165203907626976, 8.348814934607923, 84.13860227978816, 6.1751088151663796, 5.076475160593655, 4.0307886299997, 2.983885637564468, 1.1555356071883998, 1.058966709238238, 0.9910003474562883, 1.304668186404606, 0.2943909847006705, 0.2943909847006705, 0.2549609216609577, 16.58899305022295, 14.440934282579214, 12.961186231155272, 11.060746574573557, 10.177618045736228, 67.44062383821066, 8.61016049224767, 5.848014539987795, 5.762404961100147, 5.419631195610447, 5.315151491946879, 5.055952635870579, 4.711940361661421, 4.5348909986883585, 3.749206578310813, 3.6393537732765706, 3.603458006527737, 3.5597137605095823, 3.094030875004793, 2.813180905947722, 29.28354806135296, 6.540345176969501, 44.15395968860879, 35.129765754500475, 25.44126139905832, 23.115349682995813, 21.36914906556821, 19.96810025709565, 10.21107607055544, 10.024043818759873, 10.024043818759873, 7.868327014092554, 5.171495994112688, 4.3402668315714505, 4.2239913999687815, 4.023033994371937, 3.5402200953896457, 3.435052044199497, 3.292071661212649, 3.203117251033353, 3.0250173790268997, 2.452929272930623, 20.273293343694327, 5.475528147902732, 25.81584465436427, 24.384959674238008, 19.793855290912802, 12.255090588290694, 11.60681989749785, 10.77596715486677, 10.561023599584049, 9.838751597560634, 7.331482237950733, 6.724426951198714, 5.374327999280715, 4.693313324807467, 4.64834145947063, 4.3054482151167015, 3.960395910031637, 3.8500035569551927, 3.5867595245527717, 3.51794150967248, 3.216765028587539, 3.1008571497066435, 3.4985418364452445, 39.58287910784927, 31.122141799135644, 25.917644670836374, 24.012685303452525, 11.912057726864802, 10.691198575749638, 8.72315183729796, 6.497015272455173, 5.984243461666495, 3.550206415844, 3.258518475921159, 3.258518475921159, 3.258518475921159, 3.258518475921159, 3.258518475921159, 3.258518475921159, 3.1597936336664048, 3.0845510589915213, 2.9105668702289624, 2.7457466651324802], \"Total\": [455.0, 354.0, 288.0, 229.0, 153.0, 202.0, 142.0, 225.0, 184.0, 157.0, 134.0, 233.0, 131.0, 131.0, 137.0, 133.0, 110.0, 108.0, 109.0, 94.0, 354.36190058916674, 288.04805856051934, 71.5810003903129, 70.05239155884664, 56.23188876547167, 36.4912761705217, 32.371006776698955, 14.27873043382938, 14.241922656230441, 11.703329570031906, 9.914585825999128, 82.46326371554916, 8.086329283780536, 6.647710172421173, 6.002241544681119, 5.851874384906862, 5.638104368635551, 5.296936043242369, 5.08542468356151, 4.784072574334523, 17.882016319312672, 229.65724368815287, 122.85584819626821, 120.48785395807839, 40.095792508943426, 36.83322262874334, 35.117970391364835, 28.330491561089197, 22.453020686723924, 20.34848770142218, 12.284983877369699, 11.069411538660516, 45.59860277855904, 4.944438582857776, 4.321816924659707, 3.759598184976842, 3.519347892831361, 3.519347892831361, 3.3915886858236224, 3.3111679296464227, 3.311167429781574, 50.27829126605554, 48.55890532767716, 225.53160062760193, 233.0782670320225, 63.07889068513827, 53.371679787333136, 50.24135613901517, 44.14443763471103, 36.039012027787365, 32.700512196935875, 32.500794812828595, 28.708312034613154, 26.405808292598667, 26.10652123028252, 25.0721612537193, 21.675425623000727, 21.142374365955504, 20.429078399984828, 18.129141492795075, 17.29581758723764, 16.768148845660768, 15.635832769879642, 15.264505822703857, 13.549054839848822, 13.169305343440888, 17.14661877339645, 455.26951881293917, 67.10643465750861, 51.85242976345839, 41.91075858064618, 39.48434133376429, 25.44871772404008, 22.405877078630272, 10.359739199085894, 8.04136439637487, 7.485806248818378, 7.228079701488653, 7.147739180942955, 6.969970604220862, 5.753639348271109, 4.80127441352126, 4.624156080174757, 4.380894587979251, 4.318589512390453, 4.211765187759213, 3.9051262446401527, 96.47823507899864, 63.07889068513827, 21.889649323914963, 109.74914266536409, 67.29005055103045, 65.77245786383983, 33.54134583430204, 25.160726511505562, 23.510474313890462, 22.064289448311346, 19.719048065785046, 18.02511065572886, 17.786965778275647, 12.919312131343618, 11.739795823850757, 202.19329594906196, 10.592193476755616, 9.668727637573141, 9.268434130884959, 8.858724141614868, 8.443413572810067, 6.401373845997518, 5.4234472585870686, 225.53160062760193, 13.642959222057057, 71.77903055530764, 51.28120579969771, 36.03113423607327, 34.27452164376567, 33.23703613228484, 26.83352353250514, 25.216495767910832, 133.06199229217492, 18.500944519811, 13.919260281988159, 13.661540976776015, 12.430300383957702, 11.074357317463374, 10.416762287202923, 10.240108978488223, 9.690402351690228, 9.083662147290429, 8.452303642618201, 30.8407706898399, 7.47770326950513, 184.33247587632673, 45.165451405812995, 97.06731896540855, 75.51669434798546, 60.33073650111329, 50.10263115111372, 45.05971123730064, 32.5447762817974, 26.07560500430972, 21.46114522020327, 20.978741445327966, 13.2161865893817, 12.484435500036811, 11.23648913426524, 11.18268386163512, 9.752842542267583, 9.550983291573136, 8.201590529269861, 7.315562562780543, 7.109149386808967, 6.817254062796716, 6.528836218475379, 23.504787423318156, 48.55890532767716, 50.27829126605554, 233.0782670320225, 157.42337839677063, 88.78503829892885, 66.18204744557396, 62.80325907945371, 43.39938423198086, 42.587069932143805, 35.50183315949306, 32.94526149203904, 27.586811319207175, 27.458565516761265, 20.722011532292285, 19.194839914982914, 17.87393331776285, 15.182674045296304, 14.962788358012663, 10.34503911569417, 9.16069873288629, 8.249686280120198, 90.13791765701767, 6.516460873921962, 3.787712370396463, 82.87208544808969, 131.3871264151798, 89.2239900053664, 60.33846568638229, 54.61043570348677, 54.31629673905123, 34.0264465526024, 34.0264465526024, 30.665287730158123, 27.630759433523824, 20.95359588215875, 20.02575962883018, 17.610858025688753, 14.874474934552667, 14.71699410074002, 13.742888200721591, 12.746498480962636, 11.3160904705306, 11.235271654762306, 9.223646822872619, 7.892760350220689, 7.366524670648415, 49.443431783041454, 62.849070977964054, 184.33247587632673, 86.46797811897875, 67.50796940464, 38.739343263848276, 36.76966511986599, 32.508764825778286, 29.934815936491383, 29.42008865615389, 23.130546101553463, 20.82054172660549, 18.13409730151429, 17.16943948141648, 17.03110351462413, 16.94179083178319, 16.465422120993637, 15.021482861656292, 14.611104938096881, 12.902564653775862, 11.145396712005502, 10.144921792606702, 8.074163944205782, 7.855763064058238, 33.83645218453867, 24.159912746240735, 26.393808860608253, 87.38134650161538, 132.100779075661, 82.87208544808969, 89.2239900053664, 109.10744432106928, 38.65130141132858, 37.19015049274546, 25.338514911442974, 22.41147513759399, 19.742330733259987, 15.347049473516462, 9.875036486406255, 9.75519086814769, 32.218617622253866, 8.680664731995384, 8.57711434838291, 7.907420395201813, 7.711674338302745, 7.508276350283923, 7.419141710848635, 7.214524275953951, 6.864580926075173, 6.744760794648419, 6.699196220947622, 89.2239900053664, 38.95296301278711, 132.100779075661, 62.849070977964054, 17.882016319312672, 131.23681678768665, 108.71261041616569, 93.21021853826723, 33.09727810306796, 31.142874264118188, 29.936601607799414, 28.07665847071188, 19.460799434147162, 18.104272604368767, 11.802179376309068, 10.181686745801215, 9.514761291505208, 8.70967898112896, 8.44485535340662, 8.279198798450814, 8.19912547749273, 7.780947127238629, 7.464847033041107, 6.494894035704742, 5.816338997511121, 82.87208544808969, 134.3907742665143, 110.7811992162885, 79.48813727634688, 56.87637852262035, 53.4563340520866, 38.563610150910385, 22.84171249297505, 20.939653653694105, 17.398416915360077, 11.446505090912872, 10.973195230970559, 10.35587418997251, 6.122373419345597, 5.464496095573168, 5.464496095573168, 5.280774460471411, 4.263301329628961, 3.966171679574388, 3.9041614502160678, 3.8115974964637007, 10.35201562104662, 33.83645218453867, 79.99130783071408, 56.78817653710683, 47.330724236705485, 27.219760394032463, 25.753076653763507, 18.396648261624236, 15.039889130084022, 13.638532505825873, 13.382311915756386, 12.633596489060364, 12.319474929697735, 11.957334166467993, 9.879396532682483, 9.63724757657966, 9.086463293756674, 7.520028690005003, 7.260938064689594, 7.044006138733321, 6.671414173344875, 5.88147696217417, 24.786893724645353, 132.100779075661, 18.49757426251917, 26.393808860608253, 53.74767506362325, 30.34956247784726, 26.541501280412437, 25.673993697710113, 25.102621160009985, 22.237133655929224, 22.109834718823276, 21.2803183310383, 20.748312635286258, 19.067906972232652, 18.09063995206615, 17.19525954965999, 15.741318550783625, 14.866297724432227, 13.091963619074317, 12.097851064062793, 11.00754946106834, 8.788285046362745, 8.52042937389221, 8.235663683122086, 157.42337839677063, 233.0782670320225, 57.94738133022612, 90.13791765701767, 60.120719182118314, 58.467158014702896, 53.739737919740215, 43.8169607610375, 22.190341044605148, 19.687611302826404, 17.72906963112597, 15.836265046539022, 11.631702646656683, 10.006065520217795, 10.00135166150417, 8.080998877889082, 6.773765011742672, 5.933050789887789, 5.254074981950053, 137.84818037213367, 5.016913334807462, 4.853051025491965, 4.224635519980588, 4.118561748464593, 86.46797811897875, 18.116464282646827, 24.916839567531618, 89.2239900053664, 28.237228809135303, 23.631292895455392, 22.67670020023669, 22.477570568952565, 22.087372974580408, 21.06551335039017, 20.996101463363466, 20.95091876545427, 18.388195986456424, 18.036473075101846, 17.05811111154713, 15.930958750016954, 15.481255640909382, 15.248469448681027, 13.54784507812986, 12.44009173331769, 11.360870548253354, 10.449096678630248, 10.446020832879796, 10.077378259413113, 21.889649323914963, 96.47823507899864, 202.19329594906196, 49.14387301819113, 41.85226358540328, 30.195692859190338, 22.084103865530967, 18.29863180470727, 18.106528106928785, 13.919226565192783, 13.582310431560185, 12.024368503560137, 11.837974267211521, 11.004670666644193, 10.399317583580606, 9.601508439552468, 7.256238945418319, 7.203317233864843, 7.198755161194043, 6.84941601684838, 6.527834061644335, 6.487133659871512, 6.395161960743997, 57.94738133022612, 38.95296301278711, 13.319080413745219, 81.55853842387494, 75.8325112625698, 55.37848802032057, 39.91183519160287, 18.372722079931403, 15.21982947678843, 14.799868375882529, 12.608636669515013, 12.260356662985792, 11.946910957399048, 9.512949795478384, 7.798254440147058, 7.498201800089459, 6.85157923209579, 6.827252464066859, 6.827252464066859, 6.352275884715895, 5.124485806964122, 4.226138319996653, 4.145670796806297, 137.84818037213367, 153.2396401475209, 142.91981179982807, 17.073663729978747, 14.15636566406113, 10.715790535623048, 9.602816336867939, 8.826815324099003, 8.19903577353576, 7.944618479640534, 7.674707245357784, 6.633696852011527, 3.195481362089785, 3.148908692534634, 3.096851023780738, 2.9679138376831844, 2.9112222409918194, 2.9055234291112537, 2.868212016274194, 2.2823337021205563, 2.018949913846372, 3.588451077249508, 17.14661877339645, 39.304576500453194, 36.35944159188588, 29.249181060404776, 25.419047841178266, 23.123712805708227, 16.277733658982495, 13.960495822488136, 11.474075791883784, 9.442393039577205, 8.244326935110216, 6.34801887676486, 6.336000519952803, 6.336000519952803, 6.304699360546246, 61.486512840786865, 5.890371374502863, 5.1229601199938495, 4.166794482048058, 44.133776384814965, 2.8278876295881745, 17.413461238827825, 233.0782670320225, 60.16545774778671, 18.411878455715996, 17.637404384515946, 13.83815880155879, 13.57355179844255, 12.99248233638934, 12.782401648539002, 11.51220486909533, 9.36200788197765, 8.717793385167493, 7.455783509615944, 6.899350726798179, 4.874598170313175, 4.451739946265538, 3.8376197980660693, 87.38134650161538, 3.1275164382141587, 2.8356872599639384, 131.3871264151798, 2.510162470973886, 94.58691782064207, 19.5633153062646, 13.817032582123328, 12.602676185317437, 12.35097803350364, 9.030704653119638, 8.878002832643137, 8.281350625301123, 7.942801804720692, 7.821393896574513, 7.706248068698491, 7.629077204442819, 7.6245906918758335, 7.277233736366035, 6.454425244653255, 6.454425244653255, 6.454425244653255, 6.397305404027429, 6.278627927769243, 6.128800443359293, 6.083311732915685, 157.42337839677063, 21.563250336567275, 42.81003996079043, 29.739247042817993, 20.292778890102262, 19.412754510173368, 14.062345876294458, 13.979120043908603, 10.8120330913923, 9.44612146061038, 9.44612146061038, 8.239520490573154, 7.058121078544833, 6.586060136906952, 5.940008694150686, 5.191807345004694, 5.191807345004694, 5.191807345004694, 5.191807000561127, 5.191807000561127, 5.191807000561127, 5.191807000561127, 44.44090184939244, 59.031629592720925, 38.53163116793269, 23.00862655797704, 15.25603754439081, 12.425423611723573, 11.728608487828351, 11.310586209739657, 10.907434780440767, 10.524869954910539, 6.998417459500247, 6.738652193023834, 6.201073981705485, 6.075894806301057, 5.7044365269798964, 5.43109124921475, 5.42281486005201, 5.069511467075119, 4.739820881902385, 4.708227258334828, 4.412484196524615, 96.47823507899864, 61.88748410542905, 47.7053433162518, 20.73530690494853, 18.526082091220868, 17.021802391080275, 13.073920697239682, 13.073920697239682, 9.257531724220629, 94.58691782064207, 7.0838256047790855, 5.985191950206361, 4.939505419612406, 3.8926024271771738, 2.064252396801106, 1.967683498850944, 1.899717137068994, 3.01417791747062, 1.2031077743133765, 1.2031077743133765, 1.1636777112736636, 17.495420513282433, 15.3473617456387, 13.867613694214759, 11.967174037633043, 11.084045508795715, 74.01805455703705, 9.516587955307157, 6.754442003047282, 6.668832424159634, 6.326058658669933, 6.221578955006366, 5.9623800989300655, 5.618367824720908, 5.441318461747845, 4.655634041370299, 4.545781236336057, 4.509885469587223, 4.4661412235690685, 4.000458338064279, 3.7196083690072084, 44.44090184939244, 13.642959222057057, 45.060562180491054, 36.03636824638273, 26.347863890940573, 24.021952174878066, 22.275751557450462, 20.874702748977903, 11.117678562437694, 10.930646310642127, 10.930646310642127, 8.774929505974807, 6.078098485994942, 5.246869323453704, 5.130593891851035, 4.92963648625419, 4.4468225872719, 4.341654536081751, 4.1986741530949026, 4.1097197429156065, 3.9316198709091537, 3.359531764812877, 233.0782670320225, 89.2239900053664, 26.72717929309589, 25.29629431296963, 20.705189929644423, 13.166425227022314, 12.51815453622947, 11.68730179359839, 11.47235823831567, 10.750086236292255, 8.242816876682353, 7.635761589930334, 6.285662638012336, 5.604647963539088, 5.55967609820225, 5.216782853848322, 4.871730548763257, 4.761338195686813, 4.498094163284392, 4.4292761484041, 4.12809966731916, 4.012191788438264, 23.504787423318156, 40.50035089996568, 32.039613591252056, 26.835116462952787, 24.930157095568937, 12.829529518981214, 11.60867036786605, 9.640623629414373, 7.414487064571586, 6.901715253782907, 4.467678207960412, 4.175990268037571, 4.175990268037571, 4.175990268037571, 4.175990268037571, 4.175990268037571, 4.175990268037571, 4.077265425782817, 4.002022851107934, 3.8280386623453744, 3.663218457248892], \"Category\": [\"Default\", \"Default\", \"Default\", \"Default\", \"Default\", \"Default\", \"Default\", \"Default\", \"Default\", \"Default\", \"Default\", \"Default\", \"Default\", \"Default\", \"Default\", \"Default\", \"Default\", \"Default\", \"Default\", \"Default\", \"Topic1\", \"Topic1\", \"Topic1\", \"Topic1\", \"Topic1\", \"Topic1\", \"Topic1\", \"Topic1\", \"Topic1\", \"Topic1\", \"Topic1\", \"Topic1\", \"Topic1\", \"Topic1\", \"Topic1\", \"Topic1\", \"Topic1\", \"Topic1\", \"Topic1\", \"Topic1\", \"Topic1\", \"Topic2\", \"Topic2\", \"Topic2\", \"Topic2\", \"Topic2\", \"Topic2\", \"Topic2\", \"Topic2\", \"Topic2\", \"Topic2\", \"Topic2\", \"Topic2\", \"Topic2\", \"Topic2\", \"Topic2\", \"Topic2\", \"Topic2\", \"Topic2\", \"Topic2\", \"Topic2\", \"Topic2\", \"Topic2\", \"Topic2\", \"Topic2\", \"Topic2\", \"Topic3\", \"Topic3\", \"Topic3\", \"Topic3\", \"Topic3\", \"Topic3\", \"Topic3\", \"Topic3\", \"Topic3\", \"Topic3\", \"Topic3\", \"Topic3\", \"Topic3\", \"Topic3\", \"Topic3\", \"Topic3\", \"Topic3\", \"Topic3\", \"Topic3\", \"Topic3\", \"Topic3\", \"Topic4\", \"Topic4\", \"Topic4\", \"Topic4\", \"Topic4\", \"Topic4\", \"Topic4\", \"Topic4\", \"Topic4\", \"Topic4\", \"Topic4\", \"Topic4\", \"Topic4\", \"Topic4\", \"Topic4\", \"Topic4\", \"Topic4\", \"Topic4\", \"Topic4\", \"Topic4\", \"Topic4\", \"Topic4\", \"Topic4\", \"Topic5\", \"Topic5\", \"Topic5\", \"Topic5\", \"Topic5\", \"Topic5\", \"Topic5\", \"Topic5\", \"Topic5\", \"Topic5\", \"Topic5\", \"Topic5\", \"Topic5\", \"Topic5\", \"Topic5\", \"Topic5\", \"Topic5\", \"Topic5\", \"Topic5\", \"Topic5\", \"Topic5\", \"Topic5\", \"Topic6\", \"Topic6\", \"Topic6\", \"Topic6\", \"Topic6\", \"Topic6\", \"Topic6\", \"Topic6\", \"Topic6\", \"Topic6\", \"Topic6\", \"Topic6\", \"Topic6\", \"Topic6\", \"Topic6\", \"Topic6\", \"Topic6\", \"Topic6\", \"Topic6\", \"Topic6\", \"Topic6\", \"Topic6\", \"Topic7\", \"Topic7\", \"Topic7\", \"Topic7\", \"Topic7\", \"Topic7\", \"Topic7\", \"Topic7\", \"Topic7\", \"Topic7\", \"Topic7\", \"Topic7\", \"Topic7\", \"Topic7\", \"Topic7\", \"Topic7\", \"Topic7\", \"Topic7\", \"Topic7\", \"Topic7\", \"Topic7\", \"Topic7\", \"Topic7\", \"Topic7\", \"Topic7\", \"Topic8\", \"Topic8\", \"Topic8\", \"Topic8\", \"Topic8\", \"Topic8\", \"Topic8\", \"Topic8\", \"Topic8\", \"Topic8\", \"Topic8\", \"Topic8\", \"Topic8\", \"Topic8\", \"Topic8\", \"Topic8\", \"Topic8\", \"Topic8\", \"Topic8\", \"Topic8\", \"Topic8\", \"Topic8\", \"Topic8\", \"Topic9\", \"Topic9\", \"Topic9\", \"Topic9\", \"Topic9\", \"Topic9\", \"Topic9\", \"Topic9\", \"Topic9\", \"Topic9\", \"Topic9\", \"Topic9\", \"Topic9\", \"Topic9\", \"Topic9\", \"Topic9\", \"Topic9\", \"Topic9\", \"Topic9\", \"Topic9\", \"Topic9\", \"Topic9\", \"Topic9\", \"Topic10\", \"Topic10\", \"Topic10\", \"Topic10\", \"Topic10\", \"Topic10\", \"Topic10\", \"Topic10\", \"Topic10\", \"Topic10\", \"Topic10\", \"Topic10\", \"Topic10\", \"Topic10\", \"Topic10\", \"Topic10\", \"Topic10\", \"Topic10\", \"Topic10\", \"Topic10\", \"Topic10\", \"Topic10\", \"Topic10\", \"Topic10\", \"Topic10\", \"Topic10\", \"Topic10\", \"Topic11\", \"Topic11\", \"Topic11\", \"Topic11\", \"Topic11\", \"Topic11\", \"Topic11\", \"Topic11\", \"Topic11\", \"Topic11\", \"Topic11\", \"Topic11\", \"Topic11\", \"Topic11\", \"Topic11\", \"Topic11\", \"Topic11\", \"Topic11\", \"Topic11\", \"Topic11\", \"Topic11\", \"Topic11\", \"Topic11\", \"Topic11\", \"Topic11\", \"Topic12\", \"Topic12\", \"Topic12\", \"Topic12\", \"Topic12\", \"Topic12\", \"Topic12\", \"Topic12\", \"Topic12\", \"Topic12\", \"Topic12\", \"Topic12\", \"Topic12\", \"Topic12\", \"Topic12\", \"Topic12\", \"Topic12\", \"Topic12\", \"Topic12\", \"Topic12\", \"Topic12\", \"Topic13\", \"Topic13\", \"Topic13\", \"Topic13\", \"Topic13\", \"Topic13\", \"Topic13\", \"Topic13\", \"Topic13\", \"Topic13\", \"Topic13\", \"Topic13\", \"Topic13\", \"Topic13\", \"Topic13\", \"Topic13\", \"Topic13\", \"Topic13\", \"Topic13\", \"Topic13\", \"Topic13\", \"Topic13\", \"Topic14\", \"Topic14\", \"Topic14\", \"Topic14\", \"Topic14\", \"Topic14\", \"Topic14\", \"Topic14\", \"Topic14\", \"Topic14\", \"Topic14\", \"Topic14\", \"Topic14\", \"Topic14\", \"Topic14\", \"Topic14\", \"Topic14\", \"Topic14\", \"Topic14\", \"Topic14\", \"Topic14\", \"Topic14\", \"Topic14\", \"Topic14\", \"Topic15\", \"Topic15\", \"Topic15\", \"Topic15\", \"Topic15\", \"Topic15\", \"Topic15\", \"Topic15\", \"Topic15\", \"Topic15\", \"Topic15\", \"Topic15\", \"Topic15\", \"Topic15\", \"Topic15\", \"Topic15\", \"Topic15\", \"Topic15\", \"Topic15\", \"Topic15\", \"Topic15\", \"Topic15\", \"Topic15\", \"Topic15\", \"Topic16\", \"Topic16\", \"Topic16\", \"Topic16\", \"Topic16\", \"Topic16\", \"Topic16\", \"Topic16\", \"Topic16\", \"Topic16\", \"Topic16\", \"Topic16\", \"Topic16\", \"Topic16\", \"Topic16\", \"Topic16\", \"Topic16\", \"Topic16\", \"Topic16\", \"Topic16\", \"Topic16\", \"Topic16\", \"Topic16\", \"Topic16\", \"Topic17\", \"Topic17\", \"Topic17\", \"Topic17\", \"Topic17\", \"Topic17\", \"Topic17\", \"Topic17\", \"Topic17\", \"Topic17\", \"Topic17\", \"Topic17\", \"Topic17\", \"Topic17\", \"Topic17\", \"Topic17\", \"Topic17\", \"Topic17\", \"Topic17\", \"Topic17\", \"Topic17\", \"Topic17\", \"Topic17\", \"Topic18\", \"Topic18\", \"Topic18\", \"Topic18\", \"Topic18\", \"Topic18\", \"Topic18\", \"Topic18\", \"Topic18\", \"Topic18\", \"Topic18\", \"Topic18\", \"Topic18\", \"Topic18\", \"Topic18\", \"Topic18\", \"Topic18\", \"Topic18\", \"Topic18\", \"Topic18\", \"Topic18\", \"Topic18\", \"Topic18\", \"Topic19\", \"Topic19\", \"Topic19\", \"Topic19\", \"Topic19\", \"Topic19\", \"Topic19\", \"Topic19\", \"Topic19\", \"Topic19\", \"Topic19\", \"Topic19\", \"Topic19\", \"Topic19\", \"Topic19\", \"Topic19\", \"Topic19\", \"Topic19\", \"Topic19\", \"Topic19\", \"Topic19\", \"Topic20\", \"Topic20\", \"Topic20\", \"Topic20\", \"Topic20\", \"Topic20\", \"Topic20\", \"Topic20\", \"Topic20\", \"Topic20\", \"Topic20\", \"Topic20\", \"Topic20\", \"Topic20\", \"Topic20\", \"Topic20\", \"Topic20\", \"Topic20\", \"Topic20\", \"Topic20\", \"Topic20\", \"Topic20\", \"Topic21\", \"Topic21\", \"Topic21\", \"Topic21\", \"Topic21\", \"Topic21\", \"Topic21\", \"Topic21\", \"Topic21\", \"Topic21\", \"Topic21\", \"Topic21\", \"Topic21\", \"Topic21\", \"Topic21\", \"Topic21\", \"Topic21\", \"Topic21\", \"Topic21\", \"Topic21\", \"Topic21\", \"Topic21\", \"Topic22\", \"Topic22\", \"Topic22\", \"Topic22\", \"Topic22\", \"Topic22\", \"Topic22\", \"Topic22\", \"Topic22\", \"Topic22\", \"Topic22\", \"Topic22\", \"Topic22\", \"Topic22\", \"Topic22\", \"Topic22\", \"Topic22\", \"Topic22\", \"Topic22\", \"Topic22\", \"Topic22\", \"Topic23\", \"Topic23\", \"Topic23\", \"Topic23\", \"Topic23\", \"Topic23\", \"Topic23\", \"Topic23\", \"Topic23\", \"Topic23\", \"Topic23\", \"Topic23\", \"Topic23\", \"Topic23\", \"Topic23\", \"Topic23\", \"Topic23\", \"Topic23\", \"Topic23\", \"Topic23\", \"Topic23\", \"Topic23\", \"Topic24\", \"Topic24\", \"Topic24\", \"Topic24\", \"Topic24\", \"Topic24\", \"Topic24\", \"Topic24\", \"Topic24\", \"Topic24\", \"Topic24\", \"Topic24\", \"Topic24\", \"Topic24\", \"Topic24\", \"Topic24\", \"Topic24\", \"Topic24\", \"Topic24\", \"Topic24\", \"Topic24\", \"Topic25\", \"Topic25\", \"Topic25\", \"Topic25\", \"Topic25\", \"Topic25\", \"Topic25\", \"Topic25\", \"Topic25\", \"Topic25\", \"Topic25\", \"Topic25\", \"Topic25\", \"Topic25\", \"Topic25\", \"Topic25\", \"Topic25\", \"Topic25\", \"Topic25\", \"Topic25\", \"Topic25\", \"Topic26\", \"Topic26\", \"Topic26\", \"Topic26\", \"Topic26\", \"Topic26\", \"Topic26\", \"Topic26\", \"Topic26\", \"Topic26\", \"Topic26\", \"Topic26\", \"Topic26\", \"Topic26\", \"Topic26\", \"Topic26\", \"Topic26\", \"Topic26\", \"Topic26\", \"Topic26\", \"Topic27\", \"Topic27\", \"Topic27\", \"Topic27\", \"Topic27\", \"Topic27\", \"Topic27\", \"Topic27\", \"Topic27\", \"Topic27\", \"Topic27\", \"Topic27\", \"Topic27\", \"Topic27\", \"Topic27\", \"Topic27\", \"Topic27\", \"Topic27\", \"Topic27\", \"Topic27\", \"Topic27\", \"Topic27\", \"Topic28\", \"Topic28\", \"Topic28\", \"Topic28\", \"Topic28\", \"Topic28\", \"Topic28\", \"Topic28\", \"Topic28\", \"Topic28\", \"Topic28\", \"Topic28\", \"Topic28\", \"Topic28\", \"Topic28\", \"Topic28\", \"Topic28\", \"Topic28\", \"Topic28\", \"Topic28\", \"Topic28\", \"Topic28\", \"Topic29\", \"Topic29\", \"Topic29\", \"Topic29\", \"Topic29\", \"Topic29\", \"Topic29\", \"Topic29\", \"Topic29\", \"Topic29\", \"Topic29\", \"Topic29\", \"Topic29\", \"Topic29\", \"Topic29\", \"Topic29\", \"Topic29\", \"Topic29\", \"Topic29\", \"Topic29\", \"Topic29\", \"Topic30\", \"Topic30\", \"Topic30\", \"Topic30\", \"Topic30\", \"Topic30\", \"Topic30\", \"Topic30\", \"Topic30\", \"Topic30\", \"Topic30\", \"Topic30\", \"Topic30\", \"Topic30\", \"Topic30\", \"Topic30\", \"Topic30\", \"Topic30\", \"Topic30\", \"Topic30\"], \"logprob\": [20.0, 19.0, 18.0, 17.0, 16.0, 15.0, 14.0, 13.0, 12.0, 11.0, 10.0, 9.0, 8.0, 7.0, 6.0, 5.0, 4.0, 3.0, 2.0, 1.0, -1.2022, -1.41, -2.8119, -2.8338, -3.0568, -3.4981, -3.6211, -4.4768, -4.4796, -4.6907, -4.8718, -2.7723, -5.0987, -5.3223, -5.4415, -5.4715, -5.5157, -5.5905, -5.6399, -5.7147, -4.931, -1.546, -2.175, -2.1946, -3.3101, -3.397, -3.4459, -3.6671, -3.9082, -4.011, -4.5465, -4.6594, -3.3368, -5.5818, -5.749, -5.9286, -6.0165, -6.0165, -6.0665, -6.0993, -6.0993, -3.6371, -3.6843, -2.4835, -2.4745, -4.5256, -2.9981, -3.0596, -3.1915, -3.3991, -3.4989, -3.5052, -3.6331, -3.7195, -3.7313, -3.7732, -3.9246, -3.9506, -3.9865, -4.1118, -4.1614, -4.1941, -4.2681, -4.2937, -4.4208, -4.4513, -4.2805, -0.7714, -2.6975, -2.9594, -3.1765, -3.2375, -3.6897, -3.822, -4.6434, -4.9246, -5.0057, -5.0456, -5.0584, -5.0872, -5.311, -5.5295, -5.576, -5.6435, -5.6616, -5.6934, -5.7906, -2.6913, -3.1311, -4.8452, -2.1441, -2.6385, -2.6616, -3.3486, -3.6453, -3.7158, -3.7819, -3.8994, -3.9937, -4.0077, -4.3479, -4.4512, -1.6071, -4.5632, -4.6634, -4.7101, -4.7603, -4.814, -5.1299, -5.3258, -1.9281, -5.0048, -2.5022, -2.8436, -3.2042, -3.2555, -3.287, -3.5078, -3.5721, -1.9153, -3.8954, -4.1971, -4.2171, -4.3186, -4.4437, -4.5106, -4.5293, -4.59, -4.6616, -4.7419, -3.4625, -4.8802, -1.8635, -3.263, -2.1554, -2.4091, -2.6367, -2.8256, -2.9337, -3.267, -3.4957, -3.6982, -3.722, -4.2108, -4.2721, -4.3861, -4.3913, -4.5411, -4.5641, -4.7338, -4.8632, -4.8959, -4.9441, -4.9941, -3.7702, -3.6898, -3.6699, -3.7301, -3.9262, -2.214, -2.5113, -2.5645, -2.9406, -2.9599, -3.1462, -3.223, -3.406, -3.4108, -3.7035, -3.7837, -3.8586, -4.0313, -4.0468, -4.4451, -4.5792, -4.6961, -2.3228, -4.9653, -5.6315, -3.0493, -2.9528, -4.2279, -2.5613, -2.6627, -2.6682, -3.146, -3.146, -3.253, -3.3606, -3.6481, -3.6955, -3.8305, -4.0094, -4.0208, -4.0939, -4.1747, -4.3035, -4.3113, -4.5279, -4.7023, -4.7806, -2.8778, -2.8355, -2.7499, -3.461, -2.447, -3.0125, -3.066, -3.1924, -3.2774, -3.2953, -3.5444, -3.6541, -3.799, -3.8566, -3.8652, -3.8707, -3.9009, -3.9982, -4.0277, -4.1608, -4.3191, -4.4219, -4.6755, -4.7065, -3.2877, -3.6735, -3.721, -3.5437, -3.5239, -3.6528, -3.6426, -1.8694, -2.9224, -2.9619, -3.3573, -3.4848, -3.6173, -3.8829, -4.3588, -4.3723, -3.1888, -4.5016, -4.515, -4.6062, -4.6345, -4.6649, -4.6784, -4.7103, -4.7673, -4.7876, -4.7954, -2.9234, -3.7719, -3.1254, -3.7321, -4.4106, -1.6487, -1.8385, -1.9937, -3.0471, -3.1097, -3.1504, -3.2166, -3.598, -3.6739, -4.1303, -4.2913, -4.3659, -4.464, -4.4986, -4.5208, -4.5317, -4.5907, -4.6378, -4.7978, -4.9272, -3.4497, -1.6163, -1.8109, -2.1462, -2.4855, -2.5485, -2.8818, -3.4223, -3.513, -3.7076, -4.1554, -4.2013, -4.2646, -4.8591, -4.994, -4.994, -5.0352, -5.3002, -5.3929, -5.4134, -5.4448, -4.521, -5.0687, -2.1265, -2.4738, -2.6592, -3.227, -3.2843, -3.6354, -3.8485, -3.9529, -3.9733, -4.0352, -4.0623, -4.0946, -4.3029, -4.3302, -4.3954, -4.608, -4.6479, -4.6827, -4.7453, -4.8927, -3.5906, -2.1434, -3.8924, -4.5666, -2.5241, -3.1089, -3.2474, -3.2818, -3.3051, -3.4312, -3.4372, -3.4771, -3.5035, -3.592, -3.6473, -3.7008, -3.7943, -3.8551, -3.9911, -4.0762, -4.1787, -4.4267, -4.4613, -4.4994, -2.5101, -2.3289, -3.857, -4.1451, -2.3828, -2.4111, -2.4968, -2.7048, -3.406, -3.5311, -3.6412, -3.7606, -4.0914, -4.2557, -4.2563, -4.4934, -4.6946, -4.8492, -4.9944, -1.736, -5.0505, -5.0911, -5.2646, -5.2971, -2.3462, -3.9034, -3.6377, -4.2878, -2.9819, -3.1664, -3.2093, -3.2185, -3.2368, -3.2862, -3.2897, -3.2919, -3.4287, -3.449, -3.5078, -3.5802, -3.6106, -3.6267, -3.7529, -3.8446, -3.9428, -4.0341, -4.0344, -4.0738, -3.7029, -3.3082, -3.5744, -2.391, -2.5548, -2.8899, -3.2141, -3.411, -3.4221, -3.7011, -3.7274, -3.8585, -3.8754, -3.9547, -4.0165, -4.1043, -4.4186, -4.427, -4.4277, -4.4848, -4.5404, -4.5477, -4.5643, -2.5027, -3.1787, -4.373, -1.7903, -1.864, -2.1828, -2.5168, -3.3204, -3.5195, -3.5493, -3.721, -3.7512, -3.7792, -4.0284, -4.2507, -4.2952, -4.3985, -4.4026, -4.4026, -4.4863, -4.742, -4.9817, -5.0063, -3.0065, -1.1317, -1.2019, -3.3749, -3.5739, -3.8745, -3.995, -4.0884, -4.171, -4.2065, -4.2456, -4.4127, -5.3299, -5.3505, -5.374, -5.4347, -5.4626, -5.4654, -5.4843, -5.8392, -6.0518, -5.5927, -5.6138, -2.462, -2.5418, -2.7656, -2.9108, -3.0091, -3.3775, -3.5409, -3.7522, -3.9657, -4.117, -4.416, -4.4182, -4.4182, -4.424, -2.1489, -4.5038, -4.6711, -4.9283, -2.5692, -5.4571, -3.9219, -2.4856, -1.9803, -3.1997, -3.245, -3.5026, -3.5233, -3.5702, -3.5878, -3.7009, -3.9275, -4.0068, -4.183, -4.2718, -4.6842, -4.7969, -4.9872, -1.8992, -5.2647, -5.4057, -1.5788, -5.5906, -3.8036, -3.0713, -3.4395, -3.5383, -3.56, -3.9028, -3.9217, -3.9996, -4.0466, -4.064, -4.0808, -4.0922, -4.0928, -4.1459, -4.2843, -4.2843, -4.2843, -4.2946, -4.3165, -4.3448, -4.3535, -1.5358, -3.3756, -2.1778, -2.5517, -2.9488, -2.9952, -3.3366, -3.3429, -3.6205, -3.7689, -3.7689, -3.9213, -4.0971, -4.177, -4.2979, -4.459, -4.459, -4.459, -4.459, -4.459, -4.459, -4.459, -3.2544, -1.8196, -2.2545, -2.7865, -3.2184, -3.4381, -3.5005, -3.5399, -3.5794, -3.6184, -4.075, -4.1186, -4.2153, -4.2392, -4.3137, -4.3724, -4.3742, -4.4556, -4.5381, -4.5464, -4.6273, -3.6519, -1.7655, -2.0302, -2.889, -3.0071, -3.0964, -3.3774, -3.3774, -3.7539, -1.4436, -4.0555, -4.2514, -4.4821, -4.7828, -5.7315, -5.8187, -5.8851, -5.6101, -7.0989, -7.0989, -7.2427, -3.0551, -3.1938, -3.3019, -3.4605, -3.5437, -1.6526, -3.7109, -4.0978, -4.1125, -4.1739, -4.1933, -4.2433, -4.3138, -4.3521, -4.5423, -4.5721, -4.582, -4.5942, -4.7344, -4.8296, -2.4869, -3.9859, -2.0452, -2.2738, -2.5965, -2.6924, -2.7709, -2.8387, -3.5094, -3.5279, -3.5279, -3.77, -4.1897, -4.3649, -4.3921, -4.4408, -4.5687, -4.5988, -4.6413, -4.6687, -4.7259, -4.9356, -2.8235, -4.1326, -2.4802, -2.5372, -2.7458, -3.2252, -3.2796, -3.3538, -3.374, -3.4448, -3.739, -3.8254, -4.0495, -4.185, -4.1946, -4.2713, -4.3548, -4.3831, -4.4539, -4.4733, -4.5628, -4.5995, -4.4788, -1.8861, -2.1266, -2.3096, -2.3859, -3.0869, -3.1951, -3.3985, -3.6932, -3.7754, -4.2975, -4.3832, -4.3832, -4.3832, -4.3832, -4.3832, -4.3832, -4.414, -4.4381, -4.4962, -4.5544], \"loglift\": [20.0, 19.0, 18.0, 17.0, 16.0, 15.0, 14.0, 13.0, 12.0, 11.0, 10.0, 9.0, 8.0, 7.0, 6.0, 5.0, 4.0, 3.0, 2.0, 1.0, 2.7754, 2.7748, 2.7652, 2.7649, 2.7617, 2.7528, 2.7495, 2.7124, 2.7122, 2.6973, 2.6821, 2.6632, 2.6591, 2.6314, 2.6143, 2.6097, 2.6027, 2.5903, 2.5817, 2.5679, 2.0331, 2.8654, 2.8619, 2.8618, 2.8465, 2.8445, 2.8433, 2.8369, 2.8283, 2.824, 2.793, 2.7843, 2.6913, 2.6679, 2.6352, 2.595, 2.5732, 2.5732, 2.5601, 2.5513, 2.5513, 2.2932, 2.2809, 1.946, 1.922, 1.1779, 2.8725, 2.8714, 2.8689, 2.8642, 2.8616, 2.8614, 2.8577, 2.8548, 2.8544, 2.8529, 2.8471, 2.846, 2.8444, 2.8386, 2.8361, 2.8343, 2.8302, 2.8287, 2.8208, 2.8187, 2.7256, 2.9557, 2.9441, 2.9401, 2.9359, 2.9345, 2.9216, 2.9166, 2.8666, 2.8387, 2.8293, 2.8244, 2.8228, 2.8191, 2.7871, 2.7496, 2.7407, 2.7271, 2.7234, 2.7167, 2.695, 2.5873, 2.5724, 1.9167, 3.0057, 3.0004, 3.0001, 2.9866, 2.9773, 2.9747, 2.9721, 2.967, 2.9624, 2.9617, 2.9413, 2.9337, 2.9316, 2.9246, 2.9157, 2.9112, 2.9062, 2.9006, 2.8615, 2.8314, 2.5013, 2.2299, 3.0721, 3.067, 3.0594, 3.0581, 3.0572, 3.0505, 3.0483, 3.0418, 3.0347, 3.0176, 3.0163, 3.0092, 2.9996, 2.9939, 2.9923, 2.9868, 2.9799, 2.9716, 2.9566, 2.9558, 2.7677, 2.7746, 3.1171, 3.1144, 3.1114, 3.1083, 3.1062, 3.0983, 3.0912, 3.0835, 3.0825, 3.0557, 3.0514, 3.0427, 3.0423, 3.0293, 3.0271, 3.0098, 2.9947, 2.9906, 2.9844, 2.9776, 2.9205, 2.2753, 2.2605, 0.6664, 0.8627, 3.1477, 3.1442, 3.1434, 3.1369, 3.1365, 3.1321, 3.1301, 3.1246, 3.1244, 3.1133, 3.1096, 3.106, 3.0964, 3.0955, 3.0663, 3.0538, 3.0416, 3.0238, 3.0083, 2.8846, 2.3813, 2.017, 1.1288, 3.1866, 3.185, 3.1849, 3.1748, 3.1748, 3.1718, 3.1684, 3.1575, 3.1554, 3.1489, 3.1389, 3.1382, 3.1335, 3.128, 3.1182, 3.1176, 3.0983, 3.0797, 3.0704, 3.0693, 2.8717, 1.8813, 1.9272, 3.1887, 3.1785, 3.1773, 3.174, 3.1715, 3.171, 3.1623, 3.1578, 3.1511, 3.1482, 3.1477, 3.1474, 3.1458, 3.1402, 3.1384, 3.1297, 3.1178, 3.109, 3.0837, 3.0802, 3.0387, 2.9897, 2.8538, 1.834, 1.4405, 1.7778, 1.7142, 3.2862, 3.2709, 3.27, 3.2583, 3.2535, 3.2479, 3.2341, 3.1991, 3.1979, 3.1866, 3.1852, 3.1838, 3.1739, 3.1706, 3.1671, 3.1654, 3.1615, 3.1542, 3.1516, 3.1505, 2.4334, 2.4136, 1.839, 1.9751, 2.5536, 3.3222, 3.3208, 3.3194, 3.3014, 3.2996, 3.2984, 3.2964, 3.2815, 3.2779, 3.2494, 3.2361, 3.2292, 3.2195, 3.2158, 3.2134, 3.2122, 3.2055, 3.1999, 3.1791, 3.1601, 1.981, 3.3309, 3.3294, 3.3262, 3.3216, 3.3205, 3.3138, 3.297, 3.2933, 3.284, 3.2549, 3.2511, 3.2457, 3.1769, 3.1556, 3.1556, 3.1487, 3.0977, 3.0772, 3.0725, 3.0651, 2.9897, 1.2577, 3.3395, 3.3348, 3.3316, 3.317, 3.3151, 3.3004, 3.2887, 3.2821, 3.2807, 3.2764, 3.2744, 3.272, 3.2546, 3.2521, 3.2457, 3.2224, 3.2175, 3.2131, 3.2048, 3.1834, 3.047, 2.821, 3.0379, 2.0082, 3.3396, 3.3263, 3.3218, 3.3206, 3.3198, 3.315, 3.3147, 3.3131, 3.3119, 3.3079, 3.3052, 3.3024, 3.2973, 3.2937, 3.2849, 3.2787, 3.2707, 3.2478, 3.2441, 3.24, 2.2789, 2.0677, 1.9314, 1.2015, 3.3688, 3.3684, 3.367, 3.3631, 3.3423, 3.3368, 3.3315, 3.325, 3.3028, 3.289, 3.289, 3.265, 3.2403, 3.2181, 3.1946, 3.1858, 3.1847, 3.1772, 3.1424, 3.1353, 3.0419, 3.0477, 2.9947, 1.0689, 3.5254, 3.5189, 3.5172, 3.5169, 3.5161, 3.5141, 3.5139, 3.5138, 3.5075, 3.5065, 3.5034, 3.4995, 3.4977, 3.4968, 3.4888, 3.4824, 3.4749, 3.4674, 3.4673, 3.4638, 3.059, 1.9704, 0.9643, 3.5622, 3.5589, 3.5504, 3.5389, 3.5301, 3.5295, 3.5135, 3.5118, 3.5025, 3.5012, 3.4949, 3.4897, 3.4817, 3.4475, 3.4464, 3.4463, 3.439, 3.4314, 3.4304, 3.4281, 3.2857, 3.0069, 2.8858, 3.6563, 3.6554, 3.6509, 3.6444, 3.6167, 3.6058, 3.604, 3.5926, 3.5903, 3.5882, 3.5669, 3.5434, 3.5381, 3.5249, 3.5244, 3.5244, 3.5128, 3.4719, 3.4249, 3.4196, 1.9153, 3.6842, 3.6838, 3.6355, 3.6239, 3.6017, 3.5909, 3.5817, 3.5729, 3.5689, 3.5643, 3.5431, 3.3562, 3.3504, 3.3435, 3.3254, 3.3168, 3.3159, 3.31, 3.1836, 3.0936, 2.9775, 1.3923, 3.7146, 3.7127, 3.7064, 3.7016, 3.6979, 3.6806, 3.6708, 3.6556, 3.637, 3.6214, 3.5838, 3.5835, 3.5835, 3.5826, 3.5802, 3.5708, 3.5431, 3.4925, 3.4915, 3.3513, 3.0688, 1.9109, 3.7705, 3.7352, 3.7329, 3.7179, 3.7165, 3.7133, 3.7121, 3.7036, 3.6838, 3.6758, 3.6559, 3.6447, 3.5797, 3.5577, 3.5159, 3.4784, 3.443, 3.4, 3.391, 3.337, 1.4948, 3.803, 3.7825, 3.7757, 3.7741, 3.7445, 3.7426, 3.7344, 3.7291, 3.7271, 3.7251, 3.7238, 3.7237, 3.7172, 3.6989, 3.6989, 3.6989, 3.6974, 3.6943, 3.6901, 3.6888, 3.2532, 3.4013, 3.9133, 3.9037, 3.8889, 3.8868, 3.8679, 3.8674, 3.8468, 3.8334, 3.8334, 3.8176, 3.7966, 3.7859, 3.7683, 3.7419, 3.7419, 3.7419, 3.7419, 3.7419, 3.7419, 3.7419, 2.7993, 3.9502, 3.9419, 3.9256, 3.9045, 3.8901, 3.8854, 3.8823, 3.8791, 3.8758, 3.8272, 3.8215, 3.8079, 3.8044, 3.793, 3.7834, 3.7831, 3.7691, 3.7538, 3.7522, 3.7362, 1.6267, 3.9571, 3.9527, 3.9271, 3.9216, 3.917, 3.8999, 3.8999, 3.8686, 3.8548, 3.8346, 3.8072, 3.7686, 3.706, 3.3917, 3.3523, 3.3212, 3.1345, 2.5641, 2.5641, 2.4537, 3.9308, 3.9232, 3.9164, 3.9053, 3.8987, 3.891, 3.8839, 3.8399, 3.8379, 3.8294, 3.8266, 3.8191, 3.8081, 3.8018, 3.7675, 3.7616, 3.7597, 3.7572, 3.7271, 3.7047, 3.5669, 3.2488, 3.9947, 3.9896, 3.9801, 3.9766, 3.9735, 3.9707, 3.93, 3.9285, 3.9285, 3.906, 3.8535, 3.8254, 3.8206, 3.8118, 3.7871, 3.7808, 3.7718, 3.7658, 3.7529, 3.7005, 1.573, 1.2242, 4.0821, 4.0801, 4.0718, 4.045, 4.0412, 4.0356, 4.034, 4.0282, 3.9996, 3.9897, 3.9601, 3.9393, 3.9377, 3.9248, 3.9097, 3.9043, 3.8904, 3.8864, 3.8673, 3.8591, 2.2119, 4.2605, 4.2544, 4.2486, 4.2459, 4.2092, 4.2011, 4.1834, 4.1513, 4.1408, 4.0536, 4.0353, 4.0353, 4.0353, 4.0353, 4.0353, 4.0353, 4.0285, 4.023, 4.0094, 3.9951]}, \"token.table\": {\"Topic\": [13, 24, 14, 16, 30, 28, 15, 25, 16, 11, 19, 21, 30, 23, 24, 28, 6, 8, 15, 5, 8, 20, 6, 27, 20, 20, 5, 4, 7, 7, 5, 16, 16, 13, 9, 21, 11, 16, 10, 16, 25, 11, 10, 10, 22, 23, 24, 25, 3, 17, 26, 5, 3, 22, 16, 29, 28, 3, 16, 12, 11, 11, 27, 20, 29, 3, 7, 21, 9, 15, 15, 12, 9, 5, 11, 28, 17, 11, 7, 8, 9, 1, 21, 1, 18, 10, 13, 3, 17, 18, 25, 9, 27, 25, 10, 25, 30, 13, 5, 29, 15, 7, 26, 19, 27, 21, 6, 10, 26, 14, 13, 14, 3, 3, 20, 6, 9, 7, 29, 28, 1, 7, 1, 10, 10, 13, 25, 10, 29, 25, 17, 15, 8, 16, 6, 28, 30, 9, 27, 11, 30, 28, 27, 10, 19, 18, 20, 29, 20, 10, 1, 14, 20, 2, 1, 28, 8, 10, 12, 27, 24, 30, 10, 23, 8, 29, 23, 22, 26, 17, 7, 7, 24, 1, 6, 6, 14, 14, 9, 5, 6, 9, 24, 29, 16, 13, 2, 7, 2, 3, 15, 9, 26, 7, 17, 5, 27, 10, 23, 20, 3, 26, 15, 6, 14, 25, 15, 22, 23, 2, 22, 13, 4, 18, 6, 14, 20, 7, 30, 24, 12, 12, 1, 26, 26, 22, 21, 27, 23, 8, 18, 11, 2, 10, 23, 2, 14, 4, 8, 27, 21, 23, 21, 17, 28, 24, 26, 8, 23, 21, 10, 10, 5, 20, 18, 30, 14, 9, 22, 10, 21, 3, 30, 28, 8, 30, 1, 19, 25, 6, 3, 1, 1, 24, 6, 4, 12, 23, 2, 8, 18, 22, 22, 3, 12, 13, 27, 15, 15, 26, 21, 5, 3, 13, 21, 24, 15, 21, 13, 17, 19, 17, 28, 29, 7, 21, 4, 19, 7, 29, 1, 21, 18, 29, 6, 22, 17, 26, 4, 21, 8, 22, 2, 24, 2, 7, 20, 12, 17, 4, 5, 20, 9, 11, 29, 10, 23, 4, 12, 16, 12, 19, 5, 16, 10, 13, 6, 1, 3, 10, 25, 4, 17, 29, 18, 2, 24, 14, 23, 15, 18, 8, 14, 24, 9, 10, 14, 14, 27, 7, 29, 13, 27, 20, 3, 2, 20, 9, 16, 6, 11, 7, 21, 14, 23, 30, 19, 18, 12, 2, 11, 26, 30, 14, 4, 21, 21, 23, 22, 8, 22, 3, 18, 30, 6, 1, 11, 11, 13, 29, 23, 19, 19, 3, 16, 5, 27, 11, 16, 18, 9, 10, 6, 15, 2, 12, 22, 28, 9, 8, 24, 27, 2, 11, 27, 26, 4, 23, 23, 25, 8, 10, 11, 16, 17, 28, 15, 21, 15, 8, 20, 10, 10, 22, 23, 4, 2, 26, 23, 3, 2, 18, 9, 23, 3, 20, 16, 29, 15, 29, 17, 18, 16, 10, 22, 22, 18, 30, 4, 7, 10, 18, 16, 8, 15, 4, 19, 12, 28, 11, 6, 18, 14, 2, 5, 24, 30, 22, 30, 5, 17, 27, 30, 28, 1, 11, 18, 13, 17, 11, 25, 18, 25, 18, 4, 17, 16, 10, 14, 29, 19, 4, 17, 25, 26, 22, 9, 6, 30, 5, 18, 3, 6, 24, 6, 12, 5, 11, 24, 20, 4, 2, 27, 10, 2, 4, 15, 13, 28, 17, 1, 1, 8, 14, 2, 17, 7, 24, 11, 11, 29, 11, 29, 17, 25, 25, 8, 15, 25, 27, 15, 20, 29, 8, 5, 4, 7, 16, 16, 15, 13, 12, 25, 3, 14, 24, 14, 27, 19, 19, 21, 28, 11, 7, 4, 30, 9, 9, 1, 22, 29, 10, 21, 2, 27, 22, 26, 28, 12, 28, 4, 12, 2, 7, 15, 21, 28, 2, 6, 17, 1, 27, 25, 12, 28, 12, 15, 9, 9, 2, 5, 8, 5, 5, 25, 16, 30, 8, 9, 5, 17, 4, 14, 11, 9, 5, 19, 27, 3, 15, 18, 2, 12, 22, 12, 10, 11, 14, 1, 16, 19, 14, 24, 15, 13, 13, 1, 19, 6, 24, 7, 19, 8, 7, 28, 8, 17, 9, 20, 13, 19, 4, 5, 26, 19, 28, 13, 7, 15, 23, 19, 13, 20, 20], \"Freq\": [0.9853849225032403, 0.9751423752674827, 0.8263395096534956, 0.8994544340945014, 0.968879715349635, 0.8995186836212364, 0.9439945362756502, 0.9065188274556318, 0.9650739090563166, 0.9122274626245919, 0.9252847741363903, 0.7199779141795934, 0.8189519776150683, 0.9180820693048679, 0.9787379730188696, 0.7145112696560788, 0.8788968964008717, 0.8764347130871342, 0.11094110292242204, 0.9808285097058722, 0.8732958296380319, 0.9332022650831491, 0.962814312712735, 0.918894939737439, 0.9935641407006864, 0.6458173107592157, 0.9557560413571595, 0.9351030159383218, 0.9764820677229861, 0.9079774955387795, 0.9219228585810225, 0.9588771635345161, 0.8242237674792449, 0.9149974512838503, 0.20392544525368592, 0.7703850154028135, 0.8740518998339645, 0.842736760069867, 0.9511232421149999, 0.9813588526989603, 0.9206252980417005, 0.9077146794480202, 0.9444101959979124, 0.8910655709598049, 0.7967611750740762, 0.8813011040813896, 0.7704446639807071, 0.8495766624091742, 0.9846318549274474, 0.8930894294449301, 0.9399709638495323, 0.9288420217734913, 0.9377167698071185, 0.7817345536709552, 0.9471930379997153, 0.9030820987400454, 0.911688235734867, 0.925079136577284, 0.986234805967141, 0.9870162461021333, 0.8895793613260022, 0.947174689751115, 0.8956277465859988, 0.6883441310303814, 0.9411924321168079, 0.9711697971357747, 0.9533460361347875, 0.9835144162835471, 0.9653135568523861, 0.939712472584941, 0.9103027448240317, 0.9763216595645802, 0.9771718386879176, 0.8631447218621116, 0.9898499655274628, 0.9427291351243425, 0.957020526037556, 0.9323045228263738, 0.983260715111995, 0.9862148315655617, 0.9544901081646466, 0.9961567522160186, 0.9586828777774744, 0.9963615149299847, 0.9087050674138383, 0.9318883133789991, 0.9609920156967962, 0.9742994825570642, 0.9573023220980084, 0.9191410111439972, 0.9561631131942836, 0.9459438081812683, 0.8065365227685846, 0.8439137468828888, 0.9790679322926399, 0.8573366814314699, 0.7183924787760088, 0.9149974512838503, 0.9931740453987117, 0.8492242524278213, 0.9304890079612886, 0.9779426445243423, 0.5082118138328465, 0.933557162987596, 0.8799367571907262, 0.9514043088516982, 0.730646965165785, 0.24354898838859498, 0.9645384122685424, 0.8501265978183277, 0.7870715632443669, 0.9718845579025919, 0.9594765209574613, 0.9593348957335686, 0.49530698762846725, 0.8754645035149788, 0.09727383372388654, 0.8083459619443681, 0.12763357293858443, 0.9574575718310349, 0.8656585397827562, 0.8899576976856042, 0.8973692850098371, 0.09701289567673915, 0.9374605042281543, 0.9896512668067807, 0.7890306641929385, 0.9605897993731372, 0.8210634722019764, 0.8063119412461592, 0.9701587887893129, 0.9860891645501281, 0.2207936348723117, 0.717579313335013, 0.9515764013810298, 0.9712410462869893, 0.869349108065757, 0.9698338599355184, 0.7903815424075217, 0.9623990326527465, 0.9876457638305028, 0.8114188563707708, 0.8385912868750581, 0.9809149252011653, 0.9751078790772557, 0.8329495710382285, 0.6738740102917684, 0.911409117743791, 0.9044730463045848, 0.9843499182911172, 0.8868228881704836, 0.899359542684749, 0.6258837944503102, 0.9959510113090061, 0.8361077173994189, 0.5953210566268893, 0.4585379961724609, 0.24133578745918993, 0.2654693662051089, 0.024133578745918993, 0.8417496097141504, 0.7183924787760088, 0.9319985336292118, 0.8244891145953717, 0.7920347974273421, 0.8892655099686271, 0.8452727479758737, 0.3317654190895144, 0.3317654190895144, 0.9732857233733159, 0.9423113542603231, 0.9611968438592692, 0.7704446128665785, 0.9865371611498048, 0.9750160749982743, 0.9729233002523421, 0.9531817293720483, 0.8928951974635733, 0.9512812130091179, 0.9308360249000671, 0.7269473236495991, 0.2658240213345549, 0.7704446128665785, 0.958826404431996, 0.7973029895190548, 0.9914634241165516, 0.5569003897096177, 0.4176752922822133, 0.9337303232943482, 0.957236983167526, 0.9639338076093178, 0.9698338599355184, 0.9852145846309944, 0.9587505254765155, 0.9525577895924353, 0.9440915162609922, 0.9716828462107377, 0.9924754157306193, 0.9295947776249026, 0.6869966750867579, 0.9541900031583064, 0.9716031652763664, 0.9092523905072688, 0.2162445704086198, 0.7568559964301693, 0.8765107607652097, 0.9795979407987723, 0.9555076655671452, 0.890617728422888, 0.6040165719230733, 0.9394313352247138, 0.8690719716076322, 0.9818852403230678, 0.7818410277475306, 0.9627813946056626, 0.9498482882836249, 0.9183147926874476, 0.8801197585906831, 0.8953196299753386, 0.9110150644354446, 0.9238026004759842, 0.9616528985514785, 0.833022123948135, 0.8353950953615793, 0.8641612298307844, 0.9387907163261117, 0.7876473112424248, 0.9122089015708785, 0.7815790687204407, 0.9872099140836387, 0.8268746447205236, 0.9215884090665805, 0.977378503175198, 0.9857210268444919, 0.9295947776249026, 0.8524306466293848, 0.8804305637262426, 0.8331121397134215, 0.08106130370363224, 0.9051845580238933, 0.9668085343588895, 0.9295947776249026, 0.7072416807068321, 0.9787534614789636, 0.8226256964280722, 0.9248954304404805, 0.5263941565231466, 0.9911579888462094, 0.7963523332678942, 0.7930592267871112, 0.9581753097602159, 0.8669628271572776, 0.9517641639534964, 0.8537589288967468, 0.960401873712051, 0.7496209071293708, 0.9551884228084581, 0.975766080935616, 0.9577448992747528, 0.8278175591967726, 0.16556351183935453, 0.9576151406569252, 0.7183924787760088, 0.9148589859928004, 0.8699822107338725, 0.7836911443736441, 0.957647076405241, 0.9198526186742909, 0.9501305044946752, 0.9361163110800004, 0.9112097933074904, 0.9780927016232808, 0.9077535015531563, 0.9810782713229808, 0.9891468225569391, 0.9782690981626193, 0.8839399821165657, 0.9175421630185531, 0.8524306466293848, 0.9221037057261527, 0.8334774368135048, 0.9388684624455489, 0.9638606469172114, 0.9171603825639034, 0.9458986646396702, 0.7036800282332126, 0.9457171038892075, 0.9529061972545673, 0.849961857275156, 0.770692629448811, 0.7807985825204515, 0.9882556028932513, 0.9753272838277933, 0.9113115906091027, 0.789141349381904, 0.9527719961604694, 0.45941469592282586, 0.5168415329131791, 0.9929482690039915, 0.9494190655282353, 0.8757105182252551, 0.9689136558382475, 0.9580974752313188, 0.8400999541732844, 0.8534929871246777, 0.9626110431742917, 0.8704990415750431, 0.9517285900555318, 0.8942397123741823, 0.7477209859820143, 0.9849770787916271, 0.9531482074805675, 0.9571272918186943, 0.9167389418275257, 0.9287540055991786, 0.6394850481240056, 0.964623111890806, 0.80979767409869, 0.8687477384367096, 0.8488429136476969, 0.9377520250090621, 0.7052963943652355, 0.7979576147227232, 0.7704446639807071, 0.556025713878908, 0.4324644441280395, 0.6972985220939137, 0.9905756873874231, 0.9425346035898433, 0.7682210028721984, 0.27867176630605883, 0.5573435326121177, 0.7160010370841879, 0.2704892806762488, 0.9659413928565429, 0.3246263847398413, 0.6492527694796826, 0.8394262644609338, 0.9633022227034782, 0.728409620450247, 0.8996334103717554, 0.9890217104944972, 0.9838603424866625, 0.992009907261348, 0.857063850602261, 0.11821570353134635, 0.9517579373792738, 0.9025664242842178, 0.9688391067954853, 0.8871433594055811, 0.8841274726670578, 0.8690151914896148, 0.9415629175478241, 0.9727925163698912, 0.8759870892994434, 0.9798236195902235, 0.9299583921710971, 0.8967060456774404, 0.9712055294593032, 0.9443663164924424, 0.9292130352460287, 0.9787285557429173, 0.9308475124973682, 0.7704446639807071, 0.9778173728622939, 0.24206340926189804, 0.7261902277856941, 0.910986816879623, 0.9374359775700482, 0.9785125530128208, 0.8993329668281891, 0.9196238989924713, 0.8997077176903397, 0.9372250477650441, 0.945967546209237, 0.903390389369341, 0.91208690784057, 0.27755939854377454, 0.7054634712987603, 0.9544423453478427, 0.037576470289285145, 0.9779925499763058, 0.9215042041016929, 0.9308579258071823, 0.8158203299664657, 0.9675522431538967, 0.87883083737992, 0.9249077195857931, 0.9934450068539636, 0.833358868133302, 0.15351347570876614, 0.9178577932275189, 0.7183924787760088, 0.9707577986161333, 0.8650227048237592, 0.789141349381904, 0.8490687056803891, 0.885866641340819, 0.8545175458995729, 0.31966602167156866, 0.6773875221135621, 0.9740751565535597, 0.8654414030214851, 0.962689481177226, 0.9599911876922718, 0.44737684258569643, 0.5032989479089085, 0.9113890376394244, 0.756396909253795, 0.9487555648692383, 0.9521787137544979, 0.9931516866943826, 0.9207401008699575, 0.28093450539856946, 0.6822695131108115, 0.439787285320005, 0.5130851662066724, 0.9816399797394968, 0.9813551477133953, 0.91480895622445, 0.8696807330988809, 0.10112566663940475, 0.8807020638021335, 0.9498035723497104, 0.6941524947256332, 0.9320312502689706, 0.9176634093681606, 0.7630442663589132, 0.8900541355189476, 0.9713081199168064, 0.3150251101439202, 0.652552013869549, 0.8089897230937164, 0.922585741442178, 0.803654512167946, 0.4844368845348865, 0.7122904212986505, 0.9011035647099765, 0.9083538367305934, 0.8229240563570502, 0.13449297660055615, 0.22415496100092694, 0.4258944259017612, 0.10086973245041712, 0.056038740250231735, 0.056038740250231735, 0.13010983434229217, 0.8619776525176857, 0.9398355649045486, 0.8485171147499696, 0.9371157973497183, 0.9300476550209162, 0.9717333623411806, 0.8985250819413897, 0.94086772414647, 0.9972115005277549, 0.9726706359850847, 0.9856597158818547, 0.894981136682778, 0.9752921450690861, 0.8954020705117259, 0.9339599394486865, 0.8144953377956812, 0.8219207266571458, 0.8748080422288853, 0.1166410722971847, 0.9463576948992165, 0.9586077536644997, 0.9737479994096039, 0.7267266398023374, 0.9379702063946069, 0.9767239953235327, 0.7613138399702468, 0.25176998158975833, 0.7324217646247516, 0.8205804581720045, 0.9373527145927807, 0.9353421715306138, 0.9877333313054378, 0.9931578791623942, 0.9394576215370454, 0.9290312074385145, 0.8857703196964598, 0.9677556661979168, 0.9560754571014071, 0.9823677668593809, 0.8972006526701765, 0.939004862084197, 0.9148589859928004, 0.8956298341043788, 0.9713821322049604, 0.9509102170442585, 0.9861207634199732, 0.399057159837251, 0.5985857397558765, 0.9362936492284548, 0.7183924787760088, 0.9776297428474428, 0.9475676069198321, 0.7810823301823355, 0.9561844819299323, 0.859174059742607, 0.7183924787760088, 0.9488435230833259, 0.912798104145922, 0.41075180839895725, 0.5647837365485663, 0.816676745688347, 0.8802142368867518, 0.9327146258121514, 0.9220303715019409, 0.9796363801526731, 0.9862027339144903, 0.9388878916822628, 0.36546953683994426, 0.5938879973649094, 0.8998783669053019, 0.7198657874785466, 0.26521371117630665, 0.7667560855152856, 0.9460787866533055, 0.6944571482380335, 0.20730064126508463, 0.09328528856928808, 0.9178577932275189, 0.9806291219012693, 0.9783048593571865, 0.9029869376014084, 0.9335495654596685, 0.45048155079896, 0.5255618092654534, 0.9789966834732424, 0.9689372313891077, 0.8495640016926602, 0.9464875302943927, 0.9473223240908245, 0.9538675279914997, 0.9831493018980808, 0.9244545763815052, 0.9063291466128639, 0.8300959933748759, 0.5896941478663751, 0.8883043184460073, 0.9687716156840699, 0.19023796819602704, 0.6816860527024302, 0.12682531213068468, 0.6761968157938578, 0.19319909022681653, 0.918124933595285, 0.7865616440903914, 0.9104450889555423, 0.9207451891580026, 0.933876599981898, 0.9530367640031854, 0.9595621979015511, 0.9228078850853114, 0.7704446639807071, 0.8852444476390263, 0.9435053639377524, 0.8921166918114016, 0.9001006914700549, 0.06207590975655551, 0.9507694746753348, 0.9176694773635623, 0.9657618424113782, 0.9832997278579121, 0.9084674146019642, 0.8903857667875303, 0.9021976670940702, 0.941727406480734, 0.4381480232583353, 0.7954610815035899, 0.9858645845909263, 0.9474840869766262, 0.9835604663591075, 0.8201693237545745, 0.8662295473339479, 0.9456913002467223, 0.9389198183501317, 0.9938589921330043, 0.9185183538145777, 0.9378776699226952, 0.9845913056676717, 0.9199374916565727, 0.85008459521029, 0.851788014068787, 0.9191810836383275, 0.87883083737992, 0.7805661193488023, 0.9311990179502844, 0.7796368382134539, 0.8316556671654751, 0.8439828274157533, 0.694671255833116, 0.8092265786893896, 0.8868887042546875, 0.9487779915547653, 0.9918833155845148, 0.8696470490614491, 0.9302250958917924, 0.897231409378931, 0.9572917594572992, 0.9681652903369458, 0.8869404837382951, 0.10572286559714562, 0.8880720710160233, 0.7623593715436839, 0.8454924408035503, 0.6909808173515886, 0.8608357682838047, 0.9377285253155773, 0.3861363873433766, 0.08580808607630591, 0.2745858754441789, 0.16303536354498122, 0.08580808607630591, 0.9930337203410866, 0.9653829456516563, 0.9546120732890135, 0.7551535392055656, 0.749914071459028, 0.9825241213932516, 0.9687138299774347, 0.8994683506848368, 0.8596472802117548, 0.9165928312324836, 0.941209693895056, 0.9414350158925953, 0.6040164807387364, 0.9782873664276155, 0.9356544826421284, 0.9369839275783846, 0.9431287454868937, 0.9168058486063121, 0.7101204318837392, 0.7357872708088445, 0.9821394548643114, 0.8673358980053049, 0.9199118058140686, 0.07418643595274747, 0.6847916423809212, 0.9876073056236062, 0.9679982340222684, 0.9888219953636481, 0.9635353560990259, 0.7098679155400611, 0.8899381735029737, 0.9785779442010846, 0.24159849295376898, 0.7420525140722904, 0.9971381538957885, 0.9668468778716204, 0.923611030541131, 0.8537495881988356, 0.1741094954998464, 0.2346693200215321, 0.5904582890864356, 0.939903463726008, 0.8197424129571116, 0.17410458328292636, 0.9240813738588637, 0.9527719961604694, 0.9555327204854326, 0.9631502019284274, 0.757464654084644, 0.8544270897024012, 0.8976367793236553, 0.9339576771060383, 0.7704446128665785, 0.9189999257480419, 0.9771537643602339, 0.9511057078357594, 0.9890043427923573, 0.7299767837384636, 0.9651572661675661, 0.9245061349422814, 0.883697424127355, 0.8810995792861189, 0.7684108452620398, 0.9459543588113275, 0.9835122419607668, 0.9030645804195535, 0.8469999594501755, 0.7871194656438674, 0.9764636274123046, 0.9551256353503089, 0.10163674647912538, 0.3430240193670482, 0.5526498089802443, 0.7236464608601125, 0.9845915203220648, 0.9919104472816073, 0.635140677385012], \"Term\": [\"ability\", \"able\", \"above\", \"absence\", \"absolute\", \"abstain\", \"abstinence\", \"accept\", \"acceptable\", \"accessible\", \"accord\", \"accordance\", \"accurately\", \"acquisition\", \"active\", \"activity\", \"adenocarcinoma\", \"adequate\", \"adequate\", \"adjuvant\", \"administration\", \"adult\", \"advanced\", \"affiliate\", \"age\", \"aged\", \"agent\", \"agonist\", \"agree\", \"agreement\", \"ai\", \"alanine\", \"alkaline\", \"allocate\", \"allow\", \"allow\", \"alone\", \"alp\", \"also\", \"alt\", \"amenable\", \"amenorrhea\", \"american\", \"amplification\", \"amplify\", \"analysis\", \"anamnesis\", \"anthracycline\", \"anti\", \"anticoagulant\", \"appropriate\", \"aromatase\", \"as\", \"asco\", \"aspartate\", \"aspiration\", \"assess\", \"assessment\", \"ast\", \"at\", \"availability\", \"available\", \"average\", \"avoid\", \"axilla\", \"axillary\", \"barrier\", \"base\", \"baseline\", \"bear\", \"become\", \"bilateral\", \"bilirubin\", \"biologic\", \"biopsy\", \"birth\", \"bisphosphonate\", \"block\", \"blood\", \"bone\", \"brain\", \"breast\", \"calculate\", \"cancer\", \"candidate\", \"cap\", \"capable\", \"carcinoma\", \"cardiac\", \"cardiovascular\", \"care\", \"case\", \"cause\", \"cavity\", \"cell\", \"center\", \"certificate\", \"chance\", \"chemotherapy\", \"chest\", \"child\", \"childbeare\", \"chronic\", \"classification\", \"clear\", \"clearance\", \"clinical\", \"clinical\", \"clinically\", \"clip\", \"close\", \"cm\", \"coagulation\", \"cohort\", \"come\", \"complete\", \"complete\", \"completion\", \"completion\", \"comply\", \"condition\", \"condom\", \"confirm\", \"confirm\", \"confirmation\", \"consent\", \"conservation\", \"consider\", \"consumption\", \"continuation\", \"continue\", \"contraception\", \"contraceptive\", \"contraceptive\", \"contralateral\", \"control\", \"conventional\", \"cooperative\", \"copy\", \"core\", \"count\", \"course\", \"cover\", \"creatinine\", \"criterion\", \"ctcae\", \"cure\", \"currently\", \"cycle\", \"cytologically\", \"cytology\", \"date\", \"datum\", \"day\", \"dcis\", \"deceased\", \"define\", \"define\", \"define\", \"define\", \"degree\", \"deliver\", \"demonstrate\", \"department\", \"describe\", \"detail\", \"detect\", \"determination\", \"determination\", \"determine\", \"develop\", \"device\", \"diabetes\", \"diagnose\", \"diagnosis\", \"diagnostic\", \"diameter\", \"dimension\", \"direct\", \"discontinue\", \"disease\", \"disease\", \"diseased\", \"dissection\", \"distant\", \"document\", \"dose\", \"dose\", \"drug\", \"ductal\", \"duration\", \"eastern\", \"ecog\", \"effective\", \"ejection\", \"elapse\", \"eligibility\", \"eligible\", \"embed\", \"encompass\", \"end\", \"endocrine\", \"enrol\", \"enrollment\", \"enrollment\", \"enter\", \"entry\", \"epidermal\", \"equal\", \"eribulin\", \"estrogen\", \"evaluable\", \"evaluation\", \"event\", \"evidence\", \"exam\", \"examination\", \"example\", \"exceed\", \"exclusion\", \"expect\", \"expectancy\", \"experimental\", \"express\", \"expression\", \"factor\", \"failure\", \"family\", \"fast\", \"female\", \"final\", \"find\", \"first\", \"fish\", \"fix\", \"flash\", \"focus\", \"follicle\", \"follow\", \"follow\", \"form\", \"formalin\", \"formula\", \"fraction\", \"free\", \"french\", \"fulfill\", \"function\", \"functional\", \"gault\", \"gene\", \"gfr\", \"give\", \"good\", \"grade\", \"granulocyte\", \"great\", \"group\", \"growth\", \"guideline\", \"guideline\", \"have\", \"healthcare\", \"healthy\", \"hematologic\", \"hematological\", \"hemoglobin\", \"hepatic\", \"high\", \"highly\", \"histological\", \"histologically\", \"histology\", \"history\", \"hormonal\", \"hormone\", \"hormonotherapy\", \"hospital\", \"hot\", \"hour\", \"however\", \"hr\", \"human\", \"hybridization\", \"hysterectomy\", \"icf\", \"identify\", \"imaging\", \"immediately\", \"immunologically\", \"immunotherapy\", \"include\", \"inclusion\", \"indicate\", \"infarction\", \"infection\", \"inform\", \"inform\", \"informed\", \"inhibitor\", \"initial\", \"initiate\", \"initiation\", \"inpatient\", \"institution\", \"institutional\", \"intact\", \"international\", \"intrauterine\", \"intravenous\", \"invasive\", \"investigational\", \"investigator\", \"involvement\", \"ipsilateral\", \"ish\", \"iv\", \"kidney\", \"know\", \"knowledge\", \"laboratory\", \"lack\", \"lactate\", \"lactation\", \"last\", \"last\", \"later\", \"least\", \"leave\", \"legal\", \"leptomeningeal\", \"leptomeningeal\", \"lesion\", \"lesion\", \"less\", \"level\", \"level\", \"lhrh\", \"life\", \"lifestyle\", \"ligation\", \"limit\", \"line\", \"liver\", \"local\", \"local\", \"locally\", \"location\", \"long\", \"low\", \"lumpectomy\", \"luteinizing\", \"lvef\", \"lymph\", \"major\", \"male\", \"malignancy\", \"mammogram\", \"mammography\", \"man\", \"margin\", \"marrow\", \"mass\", \"mastitis\", \"measurable\", \"measure\", \"measure\", \"measurement\", \"medical\", \"medication\", \"medicine\", \"meet\", \"member\", \"menopausal\", \"menopause\", \"mense\", \"menstrual\", \"metastasis\", \"metastasis\", \"metastatic\", \"metastatic\", \"method\", \"min\", \"minimum\", \"ml\", \"mm\", \"monitor\", \"monotherapy\", \"month\", \"more\", \"more\", \"most\", \"motivation\", \"mri\", \"mutation\", \"myocardial\", \"nature\", \"necessary\", \"needle\", \"negative\", \"negative\", \"neoadjuvant\", \"neuropathy\", \"neutrophil\", \"new\", \"newly\", \"newly\", \"no\", \"nod\", \"node\", \"non\", \"normal\", \"normalized\", \"note\", \"note\", \"number\", \"number\", \"obtain\", \"old\", \"oncologist\", \"oncology\", \"oncology\", \"ongoing\", \"only\", \"onset\", \"oophorectomy\", \"operative\", \"opinion\", \"oral\", \"organ\", \"other\", \"other\", \"outline\", \"ovarian\", \"ovary\", \"overexpresse\", \"palbociclib\", \"palpable\", \"paraffin\", \"part\", \"participant\", \"participant\", \"participant\", \"participant\", \"participant\", \"participant\", \"participate\", \"participate\", \"participation\", \"partner\", \"past\", \"pathologic\", \"pathological\", \"pathologically\", \"pathology\", \"patient\", \"perform\", \"performance\", \"perimenopausal\", \"period\", \"peripheral\", \"permit\", \"personal\", \"pertuzumab\", \"phase\", \"phase\", \"phosphatase\", \"physical\", \"physician\", \"pk\", \"plan\", \"platelet\", \"plt\", \"positive\", \"positive\", \"positivity\", \"possible\", \"post\", \"postmenopausal\", \"potential\", \"pr\", \"practice\", \"preferred\", \"pregnancy\", \"pregnant\", \"premenopausal\", \"presence\", \"present\", \"presumably\", \"pretreatment\", \"previous\", \"previously\", \"primary\", \"prior\", \"prior\", \"procedure\", \"professional\", \"progesterone\", \"program\", \"progress\", \"progression\", \"progressive\", \"propose\", \"protocol\", \"prove\", \"provide\", \"provide\", \"provision\", \"ptt\", \"purpose\", \"questionnaire\", \"radiation\", \"radiotherapy\", \"randomization\", \"range\", \"range\", \"rate\", \"ratio\", \"ratio\", \"ray\", \"read\", \"receive\", \"receive\", \"receive\", \"recent\", \"receptor\", \"recist\", \"recommend\", \"record\", \"recover\", \"recover\", \"recurrence\", \"recurrent\", \"refer\", \"regiman\", \"regime\", \"regimen\", \"registration\", \"relate\", \"relative\", \"release\", \"relevant\", \"remain\", \"renal\", \"require\", \"require\", \"require\", \"requirement\", \"requirement\", \"research\", \"resectable\", \"resection\", \"reserve\", \"response\", \"result\", \"risk\", \"routine\", \"rule\", \"safely\", \"safety\", \"same\", \"sample\", \"sample\", \"scan\", \"schedule\", \"score\", \"screen\", \"screening\", \"section\", \"security\", \"see\", \"select\", \"sentinel\", \"serum\", \"set\", \"setting\", \"sexually\", \"sgot\", \"sgpt\", \"show\", \"sign\", \"significant\", \"site\", \"situ\", \"size\", \"skin\", \"small\", \"social\", \"sorafenib\", \"speak\", \"specific\", \"specify\", \"speciman\", \"spermicidal\", \"spontaneous\", \"sport\", \"srs\", \"stable\", \"stage\", \"staging\", \"stain\", \"staining\", \"standard\", \"start\", \"state\", \"status\", \"status\", \"sterile\", \"sterilization\", \"sterilize\", \"stimulate\", \"stop\", \"study\", \"study\", \"study\", \"study\", \"study\", \"subject\", \"subtype\", \"such\", \"suitable\", \"surgeon\", \"surgery\", \"surgical\", \"surgically\", \"survival\", \"suspect\", \"symptom\", \"syndrome\", \"systematic\", \"systemic\", \"take\", \"tamoxifen\", \"target\", \"taxane\", \"tbil\", \"technique\", \"test\", \"testing\", \"therapy\", \"therapy\", \"third\", \"time\", \"tissue\", \"total\", \"toxicity\", \"transaminase\", \"transfusion\", \"trastuzumab\", \"treat\", \"treat\", \"treatment\", \"trial\", \"triple\", \"tubal\", \"tumor\", \"tumor\", \"tumor\", \"tumour\", \"uln\", \"uln\", \"ultrasound\", \"uncontrolle\", \"undergo\", \"understand\", \"understanding\", \"unifocal\", \"unl\", \"unresectable\", \"unstable\", \"up\", \"upper\", \"urine\", \"use\", \"vaccine\", \"value\", \"ventricular\", \"version\", \"visit\", \"voluntarily\", \"warfarin\", \"week\", \"weekly\", \"weight\", \"white\", \"willing\", \"willingness\", \"woman\", \"woman\", \"woman\", \"work\", \"write\", \"year\", \"yr\"]}, \"R\": 20, \"lambda.step\": 0.01, \"plot.opts\": {\"xlab\": \"PC1\", \"ylab\": \"PC2\"}, \"topic.order\": [5, 20, 13, 23, 25, 29, 10, 15, 16, 7, 17, 6, 12, 24, 1, 18, 26, 3, 28, 19, 27, 9, 21, 4, 22, 30, 14, 2, 8, 11]};\n",
              "\n",
              "function LDAvis_load_lib(url, callback){\n",
              "  var s = document.createElement('script');\n",
              "  s.src = url;\n",
              "  s.async = true;\n",
              "  s.onreadystatechange = s.onload = callback;\n",
              "  s.onerror = function(){console.warn(\"failed to load library \" + url);};\n",
              "  document.getElementsByTagName(\"head\")[0].appendChild(s);\n",
              "}\n",
              "\n",
              "if(typeof(LDAvis) !== \"undefined\"){\n",
              "   // already loaded: just create the visualization\n",
              "   !function(LDAvis){\n",
              "       new LDAvis(\"#\" + \"ldavis_el751396550110628645951898766\", ldavis_el751396550110628645951898766_data);\n",
              "   }(LDAvis);\n",
              "}else if(typeof define === \"function\" && define.amd){\n",
              "   // require.js is available: use it to load d3/LDAvis\n",
              "   require.config({paths: {d3: \"https://d3js.org/d3.v5\"}});\n",
              "   require([\"d3\"], function(d3){\n",
              "      window.d3 = d3;\n",
              "      LDAvis_load_lib(\"https://cdn.jsdelivr.net/gh/bmabey/pyLDAvis@3.3.1/pyLDAvis/js/ldavis.v3.0.0.js\", function(){\n",
              "        new LDAvis(\"#\" + \"ldavis_el751396550110628645951898766\", ldavis_el751396550110628645951898766_data);\n",
              "      });\n",
              "    });\n",
              "}else{\n",
              "    // require.js not available: dynamically load d3 & LDAvis\n",
              "    LDAvis_load_lib(\"https://d3js.org/d3.v5.js\", function(){\n",
              "         LDAvis_load_lib(\"https://cdn.jsdelivr.net/gh/bmabey/pyLDAvis@3.3.1/pyLDAvis/js/ldavis.v3.0.0.js\", function(){\n",
              "                 new LDAvis(\"#\" + \"ldavis_el751396550110628645951898766\", ldavis_el751396550110628645951898766_data);\n",
              "            })\n",
              "         });\n",
              "}\n",
              "</script>"
            ]
          },
          "metadata": {},
          "execution_count": 24
        }
      ]
    },
    {
      "cell_type": "markdown",
      "source": [
        "### Extract all topic descriptions"
      ],
      "metadata": {
        "id": "LNftQSRhFJga"
      }
    },
    {
      "cell_type": "code",
      "source": [
        "#Store topic descriptions in a dictionary\n",
        "topic_dict={'ID': list(), 'Words':list()}\n",
        "\n",
        "for topicid in range(num_topics):\n",
        "  topic_desc=gensim.models.LdaModel.get_topic_terms(lda_model,topicid=topicid,topn=20)\n",
        "  topic_word=[id2word[x[0]] for x in topic_desc]\n",
        "  topic_dict['ID'].append(topicid)\n",
        "  topic_dict['Words'].append(topic_word)"
      ],
      "metadata": {
        "id": "qlnjm3px0GBU"
      },
      "execution_count": 36,
      "outputs": []
    },
    {
      "cell_type": "code",
      "source": [
        "#onvert results to a data frame\n",
        "pd.DataFrame.from_dict(topic_dict)"
      ],
      "metadata": {
        "colab": {
          "base_uri": "https://localhost:8080/",
          "height": 990
        },
        "id": "nfcZeJ4T5b4z",
        "outputId": "afe9e65c-fccd-43e8-d272-726e19b10c5a"
      },
      "execution_count": 77,
      "outputs": [
        {
          "output_type": "execute_result",
          "data": {
            "text/plain": [
              "    ID                                              Words\n",
              "0    0  [study, woman, contraception, undergo, entry, ...\n",
              "1    1  [willing, control, protocol, comply, birth, st...\n",
              "2    2  [platelet, treat, radiation, grade, provide, p...\n",
              "3    3  [history, able, procedure, active, other, rela...\n",
              "4    4  [breast, cancer, confirm, stage, invasive, his...\n",
              "5    5  [least, month, at, trial, life, surgical, expe...\n",
              "6    6  [eligible, creatinine, cell, cytologically, re...\n",
              "7    7  [lymph, node, less, currently, physical, axill...\n",
              "8    8  [negative, positive, receptor, progesterone, h...\n",
              "9    9  [use, potential, childbeare, method, agree, bl...\n",
              "10  10  [count, mm, absolute, neutrophil, post, progra...\n",
              "11  11  [consent, informed, sign, write, document, abi...\n",
              "12  12  [carcinoma, period, neoadjuvant, axillary, tra...\n",
              "13  13  [follow, other, eligibility, family, medical, ...\n",
              "14  14  [function, adequate, test, female, pregnancy, ...\n",
              "15  15  [measurable, total, group, disease, lesion, on...\n",
              "16  16  [biopsy, registration, participant, tissue, tu...\n",
              "17  17  [uln, metastasis, alt, liver, ast, old, phosph...\n",
              "18  18  [year, age, past, examination, adult, menopaus...\n",
              "19  19  [treatment, subject, day, study, prior, perfor...\n",
              "20  20  [woman, mammography, level, pathology, non, eq...\n",
              "21  21  [surgery, radiotherapy, care, schedule, score,...\n",
              "22  22  [patient, receive, week, setting, require, hor...\n",
              "23  23  [time, tumor, primary, cm, great, mri, measure...\n",
              "24  24  [therapy, prior, chemotherapy, adjuvant, inclu...\n",
              "25  25  [progression, determine, continue, fraction, s...\n",
              "26  26  [participate, form, study, institutional, allo...\n",
              "27  27  [normal, limit, criterion, upper, uln, accord,...\n",
              "28  28  [disease, metastatic, hormonal, diagnosis, pre...\n",
              "29  29  [status, performance, ecog, clinically, endocr..."
            ],
            "text/html": [
              "\n",
              "  <div id=\"df-2738bfc6-a6f4-4623-bdb7-f7368b01e02b\">\n",
              "    <div class=\"colab-df-container\">\n",
              "      <div>\n",
              "<style scoped>\n",
              "    .dataframe tbody tr th:only-of-type {\n",
              "        vertical-align: middle;\n",
              "    }\n",
              "\n",
              "    .dataframe tbody tr th {\n",
              "        vertical-align: top;\n",
              "    }\n",
              "\n",
              "    .dataframe thead th {\n",
              "        text-align: right;\n",
              "    }\n",
              "</style>\n",
              "<table border=\"1\" class=\"dataframe\">\n",
              "  <thead>\n",
              "    <tr style=\"text-align: right;\">\n",
              "      <th></th>\n",
              "      <th>ID</th>\n",
              "      <th>Words</th>\n",
              "    </tr>\n",
              "  </thead>\n",
              "  <tbody>\n",
              "    <tr>\n",
              "      <th>0</th>\n",
              "      <td>0</td>\n",
              "      <td>[study, woman, contraception, undergo, entry, ...</td>\n",
              "    </tr>\n",
              "    <tr>\n",
              "      <th>1</th>\n",
              "      <td>1</td>\n",
              "      <td>[willing, control, protocol, comply, birth, st...</td>\n",
              "    </tr>\n",
              "    <tr>\n",
              "      <th>2</th>\n",
              "      <td>2</td>\n",
              "      <td>[platelet, treat, radiation, grade, provide, p...</td>\n",
              "    </tr>\n",
              "    <tr>\n",
              "      <th>3</th>\n",
              "      <td>3</td>\n",
              "      <td>[history, able, procedure, active, other, rela...</td>\n",
              "    </tr>\n",
              "    <tr>\n",
              "      <th>4</th>\n",
              "      <td>4</td>\n",
              "      <td>[breast, cancer, confirm, stage, invasive, his...</td>\n",
              "    </tr>\n",
              "    <tr>\n",
              "      <th>5</th>\n",
              "      <td>5</td>\n",
              "      <td>[least, month, at, trial, life, surgical, expe...</td>\n",
              "    </tr>\n",
              "    <tr>\n",
              "      <th>6</th>\n",
              "      <td>6</td>\n",
              "      <td>[eligible, creatinine, cell, cytologically, re...</td>\n",
              "    </tr>\n",
              "    <tr>\n",
              "      <th>7</th>\n",
              "      <td>7</td>\n",
              "      <td>[lymph, node, less, currently, physical, axill...</td>\n",
              "    </tr>\n",
              "    <tr>\n",
              "      <th>8</th>\n",
              "      <td>8</td>\n",
              "      <td>[negative, positive, receptor, progesterone, h...</td>\n",
              "    </tr>\n",
              "    <tr>\n",
              "      <th>9</th>\n",
              "      <td>9</td>\n",
              "      <td>[use, potential, childbeare, method, agree, bl...</td>\n",
              "    </tr>\n",
              "    <tr>\n",
              "      <th>10</th>\n",
              "      <td>10</td>\n",
              "      <td>[count, mm, absolute, neutrophil, post, progra...</td>\n",
              "    </tr>\n",
              "    <tr>\n",
              "      <th>11</th>\n",
              "      <td>11</td>\n",
              "      <td>[consent, informed, sign, write, document, abi...</td>\n",
              "    </tr>\n",
              "    <tr>\n",
              "      <th>12</th>\n",
              "      <td>12</td>\n",
              "      <td>[carcinoma, period, neoadjuvant, axillary, tra...</td>\n",
              "    </tr>\n",
              "    <tr>\n",
              "      <th>13</th>\n",
              "      <td>13</td>\n",
              "      <td>[follow, other, eligibility, family, medical, ...</td>\n",
              "    </tr>\n",
              "    <tr>\n",
              "      <th>14</th>\n",
              "      <td>14</td>\n",
              "      <td>[function, adequate, test, female, pregnancy, ...</td>\n",
              "    </tr>\n",
              "    <tr>\n",
              "      <th>15</th>\n",
              "      <td>15</td>\n",
              "      <td>[measurable, total, group, disease, lesion, on...</td>\n",
              "    </tr>\n",
              "    <tr>\n",
              "      <th>16</th>\n",
              "      <td>16</td>\n",
              "      <td>[biopsy, registration, participant, tissue, tu...</td>\n",
              "    </tr>\n",
              "    <tr>\n",
              "      <th>17</th>\n",
              "      <td>17</td>\n",
              "      <td>[uln, metastasis, alt, liver, ast, old, phosph...</td>\n",
              "    </tr>\n",
              "    <tr>\n",
              "      <th>18</th>\n",
              "      <td>18</td>\n",
              "      <td>[year, age, past, examination, adult, menopaus...</td>\n",
              "    </tr>\n",
              "    <tr>\n",
              "      <th>19</th>\n",
              "      <td>19</td>\n",
              "      <td>[treatment, subject, day, study, prior, perfor...</td>\n",
              "    </tr>\n",
              "    <tr>\n",
              "      <th>20</th>\n",
              "      <td>20</td>\n",
              "      <td>[woman, mammography, level, pathology, non, eq...</td>\n",
              "    </tr>\n",
              "    <tr>\n",
              "      <th>21</th>\n",
              "      <td>21</td>\n",
              "      <td>[surgery, radiotherapy, care, schedule, score,...</td>\n",
              "    </tr>\n",
              "    <tr>\n",
              "      <th>22</th>\n",
              "      <td>22</td>\n",
              "      <td>[patient, receive, week, setting, require, hor...</td>\n",
              "    </tr>\n",
              "    <tr>\n",
              "      <th>23</th>\n",
              "      <td>23</td>\n",
              "      <td>[time, tumor, primary, cm, great, mri, measure...</td>\n",
              "    </tr>\n",
              "    <tr>\n",
              "      <th>24</th>\n",
              "      <td>24</td>\n",
              "      <td>[therapy, prior, chemotherapy, adjuvant, inclu...</td>\n",
              "    </tr>\n",
              "    <tr>\n",
              "      <th>25</th>\n",
              "      <td>25</td>\n",
              "      <td>[progression, determine, continue, fraction, s...</td>\n",
              "    </tr>\n",
              "    <tr>\n",
              "      <th>26</th>\n",
              "      <td>26</td>\n",
              "      <td>[participate, form, study, institutional, allo...</td>\n",
              "    </tr>\n",
              "    <tr>\n",
              "      <th>27</th>\n",
              "      <td>27</td>\n",
              "      <td>[normal, limit, criterion, upper, uln, accord,...</td>\n",
              "    </tr>\n",
              "    <tr>\n",
              "      <th>28</th>\n",
              "      <td>28</td>\n",
              "      <td>[disease, metastatic, hormonal, diagnosis, pre...</td>\n",
              "    </tr>\n",
              "    <tr>\n",
              "      <th>29</th>\n",
              "      <td>29</td>\n",
              "      <td>[status, performance, ecog, clinically, endocr...</td>\n",
              "    </tr>\n",
              "  </tbody>\n",
              "</table>\n",
              "</div>\n",
              "      <button class=\"colab-df-convert\" onclick=\"convertToInteractive('df-2738bfc6-a6f4-4623-bdb7-f7368b01e02b')\"\n",
              "              title=\"Convert this dataframe to an interactive table.\"\n",
              "              style=\"display:none;\">\n",
              "        \n",
              "  <svg xmlns=\"http://www.w3.org/2000/svg\" height=\"24px\"viewBox=\"0 0 24 24\"\n",
              "       width=\"24px\">\n",
              "    <path d=\"M0 0h24v24H0V0z\" fill=\"none\"/>\n",
              "    <path d=\"M18.56 5.44l.94 2.06.94-2.06 2.06-.94-2.06-.94-.94-2.06-.94 2.06-2.06.94zm-11 1L8.5 8.5l.94-2.06 2.06-.94-2.06-.94L8.5 2.5l-.94 2.06-2.06.94zm10 10l.94 2.06.94-2.06 2.06-.94-2.06-.94-.94-2.06-.94 2.06-2.06.94z\"/><path d=\"M17.41 7.96l-1.37-1.37c-.4-.4-.92-.59-1.43-.59-.52 0-1.04.2-1.43.59L10.3 9.45l-7.72 7.72c-.78.78-.78 2.05 0 2.83L4 21.41c.39.39.9.59 1.41.59.51 0 1.02-.2 1.41-.59l7.78-7.78 2.81-2.81c.8-.78.8-2.07 0-2.86zM5.41 20L4 18.59l7.72-7.72 1.47 1.35L5.41 20z\"/>\n",
              "  </svg>\n",
              "      </button>\n",
              "      \n",
              "  <style>\n",
              "    .colab-df-container {\n",
              "      display:flex;\n",
              "      flex-wrap:wrap;\n",
              "      gap: 12px;\n",
              "    }\n",
              "\n",
              "    .colab-df-convert {\n",
              "      background-color: #E8F0FE;\n",
              "      border: none;\n",
              "      border-radius: 50%;\n",
              "      cursor: pointer;\n",
              "      display: none;\n",
              "      fill: #1967D2;\n",
              "      height: 32px;\n",
              "      padding: 0 0 0 0;\n",
              "      width: 32px;\n",
              "    }\n",
              "\n",
              "    .colab-df-convert:hover {\n",
              "      background-color: #E2EBFA;\n",
              "      box-shadow: 0px 1px 2px rgba(60, 64, 67, 0.3), 0px 1px 3px 1px rgba(60, 64, 67, 0.15);\n",
              "      fill: #174EA6;\n",
              "    }\n",
              "\n",
              "    [theme=dark] .colab-df-convert {\n",
              "      background-color: #3B4455;\n",
              "      fill: #D2E3FC;\n",
              "    }\n",
              "\n",
              "    [theme=dark] .colab-df-convert:hover {\n",
              "      background-color: #434B5C;\n",
              "      box-shadow: 0px 1px 3px 1px rgba(0, 0, 0, 0.15);\n",
              "      filter: drop-shadow(0px 1px 2px rgba(0, 0, 0, 0.3));\n",
              "      fill: #FFFFFF;\n",
              "    }\n",
              "  </style>\n",
              "\n",
              "      <script>\n",
              "        const buttonEl =\n",
              "          document.querySelector('#df-2738bfc6-a6f4-4623-bdb7-f7368b01e02b button.colab-df-convert');\n",
              "        buttonEl.style.display =\n",
              "          google.colab.kernel.accessAllowed ? 'block' : 'none';\n",
              "\n",
              "        async function convertToInteractive(key) {\n",
              "          const element = document.querySelector('#df-2738bfc6-a6f4-4623-bdb7-f7368b01e02b');\n",
              "          const dataTable =\n",
              "            await google.colab.kernel.invokeFunction('convertToInteractive',\n",
              "                                                     [key], {});\n",
              "          if (!dataTable) return;\n",
              "\n",
              "          const docLinkHtml = 'Like what you see? Visit the ' +\n",
              "            '<a target=\"_blank\" href=https://colab.research.google.com/notebooks/data_table.ipynb>data table notebook</a>'\n",
              "            + ' to learn more about interactive tables.';\n",
              "          element.innerHTML = '';\n",
              "          dataTable['output_type'] = 'display_data';\n",
              "          await google.colab.output.renderOutput(dataTable, element);\n",
              "          const docLink = document.createElement('div');\n",
              "          docLink.innerHTML = docLinkHtml;\n",
              "          element.appendChild(docLink);\n",
              "        }\n",
              "      </script>\n",
              "    </div>\n",
              "  </div>\n",
              "  "
            ]
          },
          "metadata": {},
          "execution_count": 77
        }
      ]
    },
    {
      "cell_type": "markdown",
      "source": [
        "Demonstration of function `get_topic_terms` <br>\n",
        "Return a list of (word_id, probability) 2-tuples for the most probable words in topic topicid.\n",
        "\n",
        "Only return 2-tuples for the topn most probable words.\n"
      ],
      "metadata": {
        "id": "wwBMCwxjDCT4"
      }
    },
    {
      "cell_type": "code",
      "source": [
        "print('Topic description of 1st topic with top 20 words\\n ',gensim.models.LdaModel.get_topic_terms(lda_model,topicid=1,topn=20))"
      ],
      "metadata": {
        "colab": {
          "base_uri": "https://localhost:8080/"
        },
        "id": "uKG3fUxLDBP4",
        "outputId": "e425a4ef-553f-4441-f1ff-1ee0cde4d2ce"
      },
      "execution_count": 79,
      "outputs": [
        {
          "output_type": "stream",
          "name": "stdout",
          "text": [
            "Topic description of 1st topic with top 20 words\n",
            "  [(262, 0.12935804), (293, 0.10291982), (321, 0.07453537), (528, 0.067721136), (354, 0.062605284), (89, 0.05939475), (319, 0.058500625), (363, 0.029915432), (1913, 0.029367482), (1912, 0.029367482), (318, 0.023051871), (247, 0.016041677), (357, 0.015150953), (361, 0.012715697), (597, 0.012375045), (356, 0.011786299), (337, 0.010371798), (362, 0.010063686), (94, 0.009644796), (1772, 0.009384186)]\n"
          ]
        }
      ]
    },
    {
      "cell_type": "markdown",
      "source": [
        "Note that, each word is a word_id and the actual word needs to be extracted from id2word dictionary"
      ],
      "metadata": {
        "id": "OEnvpu9PE78K"
      }
    },
    {
      "cell_type": "markdown",
      "source": [
        "### Identify top 3 topic for each inclusion criteria"
      ],
      "metadata": {
        "id": "rHtzf1h6FSYv"
      }
    },
    {
      "cell_type": "code",
      "source": [
        "# Top 3 topics for each inclusion criteria\n",
        "top1=list()\n",
        "top2=list()\n",
        "top3=list()\n",
        "\n",
        "for bow in corpus:\n",
        "  topic_dist = gensim.models.LdaModel.get_document_topics(lda_model,bow=bow,minimum_probability=1e-3)\n",
        "  # Sorted by probability of topic \n",
        "  topic_dist= sorted(topic_dist,key=lambda tup: tup[1],reverse=True)\n",
        "  top1.append(topic_dist[0])\n",
        "  top2.append(topic_dist[1])\n",
        "  top3.append(topic_dist[2])\n"
      ],
      "metadata": {
        "id": "qR3TVTJkAH_-"
      },
      "execution_count": 73,
      "outputs": []
    },
    {
      "cell_type": "markdown",
      "source": [
        "Note that, `get_document_topics` provides list of topics (topic_id, probability) that are higher than minimum_probability threshold"
      ],
      "metadata": {
        "id": "W6QeV_NBFh6m"
      }
    },
    {
      "cell_type": "code",
      "source": [
        "# store in a data frame\n",
        "topic_df= pd.DataFrame(zip(top1, top2, top3), columns=['Topic1','Topic2', 'Topic3'])"
      ],
      "metadata": {
        "id": "JxDmj7J9BgLn"
      },
      "execution_count": 74,
      "outputs": []
    },
    {
      "cell_type": "code",
      "source": [
        "# merge with original inclusion criteria file\n",
        "lda_bc_result = bc_incl.join(topic_df)"
      ],
      "metadata": {
        "id": "anlDeNHuCJHv"
      },
      "execution_count": 75,
      "outputs": []
    },
    {
      "cell_type": "code",
      "source": [
        "lda_bc_result.head()"
      ],
      "metadata": {
        "colab": {
          "base_uri": "https://localhost:8080/",
          "height": 250
        },
        "id": "zrrt406kCWDF",
        "outputId": "9f26990d-e4b1-49d9-994d-a7f9ff65df06"
      },
      "execution_count": 76,
      "outputs": [
        {
          "output_type": "execute_result",
          "data": {
            "text/plain": [
              "      Trial_ID                                          Incl_crit  \\\n",
              "0  NCT05376241                                             Female   \n",
              "1  NCT05376241                         Between 39-49 years of age   \n",
              "2  NCT05376241                        No history of breast cancer   \n",
              "3  NCT05376241                         No known BRCA 1/2 mutation   \n",
              "4  NCT05600257  individuals were diagnosed with breast cancer ...   \n",
              "\n",
              "             Topic1             Topic2             Topic3  \n",
              "0  (14, 0.22667772)   (22, 0.05178042)   (4, 0.050488904)  \n",
              "1   (18, 0.3489918)  (22, 0.043348685)   (4, 0.042267475)  \n",
              "2   (4, 0.31641614)    (3, 0.15250365)  (22, 0.037278406)  \n",
              "3  (22, 0.45737976)   (4, 0.036348604)  (19, 0.034764476)  \n",
              "4  (27, 0.38971403)    (4, 0.24804328)  (28, 0.092094205)  "
            ],
            "text/html": [
              "\n",
              "  <div id=\"df-d4bfe6ce-4a8c-4cec-9fe6-fcc0044ed336\">\n",
              "    <div class=\"colab-df-container\">\n",
              "      <div>\n",
              "<style scoped>\n",
              "    .dataframe tbody tr th:only-of-type {\n",
              "        vertical-align: middle;\n",
              "    }\n",
              "\n",
              "    .dataframe tbody tr th {\n",
              "        vertical-align: top;\n",
              "    }\n",
              "\n",
              "    .dataframe thead th {\n",
              "        text-align: right;\n",
              "    }\n",
              "</style>\n",
              "<table border=\"1\" class=\"dataframe\">\n",
              "  <thead>\n",
              "    <tr style=\"text-align: right;\">\n",
              "      <th></th>\n",
              "      <th>Trial_ID</th>\n",
              "      <th>Incl_crit</th>\n",
              "      <th>Topic1</th>\n",
              "      <th>Topic2</th>\n",
              "      <th>Topic3</th>\n",
              "    </tr>\n",
              "  </thead>\n",
              "  <tbody>\n",
              "    <tr>\n",
              "      <th>0</th>\n",
              "      <td>NCT05376241</td>\n",
              "      <td>Female</td>\n",
              "      <td>(14, 0.22667772)</td>\n",
              "      <td>(22, 0.05178042)</td>\n",
              "      <td>(4, 0.050488904)</td>\n",
              "    </tr>\n",
              "    <tr>\n",
              "      <th>1</th>\n",
              "      <td>NCT05376241</td>\n",
              "      <td>Between 39-49 years of age</td>\n",
              "      <td>(18, 0.3489918)</td>\n",
              "      <td>(22, 0.043348685)</td>\n",
              "      <td>(4, 0.042267475)</td>\n",
              "    </tr>\n",
              "    <tr>\n",
              "      <th>2</th>\n",
              "      <td>NCT05376241</td>\n",
              "      <td>No history of breast cancer</td>\n",
              "      <td>(4, 0.31641614)</td>\n",
              "      <td>(3, 0.15250365)</td>\n",
              "      <td>(22, 0.037278406)</td>\n",
              "    </tr>\n",
              "    <tr>\n",
              "      <th>3</th>\n",
              "      <td>NCT05376241</td>\n",
              "      <td>No known BRCA 1/2 mutation</td>\n",
              "      <td>(22, 0.45737976)</td>\n",
              "      <td>(4, 0.036348604)</td>\n",
              "      <td>(19, 0.034764476)</td>\n",
              "    </tr>\n",
              "    <tr>\n",
              "      <th>4</th>\n",
              "      <td>NCT05600257</td>\n",
              "      <td>individuals were diagnosed with breast cancer ...</td>\n",
              "      <td>(27, 0.38971403)</td>\n",
              "      <td>(4, 0.24804328)</td>\n",
              "      <td>(28, 0.092094205)</td>\n",
              "    </tr>\n",
              "  </tbody>\n",
              "</table>\n",
              "</div>\n",
              "      <button class=\"colab-df-convert\" onclick=\"convertToInteractive('df-d4bfe6ce-4a8c-4cec-9fe6-fcc0044ed336')\"\n",
              "              title=\"Convert this dataframe to an interactive table.\"\n",
              "              style=\"display:none;\">\n",
              "        \n",
              "  <svg xmlns=\"http://www.w3.org/2000/svg\" height=\"24px\"viewBox=\"0 0 24 24\"\n",
              "       width=\"24px\">\n",
              "    <path d=\"M0 0h24v24H0V0z\" fill=\"none\"/>\n",
              "    <path d=\"M18.56 5.44l.94 2.06.94-2.06 2.06-.94-2.06-.94-.94-2.06-.94 2.06-2.06.94zm-11 1L8.5 8.5l.94-2.06 2.06-.94-2.06-.94L8.5 2.5l-.94 2.06-2.06.94zm10 10l.94 2.06.94-2.06 2.06-.94-2.06-.94-.94-2.06-.94 2.06-2.06.94z\"/><path d=\"M17.41 7.96l-1.37-1.37c-.4-.4-.92-.59-1.43-.59-.52 0-1.04.2-1.43.59L10.3 9.45l-7.72 7.72c-.78.78-.78 2.05 0 2.83L4 21.41c.39.39.9.59 1.41.59.51 0 1.02-.2 1.41-.59l7.78-7.78 2.81-2.81c.8-.78.8-2.07 0-2.86zM5.41 20L4 18.59l7.72-7.72 1.47 1.35L5.41 20z\"/>\n",
              "  </svg>\n",
              "      </button>\n",
              "      \n",
              "  <style>\n",
              "    .colab-df-container {\n",
              "      display:flex;\n",
              "      flex-wrap:wrap;\n",
              "      gap: 12px;\n",
              "    }\n",
              "\n",
              "    .colab-df-convert {\n",
              "      background-color: #E8F0FE;\n",
              "      border: none;\n",
              "      border-radius: 50%;\n",
              "      cursor: pointer;\n",
              "      display: none;\n",
              "      fill: #1967D2;\n",
              "      height: 32px;\n",
              "      padding: 0 0 0 0;\n",
              "      width: 32px;\n",
              "    }\n",
              "\n",
              "    .colab-df-convert:hover {\n",
              "      background-color: #E2EBFA;\n",
              "      box-shadow: 0px 1px 2px rgba(60, 64, 67, 0.3), 0px 1px 3px 1px rgba(60, 64, 67, 0.15);\n",
              "      fill: #174EA6;\n",
              "    }\n",
              "\n",
              "    [theme=dark] .colab-df-convert {\n",
              "      background-color: #3B4455;\n",
              "      fill: #D2E3FC;\n",
              "    }\n",
              "\n",
              "    [theme=dark] .colab-df-convert:hover {\n",
              "      background-color: #434B5C;\n",
              "      box-shadow: 0px 1px 3px 1px rgba(0, 0, 0, 0.15);\n",
              "      filter: drop-shadow(0px 1px 2px rgba(0, 0, 0, 0.3));\n",
              "      fill: #FFFFFF;\n",
              "    }\n",
              "  </style>\n",
              "\n",
              "      <script>\n",
              "        const buttonEl =\n",
              "          document.querySelector('#df-d4bfe6ce-4a8c-4cec-9fe6-fcc0044ed336 button.colab-df-convert');\n",
              "        buttonEl.style.display =\n",
              "          google.colab.kernel.accessAllowed ? 'block' : 'none';\n",
              "\n",
              "        async function convertToInteractive(key) {\n",
              "          const element = document.querySelector('#df-d4bfe6ce-4a8c-4cec-9fe6-fcc0044ed336');\n",
              "          const dataTable =\n",
              "            await google.colab.kernel.invokeFunction('convertToInteractive',\n",
              "                                                     [key], {});\n",
              "          if (!dataTable) return;\n",
              "\n",
              "          const docLinkHtml = 'Like what you see? Visit the ' +\n",
              "            '<a target=\"_blank\" href=https://colab.research.google.com/notebooks/data_table.ipynb>data table notebook</a>'\n",
              "            + ' to learn more about interactive tables.';\n",
              "          element.innerHTML = '';\n",
              "          dataTable['output_type'] = 'display_data';\n",
              "          await google.colab.output.renderOutput(dataTable, element);\n",
              "          const docLink = document.createElement('div');\n",
              "          docLink.innerHTML = docLinkHtml;\n",
              "          element.appendChild(docLink);\n",
              "        }\n",
              "      </script>\n",
              "    </div>\n",
              "  </div>\n",
              "  "
            ]
          },
          "metadata": {},
          "execution_count": 76
        }
      ]
    },
    {
      "cell_type": "markdown",
      "source": [
        "Most of the inclusion criteria are described by 1 or 2 topics"
      ],
      "metadata": {
        "id": "XSKcJResHWHI"
      }
    },
    {
      "cell_type": "markdown",
      "source": [
        "Demonstration of `get_document_topics`"
      ],
      "metadata": {
        "id": "_UMCOrTBGFt8"
      }
    },
    {
      "cell_type": "code",
      "source": [
        "topic_dist = gensim.models.LdaModel.get_document_topics(lda_model,bow=corpus[10],minimum_probability=1e-3)"
      ],
      "metadata": {
        "id": "p5JZk9qIsiZh"
      },
      "execution_count": 83,
      "outputs": []
    },
    {
      "cell_type": "markdown",
      "source": [
        "A small threshold (minimum_probability) is chosen to ensure that we always get at least 3 top topics per criteria. \n",
        "The input text must be in a BOW (bag of words) representation in order to perform topic prediction."
      ],
      "metadata": {
        "id": "9JpMZiR3GTS5"
      }
    },
    {
      "cell_type": "code",
      "source": [
        "# Sorted by probability - descending order\n",
        "topic_dist= sorted(topic_dist,key=lambda tup: tup[1],reverse=True)"
      ],
      "metadata": {
        "id": "BE80Ems29S9j"
      },
      "execution_count": 84,
      "outputs": []
    },
    {
      "cell_type": "code",
      "source": [
        "print('Oringinal text\\n', no_clean[10])\n",
        "\n",
        "print('Lemmatized final version of the text\\n', super_clean[10])\n",
        "\n",
        "# top 3 topics\n",
        "topic_dist[:3]"
      ],
      "metadata": {
        "colab": {
          "base_uri": "https://localhost:8080/"
        },
        "id": "axAOeM1t9sS-",
        "outputId": "a593fa58-70b2-4a9c-88ed-e8c03a9b7ea9"
      },
      "execution_count": 86,
      "outputs": [
        {
          "output_type": "stream",
          "name": "stdout",
          "text": [
            "Oringinal text\n",
            " Any nodal status\n",
            "Lemmatized final version of the text\n",
            " ['nodal', 'status']\n"
          ]
        },
        {
          "output_type": "execute_result",
          "data": {
            "text/plain": [
              "[(6, 0.18787658), (29, 0.1785286), (22, 0.043348685)]"
            ]
          },
          "metadata": {},
          "execution_count": 86
        }
      ]
    },
    {
      "cell_type": "markdown",
      "source": [
        "Not bad, clusters are well seperated using tsne representation. But do they really have meaning?\n",
        "Let us do the following:\n",
        "1. Extract words explaining each topic\n",
        "2. Map topic IDs to original inclusion criteria to study them better\n",
        "\n",
        "Reference (implementation):\n",
        "1. [Topic modelling part 1](https://www.youtube.com/watch?v=TKjjlp5_r7o)\n",
        "2. [Topic Modelling part 2](https://www.youtube.com/watch?v=UEn3xHNBXJU)\n",
        "3. [Topic modelling part 3](https://www.youtube.com/watch?v=i74DVqMsRWY)\n",
        "\n",
        "Reference (Concept):\n",
        "1. [LDA part 1](https://www.youtube.com/watch?v=T05t-SqKArY)\n",
        "2. [LDA part 2](https://www.youtube.com/watch?v=BaM1uiCpj_E)\n"
      ],
      "metadata": {
        "id": "aL3unICGYBvt"
      }
    }
  ]
}